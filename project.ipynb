{
 "cells": [
  {
   "cell_type": "markdown",
   "metadata": {},
   "source": [
    "# <center> Module 2 Project  - Northwind Database Hypothesis Testing"
   ]
  },
  {
   "cell_type": "markdown",
   "metadata": {},
   "source": [
    "## <center>Matthew Sparr <br><br> <center><h8>Self-Paced Data Science Program"
   ]
  },
  {
   "cell_type": "markdown",
   "metadata": {},
   "source": [
    "# <center> Introduction"
   ]
  },
  {
   "cell_type": "markdown",
   "metadata": {},
   "source": [
    "First we will import all the necessary libraries."
   ]
  },
  {
   "cell_type": "code",
   "execution_count": 124,
   "metadata": {},
   "outputs": [],
   "source": [
    "import sqlite3 as sql\n",
    "import pandas as pd\n",
    "import numpy as np\n",
    "from sklearn.linear_model import LinearRegression\n",
    "from sklearn.preprocessing import MinMaxScaler\n",
    "from sklearn.linear_model import Lasso, Ridge, LinearRegression\n",
    "from sklearn.model_selection import train_test_split\n",
    "import matplotlib.pyplot as plt\n",
    "from sklearn.linear_model import LinearRegression\n",
    "from sklearn.model_selection import cross_val_score\n",
    "from sklearn.model_selection import KFold\n",
    "from sklearn import preprocessing\n",
    "import statsmodels.api as sm\n",
    "from statsmodels.formula.api import ols\n",
    "import seaborn as sns\n",
    "from scipy import stats\n",
    "from sklearn import linear_model as lm\n",
    "from statsmodels.graphics.factorplots import interaction_plot\n",
    "from statsmodels.stats.multicomp import pairwise_tukeyhsd\n",
    "from statsmodels.stats.multicomp import MultiComparison"
   ]
  },
  {
   "cell_type": "markdown",
   "metadata": {},
   "source": [
    "Next we will connect to the database and grab all the table names."
   ]
  },
  {
   "cell_type": "code",
   "execution_count": 2,
   "metadata": {},
   "outputs": [
    {
     "data": {
      "text/plain": [
       "[('Employee',),\n",
       " ('Category',),\n",
       " ('Customer',),\n",
       " ('Shipper',),\n",
       " ('Supplier',),\n",
       " ('Order',),\n",
       " ('Product',),\n",
       " ('OrderDetail',),\n",
       " ('CustomerCustomerDemo',),\n",
       " ('CustomerDemographic',),\n",
       " ('Region',),\n",
       " ('Territory',),\n",
       " ('EmployeeTerritory',)]"
      ]
     },
     "execution_count": 2,
     "metadata": {},
     "output_type": "execute_result"
    }
   ],
   "source": [
    "conn = sql.connect('Northwind_small.sqlite')\n",
    "cur = conn.cursor()\n",
    "table_names = list(cur.execute('''SELECT name FROM sqlite_master WHERE TYPE = 'table'\n",
    "                               ''').fetchall())\n",
    "table_names"
   ]
  },
  {
   "cell_type": "markdown",
   "metadata": {},
   "source": [
    "Now we will store each table from the database as Pandas Dataframe so that they are easy to work with and analyze. There was a technical error with the 'orders' table, so a CSV file of the table was generated using an outside program."
   ]
  },
  {
   "cell_type": "code",
   "execution_count": 3,
   "metadata": {},
   "outputs": [],
   "source": [
    "sql_comm = []\n",
    "for i in range(0,len(table_names)):\n",
    "    s = \"SELECT * FROM \" + table_names[i][0]\n",
    "    sql_comm.append(s)\n",
    "\n",
    "employees = pd.read_sql_query(sql_comm[0], conn)\n",
    "categories = pd.read_sql_query(sql_comm[1], conn)\n",
    "customers = pd.read_sql_query(sql_comm[2], conn)\n",
    "shippers = pd.read_sql_query(sql_comm[3], conn)\n",
    "\n",
    "suppliers = pd.read_sql_query(sql_comm[4], conn)\n",
    "products = pd.read_sql_query(sql_comm[6], conn)\n",
    "order_details = pd.read_sql_query(sql_comm[7], conn)\n",
    "orders = pd.read_csv('Order.csv')\n",
    "\n",
    "cust_cust_demos = pd.read_sql_query(sql_comm[8], conn)\n",
    "cust_demos = pd.read_sql_query(sql_comm[9], conn)\n",
    "regions = pd.read_sql_query(sql_comm[10], conn)\n",
    "territories = pd.read_sql_query(sql_comm[11], conn)\n",
    "emp_territories = pd.read_sql_query(sql_comm[12], conn)"
   ]
  },
  {
   "cell_type": "markdown",
   "metadata": {},
   "source": [
    "And here is a schema of the database."
   ]
  },
  {
   "cell_type": "markdown",
   "metadata": {},
   "source": [
    "<img src='Northwind_ERD.png'>"
   ]
  },
  {
   "cell_type": "markdown",
   "metadata": {},
   "source": [
    "## Q1 -- Does discount amount have a statistically significant effect on the quantity of a product in an order? If so, at what level(s) of discount?"
   ]
  },
  {
   "cell_type": "markdown",
   "metadata": {},
   "source": [
    "## <center>H<sub>0: The average quantity of product ordered is the same for orders with and without a discount."
   ]
  },
  {
   "cell_type": "markdown",
   "metadata": {},
   "source": [
    "## <center>H<sub>a: The average quantity of product ordered when a discount is given is higher or lower than for orders without a discount."
   ]
  },
  {
   "cell_type": "markdown",
   "metadata": {},
   "source": [
    "The above is our first question and both the null and alternative hypotheses. To test them will involve a two-tail test. This is because if the null hypothesis is rejected and there is a correlation between discount and order quantity, we could find that the discount amount either increases or decreases the quantity of product ordered. "
   ]
  },
  {
   "cell_type": "markdown",
   "metadata": {},
   "source": [
    "To test our hypotheses we will be using the table 'order_details' and will be looking only at the columns 'Quantity' and 'Discount'. Below we can see that there are no null or missing values in either column. Also, 'Quantity' ranges from 1 to 130 and 'Discount' ranges from 0 to 0.25."
   ]
  },
  {
   "cell_type": "code",
   "execution_count": 4,
   "metadata": {
    "scrolled": true
   },
   "outputs": [
    {
     "name": "stdout",
     "output_type": "stream",
     "text": [
      "<class 'pandas.core.frame.DataFrame'>\n",
      "RangeIndex: 2155 entries, 0 to 2154\n",
      "Data columns (total 2 columns):\n",
      "Quantity    2155 non-null int64\n",
      "Discount    2155 non-null float64\n",
      "dtypes: float64(1), int64(1)\n",
      "memory usage: 33.8 KB\n"
     ]
    }
   ],
   "source": [
    "order_details[['Quantity','Discount']].info()"
   ]
  },
  {
   "cell_type": "code",
   "execution_count": 5,
   "metadata": {},
   "outputs": [
    {
     "data": {
      "text/html": [
       "<div>\n",
       "<style scoped>\n",
       "    .dataframe tbody tr th:only-of-type {\n",
       "        vertical-align: middle;\n",
       "    }\n",
       "\n",
       "    .dataframe tbody tr th {\n",
       "        vertical-align: top;\n",
       "    }\n",
       "\n",
       "    .dataframe thead th {\n",
       "        text-align: right;\n",
       "    }\n",
       "</style>\n",
       "<table border=\"1\" class=\"dataframe\">\n",
       "  <thead>\n",
       "    <tr style=\"text-align: right;\">\n",
       "      <th></th>\n",
       "      <th>Quantity</th>\n",
       "      <th>Discount</th>\n",
       "    </tr>\n",
       "  </thead>\n",
       "  <tbody>\n",
       "    <tr>\n",
       "      <th>count</th>\n",
       "      <td>2155.000000</td>\n",
       "      <td>2155.000000</td>\n",
       "    </tr>\n",
       "    <tr>\n",
       "      <th>mean</th>\n",
       "      <td>23.812993</td>\n",
       "      <td>0.056167</td>\n",
       "    </tr>\n",
       "    <tr>\n",
       "      <th>std</th>\n",
       "      <td>19.022047</td>\n",
       "      <td>0.083450</td>\n",
       "    </tr>\n",
       "    <tr>\n",
       "      <th>min</th>\n",
       "      <td>1.000000</td>\n",
       "      <td>0.000000</td>\n",
       "    </tr>\n",
       "    <tr>\n",
       "      <th>25%</th>\n",
       "      <td>10.000000</td>\n",
       "      <td>0.000000</td>\n",
       "    </tr>\n",
       "    <tr>\n",
       "      <th>50%</th>\n",
       "      <td>20.000000</td>\n",
       "      <td>0.000000</td>\n",
       "    </tr>\n",
       "    <tr>\n",
       "      <th>75%</th>\n",
       "      <td>30.000000</td>\n",
       "      <td>0.100000</td>\n",
       "    </tr>\n",
       "    <tr>\n",
       "      <th>max</th>\n",
       "      <td>130.000000</td>\n",
       "      <td>0.250000</td>\n",
       "    </tr>\n",
       "  </tbody>\n",
       "</table>\n",
       "</div>"
      ],
      "text/plain": [
       "          Quantity     Discount\n",
       "count  2155.000000  2155.000000\n",
       "mean     23.812993     0.056167\n",
       "std      19.022047     0.083450\n",
       "min       1.000000     0.000000\n",
       "25%      10.000000     0.000000\n",
       "50%      20.000000     0.000000\n",
       "75%      30.000000     0.100000\n",
       "max     130.000000     0.250000"
      ]
     },
     "execution_count": 5,
     "metadata": {},
     "output_type": "execute_result"
    }
   ],
   "source": [
    "order_details[['Quantity','Discount']].describe()"
   ]
  },
  {
   "cell_type": "markdown",
   "metadata": {},
   "source": [
    "Now we will split our order details into two sets: discount and no discount. Running a t-test on the data below then gives us a small p-value of 1.14e-10 which is less than our alpha of 0.05."
   ]
  },
  {
   "cell_type": "code",
   "execution_count": 6,
   "metadata": {},
   "outputs": [
    {
     "data": {
      "text/plain": [
       "1.1440924523215966e-10"
      ]
     },
     "execution_count": 6,
     "metadata": {},
     "output_type": "execute_result"
    }
   ],
   "source": [
    "no_disc = order_details[order_details['Discount'] == 0].copy()\n",
    "disc = order_details[order_details['Discount'] > 0].copy()\n",
    "\n",
    "p = stats.ttest_ind(no_disc.Quantity, disc.Quantity)[1]\n",
    "p"
   ]
  },
  {
   "cell_type": "markdown",
   "metadata": {},
   "source": [
    "Since the p-value for our t-test is so low, this allows us to reject the null-hypothesis and accept instead the alternative hypothesis. From this result we can reasonably argue that having a discount does indeed have an impact on the quantity of product ordered. "
   ]
  },
  {
   "cell_type": "markdown",
   "metadata": {},
   "source": [
    "For the second part of the question we will need to look at the different discount amounts and see where the size of the discount affects the quantity ordered the most. Let's start by looking at the unique values in 'Discount' below."
   ]
  },
  {
   "cell_type": "code",
   "execution_count": 7,
   "metadata": {},
   "outputs": [
    {
     "data": {
      "text/plain": [
       "0.00    1317\n",
       "0.05     185\n",
       "0.10     173\n",
       "0.20     161\n",
       "0.15     157\n",
       "0.25     154\n",
       "0.03       3\n",
       "0.02       2\n",
       "0.01       1\n",
       "0.04       1\n",
       "0.06       1\n",
       "Name: Discount, dtype: int64"
      ]
     },
     "execution_count": 7,
     "metadata": {},
     "output_type": "execute_result"
    }
   ],
   "source": [
    "order_details.Discount.value_counts()"
   ]
  },
  {
   "cell_type": "markdown",
   "metadata": {},
   "source": [
    "Since the count of some discount values are so few compared to others, we will group those discount values together. Below we create 5 buckets of discount values and then add them each to an array so we can iterate through them. We will also be filtering out data where there is no discount given."
   ]
  },
  {
   "cell_type": "code",
   "execution_count": 8,
   "metadata": {},
   "outputs": [],
   "source": [
    "disc_5 = order_details['Quantity'][(order_details['Discount'] <= 0.05) & (order_details['Discount'] > 0)]\n",
    "disc_10 = order_details['Quantity'][(order_details['Discount'] > 0.05) & (order_details['Discount'] <= 0.1)]\n",
    "disc_15 = order_details['Quantity'][(order_details['Discount'] > 0.1) & (order_details['Discount'] <= 0.15)]\n",
    "disc_20 = order_details['Quantity'][(order_details['Discount'] > 0.15) & (order_details['Discount'] <= 0.2)]\n",
    "disc_25 = order_details['Quantity'][order_details['Discount'] > 0.2]\n",
    "discounts = []\n",
    "discounts.extend((['0.05 or less', disc_5], ['Between 0.05 and 0.10', disc_10],\n",
    "                  ['Between 0.10 and 0.15', disc_15], ['Between 0.15 and 0.20', disc_20],\n",
    "                  ['Greater than 0.20', disc_25]))"
   ]
  },
  {
   "cell_type": "markdown",
   "metadata": {},
   "source": [
    "We can then view the size of each of these buckets and notice that they are all fairly similar in size."
   ]
  },
  {
   "cell_type": "code",
   "execution_count": 9,
   "metadata": {},
   "outputs": [
    {
     "name": "stdout",
     "output_type": "stream",
     "text": [
      "192\n",
      "174\n",
      "157\n",
      "161\n",
      "154\n"
     ]
    }
   ],
   "source": [
    "for i in discounts:\n",
    "    print(len(i[1]))"
   ]
  },
  {
   "cell_type": "markdown",
   "metadata": {},
   "source": [
    "For this second part of the question, we will need a set of  null and alternative hypotheses."
   ]
  },
  {
   "cell_type": "markdown",
   "metadata": {},
   "source": [
    "## <center>H<sub>0: The average quantity of product ordered is the same for X and Y amount of discount."
   ]
  },
  {
   "cell_type": "markdown",
   "metadata": {},
   "source": [
    "## <center>H<sub>a: The average quantity of product ordered is different for X and Y amount of discount."
   ]
  },
  {
   "cell_type": "markdown",
   "metadata": {},
   "source": [
    "In the above hypotheses, X and Y represent two discount levels. Since we have 5 buckets of individual discount amounts, we will start by declaring the lowest one (0.05 or less) X and the next level up (between 0.05 and 0.10) Y and then running our T-test and checking the p-value. We will then repeat this up to the highest discount level giving us 4 seperate hypotheses to test."
   ]
  },
  {
   "cell_type": "code",
   "execution_count": 10,
   "metadata": {},
   "outputs": [
    {
     "name": "stdout",
     "output_type": "stream",
     "text": [
      "0.05 or less v.s. Between 0.05 and 0.10 : 0.39367155112980046\n",
      "Between 0.05 and 0.10 v.s. Between 0.10 and 0.15 : 0.15837034442401487\n",
      "Between 0.10 and 0.15 v.s. Between 0.15 and 0.20 : 0.5433964640207652\n",
      "Between 0.15 and 0.20 v.s. Greater than 0.20 : 0.5801473824667989\n"
     ]
    }
   ],
   "source": [
    "for i in range(0, len(discounts)-1):\n",
    "    X = discounts[i][1]\n",
    "    y = discounts[i+1][1]\n",
    "    p = stats.ttest_ind(X, y)[1]\n",
    "    print(discounts[i][0] + \" v.s. \" + discounts[i+1][0] + \" : \" + str(p))"
   ]
  },
  {
   "cell_type": "markdown",
   "metadata": {},
   "source": [
    "None of the above p-values are below our alpha of 0.05. Therefore we fail to reject the null-hypothesis and cannot conclude that increasing the discount at any level will significantly affect the quantity of product ordered."
   ]
  },
  {
   "cell_type": "markdown",
   "metadata": {},
   "source": [
    "### Our findings show that having a discount on a product most likely will increase the quantity of product order but the actual amount of discount is statistically insignificant. "
   ]
  },
  {
   "cell_type": "code",
   "execution_count": null,
   "metadata": {},
   "outputs": [],
   "source": []
  },
  {
   "cell_type": "markdown",
   "metadata": {},
   "source": [
    "## Q2 -- Are there certain products that are better to discount than others in order to increase the quantity ordered?"
   ]
  },
  {
   "cell_type": "markdown",
   "metadata": {},
   "source": [
    "As a follow-up to our initial question, we will investigate whether or not the category of product intereacts with whether or not a discount is applied in regards to quantity of product ordered."
   ]
  },
  {
   "cell_type": "markdown",
   "metadata": {},
   "source": [
    "## <center>H<sub>0: There is no interaction between category of product and whether or not a discount is applied."
   ]
  },
  {
   "cell_type": "markdown",
   "metadata": {},
   "source": [
    "## <center>H<sub>a: There is some interaction between category of product and whether or not a discount is applied."
   ]
  },
  {
   "cell_type": "markdown",
   "metadata": {},
   "source": [
    "To test our hypothesis we will need data from more than one table so we will need to perform a couple merges. We will first join the 'products' table to the 'order-details' table as 'prod_ord_details'; and then merge that table with the 'categories' table."
   ]
  },
  {
   "cell_type": "code",
   "execution_count": 11,
   "metadata": {
    "scrolled": true
   },
   "outputs": [
    {
     "data": {
      "text/html": [
       "<div>\n",
       "<style scoped>\n",
       "    .dataframe tbody tr th:only-of-type {\n",
       "        vertical-align: middle;\n",
       "    }\n",
       "\n",
       "    .dataframe tbody tr th {\n",
       "        vertical-align: top;\n",
       "    }\n",
       "\n",
       "    .dataframe thead th {\n",
       "        text-align: right;\n",
       "    }\n",
       "</style>\n",
       "<table border=\"1\" class=\"dataframe\">\n",
       "  <thead>\n",
       "    <tr style=\"text-align: right;\">\n",
       "      <th></th>\n",
       "      <th>Id_x</th>\n",
       "      <th>ProductName</th>\n",
       "      <th>SupplierId</th>\n",
       "      <th>CategoryId</th>\n",
       "      <th>QuantityPerUnit</th>\n",
       "      <th>UnitPrice_x</th>\n",
       "      <th>UnitsInStock</th>\n",
       "      <th>UnitsOnOrder</th>\n",
       "      <th>ReorderLevel</th>\n",
       "      <th>Discontinued</th>\n",
       "      <th>Id_y</th>\n",
       "      <th>OrderId</th>\n",
       "      <th>ProductId</th>\n",
       "      <th>UnitPrice_y</th>\n",
       "      <th>Quantity</th>\n",
       "      <th>Discount</th>\n",
       "      <th>Id</th>\n",
       "      <th>CategoryName</th>\n",
       "      <th>Description</th>\n",
       "    </tr>\n",
       "  </thead>\n",
       "  <tbody>\n",
       "    <tr>\n",
       "      <th>0</th>\n",
       "      <td>1</td>\n",
       "      <td>Chai</td>\n",
       "      <td>1</td>\n",
       "      <td>1</td>\n",
       "      <td>10 boxes x 20 bags</td>\n",
       "      <td>18.0</td>\n",
       "      <td>39</td>\n",
       "      <td>0</td>\n",
       "      <td>10</td>\n",
       "      <td>0</td>\n",
       "      <td>10285/1</td>\n",
       "      <td>10285</td>\n",
       "      <td>1</td>\n",
       "      <td>14.4</td>\n",
       "      <td>45</td>\n",
       "      <td>0.20</td>\n",
       "      <td>1</td>\n",
       "      <td>Beverages</td>\n",
       "      <td>Soft drinks, coffees, teas, beers, and ales</td>\n",
       "    </tr>\n",
       "    <tr>\n",
       "      <th>1</th>\n",
       "      <td>1</td>\n",
       "      <td>Chai</td>\n",
       "      <td>1</td>\n",
       "      <td>1</td>\n",
       "      <td>10 boxes x 20 bags</td>\n",
       "      <td>18.0</td>\n",
       "      <td>39</td>\n",
       "      <td>0</td>\n",
       "      <td>10</td>\n",
       "      <td>0</td>\n",
       "      <td>10294/1</td>\n",
       "      <td>10294</td>\n",
       "      <td>1</td>\n",
       "      <td>14.4</td>\n",
       "      <td>18</td>\n",
       "      <td>0.00</td>\n",
       "      <td>1</td>\n",
       "      <td>Beverages</td>\n",
       "      <td>Soft drinks, coffees, teas, beers, and ales</td>\n",
       "    </tr>\n",
       "    <tr>\n",
       "      <th>2</th>\n",
       "      <td>1</td>\n",
       "      <td>Chai</td>\n",
       "      <td>1</td>\n",
       "      <td>1</td>\n",
       "      <td>10 boxes x 20 bags</td>\n",
       "      <td>18.0</td>\n",
       "      <td>39</td>\n",
       "      <td>0</td>\n",
       "      <td>10</td>\n",
       "      <td>0</td>\n",
       "      <td>10317/1</td>\n",
       "      <td>10317</td>\n",
       "      <td>1</td>\n",
       "      <td>14.4</td>\n",
       "      <td>20</td>\n",
       "      <td>0.00</td>\n",
       "      <td>1</td>\n",
       "      <td>Beverages</td>\n",
       "      <td>Soft drinks, coffees, teas, beers, and ales</td>\n",
       "    </tr>\n",
       "    <tr>\n",
       "      <th>3</th>\n",
       "      <td>1</td>\n",
       "      <td>Chai</td>\n",
       "      <td>1</td>\n",
       "      <td>1</td>\n",
       "      <td>10 boxes x 20 bags</td>\n",
       "      <td>18.0</td>\n",
       "      <td>39</td>\n",
       "      <td>0</td>\n",
       "      <td>10</td>\n",
       "      <td>0</td>\n",
       "      <td>10348/1</td>\n",
       "      <td>10348</td>\n",
       "      <td>1</td>\n",
       "      <td>14.4</td>\n",
       "      <td>15</td>\n",
       "      <td>0.15</td>\n",
       "      <td>1</td>\n",
       "      <td>Beverages</td>\n",
       "      <td>Soft drinks, coffees, teas, beers, and ales</td>\n",
       "    </tr>\n",
       "    <tr>\n",
       "      <th>4</th>\n",
       "      <td>1</td>\n",
       "      <td>Chai</td>\n",
       "      <td>1</td>\n",
       "      <td>1</td>\n",
       "      <td>10 boxes x 20 bags</td>\n",
       "      <td>18.0</td>\n",
       "      <td>39</td>\n",
       "      <td>0</td>\n",
       "      <td>10</td>\n",
       "      <td>0</td>\n",
       "      <td>10354/1</td>\n",
       "      <td>10354</td>\n",
       "      <td>1</td>\n",
       "      <td>14.4</td>\n",
       "      <td>12</td>\n",
       "      <td>0.00</td>\n",
       "      <td>1</td>\n",
       "      <td>Beverages</td>\n",
       "      <td>Soft drinks, coffees, teas, beers, and ales</td>\n",
       "    </tr>\n",
       "  </tbody>\n",
       "</table>\n",
       "</div>"
      ],
      "text/plain": [
       "   Id_x ProductName  SupplierId  CategoryId     QuantityPerUnit  UnitPrice_x  \\\n",
       "0     1        Chai           1           1  10 boxes x 20 bags         18.0   \n",
       "1     1        Chai           1           1  10 boxes x 20 bags         18.0   \n",
       "2     1        Chai           1           1  10 boxes x 20 bags         18.0   \n",
       "3     1        Chai           1           1  10 boxes x 20 bags         18.0   \n",
       "4     1        Chai           1           1  10 boxes x 20 bags         18.0   \n",
       "\n",
       "   UnitsInStock  UnitsOnOrder  ReorderLevel  Discontinued     Id_y  OrderId  \\\n",
       "0            39             0            10             0  10285/1    10285   \n",
       "1            39             0            10             0  10294/1    10294   \n",
       "2            39             0            10             0  10317/1    10317   \n",
       "3            39             0            10             0  10348/1    10348   \n",
       "4            39             0            10             0  10354/1    10354   \n",
       "\n",
       "   ProductId  UnitPrice_y  Quantity  Discount  Id CategoryName  \\\n",
       "0          1         14.4        45      0.20   1    Beverages   \n",
       "1          1         14.4        18      0.00   1    Beverages   \n",
       "2          1         14.4        20      0.00   1    Beverages   \n",
       "3          1         14.4        15      0.15   1    Beverages   \n",
       "4          1         14.4        12      0.00   1    Beverages   \n",
       "\n",
       "                                   Description  \n",
       "0  Soft drinks, coffees, teas, beers, and ales  \n",
       "1  Soft drinks, coffees, teas, beers, and ales  \n",
       "2  Soft drinks, coffees, teas, beers, and ales  \n",
       "3  Soft drinks, coffees, teas, beers, and ales  \n",
       "4  Soft drinks, coffees, teas, beers, and ales  "
      ]
     },
     "execution_count": 11,
     "metadata": {},
     "output_type": "execute_result"
    }
   ],
   "source": [
    "prod_ord_details = pd.merge(products, \n",
    "                  order_details,\n",
    "                  left_on='Id',\n",
    "                  right_on='ProductId',\n",
    "                  how='left')\n",
    "prod_cat = pd.merge(prod_ord_details, \n",
    "                  categories,\n",
    "                  left_on='CategoryId',\n",
    "                  right_on='Id',\n",
    "                  how='left')\n",
    "prod_cat.head()"
   ]
  },
  {
   "cell_type": "markdown",
   "metadata": {},
   "source": [
    "Viewing the head of the merged table we can see lots of variables we don't need. We will create a new DataFrame with only the categories we need: 'Quantity', 'Discount', and 'CategoryName'."
   ]
  },
  {
   "cell_type": "code",
   "execution_count": 12,
   "metadata": {},
   "outputs": [
    {
     "data": {
      "text/html": [
       "<div>\n",
       "<style scoped>\n",
       "    .dataframe tbody tr th:only-of-type {\n",
       "        vertical-align: middle;\n",
       "    }\n",
       "\n",
       "    .dataframe tbody tr th {\n",
       "        vertical-align: top;\n",
       "    }\n",
       "\n",
       "    .dataframe thead th {\n",
       "        text-align: right;\n",
       "    }\n",
       "</style>\n",
       "<table border=\"1\" class=\"dataframe\">\n",
       "  <thead>\n",
       "    <tr style=\"text-align: right;\">\n",
       "      <th></th>\n",
       "      <th>Quantity</th>\n",
       "      <th>Discount</th>\n",
       "      <th>CategoryName</th>\n",
       "    </tr>\n",
       "  </thead>\n",
       "  <tbody>\n",
       "    <tr>\n",
       "      <th>0</th>\n",
       "      <td>45</td>\n",
       "      <td>0.20</td>\n",
       "      <td>Beverages</td>\n",
       "    </tr>\n",
       "    <tr>\n",
       "      <th>1</th>\n",
       "      <td>18</td>\n",
       "      <td>0.00</td>\n",
       "      <td>Beverages</td>\n",
       "    </tr>\n",
       "    <tr>\n",
       "      <th>2</th>\n",
       "      <td>20</td>\n",
       "      <td>0.00</td>\n",
       "      <td>Beverages</td>\n",
       "    </tr>\n",
       "    <tr>\n",
       "      <th>3</th>\n",
       "      <td>15</td>\n",
       "      <td>0.15</td>\n",
       "      <td>Beverages</td>\n",
       "    </tr>\n",
       "    <tr>\n",
       "      <th>4</th>\n",
       "      <td>12</td>\n",
       "      <td>0.00</td>\n",
       "      <td>Beverages</td>\n",
       "    </tr>\n",
       "  </tbody>\n",
       "</table>\n",
       "</div>"
      ],
      "text/plain": [
       "   Quantity  Discount CategoryName\n",
       "0        45      0.20    Beverages\n",
       "1        18      0.00    Beverages\n",
       "2        20      0.00    Beverages\n",
       "3        15      0.15    Beverages\n",
       "4        12      0.00    Beverages"
      ]
     },
     "execution_count": 12,
     "metadata": {},
     "output_type": "execute_result"
    }
   ],
   "source": [
    "q2_data = prod_cat[['Quantity', 'Discount', 'CategoryName']]\n",
    "q2_data.head()"
   ]
  },
  {
   "cell_type": "markdown",
   "metadata": {},
   "source": [
    "Since we are concerned with the interaction between category and whether or not a discount is applied, we will need to modify our 'Discount' column to make it binary. We will do this by making all values of discount greater than zero equal to 1 and leaving no discount instances as 0."
   ]
  },
  {
   "cell_type": "code",
   "execution_count": 22,
   "metadata": {},
   "outputs": [
    {
     "name": "stderr",
     "output_type": "stream",
     "text": [
      "C:\\Users\\sparr\\Anaconda3\\lib\\site-packages\\ipykernel_launcher.py:1: SettingWithCopyWarning: \n",
      "A value is trying to be set on a copy of a slice from a DataFrame.\n",
      "Try using .loc[row_indexer,col_indexer] = value instead\n",
      "\n",
      "See the caveats in the documentation: http://pandas.pydata.org/pandas-docs/stable/indexing.html#indexing-view-versus-copy\n",
      "  \"\"\"Entry point for launching an IPython kernel.\n"
     ]
    }
   ],
   "source": [
    "q2_data['Discount'] = q2_data['Discount'].apply(lambda x: 1 if x > 0 else 0)"
   ]
  },
  {
   "cell_type": "markdown",
   "metadata": {},
   "source": [
    "Since we want to test the impact of a variable ('Discount') on the dependent variable ('Quantity') for multiple groups ('CategoryName'), we will use analysis of variance or ANOVA to test our hypothesis. "
   ]
  },
  {
   "cell_type": "code",
   "execution_count": 27,
   "metadata": {},
   "outputs": [
    {
     "data": {
      "text/html": [
       "<div>\n",
       "<style scoped>\n",
       "    .dataframe tbody tr th:only-of-type {\n",
       "        vertical-align: middle;\n",
       "    }\n",
       "\n",
       "    .dataframe tbody tr th {\n",
       "        vertical-align: top;\n",
       "    }\n",
       "\n",
       "    .dataframe thead th {\n",
       "        text-align: right;\n",
       "    }\n",
       "</style>\n",
       "<table border=\"1\" class=\"dataframe\">\n",
       "  <thead>\n",
       "    <tr style=\"text-align: right;\">\n",
       "      <th></th>\n",
       "      <th>sum_sq</th>\n",
       "      <th>df</th>\n",
       "      <th>F</th>\n",
       "      <th>PR(&gt;F)</th>\n",
       "    </tr>\n",
       "  </thead>\n",
       "  <tbody>\n",
       "    <tr>\n",
       "      <th>C(CategoryName)</th>\n",
       "      <td>1118.470015</td>\n",
       "      <td>7.0</td>\n",
       "      <td>0.449689</td>\n",
       "      <td>8.708672e-01</td>\n",
       "    </tr>\n",
       "    <tr>\n",
       "      <th>C(Discount)</th>\n",
       "      <td>14729.606130</td>\n",
       "      <td>1.0</td>\n",
       "      <td>41.454988</td>\n",
       "      <td>1.484744e-10</td>\n",
       "    </tr>\n",
       "    <tr>\n",
       "      <th>C(CategoryName):C(Discount)</th>\n",
       "      <td>3357.463105</td>\n",
       "      <td>7.0</td>\n",
       "      <td>1.349892</td>\n",
       "      <td>2.226259e-01</td>\n",
       "    </tr>\n",
       "    <tr>\n",
       "      <th>Residual</th>\n",
       "      <td>760020.189876</td>\n",
       "      <td>2139.0</td>\n",
       "      <td>NaN</td>\n",
       "      <td>NaN</td>\n",
       "    </tr>\n",
       "  </tbody>\n",
       "</table>\n",
       "</div>"
      ],
      "text/plain": [
       "                                    sum_sq      df          F        PR(>F)\n",
       "C(CategoryName)                1118.470015     7.0   0.449689  8.708672e-01\n",
       "C(Discount)                   14729.606130     1.0  41.454988  1.484744e-10\n",
       "C(CategoryName):C(Discount)    3357.463105     7.0   1.349892  2.226259e-01\n",
       "Residual                     760020.189876  2139.0        NaN           NaN"
      ]
     },
     "execution_count": 27,
     "metadata": {},
     "output_type": "execute_result"
    }
   ],
   "source": [
    "formula = 'Quantity ~ C(CategoryName)*C(Discount)'\n",
    "lm = ols(formula, q2_data).fit()\n",
    "table = sm.stats.anova_lm(lm, typ=2)\n",
    "table"
   ]
  },
  {
   "cell_type": "markdown",
   "metadata": {},
   "source": [
    "From the above table we can see that the interaction of 'CategoryName' and 'Discount' has a p-value of ~0.223. Since this is less than our alpha of 0.05, we fail to reject the null hypothesis. From these results, it appears there is no significant difference in quantity of product ordered across the different combinations of category and whether or not a discount is applied. "
   ]
  },
  {
   "cell_type": "markdown",
   "metadata": {},
   "source": [
    "We can also view an interaction plot of our variables to show this lack of interaction."
   ]
  },
  {
   "cell_type": "code",
   "execution_count": 31,
   "metadata": {},
   "outputs": [
    {
     "data": {
      "image/png": "[encoded data removed]",
      "text/plain": [
       "<Figure size 432x288 with 1 Axes>"
      ]
     },
     "metadata": {
      "needs_background": "light"
     },
     "output_type": "display_data"
    }
   ],
   "source": [
    "fig = interaction_plot(q2_data['Discount'],q2_data['CategoryName'],q2_data['Quantity'], ms=10)"
   ]
  },
  {
   "cell_type": "markdown",
   "metadata": {},
   "source": [
    "We can see from the above graph that the lines for each of the category are mostly parallel with each other which implies little to no interaction with the other independent variable 'Discount'. The categories of 'Confections' and 'Grains/Cereals' do have slightly different slopes than the other categories but according to our ANOVA results, this difference is not significant."
   ]
  },
  {
   "cell_type": "markdown",
   "metadata": {},
   "source": [
    "### Our findings signify that there is not sufficient evidence that certain categories benefit more than others from having a discount applied versus not providing a discount. There may be some slight differences between certain categories but the differences overall are not statistically significant."
   ]
  },
  {
   "cell_type": "markdown",
   "metadata": {},
   "source": [
    "## Q3 -- Is there an optimal discount level based on the price of the product?"
   ]
  },
  {
   "cell_type": "markdown",
   "metadata": {},
   "source": [
    "For this question we are wondering whether or not there is an interaction between 'Discount' and 'UnitPrice'. From this we can learn whether a certain discount level can lead to a higher 'Quantity' of product ordered depending on the product's price."
   ]
  },
  {
   "cell_type": "markdown",
   "metadata": {},
   "source": [
    "## <center>H<sub>0: There is no interaction between the discount level and unit price in regards to quantity."
   ]
  },
  {
   "cell_type": "markdown",
   "metadata": {},
   "source": [
    "## <center>H<sub>a: There is some interaction between discount level and unit price in regards to quantity."
   ]
  },
  {
   "cell_type": "markdown",
   "metadata": {},
   "source": [
    "To answer this question we will first need to create a relevant data table. Since we are only concerned with 'UnitPrice', 'Discount' and 'Quantity', we can simply grab those from the 'order_details' table."
   ]
  },
  {
   "cell_type": "code",
   "execution_count": null,
   "metadata": {},
   "outputs": [],
   "source": [
    "q3_data = order_details[['UnitPrice', 'Discount', 'Quantity']].copy()"
   ]
  },
  {
   "cell_type": "markdown",
   "metadata": {},
   "source": [
    "From the first question, we know that there are a couple 'Discount' values with few instances."
   ]
  },
  {
   "cell_type": "code",
   "execution_count": 70,
   "metadata": {},
   "outputs": [
    {
     "data": {
      "text/plain": [
       "0.00    1317\n",
       "0.05     193\n",
       "0.10     173\n",
       "0.20     161\n",
       "0.15     157\n",
       "0.25     154\n",
       "Name: Discount, dtype: int64"
      ]
     },
     "execution_count": 70,
     "metadata": {},
     "output_type": "execute_result"
    }
   ],
   "source": [
    "q3_data['Discount'].value_counts()"
   ]
  },
  {
   "cell_type": "markdown",
   "metadata": {},
   "source": [
    "Since the values with low value counts are all close to 0.05, we will modify those few 'Discount' levels and set them equal to 0.05."
   ]
  },
  {
   "cell_type": "code",
   "execution_count": 71,
   "metadata": {},
   "outputs": [],
   "source": [
    "q3_data['Discount'] = q3_data['Discount'].apply(lambda x: 0.05 if (x > 0) & (x < 0.10) else x)"
   ]
  },
  {
   "cell_type": "code",
   "execution_count": 72,
   "metadata": {},
   "outputs": [
    {
     "data": {
      "text/plain": [
       "0.00    1317\n",
       "0.05     193\n",
       "0.10     173\n",
       "0.20     161\n",
       "0.15     157\n",
       "0.25     154\n",
       "Name: Discount, dtype: int64"
      ]
     },
     "execution_count": 72,
     "metadata": {},
     "output_type": "execute_result"
    }
   ],
   "source": [
    "q3_data['Discount'].value_counts()"
   ]
  },
  {
   "cell_type": "markdown",
   "metadata": {},
   "source": [
    "Since we are looking to analyze the interaction between a categorical variable 'Discount' and a continuous variable 'UnitPrice' we will use analysis of covariance or ANCOVA to answer our hypothesis."
   ]
  },
  {
   "cell_type": "code",
   "execution_count": 75,
   "metadata": {},
   "outputs": [
    {
     "data": {
      "text/html": [
       "<table class=\"simpletable\">\n",
       "<caption>OLS Regression Results</caption>\n",
       "<tr>\n",
       "  <th>Dep. Variable:</th>        <td>Quantity</td>     <th>  R-squared:         </th> <td>   0.008</td>\n",
       "</tr>\n",
       "<tr>\n",
       "  <th>Model:</th>                   <td>OLS</td>       <th>  Adj. R-squared:    </th> <td>  -0.002</td>\n",
       "</tr>\n",
       "<tr>\n",
       "  <th>Method:</th>             <td>Least Squares</td>  <th>  F-statistic:       </th> <td>  0.7813</td>\n",
       "</tr>\n",
       "<tr>\n",
       "  <th>Date:</th>             <td>Tue, 27 Nov 2018</td> <th>  Prob (F-statistic):</th>  <td> 0.634</td> \n",
       "</tr>\n",
       "<tr>\n",
       "  <th>Time:</th>                 <td>15:56:42</td>     <th>  Log-Likelihood:    </th> <td> -3727.2</td>\n",
       "</tr>\n",
       "<tr>\n",
       "  <th>No. Observations:</th>      <td>   838</td>      <th>  AIC:               </th> <td>   7474.</td>\n",
       "</tr>\n",
       "<tr>\n",
       "  <th>Df Residuals:</th>          <td>   828</td>      <th>  BIC:               </th> <td>   7522.</td>\n",
       "</tr>\n",
       "<tr>\n",
       "  <th>Df Model:</th>              <td>     9</td>      <th>                     </th>     <td> </td>   \n",
       "</tr>\n",
       "<tr>\n",
       "  <th>Covariance Type:</th>      <td>nonrobust</td>    <th>                     </th>     <td> </td>   \n",
       "</tr>\n",
       "</table>\n",
       "<table class=\"simpletable\">\n",
       "<tr>\n",
       "                <td></td>                   <th>coef</th>     <th>std err</th>      <th>t</th>      <th>P>|t|</th>  <th>[0.025</th>    <th>0.975]</th>  \n",
       "</tr>\n",
       "<tr>\n",
       "  <th>Intercept</th>                     <td>   27.3221</td> <td>    1.879</td> <td>   14.538</td> <td> 0.000</td> <td>   23.633</td> <td>   31.011</td>\n",
       "</tr>\n",
       "<tr>\n",
       "  <th>C(Discount)[T.0.1]</th>            <td>   -0.8050</td> <td>    2.779</td> <td>   -0.290</td> <td> 0.772</td> <td>   -6.260</td> <td>    4.650</td>\n",
       "</tr>\n",
       "<tr>\n",
       "  <th>C(Discount)[T.0.15]</th>           <td>    0.7361</td> <td>    3.458</td> <td>    0.213</td> <td> 0.831</td> <td>   -6.051</td> <td>    7.523</td>\n",
       "</tr>\n",
       "<tr>\n",
       "  <th>C(Discount)[T.0.2]</th>            <td>   -2.4255</td> <td>    2.932</td> <td>   -0.827</td> <td> 0.408</td> <td>   -8.180</td> <td>    3.329</td>\n",
       "</tr>\n",
       "<tr>\n",
       "  <th>C(Discount)[T.0.25]</th>           <td>   -1.1356</td> <td>    3.010</td> <td>   -0.377</td> <td> 0.706</td> <td>   -7.044</td> <td>    4.772</td>\n",
       "</tr>\n",
       "<tr>\n",
       "  <th>UnitPrice</th>                     <td>   -0.0130</td> <td>    0.037</td> <td>   -0.352</td> <td> 0.725</td> <td>   -0.085</td> <td>    0.059</td>\n",
       "</tr>\n",
       "<tr>\n",
       "  <th>C(Discount)[T.0.1]:UnitPrice</th>  <td>   -0.0379</td> <td>    0.064</td> <td>   -0.596</td> <td> 0.551</td> <td>   -0.163</td> <td>    0.087</td>\n",
       "</tr>\n",
       "<tr>\n",
       "  <th>C(Discount)[T.0.15]:UnitPrice</th> <td>    0.0271</td> <td>    0.110</td> <td>    0.246</td> <td> 0.806</td> <td>   -0.189</td> <td>    0.243</td>\n",
       "</tr>\n",
       "<tr>\n",
       "  <th>C(Discount)[T.0.2]:UnitPrice</th>  <td>    0.1035</td> <td>    0.075</td> <td>    1.375</td> <td> 0.169</td> <td>   -0.044</td> <td>    0.251</td>\n",
       "</tr>\n",
       "<tr>\n",
       "  <th>C(Discount)[T.0.25]:UnitPrice</th> <td>    0.0858</td> <td>    0.069</td> <td>    1.241</td> <td> 0.215</td> <td>   -0.050</td> <td>    0.222</td>\n",
       "</tr>\n",
       "</table>\n",
       "<table class=\"simpletable\">\n",
       "<tr>\n",
       "  <th>Omnibus:</th>       <td>266.827</td> <th>  Durbin-Watson:     </th> <td>   1.660</td> \n",
       "</tr>\n",
       "<tr>\n",
       "  <th>Prob(Omnibus):</th> <td> 0.000</td>  <th>  Jarque-Bera (JB):  </th> <td> 766.669</td> \n",
       "</tr>\n",
       "<tr>\n",
       "  <th>Skew:</th>          <td> 1.598</td>  <th>  Prob(JB):          </th> <td>3.31e-167</td>\n",
       "</tr>\n",
       "<tr>\n",
       "  <th>Kurtosis:</th>      <td> 6.426</td>  <th>  Cond. No.          </th> <td>    279.</td> \n",
       "</tr>\n",
       "</table><br/><br/>Warnings:<br/>[1] Standard Errors assume that the covariance matrix of the errors is correctly specified."
      ],
      "text/plain": [
       "<class 'statsmodels.iolib.summary.Summary'>\n",
       "\"\"\"\n",
       "                            OLS Regression Results                            \n",
       "==============================================================================\n",
       "Dep. Variable:               Quantity   R-squared:                       0.008\n",
       "Model:                            OLS   Adj. R-squared:                 -0.002\n",
       "Method:                 Least Squares   F-statistic:                    0.7813\n",
       "Date:                Tue, 27 Nov 2018   Prob (F-statistic):              0.634\n",
       "Time:                        15:56:42   Log-Likelihood:                -3727.2\n",
       "No. Observations:                 838   AIC:                             7474.\n",
       "Df Residuals:                     828   BIC:                             7522.\n",
       "Df Model:                           9                                         \n",
       "Covariance Type:            nonrobust                                         \n",
       "=================================================================================================\n",
       "                                    coef    std err          t      P>|t|      [0.025      0.975]\n",
       "-------------------------------------------------------------------------------------------------\n",
       "Intercept                        27.3221      1.879     14.538      0.000      23.633      31.011\n",
       "C(Discount)[T.0.1]               -0.8050      2.779     -0.290      0.772      -6.260       4.650\n",
       "C(Discount)[T.0.15]               0.7361      3.458      0.213      0.831      -6.051       7.523\n",
       "C(Discount)[T.0.2]               -2.4255      2.932     -0.827      0.408      -8.180       3.329\n",
       "C(Discount)[T.0.25]              -1.1356      3.010     -0.377      0.706      -7.044       4.772\n",
       "UnitPrice                        -0.0130      0.037     -0.352      0.725      -0.085       0.059\n",
       "C(Discount)[T.0.1]:UnitPrice     -0.0379      0.064     -0.596      0.551      -0.163       0.087\n",
       "C(Discount)[T.0.15]:UnitPrice     0.0271      0.110      0.246      0.806      -0.189       0.243\n",
       "C(Discount)[T.0.2]:UnitPrice      0.1035      0.075      1.375      0.169      -0.044       0.251\n",
       "C(Discount)[T.0.25]:UnitPrice     0.0858      0.069      1.241      0.215      -0.050       0.222\n",
       "==============================================================================\n",
       "Omnibus:                      266.827   Durbin-Watson:                   1.660\n",
       "Prob(Omnibus):                  0.000   Jarque-Bera (JB):              766.669\n",
       "Skew:                           1.598   Prob(JB):                    3.31e-167\n",
       "Kurtosis:                       6.426   Cond. No.                         279.\n",
       "==============================================================================\n",
       "\n",
       "Warnings:\n",
       "[1] Standard Errors assume that the covariance matrix of the errors is correctly specified.\n",
       "\"\"\""
      ]
     },
     "execution_count": 75,
     "metadata": {},
     "output_type": "execute_result"
    }
   ],
   "source": [
    "formula = 'Quantity ~ C(Discount)*UnitPrice'\n",
    "lm = ols(formula, q3_data).fit()\n",
    "lm.summary()"
   ]
  },
  {
   "cell_type": "markdown",
   "metadata": {},
   "source": [
    "From the above results we can see that the p-values for each of our interaction terms are all greater than our alpha value. We thus fail to reject our null hypothesis. This suggests that there is no significant interaction between 'Discount' level and 'UnitPrice'. "
   ]
  },
  {
   "cell_type": "markdown",
   "metadata": {},
   "source": [
    "The low R-squared value of 0.008 for the model also shows how poor of a fit a regression using only 'Discount' level and 'UnitPrice' are in predicting the 'Quantity' of product ordered."
   ]
  },
  {
   "cell_type": "markdown",
   "metadata": {},
   "source": [
    "### Our findings suggest there is no optimal discount level given the price of a product. "
   ]
  },
  {
   "cell_type": "markdown",
   "metadata": {},
   "source": [
    "## Q4 -- Do some employees perform better in average order price than others?"
   ]
  },
  {
   "cell_type": "markdown",
   "metadata": {},
   "source": [
    "## <center>H<sub>0: The average amount spent per order is the same across all employees."
   ]
  },
  {
   "cell_type": "markdown",
   "metadata": {},
   "source": [
    "## <center>H<sub>0: The average amount spent per order varies amongst employees."
   ]
  },
  {
   "cell_type": "code",
   "execution_count": null,
   "metadata": {},
   "outputs": [],
   "source": []
  },
  {
   "cell_type": "code",
   "execution_count": 81,
   "metadata": {},
   "outputs": [
    {
     "data": {
      "text/plain": [
       "4    156\n",
       "3    127\n",
       "1    123\n",
       "8    104\n",
       "2     96\n",
       "7     72\n",
       "6     67\n",
       "9     43\n",
       "5     42\n",
       "Name: EmployeeId, dtype: int64"
      ]
     },
     "execution_count": 81,
     "metadata": {},
     "output_type": "execute_result"
    }
   ],
   "source": [
    "orders.EmployeeId.value_counts()"
   ]
  },
  {
   "cell_type": "code",
   "execution_count": 82,
   "metadata": {
    "scrolled": true
   },
   "outputs": [
    {
     "data": {
      "text/html": [
       "<div>\n",
       "<style scoped>\n",
       "    .dataframe tbody tr th:only-of-type {\n",
       "        vertical-align: middle;\n",
       "    }\n",
       "\n",
       "    .dataframe tbody tr th {\n",
       "        vertical-align: top;\n",
       "    }\n",
       "\n",
       "    .dataframe thead th {\n",
       "        text-align: right;\n",
       "    }\n",
       "</style>\n",
       "<table border=\"1\" class=\"dataframe\">\n",
       "  <thead>\n",
       "    <tr style=\"text-align: right;\">\n",
       "      <th></th>\n",
       "      <th>Id_x</th>\n",
       "      <th>CustomerId</th>\n",
       "      <th>EmployeeId</th>\n",
       "      <th>OrderDate</th>\n",
       "      <th>RequiredDate</th>\n",
       "      <th>ShippedDate</th>\n",
       "      <th>ShipVia</th>\n",
       "      <th>Freight</th>\n",
       "      <th>ShipName</th>\n",
       "      <th>ShipAddress</th>\n",
       "      <th>ShipCity</th>\n",
       "      <th>ShipRegion</th>\n",
       "      <th>ShipPostalCode</th>\n",
       "      <th>ShipCountry</th>\n",
       "      <th>Id_y</th>\n",
       "      <th>OrderId</th>\n",
       "      <th>ProductId</th>\n",
       "      <th>UnitPrice</th>\n",
       "      <th>Quantity</th>\n",
       "      <th>Discount</th>\n",
       "    </tr>\n",
       "  </thead>\n",
       "  <tbody>\n",
       "    <tr>\n",
       "      <th>0</th>\n",
       "      <td>10248</td>\n",
       "      <td>VINET</td>\n",
       "      <td>5</td>\n",
       "      <td>2012-07-04</td>\n",
       "      <td>2012-08-01</td>\n",
       "      <td>2012-07-16</td>\n",
       "      <td>3</td>\n",
       "      <td>32.38</td>\n",
       "      <td>Vins et alcools Chevalier</td>\n",
       "      <td>59 rue de l'Abbaye</td>\n",
       "      <td>Reims</td>\n",
       "      <td>Western Europe</td>\n",
       "      <td>51100</td>\n",
       "      <td>France</td>\n",
       "      <td>10248/11</td>\n",
       "      <td>10248</td>\n",
       "      <td>11</td>\n",
       "      <td>14.0</td>\n",
       "      <td>12</td>\n",
       "      <td>0.0</td>\n",
       "    </tr>\n",
       "    <tr>\n",
       "      <th>1</th>\n",
       "      <td>10248</td>\n",
       "      <td>VINET</td>\n",
       "      <td>5</td>\n",
       "      <td>2012-07-04</td>\n",
       "      <td>2012-08-01</td>\n",
       "      <td>2012-07-16</td>\n",
       "      <td>3</td>\n",
       "      <td>32.38</td>\n",
       "      <td>Vins et alcools Chevalier</td>\n",
       "      <td>59 rue de l'Abbaye</td>\n",
       "      <td>Reims</td>\n",
       "      <td>Western Europe</td>\n",
       "      <td>51100</td>\n",
       "      <td>France</td>\n",
       "      <td>10248/42</td>\n",
       "      <td>10248</td>\n",
       "      <td>42</td>\n",
       "      <td>9.8</td>\n",
       "      <td>10</td>\n",
       "      <td>0.0</td>\n",
       "    </tr>\n",
       "    <tr>\n",
       "      <th>2</th>\n",
       "      <td>10248</td>\n",
       "      <td>VINET</td>\n",
       "      <td>5</td>\n",
       "      <td>2012-07-04</td>\n",
       "      <td>2012-08-01</td>\n",
       "      <td>2012-07-16</td>\n",
       "      <td>3</td>\n",
       "      <td>32.38</td>\n",
       "      <td>Vins et alcools Chevalier</td>\n",
       "      <td>59 rue de l'Abbaye</td>\n",
       "      <td>Reims</td>\n",
       "      <td>Western Europe</td>\n",
       "      <td>51100</td>\n",
       "      <td>France</td>\n",
       "      <td>10248/72</td>\n",
       "      <td>10248</td>\n",
       "      <td>72</td>\n",
       "      <td>34.8</td>\n",
       "      <td>5</td>\n",
       "      <td>0.0</td>\n",
       "    </tr>\n",
       "    <tr>\n",
       "      <th>3</th>\n",
       "      <td>10249</td>\n",
       "      <td>TOMSP</td>\n",
       "      <td>6</td>\n",
       "      <td>2012-07-05</td>\n",
       "      <td>2012-08-16</td>\n",
       "      <td>2012-07-10</td>\n",
       "      <td>1</td>\n",
       "      <td>11.61</td>\n",
       "      <td>Toms Spezialitäten</td>\n",
       "      <td>Luisenstr. 48</td>\n",
       "      <td>Münster</td>\n",
       "      <td>Western Europe</td>\n",
       "      <td>44087</td>\n",
       "      <td>Germany</td>\n",
       "      <td>10249/14</td>\n",
       "      <td>10249</td>\n",
       "      <td>14</td>\n",
       "      <td>18.6</td>\n",
       "      <td>9</td>\n",
       "      <td>0.0</td>\n",
       "    </tr>\n",
       "    <tr>\n",
       "      <th>4</th>\n",
       "      <td>10249</td>\n",
       "      <td>TOMSP</td>\n",
       "      <td>6</td>\n",
       "      <td>2012-07-05</td>\n",
       "      <td>2012-08-16</td>\n",
       "      <td>2012-07-10</td>\n",
       "      <td>1</td>\n",
       "      <td>11.61</td>\n",
       "      <td>Toms Spezialitäten</td>\n",
       "      <td>Luisenstr. 48</td>\n",
       "      <td>Münster</td>\n",
       "      <td>Western Europe</td>\n",
       "      <td>44087</td>\n",
       "      <td>Germany</td>\n",
       "      <td>10249/51</td>\n",
       "      <td>10249</td>\n",
       "      <td>51</td>\n",
       "      <td>42.4</td>\n",
       "      <td>40</td>\n",
       "      <td>0.0</td>\n",
       "    </tr>\n",
       "  </tbody>\n",
       "</table>\n",
       "</div>"
      ],
      "text/plain": [
       "    Id_x CustomerId  EmployeeId   OrderDate RequiredDate ShippedDate  ShipVia  \\\n",
       "0  10248      VINET           5  2012-07-04   2012-08-01  2012-07-16        3   \n",
       "1  10248      VINET           5  2012-07-04   2012-08-01  2012-07-16        3   \n",
       "2  10248      VINET           5  2012-07-04   2012-08-01  2012-07-16        3   \n",
       "3  10249      TOMSP           6  2012-07-05   2012-08-16  2012-07-10        1   \n",
       "4  10249      TOMSP           6  2012-07-05   2012-08-16  2012-07-10        1   \n",
       "\n",
       "   Freight                   ShipName         ShipAddress ShipCity  \\\n",
       "0    32.38  Vins et alcools Chevalier  59 rue de l'Abbaye    Reims   \n",
       "1    32.38  Vins et alcools Chevalier  59 rue de l'Abbaye    Reims   \n",
       "2    32.38  Vins et alcools Chevalier  59 rue de l'Abbaye    Reims   \n",
       "3    11.61         Toms Spezialitäten       Luisenstr. 48  Münster   \n",
       "4    11.61         Toms Spezialitäten       Luisenstr. 48  Münster   \n",
       "\n",
       "       ShipRegion ShipPostalCode ShipCountry      Id_y  OrderId  ProductId  \\\n",
       "0  Western Europe          51100      France  10248/11    10248         11   \n",
       "1  Western Europe          51100      France  10248/42    10248         42   \n",
       "2  Western Europe          51100      France  10248/72    10248         72   \n",
       "3  Western Europe          44087     Germany  10249/14    10249         14   \n",
       "4  Western Europe          44087     Germany  10249/51    10249         51   \n",
       "\n",
       "   UnitPrice  Quantity  Discount  \n",
       "0       14.0        12       0.0  \n",
       "1        9.8        10       0.0  \n",
       "2       34.8         5       0.0  \n",
       "3       18.6         9       0.0  \n",
       "4       42.4        40       0.0  "
      ]
     },
     "execution_count": 82,
     "metadata": {},
     "output_type": "execute_result"
    }
   ],
   "source": [
    "q4_data = pd.merge(orders, \n",
    "                  order_details,\n",
    "                  left_on='Id',\n",
    "                  right_on='OrderId',\n",
    "                  how='left')\n",
    "q4_data.head()"
   ]
  },
  {
   "cell_type": "code",
   "execution_count": 90,
   "metadata": {},
   "outputs": [],
   "source": [
    "q4_data['Sale'] = q4_data['Quantity']*(q4_data['UnitPrice']*(1 - q4_data['Discount']))"
   ]
  },
  {
   "cell_type": "code",
   "execution_count": 91,
   "metadata": {},
   "outputs": [
    {
     "data": {
      "text/plain": [
       "0     168.0\n",
       "1      98.0\n",
       "2     174.0\n",
       "3     167.4\n",
       "4    1696.0\n",
       "Name: Sale, dtype: float64"
      ]
     },
     "execution_count": 91,
     "metadata": {},
     "output_type": "execute_result"
    }
   ],
   "source": [
    "q4_data.Sale.head()"
   ]
  },
  {
   "cell_type": "code",
   "execution_count": 103,
   "metadata": {},
   "outputs": [
    {
     "data": {
      "text/plain": [
       "<BarContainer object of 2155 artists>"
      ]
     },
     "execution_count": 103,
     "metadata": {},
     "output_type": "execute_result"
    },
    {
     "data": {
      "image/png": "[encoded data removed]",
      "text/plain": [
       "<Figure size 432x288 with 1 Axes>"
      ]
     },
     "metadata": {
      "needs_background": "light"
     },
     "output_type": "display_data"
    }
   ],
   "source": [
    "X = q4_data['EmployeeId']\n",
    "y = []\n",
    "for i in q4_data['EmployeeId']:\n",
    "    y.append(q4_data['Sale'][q4_data['EmployeeId'] == i].mean())\n",
    "plt.bar(X,y)"
   ]
  },
  {
   "cell_type": "code",
   "execution_count": 122,
   "metadata": {},
   "outputs": [
    {
     "data": {
      "text/html": [
       "<div>\n",
       "<style scoped>\n",
       "    .dataframe tbody tr th:only-of-type {\n",
       "        vertical-align: middle;\n",
       "    }\n",
       "\n",
       "    .dataframe tbody tr th {\n",
       "        vertical-align: top;\n",
       "    }\n",
       "\n",
       "    .dataframe thead th {\n",
       "        text-align: right;\n",
       "    }\n",
       "</style>\n",
       "<table border=\"1\" class=\"dataframe\">\n",
       "  <thead>\n",
       "    <tr style=\"text-align: right;\">\n",
       "      <th></th>\n",
       "      <th>df</th>\n",
       "      <th>sum_sq</th>\n",
       "      <th>mean_sq</th>\n",
       "      <th>F</th>\n",
       "      <th>PR(&gt;F)</th>\n",
       "    </tr>\n",
       "  </thead>\n",
       "  <tbody>\n",
       "    <tr>\n",
       "      <th>C(EmployeeId)</th>\n",
       "      <td>8.0</td>\n",
       "      <td>1.472611e+07</td>\n",
       "      <td>1.840763e+06</td>\n",
       "      <td>1.966553</td>\n",
       "      <td>0.046929</td>\n",
       "    </tr>\n",
       "    <tr>\n",
       "      <th>Residual</th>\n",
       "      <td>2146.0</td>\n",
       "      <td>2.008732e+09</td>\n",
       "      <td>9.360354e+05</td>\n",
       "      <td>NaN</td>\n",
       "      <td>NaN</td>\n",
       "    </tr>\n",
       "  </tbody>\n",
       "</table>\n",
       "</div>"
      ],
      "text/plain": [
       "                   df        sum_sq       mean_sq         F    PR(>F)\n",
       "C(EmployeeId)     8.0  1.472611e+07  1.840763e+06  1.966553  0.046929\n",
       "Residual       2146.0  2.008732e+09  9.360354e+05       NaN       NaN"
      ]
     },
     "execution_count": 122,
     "metadata": {},
     "output_type": "execute_result"
    }
   ],
   "source": [
    "formula = 'Sale ~ C(EmployeeId)'\n",
    "lm = ols(formula, q4_data).fit()\n",
    "table = sm.stats.anova_lm(lm, typ=1)\n",
    "table"
   ]
  },
  {
   "cell_type": "code",
   "execution_count": 125,
   "metadata": {},
   "outputs": [
    {
     "name": "stdout",
     "output_type": "stream",
     "text": [
      "Multiple Comparison of Means - Tukey HSD,FWER=0.05\n",
      "=================================================\n",
      "group1 group2  meandiff   lower    upper   reject\n",
      "-------------------------------------------------\n",
      "  1      2     134.1944 -117.9953 386.3841 False \n",
      "  1      3     74.9821  -157.9727 307.9368 False \n",
      "  1      4     -2.3316  -220.6011 215.9379 False \n",
      "  1      5     31.1346  -290.2426 352.5118 False \n",
      "  1      6    -116.8745 -399.4868 165.7378 False \n",
      "  1      7     150.9404 -127.3188 429.1996 False \n",
      "  1      8     -68.9018 -315.6068 177.8032 False \n",
      "  1      9     165.6717 -166.7309 498.0742 False \n",
      "  2      3     -59.2123 -315.2499 196.8252 False \n",
      "  2      4     -136.526 -379.2787 106.2267 False \n",
      "  2      5    -103.0598 -441.5426 235.423  False \n",
      "  2      6    -251.0689 -552.9911 50.8533  False \n",
      "  2      7      16.746  -281.1054 314.5975 False \n",
      "  2      8    -203.0962  -471.705 65.5126  False \n",
      "  2      9     31.4773  -317.4909 380.4454 False \n",
      "  3      4     -77.3137 -300.0179 145.3906 False \n",
      "  3      5     -43.8475  -368.253 280.558  False \n",
      "  3      6    -191.8566 -477.9078 94.1946  False \n",
      "  3      7     75.9584  -205.7929 357.7096 False \n",
      "  3      8    -143.8839  -394.521 106.7533 False \n",
      "  3      9     90.6896  -244.6417 426.0208 False \n",
      "  4      5     33.4662  -280.5602 347.4926 False \n",
      "  4      6    -114.5429 -388.7672 159.6814 False \n",
      "  4      7     153.272  -116.4638 423.0079 False \n",
      "  4      8     -66.5702  -303.62  170.4797 False \n",
      "  4      9     168.0033 -157.2977 493.3042 False \n",
      "  5      6    -148.0091 -509.7282  213.71  False \n",
      "  5      7     119.8058 -238.5225 478.1341 False \n",
      "  5      8    -100.0364 -434.4528 234.3801 False \n",
      "  5      9     134.5371 -267.2868 536.361  False \n",
      "  6      7     267.815   -56.1998 591.8297 False \n",
      "  6      8     47.9727  -249.3836 345.329  False \n",
      "  6      9     282.5462  -89.0031 654.0954 False \n",
      "  7      8    -219.8422 -513.0644 73.3799  False \n",
      "  7      9     14.7312  -353.5178 382.9802 False \n",
      "  8      9     234.5735 -110.4519 579.5988 False \n",
      "-------------------------------------------------\n"
     ]
    }
   ],
   "source": [
    "mc = MultiComparison(q5_data['Sale'], q5_data['EmployeeId'])\n",
    "result = mc.tukeyhsd()\n",
    "print(result)"
   ]
  },
  {
   "cell_type": "code",
   "execution_count": 120,
   "metadata": {},
   "outputs": [
    {
     "data": {
      "text/html": [
       "<div>\n",
       "<style scoped>\n",
       "    .dataframe tbody tr th:only-of-type {\n",
       "        vertical-align: middle;\n",
       "    }\n",
       "\n",
       "    .dataframe tbody tr th {\n",
       "        vertical-align: top;\n",
       "    }\n",
       "\n",
       "    .dataframe thead th {\n",
       "        text-align: right;\n",
       "    }\n",
       "</style>\n",
       "<table border=\"1\" class=\"dataframe\">\n",
       "  <thead>\n",
       "    <tr style=\"text-align: right;\">\n",
       "      <th></th>\n",
       "      <th>EmployeeId</th>\n",
       "      <th>CategoryName</th>\n",
       "      <th>Sale</th>\n",
       "    </tr>\n",
       "  </thead>\n",
       "  <tbody>\n",
       "    <tr>\n",
       "      <th>0</th>\n",
       "      <td>5</td>\n",
       "      <td>Dairy Products</td>\n",
       "      <td>168.0</td>\n",
       "    </tr>\n",
       "    <tr>\n",
       "      <th>1</th>\n",
       "      <td>5</td>\n",
       "      <td>Grains/Cereals</td>\n",
       "      <td>98.0</td>\n",
       "    </tr>\n",
       "    <tr>\n",
       "      <th>2</th>\n",
       "      <td>5</td>\n",
       "      <td>Dairy Products</td>\n",
       "      <td>174.0</td>\n",
       "    </tr>\n",
       "    <tr>\n",
       "      <th>3</th>\n",
       "      <td>6</td>\n",
       "      <td>Produce</td>\n",
       "      <td>167.4</td>\n",
       "    </tr>\n",
       "    <tr>\n",
       "      <th>4</th>\n",
       "      <td>6</td>\n",
       "      <td>Produce</td>\n",
       "      <td>1696.0</td>\n",
       "    </tr>\n",
       "  </tbody>\n",
       "</table>\n",
       "</div>"
      ],
      "text/plain": [
       "   EmployeeId    CategoryName    Sale\n",
       "0           5  Dairy Products   168.0\n",
       "1           5  Grains/Cereals    98.0\n",
       "2           5  Dairy Products   174.0\n",
       "3           6         Produce   167.4\n",
       "4           6         Produce  1696.0"
      ]
     },
     "execution_count": 120,
     "metadata": {},
     "output_type": "execute_result"
    }
   ],
   "source": [
    "q5_data = pd.merge(orders, \n",
    "                  order_details,\n",
    "                  left_on='Id',\n",
    "                  right_on='OrderId',\n",
    "                  how='left')\n",
    "q5_data = pd.merge(q5_data, \n",
    "                  products,\n",
    "                  left_on='ProductId',\n",
    "                  right_on='Id',\n",
    "                  how='left')\n",
    "q5_data = pd.merge(q5_data, \n",
    "                  categories,\n",
    "                  left_on='CategoryId',\n",
    "                  right_on='Id',\n",
    "                  how='left')\n",
    "q5_data = q5_data.rename(index=str, columns={\"UnitPrice_x\": \"UnitPrice\"})\n",
    "q5_data['Sale'] = q5_data['Quantity']*(q5_data['UnitPrice']*(1 - q5_data['Discount']))\n",
    "q5_data = q5_data[['EmployeeId', 'CategoryName', 'Sale']]\n",
    "q5_data.head()"
   ]
  },
  {
   "cell_type": "code",
   "execution_count": 127,
   "metadata": {},
   "outputs": [
    {
     "data": {
      "text/html": [
       "<div>\n",
       "<style scoped>\n",
       "    .dataframe tbody tr th:only-of-type {\n",
       "        vertical-align: middle;\n",
       "    }\n",
       "\n",
       "    .dataframe tbody tr th {\n",
       "        vertical-align: top;\n",
       "    }\n",
       "\n",
       "    .dataframe thead th {\n",
       "        text-align: right;\n",
       "    }\n",
       "</style>\n",
       "<table border=\"1\" class=\"dataframe\">\n",
       "  <thead>\n",
       "    <tr style=\"text-align: right;\">\n",
       "      <th></th>\n",
       "      <th>sum_sq</th>\n",
       "      <th>df</th>\n",
       "      <th>F</th>\n",
       "      <th>PR(&gt;F)</th>\n",
       "    </tr>\n",
       "  </thead>\n",
       "  <tbody>\n",
       "    <tr>\n",
       "      <th>C(EmployeeId)</th>\n",
       "      <td>1.554216e+07</td>\n",
       "      <td>8.0</td>\n",
       "      <td>2.089979</td>\n",
       "      <td>3.365327e-02</td>\n",
       "    </tr>\n",
       "    <tr>\n",
       "      <th>C(CategoryName)</th>\n",
       "      <td>4.721500e+07</td>\n",
       "      <td>7.0</td>\n",
       "      <td>7.256091</td>\n",
       "      <td>1.293990e-08</td>\n",
       "    </tr>\n",
       "    <tr>\n",
       "      <th>C(EmployeeId):C(CategoryName)</th>\n",
       "      <td>2.523537e+07</td>\n",
       "      <td>56.0</td>\n",
       "      <td>0.484777</td>\n",
       "      <td>9.995606e-01</td>\n",
       "    </tr>\n",
       "    <tr>\n",
       "      <th>Residual</th>\n",
       "      <td>1.936282e+09</td>\n",
       "      <td>2083.0</td>\n",
       "      <td>NaN</td>\n",
       "      <td>NaN</td>\n",
       "    </tr>\n",
       "  </tbody>\n",
       "</table>\n",
       "</div>"
      ],
      "text/plain": [
       "                                     sum_sq      df         F        PR(>F)\n",
       "C(EmployeeId)                  1.554216e+07     8.0  2.089979  3.365327e-02\n",
       "C(CategoryName)                4.721500e+07     7.0  7.256091  1.293990e-08\n",
       "C(EmployeeId):C(CategoryName)  2.523537e+07    56.0  0.484777  9.995606e-01\n",
       "Residual                       1.936282e+09  2083.0       NaN           NaN"
      ]
     },
     "execution_count": 127,
     "metadata": {},
     "output_type": "execute_result"
    }
   ],
   "source": [
    "formula = 'Sale ~ C(EmployeeId)*C(CategoryName)'\n",
    "lm = ols(formula, q5_data).fit()\n",
    "table = sm.stats.anova_lm(lm, typ=2)\n",
    "table"
   ]
  },
  {
   "cell_type": "code",
   "execution_count": null,
   "metadata": {},
   "outputs": [],
   "source": []
  },
  {
   "cell_type": "code",
   "execution_count": 141,
   "metadata": {},
   "outputs": [
    {
     "name": "stdout",
     "output_type": "stream",
     "text": [
      "Multiple Comparison of Means - Tukey HSD,FWER=0.05\n",
      "=================================================\n",
      "group1 group2  meandiff   lower    upper   reject\n",
      "-------------------------------------------------\n",
      "  1      2      107.26  -339.3278 553.8478 False \n",
      "  1      3     79.5422  -322.5645 481.6489 False \n",
      "  1      4     67.0929  -328.7055 462.8913 False \n",
      "  1      5     153.4656 -315.7281 622.6593 False \n",
      "  1      6    -117.3012 -552.6946 318.0921 False \n",
      "  1      7     336.828  -132.3657 806.0218 False \n",
      "  1      8     66.4318  -388.5307 521.3942 False \n",
      "  1      9     289.8453  -216.036 795.7266 False \n",
      "  2      3     -27.7179 -495.6441 440.2083 False \n",
      "  2      4     -40.1671 -502.6836 422.3493 False \n",
      "  2      5     46.2056  -480.4896 572.9008 False \n",
      "  2      6    -224.5613 -721.3837 272.2611 False \n",
      "  2      7     229.568  -297.1272 756.2633 False \n",
      "  2      8     -40.8283 -554.8866 473.2301 False \n",
      "  2      9     182.5853 -377.0405 742.2111 False \n",
      "  3      4     -12.4493 -432.1761 407.2776 False \n",
      "  3      5     73.9235  -415.6243 563.4712 False \n",
      "  3      6    -196.8434 -654.0979 260.4111 False \n",
      "  3      7     257.2859 -232.2619 746.8336 False \n",
      "  3      8     -13.1104 -489.0359 462.8151 False \n",
      "  3      9     210.3031 -314.5113 735.1176 False \n",
      "  4      5     86.3727  -398.0068 570.7523 False \n",
      "  4      6    -184.3941 -636.1111 267.3228 False \n",
      "  4      7     269.7351 -214.6444 754.1147 False \n",
      "  4      8     -0.6611  -471.2689 469.9466 False \n",
      "  4      9     222.7524 -297.2445 742.7493 False \n",
      "  5      6    -270.7669 -788.0043 246.4706 False \n",
      "  5      7     183.3624  -362.632 729.3569 False \n",
      "  5      8     -87.0339 -620.8485 446.7808 False \n",
      "  5      9     136.3797 -441.4465 714.2059 False \n",
      "  6      7     454.1293  -63.1082 971.3667 False \n",
      "  6      8     183.733  -320.6306 688.0966 False \n",
      "  6      9     407.1465 -143.5873 957.8804 False \n",
      "  7      8    -270.3963 -804.2109 263.4183 False \n",
      "  7      9     -46.9827  -624.809 530.8435 False \n",
      "  8      9     223.4135 -342.9178 789.7449 False \n",
      "-------------------------------------------------\n",
      " Multiple Comparison of Means - Tukey HSD,FWER=0.05\n",
      "===================================================\n",
      "group1 group2  meandiff   lower      upper   reject\n",
      "---------------------------------------------------\n",
      "  1      2     10.6746  -477.0916   498.4409 False \n",
      "  1      3     170.7809 -287.2409   628.8027 False \n",
      "  1      4     87.7228  -353.7781   529.2236 False \n",
      "  1      5     44.3686  -623.5328   712.2701 False \n",
      "  1      6     381.0867  -225.565   987.7383 False \n",
      "  1      7     32.5617  -534.1715   599.2948 False \n",
      "  1      8     22.7097  -469.1432   514.5627 False \n",
      "  1      9     11.9617  -1022.7468 1046.6701 False \n",
      "  2      3     160.1062 -264.2103   584.4227 False \n",
      "  2      4     77.0481  -329.3796   483.4758 False \n",
      "  2      5      33.694  -611.5601   678.9481 False \n",
      "  2      6     370.412  -211.2122   952.0362 False \n",
      "  2      7      21.887  -517.9713   561.7454 False \n",
      "  2      8     12.0351  -448.5947   472.6649 False \n",
      "  2      9      1.287   -1018.9493 1021.5234 False \n",
      "  3      4     -83.0581 -453.2628   287.1466 False \n",
      "  3      5    -126.4122  -749.486   496.6615 False \n",
      "  3      6     210.3058 -346.6096   767.2212 False \n",
      "  3      7    -138.2192 -651.3615   374.9231 False \n",
      "  3      8    -148.0711 -577.0791   280.9369 False \n",
      "  3      9    -158.8192 -1165.1741  847.5357 False \n",
      "  4      5     -43.3541  -654.386   567.6777 False \n",
      "  4      6     293.3639 -250.0455   836.7733 False \n",
      "  4      7     -55.1611 -553.6127   443.2906 False \n",
      "  4      8     -65.013  -476.3363   346.3103 False \n",
      "  4      9     -75.7611 -1074.7051  923.1829 False \n",
      "  5      6     336.7181 -402.5134  1075.9495 False \n",
      "  5      7     -11.8069 -718.6474   695.0335 False \n",
      "  5      8     -21.6589 -670.0077    626.69  False \n",
      "  5      9     -32.4069 -1150.0198 1085.2059 False \n",
      "  6      7     -348.525 -997.7994   300.7494 False \n",
      "  6      8    -358.3769 -943.4326   226.6787 False \n",
      "  6      9     -369.125 -1451.249   712.999  False \n",
      "  7      8     -9.8519  -553.4054   533.7016 False \n",
      "  7      9      -20.6   -1080.8607 1039.6607 False \n",
      "  8      9     -10.7481 -1032.9445 1011.4483 False \n",
      "---------------------------------------------------\n",
      " Multiple Comparison of Means - Tukey HSD,FWER=0.05 \n",
      "====================================================\n",
      "group1 group2  meandiff    lower      upper   reject\n",
      "----------------------------------------------------\n",
      "  1      2     77.5786   -768.6926   923.8498 False \n",
      "  1      3     93.5953   -691.2044   878.3949 False \n",
      "  1      4     -16.3322  -691.2302   658.5658 False \n",
      "  1      5      7.1073   -896.4631   910.6777 False \n",
      "  1      6     -95.3366  -824.3614   633.6883 False \n",
      "  1      7     491.0253  -448.8058  1430.8564 False \n",
      "  1      8     47.2376   -721.4264   815.9016 False \n",
      "  1      9    -546.3885  -2341.6008 1248.8239 False \n",
      "  2      3     16.0167   -933.9204   965.9538 False \n",
      "  2      4     -93.9108  -955.2803   767.4586 False \n",
      "  2      5     -70.4713  -1120.6663  979.7236 False \n",
      "  2      6    -172.9152  -1077.3195  731.4892 False \n",
      "  2      7     413.4467  -668.1043  1494.9976 False \n",
      "  2      8     -30.341   -966.9916   906.3096 False \n",
      "  2      9    -623.9671  -2497.2683 1249.3341 False \n",
      "  3      4    -109.9275  -910.9848   691.1298 False \n",
      "  3      5     -86.488   -1087.8096  914.8336 False \n",
      "  3      6    -188.9318  -1036.0934  658.2297 False \n",
      "  3      7      397.43   -636.7305  1431.5905 False \n",
      "  3      8     -46.3577   -927.862   835.1467 False \n",
      "  3      9    -639.9837  -2486.3296 1206.3621 False \n",
      "  4      5     23.4395   -894.2869   941.1659 False \n",
      "  4      6     -79.0043  -825.5025   667.4938 False \n",
      "  4      7     507.3575  -446.0914  1460.8064 False \n",
      "  4      8     63.5698   -721.6859   848.8256 False \n",
      "  4      9    -530.0562  -2332.4352 1272.3227 False \n",
      "  5      6    -102.4438  -1060.6775  855.7898 False \n",
      "  5      7     483.918   -643.0323  1610.8683 False \n",
      "  5      8     40.1303   -948.5955  1028.8562 False \n",
      "  5      9    -553.4957  -2453.3699 1346.3784 False \n",
      "  6      7     586.3618  -406.1374  1578.8611 False \n",
      "  6      8     142.5742  -689.6617   974.8101 False \n",
      "  6      9    -451.0519  -2274.3894 1372.2856 False \n",
      "  7      8    -443.7877  -1465.7572  578.1819 False \n",
      "  7      9    -1037.4138 -2954.7987  879.9712 False \n",
      "  8      9    -593.6261  -2433.1714 1245.9192 False \n",
      "----------------------------------------------------\n",
      "Multiple Comparison of Means - Tukey HSD,FWER=0.05\n",
      "=================================================\n",
      "group1 group2  meandiff   lower    upper   reject\n",
      "-------------------------------------------------\n",
      "  1      2     28.2095  -254.2287 310.6478 False \n",
      "  1      3     54.3343  -197.1757 305.8444 False \n",
      "  1      4     -13.3399 -250.1463 223.4665 False \n",
      "  1      5     69.4645   -353.449 492.378  False \n",
      "  1      6    -126.3323 -465.6826 213.0181 False \n",
      "  1      7     -98.5019 -426.7906 229.7869 False \n",
      "  1      8     -83.7759 -363.8337 196.282  False \n",
      "  1      9     19.6668  -332.6096 371.9431 False \n",
      "  2      3     26.1248  -261.2258 313.4754 False \n",
      "  2      4     -41.5495 -316.1225 233.0236 False \n",
      "  2      5      41.255  -403.9066 486.4166 False \n",
      "  2      6    -154.5418 -521.2457 212.1621 False \n",
      "  2      7    -126.7114 -483.2035 229.7806 False \n",
      "  2      8    -111.9854 -424.6281 200.6573 False \n",
      "  2      9     -8.5428  -387.2401 370.1546 False \n",
      "  3      4     -67.6743 -310.3186  174.97  False \n",
      "  3      5     15.1302  -411.0796  441.34  False \n",
      "  3      6    -180.6666 -524.1163 162.7831 False \n",
      "  3      7    -152.8362 -485.3607 179.6882 False \n",
      "  3      8    -138.1102 -423.1214 146.901  False \n",
      "  3      9     -34.6676 -390.8945 321.5594 False \n",
      "  4      5     82.8045  -334.8973 500.5062 False \n",
      "  4      6    -112.9923 -445.8251 219.8404 False \n",
      "  4      7     -85.162  -406.7089 236.385  False \n",
      "  4      8     -70.4359 -342.5597 201.6878 False \n",
      "  4      9     33.0067  -312.9956 379.009  False \n",
      "  5      6    -195.7968 -679.0733 287.4797 False \n",
      "  5      7    -167.9664 -643.5408 307.608  False \n",
      "  5      8    -153.2404 -596.8956 290.4148 False \n",
      "  5      9     -49.7978 -542.2367 442.6412 False \n",
      "  6      7     27.8304  -375.2501 430.9109 False \n",
      "  6      8     42.5564  -322.3173  407.43  False \n",
      "  6      9     145.999  -276.8473 568.8453 False \n",
      "  7      8      14.726  -339.8831 369.3351 False \n",
      "  7      9     118.1686 -295.8529 532.1902 False \n",
      "  8      9     103.4426 -273.4827 480.368  False \n",
      "-------------------------------------------------\n",
      "Multiple Comparison of Means - Tukey HSD,FWER=0.05\n",
      "=================================================\n",
      "group1 group2  meandiff   lower    upper   reject\n",
      "-------------------------------------------------\n",
      "  1      2     181.3082 -212.4825 575.0989 False \n",
      "  1      3     40.4459  -337.1582  418.05  False \n",
      "  1      4     80.6385  -257.4187 418.6958 False \n",
      "  1      5    -103.0576 -677.4081 471.293  False \n",
      "  1      6    -127.5721 -583.1084 327.9642 False \n",
      "  1      7      5.099   -410.2946 420.4926 False \n",
      "  1      8     50.4522  -320.4795 421.384  False \n",
      "  1      9     237.5666 -217.9698 693.1029 False \n",
      "  2      3    -140.8623 -543.7533 262.0287 False \n",
      "  2      4    -100.6696 -466.7557 265.4165 False \n",
      "  2      5    -284.3657 -875.6481 306.9167 False \n",
      "  2      6    -308.8802 -785.5874 167.8269 False \n",
      "  2      7    -176.2092 -614.7159 262.2976 False \n",
      "  2      8    -130.8559 -527.5002 265.7884 False \n",
      "  2      9     56.2584  -420.4487 532.9655 False \n",
      "  3      4     40.1927  -308.4229 388.8082 False \n",
      "  3      5    -143.5034 -724.1312 437.1243 False \n",
      "  3      6     -168.018 -631.4437 295.4078 False \n",
      "  3      7     -35.3469 -459.3775 388.6837 False \n",
      "  3      8     10.0064  -370.5727 390.5855 False \n",
      "  3      9     197.1207  -266.305 660.5465 False \n",
      "  4      5    -183.6961 -739.4177 372.0255 False \n",
      "  4      6    -208.2106 -640.0222 223.601  False \n",
      "  4      7     -75.5395 -464.7693 313.6902 False \n",
      "  4      8     -30.1863 -371.5633 311.1908 False \n",
      "  4      9     156.9281 -274.8836 588.7397 False \n",
      "  5      6     -24.5145 -658.5943 609.5652 False \n",
      "  5      7     108.1566 -497.7276 714.0407 False \n",
      "  5      8     153.5098  -422.801 729.8206 False \n",
      "  5      9     340.6241 -293.4556 974.7039 False \n",
      "  6      7     132.6711 -362.0313 627.3734 False \n",
      "  6      8     178.0243  -279.981 636.0297 False \n",
      "  6      9     365.1387 -163.7204 893.9977 False \n",
      "  7      8     45.3532  -372.7465 463.453  False \n",
      "  7      9     232.4676 -262.2348 727.1699 False \n",
      "  8      9     187.1143  -270.891 645.1197 False \n",
      "-------------------------------------------------\n",
      "Multiple Comparison of Means - Tukey HSD,FWER=0.05\n",
      "==================================================\n",
      "group1 group2  meandiff   lower     upper   reject\n",
      "--------------------------------------------------\n",
      "  1      2     102.8602 -311.4633  517.1837 False \n",
      "  1      3     136.4252 -233.8828  506.7332 False \n",
      "  1      4    -119.0505 -462.7078  224.6068 False \n",
      "  1      5    -189.5058 -748.5375  369.5258 False \n",
      "  1      6    -211.9147  -688.129  264.2997 False \n",
      "  1      7      27.581  -422.9348  478.0968 False \n",
      "  1      8      6.5052  -385.9962  399.0067 False \n",
      "  1      9     109.3148 -482.6634  701.2931 False \n",
      "  2      3      33.565  -386.8429  453.9728 False \n",
      "  2      4    -221.9108 -619.0444  175.2228 False \n",
      "  2      5    -292.3661 -885.7725  301.0403 False \n",
      "  2      6    -314.7749 -830.9095  201.3597 False \n",
      "  2      7     -75.2792 -567.8026  417.2442 False \n",
      "  2      8     -96.355   -536.437  343.727  False \n",
      "  2      9      6.4546  -618.0876  630.9968 False \n",
      "  3      4    -255.4757 -606.4446  95.4931  False \n",
      "  3      5     -325.931 -889.4869  237.6249 False \n",
      "  3      6    -348.3399 -829.8572  133.1775 False \n",
      "  3      7    -108.8442 -564.9618  347.2735 False \n",
      "  3      8    -129.9199 -528.8387  268.9988 False \n",
      "  3      9     -27.1104 -623.3629  569.1421 False \n",
      "  4      5     -70.4553 -616.8687  475.9581 False \n",
      "  4      6     -92.8641 -554.2005  368.4723 False \n",
      "  4      7     146.6316 -288.1277  581.3909 False \n",
      "  4      8     125.5558  -248.755  499.8665 False \n",
      "  4      9     228.3654 -351.7117  808.4424 False \n",
      "  5      6     -22.4088 -660.5682  615.7505 False \n",
      "  5      7     217.0869 -402.1318  836.3055 False \n",
      "  5      8     196.0111 -382.3699  774.3921 False \n",
      "  5      9     298.8207 -429.8119 1027.4533 False \n",
      "  6      7     239.4957  -306.119  785.1104 False \n",
      "  6      8     218.4199  -280.367  717.2068 False \n",
      "  6      9     321.2295 -345.9805  988.4395 False \n",
      "  7      8     -21.0758 -495.3887  453.2371 False \n",
      "  7      9     81.7338  -567.3837  730.8513 False \n",
      "  8      9     102.8096 -507.4743  713.0935 False \n",
      "--------------------------------------------------\n",
      " Multiple Comparison of Means - Tukey HSD,FWER=0.05\n",
      "===================================================\n",
      "group1 group2  meandiff   lower      upper   reject\n",
      "---------------------------------------------------\n",
      "  1      2     117.7496 -923.6376  1159.1369 False \n",
      "  1      3     -66.2209 -1018.8112  886.3694 False \n",
      "  1      4    -105.8798 -1020.5407  808.7811 False \n",
      "  1      5    -252.8214 -1591.7479 1086.1051 False \n",
      "  1      6     -450.787 -1645.1047  743.5307 False \n",
      "  1      7      0.1171  -1113.1727 1113.4069 False \n",
      "  1      8    -425.7177 -1431.4914  580.056  False \n",
      "  1      9     41.7839  -1233.6498 1317.2176 False \n",
      "  2      3    -183.9706 -1214.6766  846.7355 False \n",
      "  2      4    -223.6294 -1219.3861  772.1272 False \n",
      "  2      5     -370.571 -1766.1537 1025.0116 False \n",
      "  2      6    -568.5366 -1826.0427  688.9695 False \n",
      "  2      7    -117.6325 -1298.4547 1063.1897 False \n",
      "  2      8    -543.4673 -1623.5171  536.5824 False \n",
      "  2      9     -75.9658 -1410.7533 1258.8218 False \n",
      "  3      4     -39.6589  -942.14    862.8223 False \n",
      "  3      5    -186.6005 -1517.2363 1144.0353 False \n",
      "  3      6     -384.566 -1569.5818  800.4497 False \n",
      "  3      7     66.3381  -1036.9669  1169.643 False \n",
      "  3      8    -359.4968 -1354.2069  635.2134 False \n",
      "  3      9     108.0048 -1158.7228 1374.7324 False \n",
      "  4      5    -146.9416 -1450.6931 1156.8099 False \n",
      "  4      6    -344.9072 -1499.6533  809.839  False \n",
      "  4      7     105.9969 -964.7309  1176.7248 False \n",
      "  4      8    -319.8379 -1278.287   638.6112 False \n",
      "  4      9     147.6637 -1090.7931 1386.1204 False \n",
      "  5      6    -197.9656 -1711.0942 1315.1631 False \n",
      "  5      7     252.9385 -1197.0882 1702.9653 False \n",
      "  5      8    -172.8963 -1542.1093 1196.3167 False \n",
      "  5      9     294.6053 -1283.3347 1872.5452 False \n",
      "  6      7     450.9041 -866.7637  1768.5718 False \n",
      "  6      8     25.0693  -1203.1061 1253.2447 False \n",
      "  6      9     492.5708 -964.6749  1949.8166 False \n",
      "  7      8    -425.8348 -1575.3714  723.7017 False \n",
      "  7      9     41.6667  -1349.9455  1433.279 False \n",
      "  8      9     467.5016 -839.6905  1774.6937 False \n",
      "---------------------------------------------------\n",
      " Multiple Comparison of Means - Tukey HSD,FWER=0.05\n",
      "===================================================\n",
      "group1 group2  meandiff   lower      upper   reject\n",
      "---------------------------------------------------\n",
      "  1      2     547.4458 -600.0197  1694.9112 False \n",
      "  1      3     374.7761 -837.8041  1587.3564 False \n",
      "  1      4     280.3793 -792.3319  1353.0905 False \n",
      "  1      5     442.843  -1039.3206 1925.0065 False \n",
      "  1      6     298.8298 -1233.934  1831.5936 False \n",
      "  1      7     810.2421 -527.6638  2148.1481 False \n",
      "  1      8     81.5976  -1089.0701 1252.2653 False \n",
      "  1      9     844.5711 -1017.7151 2706.8574 False \n",
      "  2      3    -172.6696 -1374.5571 1029.2179 False \n",
      "  2      4    -267.0664 -1327.6758  793.5429 False \n",
      "  2      5    -104.6028 -1578.0313 1368.8257 False \n",
      "  2      6    -248.6159 -1772.9347 1275.7028 False \n",
      "  2      7     262.7964 -1065.4261 1591.0189 False \n",
      "  2      8    -465.8482 -1625.4367  693.7404 False \n",
      "  2      9     297.1254 -1558.2163 2152.4671 False \n",
      "  3      4     -94.3968 -1225.1337 1036.3401 False \n",
      "  3      5     68.0668  -1456.6185 1592.7521 False \n",
      "  3      6     -75.9463 -1649.8654 1497.9728 False \n",
      "  3      7     435.466  -949.3982  1820.3302 False \n",
      "  3      8    -293.1785 -1517.2371   930.88  False \n",
      "  3      9     469.795  -1426.5084 2366.0984 False \n",
      "  4      5     162.4636 -1253.525  1578.4523 False \n",
      "  4      6     18.4505  -1450.4198 1487.3208 False \n",
      "  4      7     529.8628 -734.3394  1794.0651 False \n",
      "  4      8    -198.7817 -1284.4511  886.8876 False \n",
      "  4      9     564.1918 -1245.8704  2374.254 False \n",
      "  5      6    -144.0131 -1933.8956 1645.8694 False \n",
      "  5      7     367.3992 -1258.7333 1993.5316 False \n",
      "  5      8    -361.2454 -1852.8141 1130.3234 False \n",
      "  5      9     401.7282 -1677.3159 2480.7723 False \n",
      "  6      7     511.4123 -1160.9701 2183.7947 False \n",
      "  6      8    -217.2322 -1759.0926 1324.6282 False \n",
      "  6      9     545.7413 -1569.6737 2661.1563 False \n",
      "  7      8    -728.6445 -2076.9623  619.6733 False \n",
      "  7      9      34.329  -1944.4605 2013.1185 False \n",
      "  8      9     762.9735 -1106.8068 2632.7539 False \n",
      "---------------------------------------------------\n"
     ]
    }
   ],
   "source": [
    "for i in q5_data['CategoryName'].unique():\n",
    "    mc = MultiComparison(q5_data['Sale'][q5_data['CategoryName'] == i], q5_data['EmployeeId'][q5_data['CategoryName'] == i])\n",
    "    result = mc.tukeyhsd()\n",
    "    print(result)"
   ]
  },
  {
   "cell_type": "code",
   "execution_count": 122,
   "metadata": {
    "scrolled": true
   },
   "outputs": [
    {
     "name": "stdout",
     "output_type": "stream",
     "text": [
      "Beverages\n",
      "                    sum_sq     df        F    PR(>F)\n",
      "C(Discount)    7080.094979    5.0  3.97345  0.001577\n",
      "Residual     141835.330764  398.0      NaN       NaN\n",
      "------------------------------------------------------\n",
      "Condiments\n",
      "                   sum_sq     df         F    PR(>F)\n",
      "C(Discount)   6693.336980    5.0  3.638131  0.003538\n",
      "Residual     77270.496353  210.0       NaN       NaN\n",
      "------------------------------------------------------\n",
      "Produce\n",
      "                   sum_sq     df         F    PR(>F)\n",
      "C(Discount)    589.240857    5.0  0.336231  0.890214\n",
      "Residual     45564.729731  130.0       NaN       NaN\n",
      "------------------------------------------------------\n",
      "Meat/Poultry\n",
      "                   sum_sq     df         F    PR(>F)\n",
      "C(Discount)   7150.327552    5.0  3.065112  0.011285\n",
      "Residual     77915.903662  167.0       NaN       NaN\n",
      "------------------------------------------------------\n",
      "Seafood\n",
      "                    sum_sq     df         F    PR(>F)\n",
      "C(Discount)    6080.291962    5.0  3.434426  0.004876\n",
      "Residual     114721.614099  324.0       NaN       NaN\n",
      "------------------------------------------------------\n",
      "Dairy Products\n",
      "                    sum_sq     df         F    PR(>F)\n",
      "C(Discount)    5552.698533    5.0  3.239239  0.007111\n",
      "Residual     123422.298735  360.0       NaN       NaN\n",
      "------------------------------------------------------\n",
      "Confections\n",
      "                   sum_sq     df         F    PR(>F)\n",
      "C(Discount)   2782.100311    5.0  1.891768  0.095274\n",
      "Residual     96473.672144  328.0       NaN       NaN\n",
      "------------------------------------------------------\n",
      "Grains/Cereals\n",
      "                   sum_sq     df         F    PR(>F)\n",
      "C(Discount)   1006.069734    5.0  0.597643  0.701795\n",
      "Residual     63969.052715  190.0       NaN       NaN\n",
      "------------------------------------------------------\n"
     ]
    }
   ],
   "source": [
    "for i in q2_data['CategoryName'].unique():\n",
    "    formula = 'Quantity ~ C(Discount)'\n",
    "    lm = ols(formula, q2_data[q2_data['CategoryName'] == i]).fit()\n",
    "    table = sm.stats.anova_lm(lm, typ=2)\n",
    "    print(i)\n",
    "    print(table)\n",
    "    print('------------------------------------------------------')"
   ]
  },
  {
   "cell_type": "markdown",
   "metadata": {},
   "source": [
    "A few of the above tests show a p-value of less than our alpha of 0.05. However, because we ran multiple additional tests, we should use a Bonferroni correction."
   ]
  },
  {
   "cell_type": "code",
   "execution_count": 123,
   "metadata": {},
   "outputs": [
    {
     "data": {
      "text/plain": [
       "0.00625"
      ]
     },
     "execution_count": 123,
     "metadata": {},
     "output_type": "execute_result"
    }
   ],
   "source": [
    "k = len(q2_data['CategoryName'].unique())\n",
    "alpha = 0.05\n",
    "bon_alpha = alpha/k\n",
    "bon_alpha"
   ]
  },
  {
   "cell_type": "markdown",
   "metadata": {},
   "source": [
    "Since we have 8 cateogories, we divide our alpha of 0.05 by 8 to get a new relevant alpha of 0.00625. Now comparing this to our results above, we can see that the categories of 'Beverages', 'Condiments', and 'Seafood' all have significantly different means of 'Quantity' across the different 'Discount' levels. "
   ]
  },
  {
   "cell_type": "markdown",
   "metadata": {},
   "source": [
    "We can observe the interaction between these categories and 'Discount' in an interaction plot."
   ]
  },
  {
   "cell_type": "code",
   "execution_count": 139,
   "metadata": {},
   "outputs": [
    {
     "data": {
      "image/png": "[encoded data removed]",
      "text/plain": [
       "<Figure size 432x288 with 1 Axes>"
      ]
     },
     "metadata": {
      "needs_background": "light"
     },
     "output_type": "display_data"
    }
   ],
   "source": [
    "from statsmodels.graphics.factorplots import interaction_plot\n",
    "q2_data_a = q2_data[(q2_data['CategoryName'] == 'Beverages') | (q2_data['CategoryName'] == 'Condiments') \n",
    "                    | (q2_data['CategoryName'] == 'Seafood')]\n",
    "fig = interaction_plot(q2_data_a['Discount'],q2_data_a['CategoryName'],q2_data_a['Quantity'],\n",
    "                       colors = ['red', 'blue', 'green'], ms=10)"
   ]
  },
  {
   "cell_type": "markdown",
   "metadata": {},
   "source": [
    "The above plot shows how the mean 'Quantity' changes in relation to the 'Discount' for each of the three categories. Interestingly, the highest mean for each category occurs at a different 'Discount' level. For 'Beverages', 0.05; for 'Condiments', 0.15; and for 'Seafood', 0.25."
   ]
  },
  {
   "cell_type": "markdown",
   "metadata": {},
   "source": [
    "To dig a little deeper, we can run a multiple comparison of mean using Tukey HSD to see where there's a significant difference between two 'Discount' levels. To do this, we will also need to calculate the appropriate family-wise error rate. Since we have 6 'Discount' levels (0.0, 0.05, 0.10, 0.15, 0.20, and 0.25) and will choose 2 for each comparison, we will have a total of 15 combinations. "
   ]
  },
  {
   "cell_type": "code",
   "execution_count": 148,
   "metadata": {},
   "outputs": [
    {
     "name": "stdout",
     "output_type": "stream",
     "text": [
      "Multiple Comparison of Means - Tukey HSD,FWER=0.54\n",
      "==============================================\n",
      "group1 group2 meandiff  lower    upper  reject\n",
      "----------------------------------------------\n",
      " 0.0    0.05  13.7417   7.1835  20.2999  True \n",
      " 0.0    0.1    8.3233   1.6475   14.999  True \n",
      " 0.0    0.15   3.7866  -1.8883   9.4615 False \n",
      " 0.0    0.2    8.434    2.9528  13.9152  True \n",
      " 0.0    0.25   3.1095  -2.8668   9.0858 False \n",
      " 0.05   0.1   -5.4185  -14.3265  3.4896 False \n",
      " 0.05   0.15  -9.9551   -18.14  -1.7703  True \n",
      " 0.05   0.2   -5.3077  -13.3595  2.7441 False \n",
      " 0.05   0.25  -10.6322 -19.0289 -2.2356  True \n",
      " 0.1    0.15  -4.5367  -12.816   3.7427 False \n",
      " 0.1    0.2    0.1108   -8.037   8.2586 False \n",
      " 0.1    0.25  -5.2138  -13.7025  3.275  False \n",
      " 0.15   0.2    4.6474  -2.7028  11.9977 False \n",
      " 0.15   0.25  -0.6771  -8.4036   7.0494 False \n",
      " 0.2    0.25  -5.3245  -12.9099  2.2608 False \n",
      "----------------------------------------------\n",
      "Multiple Comparison of Means - Tukey HSD,FWER=0.54\n",
      "==============================================\n",
      "group1 group2 meandiff  lower    upper  reject\n",
      "----------------------------------------------\n",
      " 0.0    0.05  14.6794   6.9164  22.4424  True \n",
      " 0.0    0.1    1.9837  -5.3269   9.2943 False \n",
      " 0.0    0.15   9.2088   0.8727  17.5449  True \n",
      " 0.0    0.2    0.9651  -8.1273  10.0575 False \n",
      " 0.0    0.25  16.6794   6.5285  26.8303  True \n",
      " 0.05   0.1   -12.6957 -22.5823  -2.809  True \n",
      " 0.05   0.15  -5.4706  -16.1379  5.1967 False \n",
      " 0.05   0.2   -13.7143 -24.9825 -2.4461  True \n",
      " 0.05   0.25    2.0    -10.1384 14.1384 False \n",
      " 0.1    0.15   7.2251  -3.1176  17.5678 False \n",
      " 0.1    0.2   -1.0186   -11.98   9.9428 False \n",
      " 0.1    0.25  14.6957   2.8415  26.5498  True \n",
      " 0.15   0.2   -8.2437  -19.9141  3.4267 False \n",
      " 0.15   0.25   7.4706  -5.0421  19.9833 False \n",
      " 0.2    0.25  15.7143   2.6855   28.743  True \n",
      "----------------------------------------------\n",
      "Multiple Comparison of Means - Tukey HSD,FWER=0.54\n",
      "==============================================\n",
      "group1 group2 meandiff  lower    upper  reject\n",
      "----------------------------------------------\n",
      " 0.0    0.05   0.7125   -5.695   7.1199 False \n",
      " 0.0    0.1    1.1894  -4.9409   7.3197 False \n",
      " 0.0    0.15   16.441   8.9969  23.8852  True \n",
      " 0.0    0.2    7.6733   1.543   13.8036  True \n",
      " 0.0    0.25   0.361   -6.3742   7.0962 False \n",
      " 0.05   0.1    0.477    -7.789   8.7429 False \n",
      " 0.05   0.15  15.7286   6.4463  25.0108  True \n",
      " 0.05   0.2    6.9608  -1.3051  15.2268 False \n",
      " 0.05   0.25  -0.3514  -9.0754   8.3726 False \n",
      " 0.1    0.15  15.2516   6.1584  24.3448  True \n",
      " 0.1    0.2    6.4839  -1.5692  14.5369 False \n",
      " 0.1    0.25  -0.8284  -9.3509   7.6942 False \n",
      " 0.15   0.2   -8.7677  -17.8609  0.3254 False \n",
      " 0.15   0.25   -16.08  -25.5915 -6.5685  True \n",
      " 0.2    0.25  -7.3123  -15.8348  1.2103 False \n",
      "----------------------------------------------\n"
     ]
    }
   ],
   "source": [
    "m = [q2_data[q2_data['CategoryName'] == 'Beverages'], q2_data[q2_data['CategoryName'] == 'Condiments'],\n",
    "    q2_data[q2_data['CategoryName'] == 'Seafood']]\n",
    "results = []\n",
    "for i in m:\n",
    "    mc = multi.MultiComparison(i['Quantity'], i['Discount'])\n",
    "    combinations = 15\n",
    "    fwer = 1 - (1 - alpha)**combinations\n",
    "    r = mc.tukeyhsd(fwer)\n",
    "    results.append([i, r])\n",
    "    print(r)"
   ]
  },
  {
   "cell_type": "markdown",
   "metadata": {},
   "source": [
    "From these results we can see that each category has several comparisons that have a statistically significant difference in mean of 'Quantity' of product sold in an order. "
   ]
  },
  {
   "cell_type": "markdown",
   "metadata": {},
   "source": [
    "For 'Beverages', going from no discount to either a 0.05, 0.10, or 0.20 discount all show a moderate increase in 'Quantity' with the highest increase being with a 'Discount' of 0.05. We also see that, strangely, a 'Discount' of 0.20 or 0.25 both have a lower average 'Quantity' when compared with a 'Discount' of 0.05."
   ]
  },
  {
   "cell_type": "markdown",
   "metadata": {},
   "source": [
    "For 'Condiments'\n",
    "\n",
    "0.05   0.15  -9.9551   -18.14  -1.7703  True \n",
    " 0.05   0.2   -5.3077  -13.3595  2.7441 False \n",
    " 0.05   0.25  -10.6322 -19.0289 -2.2356  True "
   ]
  },
  {
   "cell_type": "code",
   "execution_count": 81,
   "metadata": {},
   "outputs": [
    {
     "name": "stdout",
     "output_type": "stream",
     "text": [
      "      Multiple Comparison of Means - Tukey HSD,FWER=0.05      \n",
      "==============================================================\n",
      "    group1         group2     meandiff  lower    upper  reject\n",
      "--------------------------------------------------------------\n",
      "  Beverages      Condiments    1.4615  -18.6254 21.5485 False \n",
      "  Beverages     Confections   -8.7965  -26.7566  9.1635 False \n",
      "  Beverages    Dairy Products -6.2458  -23.1773 10.6858 False \n",
      "  Beverages    Grains/Cereals -14.094  -34.8022  6.6141 False \n",
      "  Beverages     Meat/Poultry  -16.7149 -37.7799   4.35  False \n",
      "  Beverages       Produce     -6.9551  -30.5247 16.6145 False \n",
      "  Beverages       Seafood     -12.467  -30.8607  5.9267 False \n",
      "  Condiments    Confections   -10.2581 -29.6279  9.1118 False \n",
      "  Condiments   Dairy Products -7.7073  -26.1276 10.7129 False \n",
      "  Condiments   Grains/Cereals -15.5556 -37.4977  6.3865 False \n",
      "  Condiments    Meat/Poultry  -18.1765 -40.4556  4.1027 False \n",
      "  Condiments      Produce     -8.4167  -33.0775 16.2441 False \n",
      "  Condiments      Seafood     -13.9286 -33.7012  5.844  False \n",
      " Confections   Dairy Products  2.5507  -13.5235  18.625 False \n",
      " Confections   Grains/Cereals -5.2975  -25.3108 14.7158 False \n",
      " Confections    Meat/Poultry  -7.9184  -28.3007 12.4639 False \n",
      " Confections      Produce      1.8414  -21.1201 24.8029 False \n",
      " Confections      Seafood     -3.6705  -21.2782 13.9372 False \n",
      "Dairy Products Grains/Cereals -7.8482  -26.9439 11.2475 False \n",
      "Dairy Products  Meat/Poultry  -10.4692 -29.9512  9.0129 False \n",
      "Dairy Products    Produce     -0.7093  -22.8756 21.4569 False \n",
      "Dairy Products    Seafood     -6.2213  -22.7786 10.3361 False \n",
      "Grains/Cereals  Meat/Poultry  -2.6209  -25.4617 20.2199 False \n",
      "Grains/Cereals    Produce      7.1389  -18.0304 32.3082 False \n",
      "Grains/Cereals    Seafood      1.627   -18.7764 22.0303 False \n",
      " Meat/Poultry     Produce      9.7598  -15.7039 35.2235 False \n",
      " Meat/Poultry     Seafood      4.2479  -16.5175 25.0133 False \n",
      "   Produce        Seafood     -5.5119  -28.8142 17.7903 False \n",
      "--------------------------------------------------------------\n",
      "      Multiple Comparison of Means - Tukey HSD,FWER=0.05      \n",
      "==============================================================\n",
      "    group1         group2     meandiff  lower    upper  reject\n",
      "--------------------------------------------------------------\n",
      "  Beverages      Condiments   -5.8157  -24.4304 12.7991 False \n",
      "  Beverages     Confections   -10.9533 -28.4004  6.4937 False \n",
      "  Beverages    Dairy Products  -3.16   -21.3829 15.0629 False \n",
      "  Beverages    Grains/Cereals   1.38   -22.7266 25.4866 False \n",
      "  Beverages     Meat/Poultry    6.08   -13.2483 25.4083 False \n",
      "  Beverages       Produce     -6.8978  -31.9427 18.1472 False \n",
      "  Beverages       Seafood     -6.5716  -23.8903 10.7471 False \n",
      "  Condiments    Confections   -5.1377  -22.9937 12.7184 False \n",
      "  Condiments   Dairy Products  2.6557  -15.9591 21.2704 False \n",
      "  Condiments   Grains/Cereals  7.1957  -17.2086 31.5999 False \n",
      "  Condiments    Meat/Poultry  11.8957  -7.8026  31.5939 False \n",
      "  Condiments      Produce     -1.0821  -26.4137 24.2494 False \n",
      "  Condiments      Seafood      -0.756  -18.4866 16.9747 False \n",
      " Confections   Dairy Products  7.7933  -9.6537  25.2404 False \n",
      " Confections   Grains/Cereals 12.3333  -11.1923 35.8589 False \n",
      " Confections    Meat/Poultry  17.0333  -1.5653   35.632 False \n",
      " Confections      Produce      4.0556  -20.4307 28.5418 False \n",
      " Confections      Seafood      4.3817  -12.1187 20.8821 False \n",
      "Dairy Products Grains/Cereals   4.54   -19.5666 28.6466 False \n",
      "Dairy Products  Meat/Poultry    9.24   -10.0883 28.5683 False \n",
      "Dairy Products    Produce     -3.7378  -28.7827 21.3072 False \n",
      "Dairy Products    Seafood     -3.4116  -20.7303 13.9071 False \n",
      "Grains/Cereals  Meat/Poultry    4.7    -20.2527 29.6527 False \n",
      "Grains/Cereals    Produce     -8.2778  -37.8802 21.3246 False \n",
      "Grains/Cereals    Seafood     -7.9516  -31.3822 15.4789 False \n",
      " Meat/Poultry     Produce     -12.9778 -38.8381 12.8826 False \n",
      " Meat/Poultry     Seafood     -12.6516 -31.1299  5.8266 False \n",
      "   Produce        Seafood      0.3262  -24.0688 24.7211 False \n",
      "--------------------------------------------------------------\n",
      "      Multiple Comparison of Means - Tukey HSD,FWER=0.05      \n",
      "==============================================================\n",
      "    group1         group2     meandiff  lower    upper  reject\n",
      "--------------------------------------------------------------\n",
      "  Beverages      Condiments    5.9461  -12.9699 24.8621 False \n",
      "  Beverages     Confections    3.6236  -12.4153 19.6624 False \n",
      "  Beverages    Dairy Products  4.0705  -12.4729 20.6139 False \n",
      "  Beverages    Grains/Cereals -1.3833  -24.3604 21.5937 False \n",
      "  Beverages     Meat/Poultry   6.8611  -17.0941 30.8164 False \n",
      "  Beverages       Produce     -2.7833  -25.7604 20.1937 False \n",
      "  Beverages       Seafood     13.2167  -4.7098  31.1431 False \n",
      "  Condiments    Confections   -2.3225  -21.9571 17.3121 False \n",
      "  Condiments   Dairy Products -1.8756  -21.9244 18.1733 False \n",
      "  Condiments   Grains/Cereals -7.3294  -32.9462 18.2874 False \n",
      "  Condiments    Meat/Poultry   0.915   -25.5826 27.4127 False \n",
      "  Condiments      Produce     -8.7294  -34.3462 16.8874 False \n",
      "  Condiments      Seafood      7.2706  -13.9339 28.4751 False \n",
      " Confections   Dairy Products  0.4469  -16.9136 17.8075 False \n",
      " Confections   Grains/Cereals -5.0069  -28.5791 18.5653 False \n",
      " Confections    Meat/Poultry   3.2375  -21.2891 27.7642 False \n",
      " Confections      Produce     -6.4069  -29.9791 17.1653 False \n",
      " Confections      Seafood      9.5931  -9.0901  28.2763 False \n",
      "Dairy Products Grains/Cereals -5.4538  -29.3722 18.4645 False \n",
      "Dairy Products  Meat/Poultry   2.7906  -22.0689 27.6501 False \n",
      "Dairy Products    Produce     -6.8538  -30.7722 17.0645 False \n",
      "Dairy Products    Seafood      9.1462  -9.9719  28.2642 False \n",
      "Grains/Cereals  Meat/Poultry   8.2444  -21.2896 37.7785 False \n",
      "Grains/Cereals    Produce       -1.4   -30.1463 27.3463 False \n",
      "Grains/Cereals    Seafood       14.6   -10.295   39.495 False \n",
      " Meat/Poultry     Produce     -9.6444  -39.1785 19.8896 False \n",
      " Meat/Poultry     Seafood      6.3556  -19.445  32.1561 False \n",
      "   Produce        Seafood       16.0    -8.895   40.895 False \n",
      "--------------------------------------------------------------\n",
      "      Multiple Comparison of Means - Tukey HSD,FWER=0.05      \n",
      "==============================================================\n",
      "    group1         group2     meandiff  lower    upper  reject\n",
      "--------------------------------------------------------------\n",
      "  Beverages      Condiments   -6.9451  -24.9397 11.0495 False \n",
      "  Beverages     Confections   -9.3484  -26.134   7.4372 False \n",
      "  Beverages    Dairy Products  2.4835  -11.8228 16.7898 False \n",
      "  Beverages    Grains/Cereals -1.6308  -19.1784 15.9169 False \n",
      "  Beverages     Meat/Poultry  -8.2308  -27.9485  11.487 False \n",
      "  Beverages       Produce     -7.8974  -33.2253 17.4304 False \n",
      "  Beverages       Seafood     -0.1985  -14.096   13.699 False \n",
      "  Condiments    Confections   -2.4034  -23.2479 18.4412 False \n",
      "  Condiments   Dairy Products  9.4286  -9.4767  28.3338 False \n",
      "  Condiments   Grains/Cereals  5.3143  -16.1487 26.7773 False \n",
      "  Condiments    Meat/Poultry  -1.2857  -24.5565  21.985 False \n",
      "  Condiments      Produce     -0.9524  -29.1346 27.2299 False \n",
      "  Condiments      Seafood      6.7465  -11.8513 25.3444 False \n",
      " Confections   Dairy Products 11.8319  -5.9264  29.5903 False \n",
      " Confections   Grains/Cereals  7.7176  -12.7423 28.1776 False \n",
      " Confections    Meat/Poultry   1.1176  -21.2314 23.4667 False \n",
      " Confections      Produce      1.451   -25.9751 28.8771 False \n",
      " Confections      Seafood      9.1499  -8.2808  26.5806 False \n",
      "Dairy Products Grains/Cereals -4.1143  -22.5946 14.3661 False \n",
      "Dairy Products  Meat/Poultry  -10.7143 -31.2664  9.8379 False \n",
      "Dairy Products    Produce     -10.381  -36.3637 15.6018 False \n",
      "Dairy Products    Seafood      -2.682   -17.74  12.3759 False \n",
      "Grains/Cereals  Meat/Poultry    -6.6   -29.5269 16.3269 False \n",
      "Grains/Cereals    Produce     -6.2667  -34.1657 21.6323 False \n",
      "Grains/Cereals    Seafood      1.4323  -16.7335  19.598 False \n",
      " Meat/Poultry     Produce      0.3333  -28.9792 29.6458 False \n",
      " Meat/Poultry     Seafood      8.0323  -12.2375  28.302 False \n",
      "   Produce        Seafood      7.6989  -18.061  33.4589 False \n",
      "--------------------------------------------------------------\n",
      "      Multiple Comparison of Means - Tukey HSD,FWER=0.05      \n",
      "==============================================================\n",
      "    group1         group2     meandiff  lower    upper  reject\n",
      "--------------------------------------------------------------\n",
      "  Beverages      Condiments   14.0938  -7.1752  35.3627 False \n",
      "  Beverages     Confections    5.316   -10.5861  21.218 False \n",
      "  Beverages    Dairy Products  9.821   -7.0326  26.6747 False \n",
      "  Beverages    Grains/Cereals -2.1062  -24.1524 19.9399 False \n",
      "  Beverages     Meat/Poultry  11.2516  -6.3728  28.8761 False \n",
      "  Beverages       Produce      1.8438  -22.2106 25.8981 False \n",
      "  Beverages       Seafood     -2.1863  -18.4296 14.0571 False \n",
      "  Condiments    Confections   -8.7778  -30.5447 12.9891 False \n",
      "  Condiments   Dairy Products -4.2727  -26.7443 18.1988 False \n",
      "  Condiments   Grains/Cereals  -16.2   -42.7887 10.3887 False \n",
      "  Condiments    Meat/Poultry  -2.8421  -25.8974 20.2132 False \n",
      "  Condiments      Produce      -12.25  -40.526   16.026 False \n",
      "  Condiments      Seafood      -16.28  -38.2975  5.7375 False \n",
      " Confections   Dairy Products  4.5051  -12.9728 21.9829 False \n",
      " Confections   Grains/Cereals -7.4222  -29.9492 15.1047 False \n",
      " Confections    Meat/Poultry   5.9357  -12.2866  24.158 False \n",
      " Confections      Produce     -3.4722  -27.968  21.0235 False \n",
      " Confections      Seafood     -7.5022  -24.3924  9.3879 False \n",
      "Dairy Products Grains/Cereals -11.9273 -35.1358 11.2812 False \n",
      "Dairy Products  Meat/Poultry   1.4306  -17.6278  20.489 False \n",
      "Dairy Products    Produce     -7.9773  -33.1012 17.1467 False \n",
      "Dairy Products    Seafood     -12.0073 -29.7962  5.7817 False \n",
      "Grains/Cereals  Meat/Poultry  13.3579  -10.4163 37.1321 False \n",
      "Grains/Cereals    Produce       3.95   -24.9152 32.8152 False \n",
      "Grains/Cereals    Seafood      -0.08   -22.8492 22.6892 False \n",
      " Meat/Poultry     Produce     -9.4079  -35.0553 16.2395 False \n",
      " Meat/Poultry     Seafood     -13.4379 -31.9588  5.083  False \n",
      "   Produce        Seafood      -4.03   -28.7487 20.6887 False \n",
      "--------------------------------------------------------------\n"
     ]
    }
   ],
   "source": [
    "d05 = q2_data[q2_data['Discount'] == 0.05].copy()\n",
    "d10 = q2_data[q2_data['Discount'] == 0.10].copy()\n",
    "d15 = q2_data[q2_data['Discount'] == 0.15].copy()\n",
    "d20 = q2_data[q2_data['Discount'] == 0.20].copy()\n",
    "d25 = q2_data[q2_data['Discount'] == 0.25].copy()\n",
    "\n",
    "\n",
    "mc = multi.MultiComparison(d05['Quantity'], d05['CategoryName'])\n",
    "print(mc.tukeyhsd())\n",
    "\n",
    "mc = multi.MultiComparison(d10['Quantity'], d10['CategoryName'])\n",
    "print(mc.tukeyhsd())\n",
    "\n",
    "mc = multi.MultiComparison(d15['Quantity'], d15['CategoryName'])\n",
    "print(mc.tukeyhsd())\n",
    "\n",
    "mc = multi.MultiComparison(d20['Quantity'], d20['CategoryName'])\n",
    "print(mc.tukeyhsd())\n",
    "\n",
    "mc = multi.MultiComparison(d25['Quantity'], d25['CategoryName'])\n",
    "print(mc.tukeyhsd())\n",
    "\n"
   ]
  },
  {
   "cell_type": "code",
   "execution_count": 65,
   "metadata": {},
   "outputs": [
    {
     "name": "stdout",
     "output_type": "stream",
     "text": [
      "0.2 Beverages Beverages\n",
      "1.0\n",
      "0.2 Beverages Condiments\n",
      "0.26344649959191296\n",
      "0.2 Beverages Produce\n",
      "0.3818807213817351\n",
      "0.2 Beverages Meat/Poultry\n",
      "0.23054143194900173\n",
      "0.2 Beverages Seafood\n",
      "0.9659235744330277\n",
      "0.2 Beverages Dairy Products\n",
      "0.639422003629611\n",
      "0.2 Beverages Confections\n",
      "0.08973039879170229\n",
      "0.2 Beverages Grains/Cereals\n",
      "0.8033409004824805\n",
      "0.2 Condiments Beverages\n",
      "0.26344649959191296\n",
      "0.2 Condiments Condiments\n",
      "1.0\n",
      "0.2 Condiments Produce\n",
      "0.9020378960918317\n",
      "0.2 Condiments Meat/Poultry\n",
      "0.8376414929730767\n",
      "0.2 Condiments Seafood\n",
      "0.2109664237141852\n",
      "0.2 Condiments Dairy Products\n",
      "0.15789268732887937\n",
      "0.2 Condiments Confections\n",
      "0.6243315842599158\n",
      "0.2 Condiments Grains/Cereals\n",
      "0.47346408444082566\n",
      "0.2 Produce Beverages\n",
      "0.3818807213817351\n",
      "0.2 Produce Condiments\n",
      "0.9020378960918317\n",
      "0.2 Produce Produce\n",
      "1.0\n",
      "0.2 Produce Meat/Poultry\n",
      "0.9662678798829597\n",
      "0.2 Produce Seafood\n",
      "0.3081781004421114\n",
      "0.2 Produce Dairy Products\n",
      "0.2793523306792966\n",
      "0.2 Produce Confections\n",
      "0.8096489033271768\n",
      "0.2 Produce Grains/Cereals\n",
      "0.5467464039986751\n",
      "0.2 Meat/Poultry Beverages\n",
      "0.23054143194900173\n",
      "0.2 Meat/Poultry Condiments\n",
      "0.8376414929730767\n",
      "0.2 Meat/Poultry Produce\n",
      "0.9662678798829597\n",
      "0.2 Meat/Poultry Meat/Poultry\n",
      "1.0\n",
      "0.2 Meat/Poultry Seafood\n",
      "0.17145122701177462\n",
      "0.2 Meat/Poultry Dairy Products\n",
      "0.14488752758336423\n",
      "0.2 Meat/Poultry Confections\n",
      "0.8250030673915931\n",
      "0.2 Meat/Poultry Grains/Cereals\n",
      "0.4126780113484235\n",
      "0.2 Seafood Beverages\n",
      "0.9659235744330277\n",
      "0.2 Seafood Condiments\n",
      "0.2109664237141852\n",
      "0.2 Seafood Produce\n",
      "0.3081781004421114\n",
      "0.2 Seafood Meat/Poultry\n",
      "0.17145122701177462\n",
      "0.2 Seafood Seafood\n",
      "1.0\n",
      "0.2 Seafood Dairy Products\n",
      "0.5973388505436099\n",
      "0.2 Seafood Confections\n",
      "0.05174364259606893\n",
      "0.2 Seafood Grains/Cereals\n",
      "0.811199915032406\n",
      "0.2 Dairy Products Beverages\n",
      "0.639422003629611\n",
      "0.2 Dairy Products Condiments\n",
      "0.15789268732887937\n",
      "0.2 Dairy Products Produce\n",
      "0.2793523306792966\n",
      "0.2 Dairy Products Meat/Poultry\n",
      "0.14488752758336423\n",
      "0.2 Dairy Products Seafood\n",
      "0.5973388505436099\n",
      "0.2 Dairy Products Dairy Products\n",
      "1.0\n",
      "0.2 Dairy Products Confections\n",
      "0.044896102557261446\n",
      "0.2 Dairy Products Grains/Cereals\n",
      "0.564763996993957\n",
      "0.2 Confections Beverages\n",
      "0.08973039879170229\n",
      "0.2 Confections Condiments\n",
      "0.6243315842599158\n",
      "0.2 Confections Produce\n",
      "0.8096489033271768\n",
      "0.2 Confections Meat/Poultry\n",
      "0.8250030673915931\n",
      "0.2 Confections Seafood\n",
      "0.05174364259606893\n",
      "0.2 Confections Dairy Products\n",
      "0.044896102557261446\n",
      "0.2 Confections Confections\n",
      "1.0\n",
      "0.2 Confections Grains/Cereals\n",
      "0.22655308284308212\n",
      "0.2 Grains/Cereals Beverages\n",
      "0.8033409004824805\n",
      "0.2 Grains/Cereals Condiments\n",
      "0.47346408444082566\n",
      "0.2 Grains/Cereals Produce\n",
      "0.5467464039986751\n",
      "0.2 Grains/Cereals Meat/Poultry\n",
      "0.4126780113484235\n",
      "0.2 Grains/Cereals Seafood\n",
      "0.811199915032406\n",
      "0.2 Grains/Cereals Dairy Products\n",
      "0.564763996993957\n",
      "0.2 Grains/Cereals Confections\n",
      "0.22655308284308212\n",
      "0.2 Grains/Cereals Grains/Cereals\n",
      "1.0\n",
      "0.0 Beverages Beverages\n",
      "1.0\n",
      "0.0 Beverages Condiments\n",
      "0.7638136943569263\n",
      "0.0 Beverages Produce\n",
      "0.9374262656592808\n",
      "0.0 Beverages Meat/Poultry\n",
      "0.9714491415406848\n",
      "0.0 Beverages Seafood\n",
      "0.7393765273682147\n",
      "0.0 Beverages Dairy Products\n",
      "0.37948842768210234\n",
      "0.0 Beverages Confections\n",
      "0.16048069952870375\n",
      "0.0 Beverages Grains/Cereals\n",
      "0.2943294848868101\n",
      "0.0 Condiments Beverages\n",
      "0.7638136943569263\n",
      "0.0 Condiments Condiments\n",
      "1.0\n",
      "0.0 Condiments Produce\n",
      "0.8657384417027585\n",
      "0.0 Condiments Meat/Poultry\n",
      "0.796228698429619\n",
      "0.0 Condiments Seafood\n",
      "0.9845528790218081\n",
      "0.0 Condiments Dairy Products\n",
      "0.6419364764276743\n",
      "0.0 Condiments Confections\n",
      "0.35147650051708024\n",
      "0.0 Condiments Grains/Cereals\n",
      "0.4955601176118031\n",
      "0.0 Produce Beverages\n",
      "0.9374262656592808\n",
      "0.0 Produce Condiments\n",
      "0.8657384417027585\n",
      "0.0 Produce Produce\n",
      "1.0\n",
      "0.0 Produce Meat/Poultry\n",
      "0.9298805789838229\n",
      "0.0 Produce Seafood\n",
      "0.861427789652144\n",
      "0.0 Produce Dairy Products\n",
      "0.5672615346511468\n",
      "0.0 Produce Confections\n",
      "0.33385750545311677\n",
      "0.0 Produce Grains/Cereals\n",
      "0.4581483104995121\n",
      "0.0 Meat/Poultry Beverages\n",
      "0.9714491415406848\n",
      "0.0 Meat/Poultry Condiments\n",
      "0.796228698429619\n",
      "0.0 Meat/Poultry Produce\n",
      "0.9298805789838229\n",
      "0.0 Meat/Poultry Meat/Poultry\n",
      "1.0\n",
      "0.0 Meat/Poultry Seafood\n",
      "0.7891685206227019\n",
      "0.0 Meat/Poultry Dairy Products\n",
      "0.5093198907356208\n",
      "0.0 Meat/Poultry Confections\n",
      "0.3009199764985832\n",
      "0.0 Meat/Poultry Grains/Cereals\n",
      "0.42595584416021304\n",
      "0.0 Seafood Beverages\n",
      "0.7393765273682147\n",
      "0.0 Seafood Condiments\n",
      "0.9845528790218081\n",
      "0.0 Seafood Produce\n",
      "0.861427789652144\n",
      "0.0 Seafood Meat/Poultry\n",
      "0.7891685206227019\n",
      "0.0 Seafood Seafood\n",
      "1.0\n",
      "0.0 Seafood Dairy Products\n",
      "0.6475747187997565\n",
      "0.0 Seafood Confections\n",
      "0.3495861135156355\n",
      "0.0 Seafood Grains/Cereals\n",
      "0.5108386321839853\n",
      "0.0 Dairy Products Beverages\n",
      "0.37948842768210234\n",
      "0.0 Dairy Products Condiments\n",
      "0.6419364764276743\n",
      "0.0 Dairy Products Produce\n",
      "0.5672615346511468\n",
      "0.0 Dairy Products Meat/Poultry\n",
      "0.5093198907356208\n",
      "0.0 Dairy Products Seafood\n",
      "0.6475747187997565\n",
      "0.0 Dairy Products Dairy Products\n",
      "1.0\n",
      "0.0 Dairy Products Confections\n",
      "0.5871200449962087\n",
      "0.0 Dairy Products Grains/Cereals\n",
      "0.7646897018531523\n",
      "0.0 Confections Beverages\n",
      "0.16048069952870375\n",
      "0.0 Confections Condiments\n",
      "0.35147650051708024\n",
      "0.0 Confections Produce\n",
      "0.33385750545311677\n",
      "0.0 Confections Meat/Poultry\n",
      "0.3009199764985832\n",
      "0.0 Confections Seafood\n",
      "0.3495861135156355\n",
      "0.0 Confections Dairy Products\n",
      "0.5871200449962087\n",
      "0.0 Confections Confections\n",
      "1.0\n",
      "0.0 Confections Grains/Cereals\n",
      "0.8645008110542958\n",
      "0.0 Grains/Cereals Beverages\n",
      "0.2943294848868101\n",
      "0.0 Grains/Cereals Condiments\n",
      "0.4955601176118031\n",
      "0.0 Grains/Cereals Produce\n",
      "0.4581483104995121\n",
      "0.0 Grains/Cereals Meat/Poultry\n",
      "0.42595584416021304\n",
      "0.0 Grains/Cereals Seafood\n",
      "0.5108386321839853\n",
      "0.0 Grains/Cereals Dairy Products\n",
      "0.7646897018531523\n",
      "0.0 Grains/Cereals Confections\n",
      "0.8645008110542958\n",
      "0.0 Grains/Cereals Grains/Cereals\n",
      "1.0\n",
      "0.15 Beverages Beverages\n",
      "1.0\n",
      "0.15 Beverages Condiments\n",
      "0.33623355693932\n",
      "0.15 Beverages Produce\n",
      "0.6441040237263178\n",
      "0.15 Beverages Meat/Poultry\n",
      "0.2854348756611163\n",
      "0.15 Beverages Seafood\n",
      "0.03347816556330738\n",
      "0.15 Beverages Dairy Products\n",
      "0.3741630181086143\n",
      "0.15 Beverages Confections\n",
      "0.41318564708547423\n",
      "0.15 Beverages Grains/Cereals\n",
      "0.8211067140307514\n",
      "0.15 Condiments Beverages\n",
      "0.33623355693932\n",
      "0.15 Condiments Condiments\n",
      "1.0\n",
      "0.15 Condiments Produce\n",
      "0.379784476593531\n",
      "0.15 Condiments Meat/Poultry\n",
      "0.9302931929524236\n",
      "0.15 Condiments Seafood\n",
      "0.4422728789612814\n",
      "0.15 Condiments Dairy Products\n",
      "0.7936925400914547\n",
      "0.15 Condiments Confections\n",
      "0.7369129445616884\n",
      "0.15 Condiments Grains/Cereals\n",
      "0.46573489532490675\n",
      "0.15 Produce Beverages\n",
      "0.6441040237263178\n",
      "0.15 Produce Condiments\n",
      "0.379784476593531\n",
      "0.15 Produce Produce\n",
      "1.0\n",
      "0.15 Produce Meat/Poultry\n",
      "0.25376030630608365\n",
      "0.15 Produce Seafood\n",
      "0.11811148770265882\n",
      "0.15 Produce Dairy Products\n",
      "0.3263604905739087\n",
      "0.15 Produce Confections\n",
      "0.34783340871170765\n",
      "0.15 Produce Grains/Cereals\n",
      "0.8616624936891214\n",
      "0.15 Meat/Poultry Beverages\n",
      "0.2854348756611163\n",
      "0.15 Meat/Poultry Condiments\n",
      "0.9302931929524236\n",
      "0.15 Meat/Poultry Produce\n",
      "0.25376030630608365\n",
      "0.15 Meat/Poultry Meat/Poultry\n",
      "1.0\n",
      "0.15 Meat/Poultry Seafood\n",
      "0.5504152100628166\n",
      "0.15 Meat/Poultry Dairy Products\n",
      "0.7047428235827335\n",
      "0.15 Meat/Poultry Confections\n",
      "0.6531292170487872\n",
      "0.15 Meat/Poultry Grains/Cereals\n",
      "0.3438865334307446\n",
      "0.15 Seafood Beverages\n",
      "0.03347816556330738\n",
      "0.15 Seafood Condiments\n",
      "0.4422728789612814\n",
      "0.15 Seafood Produce\n",
      "0.11811148770265882\n",
      "0.15 Seafood Meat/Poultry\n",
      "0.5504152100628166\n",
      "0.15 Seafood Seafood\n",
      "1.0\n",
      "0.15 Seafood Dairy Products\n",
      "0.20175811756385353\n",
      "0.15 Seafood Confections\n",
      "0.16417385183101224\n",
      "0.15 Seafood Grains/Cereals\n",
      "0.1567216402820541\n",
      "0.15 Dairy Products Beverages\n",
      "0.3741630181086143\n",
      "0.15 Dairy Products Condiments\n",
      "0.7936925400914547\n",
      "0.15 Dairy Products Produce\n",
      "0.3263604905739087\n",
      "0.15 Dairy Products Meat/Poultry\n",
      "0.7047428235827335\n",
      "0.15 Dairy Products Seafood\n",
      "0.20175811756385353\n",
      "0.15 Dairy Products Dairy Products\n",
      "1.0\n",
      "0.15 Dairy Products Confections\n",
      "0.9304664359350583\n",
      "0.15 Dairy Products Grains/Cereals\n",
      "0.4413969507955101\n",
      "0.15 Confections Beverages\n",
      "0.41318564708547423\n",
      "0.15 Confections Condiments\n",
      "0.7369129445616884\n",
      "0.15 Confections Produce\n",
      "0.34783340871170765\n",
      "0.15 Confections Meat/Poultry\n",
      "0.6531292170487872\n",
      "0.15 Confections Seafood\n",
      "0.16417385183101224\n",
      "0.15 Confections Dairy Products\n",
      "0.9304664359350583\n",
      "0.15 Confections Confections\n",
      "1.0\n",
      "0.15 Confections Grains/Cereals\n",
      "0.46919515155050173\n",
      "0.15 Grains/Cereals Beverages\n",
      "0.8211067140307514\n",
      "0.15 Grains/Cereals Condiments\n",
      "0.46573489532490675\n",
      "0.15 Grains/Cereals Produce\n",
      "0.8616624936891214\n",
      "0.15 Grains/Cereals Meat/Poultry\n",
      "0.3438865334307446\n",
      "0.15 Grains/Cereals Seafood\n",
      "0.1567216402820541\n",
      "0.15 Grains/Cereals Dairy Products\n",
      "0.4413969507955101\n",
      "0.15 Grains/Cereals Confections\n",
      "0.46919515155050173\n",
      "0.15 Grains/Cereals Grains/Cereals\n",
      "1.0\n",
      "0.25 Beverages Beverages\n",
      "1.0\n",
      "0.25 Beverages Condiments\n",
      "0.08093895822679151\n",
      "0.25 Beverages Produce\n",
      "0.7971437289840291\n",
      "0.25 Beverages Meat/Poultry\n",
      "0.04503675290762132\n",
      "0.25 Beverages Seafood\n",
      "0.6485572221933593\n",
      "0.25 Beverages Dairy Products\n",
      "0.08840238676038556\n",
      "0.25 Beverages Confections\n",
      "0.29281314207830483\n",
      "0.25 Beverages Grains/Cereals\n",
      "0.7349891337911694\n",
      "0.25 Condiments Beverages\n",
      "0.08093895822679151\n",
      "0.25 Condiments Condiments\n"
     ]
    },
    {
     "name": "stdout",
     "output_type": "stream",
     "text": [
      "1.0\n",
      "0.25 Condiments Produce\n",
      "0.32286948903926094\n",
      "0.25 Condiments Meat/Poultry\n",
      "0.7598634891547071\n",
      "0.25 Condiments Seafood\n",
      "0.04973847841459459\n",
      "0.25 Condiments Dairy Products\n",
      "0.657777349237066\n",
      "0.25 Condiments Confections\n",
      "0.30454799432574214\n",
      "0.25 Condiments Grains/Cereals\n",
      "0.1346256444450837\n",
      "0.25 Produce Beverages\n",
      "0.7971437289840291\n",
      "0.25 Produce Condiments\n",
      "0.32286948903926094\n",
      "0.25 Produce Produce\n",
      "1.0\n",
      "0.25 Produce Meat/Poultry\n",
      "0.2252226895781466\n",
      "0.25 Produce Seafood\n",
      "0.544946191912381\n",
      "0.25 Produce Dairy Products\n",
      "0.3637306658087224\n",
      "0.25 Produce Confections\n",
      "0.647065009437843\n",
      "0.25 Produce Grains/Cereals\n",
      "0.48910009861447445\n",
      "0.25 Meat/Poultry Beverages\n",
      "0.04503675290762132\n",
      "0.25 Meat/Poultry Condiments\n",
      "0.7598634891547071\n",
      "0.25 Meat/Poultry Produce\n",
      "0.2252226895781466\n",
      "0.25 Meat/Poultry Meat/Poultry\n",
      "1.0\n",
      "0.25 Meat/Poultry Seafood\n",
      "0.017128149882226704\n",
      "0.25 Meat/Poultry Dairy Products\n",
      "0.8299251863159581\n",
      "0.25 Meat/Poultry Confections\n",
      "0.3136526962593397\n",
      "0.25 Meat/Poultry Grains/Cereals\n",
      "0.04796909632945028\n",
      "0.25 Seafood Beverages\n",
      "0.6485572221933593\n",
      "0.25 Seafood Condiments\n",
      "0.04973847841459459\n",
      "0.25 Seafood Produce\n",
      "0.544946191912381\n",
      "0.25 Seafood Meat/Poultry\n",
      "0.017128149882226704\n",
      "0.25 Seafood Seafood\n",
      "1.0\n",
      "0.25 Seafood Dairy Products\n",
      "0.04292611545123691\n",
      "0.25 Seafood Confections\n",
      "0.14576476462507934\n",
      "0.25 Seafood Grains/Cereals\n",
      "0.9887266037657364\n",
      "0.25 Dairy Products Beverages\n",
      "0.08840238676038556\n",
      "0.25 Dairy Products Condiments\n",
      "0.657777349237066\n",
      "0.25 Dairy Products Produce\n",
      "0.3637306658087224\n",
      "0.25 Dairy Products Meat/Poultry\n",
      "0.8299251863159581\n",
      "0.25 Dairy Products Seafood\n",
      "0.04292611545123691\n",
      "0.25 Dairy Products Dairy Products\n",
      "1.0\n",
      "0.25 Dairy Products Confections\n",
      "0.4601192914223414\n",
      "0.25 Dairy Products Grains/Cereals\n",
      "0.12160706673482688\n",
      "0.25 Confections Beverages\n",
      "0.29281314207830483\n",
      "0.25 Confections Condiments\n",
      "0.30454799432574214\n",
      "0.25 Confections Produce\n",
      "0.647065009437843\n",
      "0.25 Confections Meat/Poultry\n",
      "0.3136526962593397\n",
      "0.25 Confections Seafood\n",
      "0.14576476462507934\n",
      "0.25 Confections Dairy Products\n",
      "0.4601192914223414\n",
      "0.25 Confections Confections\n",
      "1.0\n",
      "0.25 Confections Grains/Cereals\n",
      "0.26141617648089993\n",
      "0.25 Grains/Cereals Beverages\n",
      "0.7349891337911694\n",
      "0.25 Grains/Cereals Condiments\n",
      "0.1346256444450837\n",
      "0.25 Grains/Cereals Produce\n",
      "0.48910009861447445\n",
      "0.25 Grains/Cereals Meat/Poultry\n",
      "0.04796909632945028\n",
      "0.25 Grains/Cereals Seafood\n",
      "0.9887266037657364\n",
      "0.25 Grains/Cereals Dairy Products\n",
      "0.12160706673482688\n",
      "0.25 Grains/Cereals Confections\n",
      "0.26141617648089993\n",
      "0.25 Grains/Cereals Grains/Cereals\n",
      "1.0\n",
      "0.05 Beverages Beverages\n",
      "1.0\n",
      "0.05 Beverages Condiments\n",
      "0.8649807817191559\n",
      "0.05 Beverages Produce\n",
      "0.5255962005655631\n",
      "0.05 Beverages Meat/Poultry\n",
      "0.03803233835484319\n",
      "0.05 Beverages Seafood\n",
      "0.05420106759730804\n",
      "0.05 Beverages Dairy Products\n",
      "0.31852920413121305\n",
      "0.05 Beverages Confections\n",
      "0.16120737979803362\n",
      "0.05 Beverages Grains/Cereals\n",
      "0.07587551758744525\n",
      "0.05 Condiments Beverages\n",
      "0.8649807817191559\n",
      "0.05 Condiments Condiments\n",
      "1.0\n",
      "0.05 Condiments Produce\n",
      "0.4503890248595015\n",
      "0.05 Condiments Meat/Poultry\n",
      "0.02061769315088842\n",
      "0.05 Condiments Seafood\n",
      "0.029154926944092212\n",
      "0.05 Condiments Dairy Products\n",
      "0.23252991801405887\n",
      "0.05 Condiments Confections\n",
      "0.09992169029912722\n",
      "0.05 Condiments Grains/Cereals\n",
      "0.045571429480016946\n",
      "0.05 Produce Beverages\n",
      "0.5255962005655631\n",
      "0.05 Produce Condiments\n",
      "0.4503890248595015\n",
      "0.05 Produce Produce\n",
      "1.0\n",
      "0.05 Produce Meat/Poultry\n",
      "0.30509323652538783\n",
      "0.05 Produce Seafood\n",
      "0.47950032301347567\n",
      "0.05 Produce Dairy Products\n",
      "0.9303312256855973\n",
      "0.05 Produce Confections\n",
      "0.8110411619757901\n",
      "0.05 Produce Grains/Cereals\n",
      "0.45274357437321266\n",
      "0.05 Meat/Poultry Beverages\n",
      "0.03803233835484319\n",
      "0.05 Meat/Poultry Condiments\n",
      "0.02061769315088842\n",
      "0.05 Meat/Poultry Produce\n",
      "0.30509323652538783\n",
      "0.05 Meat/Poultry Meat/Poultry\n",
      "1.0\n",
      "0.05 Meat/Poultry Seafood\n",
      "0.3660464028673085\n",
      "0.05 Meat/Poultry Dairy Products\n",
      "0.07039552673999945\n",
      "0.05 Meat/Poultry Confections\n",
      "0.10515709391823828\n",
      "0.05 Meat/Poultry Grains/Cereals\n",
      "0.6331526050361234\n",
      "0.05 Seafood Beverages\n",
      "0.05420106759730804\n",
      "0.05 Seafood Condiments\n",
      "0.029154926944092212\n",
      "0.05 Seafood Produce\n",
      "0.47950032301347567\n",
      "0.05 Seafood Meat/Poultry\n",
      "0.3660464028673085\n",
      "0.05 Seafood Seafood\n",
      "1.0\n",
      "0.05 Seafood Dairy Products\n",
      "0.18578594749764168\n",
      "0.05 Seafood Confections\n",
      "0.3736678633205309\n",
      "0.05 Seafood Grains/Cereals\n",
      "0.7350261996822072\n",
      "0.05 Dairy Products Beverages\n",
      "0.31852920413121305\n",
      "0.05 Dairy Products Condiments\n",
      "0.23252991801405887\n",
      "0.05 Dairy Products Produce\n",
      "0.9303312256855973\n",
      "0.05 Dairy Products Meat/Poultry\n",
      "0.07039552673999945\n",
      "0.05 Dairy Products Seafood\n",
      "0.18578594749764168\n",
      "0.05 Dairy Products Dairy Products\n",
      "1.0\n",
      "0.05 Dairy Products Confections\n",
      "0.5791751266369819\n",
      "0.05 Dairy Products Grains/Cereals\n",
      "0.17099656400779387\n",
      "0.05 Confections Beverages\n",
      "0.16120737979803362\n",
      "0.05 Confections Condiments\n",
      "0.09992169029912722\n",
      "0.05 Confections Produce\n",
      "0.8110411619757901\n",
      "0.05 Confections Meat/Poultry\n",
      "0.10515709391823828\n",
      "0.05 Confections Seafood\n",
      "0.3736678633205309\n",
      "0.05 Confections Dairy Products\n",
      "0.5791751266369819\n",
      "0.05 Confections Confections\n",
      "1.0\n",
      "0.05 Confections Grains/Cereals\n",
      "0.28340678373422407\n",
      "0.05 Grains/Cereals Beverages\n",
      "0.07587551758744525\n",
      "0.05 Grains/Cereals Condiments\n",
      "0.045571429480016946\n",
      "0.05 Grains/Cereals Produce\n",
      "0.45274357437321266\n",
      "0.05 Grains/Cereals Meat/Poultry\n",
      "0.6331526050361234\n",
      "0.05 Grains/Cereals Seafood\n",
      "0.7350261996822072\n",
      "0.05 Grains/Cereals Dairy Products\n",
      "0.17099656400779387\n",
      "0.05 Grains/Cereals Confections\n",
      "0.28340678373422407\n",
      "0.05 Grains/Cereals Grains/Cereals\n",
      "1.0\n",
      "0.1 Beverages Beverages\n",
      "1.0\n",
      "0.1 Beverages Condiments\n",
      "0.3702241409914562\n",
      "0.1 Beverages Produce\n",
      "0.46685482783597454\n",
      "0.1 Beverages Meat/Poultry\n",
      "0.515024212004637\n",
      "0.1 Beverages Seafood\n",
      "0.2517910917831101\n",
      "0.1 Beverages Dairy Products\n",
      "0.6094205989520428\n",
      "0.1 Beverages Confections\n",
      "0.03689474503305327\n",
      "0.1 Beverages Grains/Cereals\n",
      "0.8781036655888763\n",
      "0.1 Condiments Beverages\n",
      "0.3702241409914562\n",
      "0.1 Condiments Condiments\n",
      "1.0\n",
      "0.1 Condiments Produce\n",
      "0.8810806759682828\n",
      "0.1 Condiments Meat/Poultry\n",
      "0.17374037700392028\n",
      "0.1 Condiments Seafood\n",
      "0.8740114109282882\n",
      "0.1 Condiments Dairy Products\n",
      "0.6015407728755716\n",
      "0.1 Condiments Confections\n",
      "0.1983511880306953\n",
      "0.1 Condiments Grains/Cereals\n",
      "0.3028719585379198\n",
      "0.1 Produce Beverages\n",
      "0.46685482783597454\n",
      "0.1 Produce Condiments\n",
      "0.8810806759682828\n",
      "0.1 Produce Produce\n",
      "1.0\n",
      "0.1 Produce Meat/Poultry\n",
      "0.3260325669507351\n",
      "0.1 Produce Seafood\n",
      "0.9603745443979756\n",
      "0.1 Produce Dairy Products\n",
      "0.5879586420177019\n",
      "0.1 Produce Confections\n",
      "0.4127704907510056\n",
      "0.1 Produce Grains/Cereals\n",
      "0.35148386971229595\n",
      "0.1 Meat/Poultry Beverages\n",
      "0.515024212004637\n",
      "0.1 Meat/Poultry Condiments\n",
      "0.17374037700392028\n",
      "0.1 Meat/Poultry Produce\n",
      "0.3260325669507351\n",
      "0.1 Meat/Poultry Meat/Poultry\n",
      "1.0\n",
      "0.1 Meat/Poultry Seafood\n",
      "0.09880913999227545\n",
      "0.1 Meat/Poultry Dairy Products\n",
      "0.26719374125529033\n",
      "0.1 Meat/Poultry Confections\n",
      "0.019371012664920525\n",
      "0.1 Meat/Poultry Grains/Cereals\n",
      "0.7061257811113129\n",
      "0.1 Seafood Beverages\n",
      "0.2517910917831101\n",
      "0.1 Seafood Condiments\n",
      "0.8740114109282882\n",
      "0.1 Seafood Produce\n",
      "0.9603745443979756\n",
      "0.1 Seafood Meat/Poultry\n",
      "0.09880913999227545\n",
      "0.1 Seafood Seafood\n",
      "1.0\n",
      "0.1 Seafood Dairy Products\n",
      "0.45481135746200585\n",
      "0.1 Seafood Confections\n",
      "0.22745206584635363\n",
      "0.1 Seafood Grains/Cereals\n",
      "0.21010575324405842\n",
      "0.1 Dairy Products Beverages\n",
      "0.6094205989520428\n",
      "0.1 Dairy Products Condiments\n",
      "0.6015407728755716\n",
      "0.1 Dairy Products Produce\n",
      "0.5879586420177019\n",
      "0.1 Dairy Products Meat/Poultry\n",
      "0.26719374125529033\n",
      "0.1 Dairy Products Seafood\n",
      "0.45481135746200585\n",
      "0.1 Dairy Products Dairy Products\n",
      "1.0\n",
      "0.1 Dairy Products Confections\n",
      "0.043035025521324634\n",
      "0.1 Dairy Products Grains/Cereals\n",
      "0.4924980499924896\n",
      "0.1 Confections Beverages\n",
      "0.03689474503305327\n",
      "0.1 Confections Condiments\n",
      "0.1983511880306953\n",
      "0.1 Confections Produce\n",
      "0.4127704907510056\n",
      "0.1 Confections Meat/Poultry\n",
      "0.019371012664920525\n",
      "0.1 Confections Seafood\n",
      "0.22745206584635363\n",
      "0.1 Confections Dairy Products\n",
      "0.043035025521324634\n",
      "0.1 Confections Confections\n",
      "1.0\n",
      "0.1 Confections Grains/Cereals\n",
      "0.01278345368127166\n",
      "0.1 Grains/Cereals Beverages\n",
      "0.8781036655888763\n",
      "0.1 Grains/Cereals Condiments\n",
      "0.3028719585379198\n",
      "0.1 Grains/Cereals Produce\n",
      "0.35148386971229595\n",
      "0.1 Grains/Cereals Meat/Poultry\n",
      "0.7061257811113129\n",
      "0.1 Grains/Cereals Seafood\n",
      "0.21010575324405842\n",
      "0.1 Grains/Cereals Dairy Products\n",
      "0.4924980499924896\n",
      "0.1 Grains/Cereals Confections\n",
      "0.01278345368127166\n",
      "0.1 Grains/Cereals Grains/Cereals\n",
      "1.0\n"
     ]
    }
   ],
   "source": [
    "cats = q2_data['CategoryName'].unique()\n",
    "disc = q2_data['Discount'].unique()\n",
    "for i in disc:\n",
    "    for j in cats:\n",
    "        c = 0\n",
    "        while c < len(cats):\n",
    "            print(str(i) + \" \" + str(j) + \" \" + str(cats[c]))\n",
    "            X = q2_data['Quantity'][(q2_data['Discount'] == i) & (q2_data['CategoryName'] == j)]\n",
    "            y = q2_data['Quantity'][(q2_data['Discount'] == i) & (q2_data['CategoryName'] == cats[c])]\n",
    "            p = stats.ttest_ind(X, y)[1]\n",
    "            print(p)\n",
    "            c += 1"
   ]
  },
  {
   "cell_type": "code",
   "execution_count": 16,
   "metadata": {},
   "outputs": [
    {
     "ename": "PatsyError",
     "evalue": "expected a noun, but instead the expression ended\n    Quantity ~\n             ^",
     "output_type": "error",
     "traceback": [
      "\u001b[1;31m---------------------------------------------------------------------------\u001b[0m",
      "\u001b[1;31mPatsyError\u001b[0m                                Traceback (most recent call last)",
      "\u001b[1;32m<ipython-input-16-ab88050cb923>\u001b[0m in \u001b[0;36m<module>\u001b[1;34m()\u001b[0m\n\u001b[0;32m      5\u001b[0m         \u001b[0mj_data\u001b[0m \u001b[1;33m=\u001b[0m \u001b[0mi_data\u001b[0m\u001b[1;33m[\u001b[0m\u001b[0mi_data\u001b[0m\u001b[1;33m[\u001b[0m\u001b[1;34m'Discount'\u001b[0m\u001b[1;33m]\u001b[0m \u001b[1;33m==\u001b[0m \u001b[0mj\u001b[0m\u001b[1;33m]\u001b[0m\u001b[1;33m\u001b[0m\u001b[0m\n\u001b[0;32m      6\u001b[0m         \u001b[0mformula\u001b[0m \u001b[1;33m=\u001b[0m \u001b[1;34m'Quantity ~ '\u001b[0m\u001b[1;33m\u001b[0m\u001b[0m\n\u001b[1;32m----> 7\u001b[1;33m         \u001b[0mlm\u001b[0m \u001b[1;33m=\u001b[0m \u001b[0mols\u001b[0m\u001b[1;33m(\u001b[0m\u001b[0mformula\u001b[0m\u001b[1;33m,\u001b[0m \u001b[0mj_data\u001b[0m\u001b[1;33m)\u001b[0m\u001b[1;33m.\u001b[0m\u001b[0mfit\u001b[0m\u001b[1;33m(\u001b[0m\u001b[1;33m)\u001b[0m\u001b[1;33m\u001b[0m\u001b[0m\n\u001b[0m\u001b[0;32m      8\u001b[0m         \u001b[0mtable\u001b[0m \u001b[1;33m=\u001b[0m \u001b[0msm\u001b[0m\u001b[1;33m.\u001b[0m\u001b[0mstats\u001b[0m\u001b[1;33m.\u001b[0m\u001b[0manova_lm\u001b[0m\u001b[1;33m(\u001b[0m\u001b[0mlm\u001b[0m\u001b[1;33m,\u001b[0m \u001b[0mtyp\u001b[0m\u001b[1;33m=\u001b[0m\u001b[1;36m1\u001b[0m\u001b[1;33m)\u001b[0m\u001b[1;33m\u001b[0m\u001b[0m\n\u001b[0;32m      9\u001b[0m         \u001b[0mresults\u001b[0m\u001b[1;33m.\u001b[0m\u001b[0mappend\u001b[0m\u001b[1;33m(\u001b[0m\u001b[1;33m[\u001b[0m\u001b[0mstr\u001b[0m\u001b[1;33m(\u001b[0m\u001b[0mi\u001b[0m\u001b[1;33m)\u001b[0m \u001b[1;33m+\u001b[0m \u001b[1;34m\" + \"\u001b[0m \u001b[1;33m+\u001b[0m \u001b[0mstr\u001b[0m\u001b[1;33m(\u001b[0m\u001b[0mj\u001b[0m\u001b[1;33m)\u001b[0m\u001b[1;33m,\u001b[0m \u001b[0mtable\u001b[0m\u001b[1;33m[\u001b[0m\u001b[1;34m'F'\u001b[0m\u001b[1;33m]\u001b[0m\u001b[1;33m.\u001b[0m\u001b[0miloc\u001b[0m\u001b[1;33m[\u001b[0m\u001b[1;36m0\u001b[0m\u001b[1;33m]\u001b[0m\u001b[1;33m,\u001b[0m \u001b[0mtable\u001b[0m\u001b[1;33m[\u001b[0m\u001b[1;34m'PR(>F)'\u001b[0m\u001b[1;33m]\u001b[0m\u001b[1;33m.\u001b[0m\u001b[0miloc\u001b[0m\u001b[1;33m[\u001b[0m\u001b[1;36m0\u001b[0m\u001b[1;33m]\u001b[0m\u001b[1;33m]\u001b[0m\u001b[1;33m)\u001b[0m\u001b[1;33m\u001b[0m\u001b[0m\n",
      "\u001b[1;32m~\\Anaconda3\\lib\\site-packages\\statsmodels\\base\\model.py\u001b[0m in \u001b[0;36mfrom_formula\u001b[1;34m(cls, formula, data, subset, drop_cols, *args, **kwargs)\u001b[0m\n\u001b[0;32m    153\u001b[0m \u001b[1;33m\u001b[0m\u001b[0m\n\u001b[0;32m    154\u001b[0m         tmp = handle_formula_data(data, None, formula, depth=eval_env,\n\u001b[1;32m--> 155\u001b[1;33m                                   missing=missing)\n\u001b[0m\u001b[0;32m    156\u001b[0m         \u001b[1;33m(\u001b[0m\u001b[1;33m(\u001b[0m\u001b[0mendog\u001b[0m\u001b[1;33m,\u001b[0m \u001b[0mexog\u001b[0m\u001b[1;33m)\u001b[0m\u001b[1;33m,\u001b[0m \u001b[0mmissing_idx\u001b[0m\u001b[1;33m,\u001b[0m \u001b[0mdesign_info\u001b[0m\u001b[1;33m)\u001b[0m \u001b[1;33m=\u001b[0m \u001b[0mtmp\u001b[0m\u001b[1;33m\u001b[0m\u001b[0m\n\u001b[0;32m    157\u001b[0m \u001b[1;33m\u001b[0m\u001b[0m\n",
      "\u001b[1;32m~\\Anaconda3\\lib\\site-packages\\statsmodels\\formula\\formulatools.py\u001b[0m in \u001b[0;36mhandle_formula_data\u001b[1;34m(Y, X, formula, depth, missing)\u001b[0m\n\u001b[0;32m     63\u001b[0m         \u001b[1;32mif\u001b[0m \u001b[0mdata_util\u001b[0m\u001b[1;33m.\u001b[0m\u001b[0m_is_using_pandas\u001b[0m\u001b[1;33m(\u001b[0m\u001b[0mY\u001b[0m\u001b[1;33m,\u001b[0m \u001b[1;32mNone\u001b[0m\u001b[1;33m)\u001b[0m\u001b[1;33m:\u001b[0m\u001b[1;33m\u001b[0m\u001b[0m\n\u001b[0;32m     64\u001b[0m             result = dmatrices(formula, Y, depth, return_type='dataframe',\n\u001b[1;32m---> 65\u001b[1;33m                                NA_action=na_action)\n\u001b[0m\u001b[0;32m     66\u001b[0m         \u001b[1;32melse\u001b[0m\u001b[1;33m:\u001b[0m\u001b[1;33m\u001b[0m\u001b[0m\n\u001b[0;32m     67\u001b[0m             result = dmatrices(formula, Y, depth, return_type='dataframe',\n",
      "\u001b[1;32m~\\Anaconda3\\lib\\site-packages\\patsy\\highlevel.py\u001b[0m in \u001b[0;36mdmatrices\u001b[1;34m(formula_like, data, eval_env, NA_action, return_type)\u001b[0m\n\u001b[0;32m    308\u001b[0m     \u001b[0meval_env\u001b[0m \u001b[1;33m=\u001b[0m \u001b[0mEvalEnvironment\u001b[0m\u001b[1;33m.\u001b[0m\u001b[0mcapture\u001b[0m\u001b[1;33m(\u001b[0m\u001b[0meval_env\u001b[0m\u001b[1;33m,\u001b[0m \u001b[0mreference\u001b[0m\u001b[1;33m=\u001b[0m\u001b[1;36m1\u001b[0m\u001b[1;33m)\u001b[0m\u001b[1;33m\u001b[0m\u001b[0m\n\u001b[0;32m    309\u001b[0m     (lhs, rhs) = _do_highlevel_design(formula_like, data, eval_env,\n\u001b[1;32m--> 310\u001b[1;33m                                       NA_action, return_type)\n\u001b[0m\u001b[0;32m    311\u001b[0m     \u001b[1;32mif\u001b[0m \u001b[0mlhs\u001b[0m\u001b[1;33m.\u001b[0m\u001b[0mshape\u001b[0m\u001b[1;33m[\u001b[0m\u001b[1;36m1\u001b[0m\u001b[1;33m]\u001b[0m \u001b[1;33m==\u001b[0m \u001b[1;36m0\u001b[0m\u001b[1;33m:\u001b[0m\u001b[1;33m\u001b[0m\u001b[0m\n\u001b[0;32m    312\u001b[0m         \u001b[1;32mraise\u001b[0m \u001b[0mPatsyError\u001b[0m\u001b[1;33m(\u001b[0m\u001b[1;34m\"model is missing required outcome variables\"\u001b[0m\u001b[1;33m)\u001b[0m\u001b[1;33m\u001b[0m\u001b[0m\n",
      "\u001b[1;32m~\\Anaconda3\\lib\\site-packages\\patsy\\highlevel.py\u001b[0m in \u001b[0;36m_do_highlevel_design\u001b[1;34m(formula_like, data, eval_env, NA_action, return_type)\u001b[0m\n\u001b[0;32m    163\u001b[0m         \u001b[1;32mreturn\u001b[0m \u001b[0miter\u001b[0m\u001b[1;33m(\u001b[0m\u001b[1;33m[\u001b[0m\u001b[0mdata\u001b[0m\u001b[1;33m]\u001b[0m\u001b[1;33m)\u001b[0m\u001b[1;33m\u001b[0m\u001b[0m\n\u001b[0;32m    164\u001b[0m     design_infos = _try_incr_builders(formula_like, data_iter_maker, eval_env,\n\u001b[1;32m--> 165\u001b[1;33m                                       NA_action)\n\u001b[0m\u001b[0;32m    166\u001b[0m     \u001b[1;32mif\u001b[0m \u001b[0mdesign_infos\u001b[0m \u001b[1;32mis\u001b[0m \u001b[1;32mnot\u001b[0m \u001b[1;32mNone\u001b[0m\u001b[1;33m:\u001b[0m\u001b[1;33m\u001b[0m\u001b[0m\n\u001b[0;32m    167\u001b[0m         return build_design_matrices(design_infos, data,\n",
      "\u001b[1;32m~\\Anaconda3\\lib\\site-packages\\patsy\\highlevel.py\u001b[0m in \u001b[0;36m_try_incr_builders\u001b[1;34m(formula_like, data_iter_maker, eval_env, NA_action)\u001b[0m\n\u001b[0;32m     60\u001b[0m                 \"ascii-only, or else upgrade to Python 3.\")\n\u001b[0;32m     61\u001b[0m     \u001b[1;32mif\u001b[0m \u001b[0misinstance\u001b[0m\u001b[1;33m(\u001b[0m\u001b[0mformula_like\u001b[0m\u001b[1;33m,\u001b[0m \u001b[0mstr\u001b[0m\u001b[1;33m)\u001b[0m\u001b[1;33m:\u001b[0m\u001b[1;33m\u001b[0m\u001b[0m\n\u001b[1;32m---> 62\u001b[1;33m         \u001b[0mformula_like\u001b[0m \u001b[1;33m=\u001b[0m \u001b[0mModelDesc\u001b[0m\u001b[1;33m.\u001b[0m\u001b[0mfrom_formula\u001b[0m\u001b[1;33m(\u001b[0m\u001b[0mformula_like\u001b[0m\u001b[1;33m)\u001b[0m\u001b[1;33m\u001b[0m\u001b[0m\n\u001b[0m\u001b[0;32m     63\u001b[0m         \u001b[1;31m# fallthrough\u001b[0m\u001b[1;33m\u001b[0m\u001b[1;33m\u001b[0m\u001b[0m\n\u001b[0;32m     64\u001b[0m     \u001b[1;32mif\u001b[0m \u001b[0misinstance\u001b[0m\u001b[1;33m(\u001b[0m\u001b[0mformula_like\u001b[0m\u001b[1;33m,\u001b[0m \u001b[0mModelDesc\u001b[0m\u001b[1;33m)\u001b[0m\u001b[1;33m:\u001b[0m\u001b[1;33m\u001b[0m\u001b[0m\n",
      "\u001b[1;32m~\\Anaconda3\\lib\\site-packages\\patsy\\desc.py\u001b[0m in \u001b[0;36mfrom_formula\u001b[1;34m(cls, tree_or_string)\u001b[0m\n\u001b[0;32m    162\u001b[0m             \u001b[0mtree\u001b[0m \u001b[1;33m=\u001b[0m \u001b[0mtree_or_string\u001b[0m\u001b[1;33m\u001b[0m\u001b[0m\n\u001b[0;32m    163\u001b[0m         \u001b[1;32melse\u001b[0m\u001b[1;33m:\u001b[0m\u001b[1;33m\u001b[0m\u001b[0m\n\u001b[1;32m--> 164\u001b[1;33m             \u001b[0mtree\u001b[0m \u001b[1;33m=\u001b[0m \u001b[0mparse_formula\u001b[0m\u001b[1;33m(\u001b[0m\u001b[0mtree_or_string\u001b[0m\u001b[1;33m)\u001b[0m\u001b[1;33m\u001b[0m\u001b[0m\n\u001b[0m\u001b[0;32m    165\u001b[0m         \u001b[0mvalue\u001b[0m \u001b[1;33m=\u001b[0m \u001b[0mEvaluator\u001b[0m\u001b[1;33m(\u001b[0m\u001b[1;33m)\u001b[0m\u001b[1;33m.\u001b[0m\u001b[0meval\u001b[0m\u001b[1;33m(\u001b[0m\u001b[0mtree\u001b[0m\u001b[1;33m,\u001b[0m \u001b[0mrequire_evalexpr\u001b[0m\u001b[1;33m=\u001b[0m\u001b[1;32mFalse\u001b[0m\u001b[1;33m)\u001b[0m\u001b[1;33m\u001b[0m\u001b[0m\n\u001b[0;32m    166\u001b[0m         \u001b[1;32massert\u001b[0m \u001b[0misinstance\u001b[0m\u001b[1;33m(\u001b[0m\u001b[0mvalue\u001b[0m\u001b[1;33m,\u001b[0m \u001b[0mcls\u001b[0m\u001b[1;33m)\u001b[0m\u001b[1;33m\u001b[0m\u001b[0m\n",
      "\u001b[1;32m~\\Anaconda3\\lib\\site-packages\\patsy\\parse_formula.py\u001b[0m in \u001b[0;36mparse_formula\u001b[1;34m(code, extra_operators)\u001b[0m\n\u001b[0;32m    146\u001b[0m     tree = infix_parse(_tokenize_formula(code, operator_strings),\n\u001b[0;32m    147\u001b[0m                        \u001b[0moperators\u001b[0m\u001b[1;33m,\u001b[0m\u001b[1;33m\u001b[0m\u001b[0m\n\u001b[1;32m--> 148\u001b[1;33m                        _atomic_token_types)\n\u001b[0m\u001b[0;32m    149\u001b[0m     \u001b[1;32mif\u001b[0m \u001b[1;32mnot\u001b[0m \u001b[0misinstance\u001b[0m\u001b[1;33m(\u001b[0m\u001b[0mtree\u001b[0m\u001b[1;33m,\u001b[0m \u001b[0mParseNode\u001b[0m\u001b[1;33m)\u001b[0m \u001b[1;32mor\u001b[0m \u001b[0mtree\u001b[0m\u001b[1;33m.\u001b[0m\u001b[0mtype\u001b[0m \u001b[1;33m!=\u001b[0m \u001b[1;34m\"~\"\u001b[0m\u001b[1;33m:\u001b[0m\u001b[1;33m\u001b[0m\u001b[0m\n\u001b[0;32m    150\u001b[0m         \u001b[0mtree\u001b[0m \u001b[1;33m=\u001b[0m \u001b[0mParseNode\u001b[0m\u001b[1;33m(\u001b[0m\u001b[1;34m\"~\"\u001b[0m\u001b[1;33m,\u001b[0m \u001b[1;32mNone\u001b[0m\u001b[1;33m,\u001b[0m \u001b[1;33m[\u001b[0m\u001b[0mtree\u001b[0m\u001b[1;33m]\u001b[0m\u001b[1;33m,\u001b[0m \u001b[0mtree\u001b[0m\u001b[1;33m.\u001b[0m\u001b[0morigin\u001b[0m\u001b[1;33m)\u001b[0m\u001b[1;33m\u001b[0m\u001b[0m\n",
      "\u001b[1;32m~\\Anaconda3\\lib\\site-packages\\patsy\\infix_parser.py\u001b[0m in \u001b[0;36minfix_parse\u001b[1;34m(tokens, operators, atomic_types, trace)\u001b[0m\n\u001b[0;32m    220\u001b[0m     \u001b[1;32mif\u001b[0m \u001b[0mwant_noun\u001b[0m\u001b[1;33m:\u001b[0m\u001b[1;33m\u001b[0m\u001b[0m\n\u001b[0;32m    221\u001b[0m         raise PatsyError(\"expected a noun, but instead the expression ended\",\n\u001b[1;32m--> 222\u001b[1;33m                             c.op_stack[-1].token.origin)\n\u001b[0m\u001b[0;32m    223\u001b[0m \u001b[1;33m\u001b[0m\u001b[0m\n\u001b[0;32m    224\u001b[0m     \u001b[1;32mwhile\u001b[0m \u001b[0mc\u001b[0m\u001b[1;33m.\u001b[0m\u001b[0mop_stack\u001b[0m\u001b[1;33m:\u001b[0m\u001b[1;33m\u001b[0m\u001b[0m\n",
      "\u001b[1;31mPatsyError\u001b[0m: expected a noun, but instead the expression ended\n    Quantity ~\n             ^"
     ]
    }
   ],
   "source": [
    "results = []\n",
    "for i in q2_data['CategoryName'].unique():\n",
    "    i_data = q2_data[q2_data['CategoryName'] == i]\n",
    "    formula = 'Quantity ~ ' + \n",
    "    lm = ols(formula, j_data).fit()\n",
    "    table = sm.stats.anova_lm(lm, typ=1)\n",
    "    results.append([str(i) + \" + \" + str(j), table['F'].iloc[0], table['PR(>F)'].iloc[0]])"
   ]
  },
  {
   "cell_type": "markdown",
   "metadata": {},
   "source": [
    "Since we are doing some post-hoc testing, we need to use a Bonferroni correction to avoid p-hacking. The adjusted alpha is calculated below."
   ]
  },
  {
   "cell_type": "code",
   "execution_count": null,
   "metadata": {},
   "outputs": [],
   "source": [
    "n = len(q2_data['CategoryName'].unique())\n",
    "alpha = 0.05\n",
    "bon_alpha = alpha/n\n",
    "bon_alpha"
   ]
  },
  {
   "cell_type": "markdown",
   "metadata": {},
   "source": [
    "With our new adjusted alpha, we can now view the results where the p-value is less than our 'bon_alpha' value."
   ]
  },
  {
   "cell_type": "code",
   "execution_count": null,
   "metadata": {},
   "outputs": [],
   "source": [
    "for i in results:\n",
    "    if i[2] < bon_alpha:\n",
    "        print(i)"
   ]
  },
  {
   "cell_type": "markdown",
   "metadata": {},
   "source": [
    "We can see that 3 of the categories produced results with significant probabilities. Out of these, 'Beverages' and 'Dairy Products' both have high F-values of ~13.74 and ~13.56 respectively, while 'Condiments' has a lesser F-value of ~9.1. From these results, it would suggest that for products in the categories of 'Beverages', 'Dairy Products', and 'Condiments', providing a discount will almost always increase the quantity of product sold. Furthermore, that increase in product sold will be highest in 'Beverages' and 'Dairy Products'."
   ]
  },
  {
   "cell_type": "markdown",
   "metadata": {},
   "source": [
    "### Our findings show that having a discount on a product most likely will increase the quantity of product order but the actual amount of discount is statistically insignificant. "
   ]
  },
  {
   "cell_type": "code",
   "execution_count": null,
   "metadata": {},
   "outputs": [],
   "source": []
  },
  {
   "cell_type": "code",
   "execution_count": null,
   "metadata": {},
   "outputs": [],
   "source": [
    "formula = 'Quantity ~ C(CategoryName)*C(Discount_bin)'\n",
    "lm = ols(formula, q2_data).fit()\n",
    "table = sm.stats.anova_lm(lm, typ=2)\n",
    "table"
   ]
  },
  {
   "cell_type": "markdown",
   "metadata": {},
   "source": [
    "First let's do what we did in the first question and place the 'Discount' values into buckets."
   ]
  },
  {
   "cell_type": "code",
   "execution_count": null,
   "metadata": {},
   "outputs": [],
   "source": [
    "q2_data['Discount'].value_counts()"
   ]
  },
  {
   "cell_type": "code",
   "execution_count": null,
   "metadata": {},
   "outputs": [],
   "source": [
    "q2_data['Discount'] = q2_data['Discount'].apply(lambda x: 0.05 if (x > 0 and x < 0.10) else x)\n",
    "q2_data['Discount'].value_counts()"
   ]
  },
  {
   "cell_type": "code",
   "execution_count": null,
   "metadata": {
    "scrolled": true
   },
   "outputs": [],
   "source": [
    "formula = 'Quantity ~ C(CategoryName)*C(Discount)'\n",
    "lm = ols(formula, q2_data).fit()\n",
    "table = sm.stats.anova_lm(lm, typ=2)\n",
    "print(table)"
   ]
  },
  {
   "cell_type": "code",
   "execution_count": null,
   "metadata": {},
   "outputs": [],
   "source": [
    "from statsmodels.graphics.factorplots import interaction_plot\n",
    "fig = interaction_plot(q2_data.Discount, q2_data.CategoryName, q2_data.Quantity,\n",
    "             colors=['red','blue','green','yellow','purple','orange','pink', 'black'], ms=10)"
   ]
  },
  {
   "cell_type": "code",
   "execution_count": null,
   "metadata": {
    "scrolled": true
   },
   "outputs": [],
   "source": [
    "formula = 'Quantity ~ C(Discount)*C(CategoryName)'\n",
    "lm = ols(formula, q2_data).fit()\n",
    "table = sm.stats.anova_lm(lm, typ=2)\n",
    "print(table)"
   ]
  },
  {
   "cell_type": "code",
   "execution_count": null,
   "metadata": {},
   "outputs": [],
   "source": [
    "formula = 'Quantity ~ C(CategoryName) + C(Discount)'\n",
    "lm = ols(formula, q2_data).fit()\n",
    "table = sm.stats.anova_lm(lm, typ=2)\n",
    "print(table)"
   ]
  },
  {
   "cell_type": "code",
   "execution_count": null,
   "metadata": {
    "scrolled": true
   },
   "outputs": [],
   "source": [
    "q2_data = q2_data.join(pd.get_dummies(q2_data['CategoryName']))\n",
    "q2_data.columns = [c.replace(' ', '_') for c in q2_data.columns]\n",
    "q2_data.columns = [c.replace('/', '_') for c in q2_data.columns]\n",
    "q2_data.head()"
   ]
  },
  {
   "cell_type": "code",
   "execution_count": null,
   "metadata": {},
   "outputs": [],
   "source": [
    "for i in q2_data['CategoryName'].unique():\n",
    "    data = q2_data[q2_data['CategoryName'] == i]\n",
    "    formula = 'Quantity ~ C(Disc)'\n",
    "    lm = ols(formula, data).fit()\n",
    "    table = sm.stats.anova_lm(lm, typ=2)\n",
    "    print(i)\n",
    "    print(table)"
   ]
  },
  {
   "cell_type": "code",
   "execution_count": null,
   "metadata": {},
   "outputs": [],
   "source": [
    "X = order_details['Quantity'][(order_details['Discount'] < 0.15) & (order_details['Discount'] > 0)]\n",
    "y = order_details['Quantity'][(order_details['Discount'] > 0.15)]\n",
    "p = stats.ttest_ind(X, y)[1]\n",
    "p"
   ]
  },
  {
   "cell_type": "code",
   "execution_count": null,
   "metadata": {},
   "outputs": [],
   "source": [
    "orders.ShipCountry.value_counts()"
   ]
  },
  {
   "cell_type": "code",
   "execution_count": null,
   "metadata": {},
   "outputs": [],
   "source": [
    "orders.head()"
   ]
  },
  {
   "cell_type": "code",
   "execution_count": null,
   "metadata": {},
   "outputs": [],
   "source": []
  },
  {
   "cell_type": "code",
   "execution_count": null,
   "metadata": {},
   "outputs": [],
   "source": [
    "order_countries = orders[['Id','ShipCountry']]"
   ]
  },
  {
   "cell_type": "code",
   "execution_count": null,
   "metadata": {},
   "outputs": [],
   "source": [
    "order_disc_quan = order_details[['OrderId','Discount','Quantity']]"
   ]
  },
  {
   "cell_type": "code",
   "execution_count": null,
   "metadata": {},
   "outputs": [],
   "source": [
    "df = pd.merge(order_countries, \n",
    "                  order_disc_quan,\n",
    "                  left_on='Id',\n",
    "                  right_on='OrderId',\n",
    "                  how='left')"
   ]
  },
  {
   "cell_type": "code",
   "execution_count": null,
   "metadata": {},
   "outputs": [],
   "source": [
    "df.head()"
   ]
  },
  {
   "cell_type": "code",
   "execution_count": null,
   "metadata": {},
   "outputs": [],
   "source": [
    "df = df.join(pd.get_dummies(df.ShipCountry))\n"
   ]
  },
  {
   "cell_type": "code",
   "execution_count": null,
   "metadata": {},
   "outputs": [],
   "source": [
    "df.head()"
   ]
  },
  {
   "cell_type": "code",
   "execution_count": null,
   "metadata": {},
   "outputs": [],
   "source": [
    "columns = \"+Discount*\".join(df.drop(['Quantity', 'OrderId', 'Id', 'Discount'], axis=1).columns)\n",
    "f = 'Quantity~' + columns\n",
    "round(ols(formula=f, data=df).fit().pvalues,5)"
   ]
  },
  {
   "cell_type": "code",
   "execution_count": null,
   "metadata": {},
   "outputs": [],
   "source": [
    "order_details.Discount.hist()"
   ]
  },
  {
   "cell_type": "code",
   "execution_count": null,
   "metadata": {},
   "outputs": [],
   "source": [
    "disc_05 = order_details[['Quantity','Discount']][(order_details.Discount<0.05) & (order_details.Discount>0)]\n",
    "disc_15 = order_details[['Quantity','Discount']][(order_details.Discount<0.15) & (order_details.Discount > 0.05)]\n",
    "disc_25 = order_details[['Quantity','Discount']][order_details.Discount>0.15]\n",
    "print(\"Less than 5% : \" + str(round(ols(formula='Quantity ~ Discount', data=disc_05).fit().pvalues[1],5)))\n",
    "print(\"Between 5% and 15% : \" + str(round(ols(formula='Quantity ~ Discount', data=disc_15).fit().pvalues[1],5)))\n",
    "print(\"Between 15% and 25% : \" + str(round(ols(formula='Quantity ~ Discount', data=disc_25).fit().pvalues[1],5)))"
   ]
  },
  {
   "cell_type": "code",
   "execution_count": null,
   "metadata": {
    "scrolled": true
   },
   "outputs": [],
   "source": [
    "d = 0\n",
    "for i in sorted(order_details.Discount.unique()):\n",
    "    d = order_details[['Quantity', 'Discount']][order_details.Discount==i].copy()\n",
    "    print(str(i)+ \" : \" + str(ols(formula='Quantity ~ Discount', data=d).fit().pvalues[1]))"
   ]
  },
  {
   "cell_type": "code",
   "execution_count": null,
   "metadata": {},
   "outputs": [],
   "source": []
  },
  {
   "cell_type": "code",
   "execution_count": null,
   "metadata": {},
   "outputs": [],
   "source": [
    "disc_5 = order_details['Quantity'][order_details['Discount'] <= 0.05]\n",
    "disc_10 = order_details['Quantity'][(order_details['Discount'] > 0.05) & (order_details['Discount'] <= 0.1)]\n",
    "disc_15 = order_details['Quantity'][(order_details['Discount'] > 0.1) & (order_details['Discount'] <= 0.15)]\n",
    "disc_20 = order_details['Quantity'][(order_details['Discount'] > 0.15) & (order_details['Discount'] <= 0.2)]\n",
    "disc_25 = order_details['Quantity'][order_details['Discount'] > 0.2]\n",
    "buckets = [(0.05, disc_5), (0.1, disc_10), (0.15, disc_15), (0.2, disc_20), (0.25,disc_25)]\n",
    "c = 0 \n",
    "while c < len(buckets) - 1:\n",
    "    x = buckets[c][1]\n",
    "    y = buckets[c+1][1]\n",
    "    p = stats.ttest_ind(x,y)[1]\n",
    "    print(str(buckets[c][0]) + \" v.s. \" + str(buckets[c+1][0]) + \" : \" + str(p)) \n",
    "    c += 1"
   ]
  },
  {
   "cell_type": "code",
   "execution_count": null,
   "metadata": {},
   "outputs": [],
   "source": [
    "for i in sorted(disc.Discount.unique(), reverse=True):\n",
    "    x = order_details['Quantity'][order_details['Discount'] <= i]\n",
    "    y = no_disc.Quantity\n",
    "    p = stats.ttest_ind(x,y)[1]\n",
    "    print(str(i) + \" or less : \" + str(p))"
   ]
  },
  {
   "cell_type": "code",
   "execution_count": null,
   "metadata": {},
   "outputs": [],
   "source": [
    "order_details.Discount.value_counts()"
   ]
  },
  {
   "cell_type": "code",
   "execution_count": null,
   "metadata": {},
   "outputs": [],
   "source": [
    "for i in sorted(disc.Discount.unique()):\n",
    "    x = order_details['Quantity'][order_details['Discount'] >= i]\n",
    "    y = no_disc.Quantity\n",
    "    p = stats.ttest_ind(x,y)[1]\n",
    "    print(str(i) + \" or higher : \" + str(p))"
   ]
  },
  {
   "cell_type": "code",
   "execution_count": null,
   "metadata": {},
   "outputs": [],
   "source": [
    "prod_ord_details = pd.merge(products, \n",
    "                  order_details,\n",
    "                  left_on='Id',\n",
    "                  right_on='ProductId',\n",
    "                  how='left')\n",
    "prod_ord_details.head()"
   ]
  },
  {
   "cell_type": "code",
   "execution_count": null,
   "metadata": {},
   "outputs": [],
   "source": [
    "prod_ord_details = pd.merge(products, \n",
    "                  order_details,\n",
    "                  left_on='Id',\n",
    "                  right_on='ProductId',\n",
    "                  how='left')\n",
    "prod_ord_details_cat = pd.merge(prod_ord_details, \n",
    "                  categories,\n",
    "                  left_on='CategoryId',\n",
    "                  right_on='Id',\n",
    "                  how='left')\n",
    "prod_ord_details_cat.head()"
   ]
  },
  {
   "cell_type": "code",
   "execution_count": null,
   "metadata": {},
   "outputs": [],
   "source": [
    "df_cat_disc = prod_ord_details_cat.filter(['Quantity', 'Discount','CategoryName'], axis=1)\n",
    "df_cat_disc = prod_ord_details_cat.join(pd.get_dummies(df_cat_disc.CategoryName))\n",
    "df_cat_disc.CategoryName.unique()"
   ]
  },
  {
   "cell_type": "code",
   "execution_count": null,
   "metadata": {},
   "outputs": [],
   "source": [
    "a = prod_ord_details_cat[['Quantity', 'Discount', 'CategoryName']].copy()\n",
    "a = a.join(pd.get_dummies(a.CategoryName))\n",
    "a.drop('CategoryName', axis=1, inplace=True)\n",
    "a.columns = [c.replace(' ', '_') for c in a.columns]\n",
    "a.columns = [c.replace('/', '_') for c in a.columns]"
   ]
  },
  {
   "cell_type": "code",
   "execution_count": null,
   "metadata": {},
   "outputs": [],
   "source": [
    "a.head()"
   ]
  },
  {
   "cell_type": "code",
   "execution_count": null,
   "metadata": {},
   "outputs": [],
   "source": [
    "cats = a.iloc[:,3:].columns\n",
    "for i in cats:\n",
    "    x = a['Quantity'][(a[i]== 1) & (a['Discount'] > 0)]\n",
    "    y = a['Quantity'][(a[i]== 1) & (a['Discount'] == 0)]\n",
    "    p = stats.ttest_ind(x,y)[1]\n",
    "    print(i + \" : \" + str(p))"
   ]
  },
  {
   "cell_type": "code",
   "execution_count": null,
   "metadata": {},
   "outputs": [],
   "source": [
    "ord_det = pd.merge(order_details, \n",
    "                  orders,\n",
    "                  left_on='OrderId',\n",
    "                  right_on='Id',\n",
    "                  how='left')\n",
    "ord_det_emp = pd.merge(ord_det,\n",
    "                      employees,\n",
    "                      left_on='EmployeeId',\n",
    "                      right_on='Id',\n",
    "                      how='left')\n",
    "ord_det_emp.info()"
   ]
  },
  {
   "cell_type": "code",
   "execution_count": null,
   "metadata": {},
   "outputs": [],
   "source": [
    "for i in ord_det_emp.Id.unique():\n",
    "    sales = (ord_det_emp['Quantity'][ord_det_emp['Id'] == i]) * (ord_det_emp['UnitPrice'][ord_det_emp['Id'] == i])\n",
    "    print (str(i) + \" \" + ord_det_emp['Title'][ord_det_emp['Id'] == i].unique() + \" : \" + str(round(sales.sum(),1)))\n",
    "    #print(ord_det_emp[i])"
   ]
  },
  {
   "cell_type": "code",
   "execution_count": null,
   "metadata": {},
   "outputs": [],
   "source": [
    "def get_sales(ID):\n",
    "    sales = (ord_det_emp['Quantity'][ord_det_emp['Id'] == ID]) * (ord_det_emp['UnitPrice'][ord_det_emp['Id'] == ID])\n",
    "    return sales"
   ]
  },
  {
   "cell_type": "code",
   "execution_count": null,
   "metadata": {},
   "outputs": [],
   "source": [
    "def get_total_sales(ID):\n",
    "    sales = (ord_det_emp['Quantity'][ord_det_emp['Id'] == ID]) * (ord_det_emp['UnitPrice'][ord_det_emp['Id'] == ID])\n",
    "    return sales.sum()"
   ]
  },
  {
   "cell_type": "code",
   "execution_count": null,
   "metadata": {},
   "outputs": [],
   "source": [
    "x = []\n",
    "for i in [6,4,3,9,1,7]:\n",
    "    x.append(get_total_sales(i))\n",
    "y = []\n",
    "for i in [5,8,2]:\n",
    "    y.append(get_total_sales(i))\n",
    "stats.ttest_ind(x,y)"
   ]
  },
  {
   "cell_type": "code",
   "execution_count": null,
   "metadata": {},
   "outputs": [],
   "source": [
    "for i in sorted(ord_det_emp.Id.unique()):\n",
    "    for j in sorted(ord_det_emp.Id.unique()):\n",
    "        if j <= i:\n",
    "            pass\n",
    "        else:\n",
    "            x = get_sales(i)\n",
    "            y = get_sales(j)\n",
    "            p = stats.ttest_ind(x,y)[1]\n",
    "            if p <= 0.05:\n",
    "                print(str(i) + \" v.s. \" + str(j) + \" : \" + str(round(p,3)))\n",
    "            "
   ]
  },
  {
   "cell_type": "code",
   "execution_count": null,
   "metadata": {},
   "outputs": [],
   "source": [
    "ord_det_emp.BirthDate.unique()"
   ]
  },
  {
   "cell_type": "code",
   "execution_count": null,
   "metadata": {},
   "outputs": [],
   "source": [
    "ord_det_emp.Id.unique()"
   ]
  },
  {
   "cell_type": "code",
   "execution_count": null,
   "metadata": {},
   "outputs": [],
   "source": [
    "reps_data = []\n",
    "for i in sales_reps_IDs:\n",
    "    ord = orders['Id'][orders['EmployeeId'] == i]\n",
    "    details = []\n",
    "    for j in ord:\n",
    "        details.append(order_details[order_details['OrderId'] == j])\n",
    "    reps_data.append([i, details])\n"
   ]
  },
  {
   "cell_type": "code",
   "execution_count": null,
   "metadata": {},
   "outputs": [],
   "source": [
    "for i in range (0, len(reps_data)):\n",
    "    print(pd.DataFrame(reps_data[i][1][1].info()))"
   ]
  },
  {
   "cell_type": "code",
   "execution_count": null,
   "metadata": {},
   "outputs": [],
   "source": [
    "orders.EmployeeId.value_counts()"
   ]
  },
  {
   "cell_type": "code",
   "execution_count": null,
   "metadata": {},
   "outputs": [],
   "source": []
  }
 ],
 "metadata": {
  "kernelspec": {
   "display_name": "Python 3",
   "language": "python",
   "name": "python3"
  },
  "language_info": {
   "codemirror_mode": {
    "name": "ipython",
    "version": 3
   },
   "file_extension": ".py",
   "mimetype": "text/x-python",
   "name": "python",
   "nbconvert_exporter": "python",
   "pygments_lexer": "ipython3",
   "version": "3.7.0"
  }
 },
 "nbformat": 4,
 "nbformat_minor": 2
}
