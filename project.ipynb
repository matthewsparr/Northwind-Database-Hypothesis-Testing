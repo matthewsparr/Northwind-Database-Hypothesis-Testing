{
 "cells": [
  {
   "cell_type": "markdown",
   "metadata": {},
   "source": [
    "# <center> Module 2 Project  - Northwind Database Hypothesis Testing"
   ]
  },
  {
   "cell_type": "markdown",
   "metadata": {},
   "source": [
    "## <center>Matthew Sparr <br><br> <center><h8>Self-Paced Data Science Program"
   ]
  },
  {
   "cell_type": "markdown",
   "metadata": {},
   "source": [
    "# <center> Introduction"
   ]
  },
  {
   "cell_type": "markdown",
   "metadata": {},
   "source": [
    "First we will import all the necessary libraries."
   ]
  },
  {
   "cell_type": "code",
   "execution_count": 92,
   "metadata": {},
   "outputs": [],
   "source": [
    "import sqlite3 as sql\n",
    "import pandas as pd\n",
    "import numpy as np\n",
    "from sklearn.linear_model import LinearRegression\n",
    "from sklearn.preprocessing import MinMaxScaler\n",
    "from sklearn.linear_model import Lasso, Ridge, LinearRegression\n",
    "from sklearn.model_selection import train_test_split\n",
    "import matplotlib.pyplot as plt\n",
    "from sklearn.linear_model import LinearRegression\n",
    "from sklearn.model_selection import cross_val_score\n",
    "from sklearn.model_selection import KFold\n",
    "from sklearn import preprocessing\n",
    "import statsmodels.api as sm\n",
    "from statsmodels.formula.api import ols\n",
    "import seaborn as sns\n",
    "from scipy import stats\n",
    "from sklearn import linear_model as lm"
   ]
  },
  {
   "cell_type": "markdown",
   "metadata": {},
   "source": [
    "Next we will connect to the database and grab all the table names."
   ]
  },
  {
   "cell_type": "code",
   "execution_count": 2,
   "metadata": {},
   "outputs": [
    {
     "data": {
      "text/plain": [
       "[('Employee',),\n",
       " ('Category',),\n",
       " ('Customer',),\n",
       " ('Shipper',),\n",
       " ('Supplier',),\n",
       " ('Order',),\n",
       " ('Product',),\n",
       " ('OrderDetail',),\n",
       " ('CustomerCustomerDemo',),\n",
       " ('CustomerDemographic',),\n",
       " ('Region',),\n",
       " ('Territory',),\n",
       " ('EmployeeTerritory',)]"
      ]
     },
     "execution_count": 2,
     "metadata": {},
     "output_type": "execute_result"
    }
   ],
   "source": [
    "conn = sql.connect('Northwind_small.sqlite')\n",
    "cur = conn.cursor()\n",
    "table_names = list(cur.execute('''SELECT name FROM sqlite_master WHERE TYPE = 'table'\n",
    "                               ''').fetchall())\n",
    "table_names"
   ]
  },
  {
   "cell_type": "markdown",
   "metadata": {},
   "source": [
    "Now we will store each table from the database as Pandas Dataframe so that they are easy to work with and analyze. There was a technical error with the 'orders' table, so a CSV file of the table was generated using an outside program."
   ]
  },
  {
   "cell_type": "code",
   "execution_count": 3,
   "metadata": {},
   "outputs": [],
   "source": [
    "sql_comm = []\n",
    "for i in range(0,len(table_names)):\n",
    "    s = \"SELECT * FROM \" + table_names[i][0]\n",
    "    sql_comm.append(s)\n",
    "\n",
    "employees = pd.read_sql_query(sql_comm[0], conn)\n",
    "categories = pd.read_sql_query(sql_comm[1], conn)\n",
    "customers = pd.read_sql_query(sql_comm[2], conn)\n",
    "shippers = pd.read_sql_query(sql_comm[3], conn)\n",
    "\n",
    "suppliers = pd.read_sql_query(sql_comm[4], conn)\n",
    "products = pd.read_sql_query(sql_comm[6], conn)\n",
    "order_details = pd.read_sql_query(sql_comm[7], conn)\n",
    "orders = pd.read_csv('Order.csv')\n",
    "\n",
    "cust_cust_demos = pd.read_sql_query(sql_comm[8], conn)\n",
    "cust_demos = pd.read_sql_query(sql_comm[9], conn)\n",
    "regions = pd.read_sql_query(sql_comm[10], conn)\n",
    "territories = pd.read_sql_query(sql_comm[11], conn)\n",
    "emp_territories = pd.read_sql_query(sql_comm[12], conn)"
   ]
  },
  {
   "cell_type": "markdown",
   "metadata": {},
   "source": [
    "And here is a schema of the database."
   ]
  },
  {
   "cell_type": "markdown",
   "metadata": {},
   "source": [
    "<img src='Northwind_ERD.png'>"
   ]
  },
  {
   "cell_type": "markdown",
   "metadata": {},
   "source": [
    "## Q1 -- Does discount amount have a statistically significant effect on the quantity of a product in an order? If so, at what level(s) of discount?"
   ]
  },
  {
   "cell_type": "markdown",
   "metadata": {},
   "source": [
    "## <center>H<sub>0: The average quantity of product ordered is the same for orders with and without a discount."
   ]
  },
  {
   "cell_type": "markdown",
   "metadata": {},
   "source": [
    "## <center>H<sub>a: The average quantity of product ordered when a discount is given is higher or lower than for orders without a discount."
   ]
  },
  {
   "cell_type": "markdown",
   "metadata": {},
   "source": [
    "The above is our first question and both the null and alternative hypotheses. To test them will involve a two-tail test. This is because if the null hypothesis is rejected and there is a correlation between discount and order quantity, we could find that the discount amount either increases or decreases the quantity of product ordered. "
   ]
  },
  {
   "cell_type": "markdown",
   "metadata": {},
   "source": [
    "To test our hypotheses we will be using the table 'order_details' and will be looking only at the columns 'Quantity' and 'Discount'. Below we can see that there are no null or missing values in either column. Also, 'Quantity' ranges from 1 to 130 and 'Discount' ranges from 0 to 0.25."
   ]
  },
  {
   "cell_type": "code",
   "execution_count": 4,
   "metadata": {
    "scrolled": true
   },
   "outputs": [
    {
     "name": "stdout",
     "output_type": "stream",
     "text": [
      "<class 'pandas.core.frame.DataFrame'>\n",
      "RangeIndex: 2155 entries, 0 to 2154\n",
      "Data columns (total 2 columns):\n",
      "Quantity    2155 non-null int64\n",
      "Discount    2155 non-null float64\n",
      "dtypes: float64(1), int64(1)\n",
      "memory usage: 33.8 KB\n"
     ]
    }
   ],
   "source": [
    "order_details[['Quantity','Discount']].info()"
   ]
  },
  {
   "cell_type": "code",
   "execution_count": 5,
   "metadata": {},
   "outputs": [
    {
     "data": {
      "text/html": [
       "<div>\n",
       "<style scoped>\n",
       "    .dataframe tbody tr th:only-of-type {\n",
       "        vertical-align: middle;\n",
       "    }\n",
       "\n",
       "    .dataframe tbody tr th {\n",
       "        vertical-align: top;\n",
       "    }\n",
       "\n",
       "    .dataframe thead th {\n",
       "        text-align: right;\n",
       "    }\n",
       "</style>\n",
       "<table border=\"1\" class=\"dataframe\">\n",
       "  <thead>\n",
       "    <tr style=\"text-align: right;\">\n",
       "      <th></th>\n",
       "      <th>Quantity</th>\n",
       "      <th>Discount</th>\n",
       "    </tr>\n",
       "  </thead>\n",
       "  <tbody>\n",
       "    <tr>\n",
       "      <th>count</th>\n",
       "      <td>2155.000000</td>\n",
       "      <td>2155.000000</td>\n",
       "    </tr>\n",
       "    <tr>\n",
       "      <th>mean</th>\n",
       "      <td>23.812993</td>\n",
       "      <td>0.056167</td>\n",
       "    </tr>\n",
       "    <tr>\n",
       "      <th>std</th>\n",
       "      <td>19.022047</td>\n",
       "      <td>0.083450</td>\n",
       "    </tr>\n",
       "    <tr>\n",
       "      <th>min</th>\n",
       "      <td>1.000000</td>\n",
       "      <td>0.000000</td>\n",
       "    </tr>\n",
       "    <tr>\n",
       "      <th>25%</th>\n",
       "      <td>10.000000</td>\n",
       "      <td>0.000000</td>\n",
       "    </tr>\n",
       "    <tr>\n",
       "      <th>50%</th>\n",
       "      <td>20.000000</td>\n",
       "      <td>0.000000</td>\n",
       "    </tr>\n",
       "    <tr>\n",
       "      <th>75%</th>\n",
       "      <td>30.000000</td>\n",
       "      <td>0.100000</td>\n",
       "    </tr>\n",
       "    <tr>\n",
       "      <th>max</th>\n",
       "      <td>130.000000</td>\n",
       "      <td>0.250000</td>\n",
       "    </tr>\n",
       "  </tbody>\n",
       "</table>\n",
       "</div>"
      ],
      "text/plain": [
       "          Quantity     Discount\n",
       "count  2155.000000  2155.000000\n",
       "mean     23.812993     0.056167\n",
       "std      19.022047     0.083450\n",
       "min       1.000000     0.000000\n",
       "25%      10.000000     0.000000\n",
       "50%      20.000000     0.000000\n",
       "75%      30.000000     0.100000\n",
       "max     130.000000     0.250000"
      ]
     },
     "execution_count": 5,
     "metadata": {},
     "output_type": "execute_result"
    }
   ],
   "source": [
    "order_details[['Quantity','Discount']].describe()"
   ]
  },
  {
   "cell_type": "markdown",
   "metadata": {},
   "source": [
    "Now we will split our order details into two sets: discount and no discount. Running a t-test on the data below then gives us a small p-value of 1.14e-10 which is less than our alpha of 0.05."
   ]
  },
  {
   "cell_type": "code",
   "execution_count": 6,
   "metadata": {},
   "outputs": [
    {
     "data": {
      "text/plain": [
       "1.1440924523215966e-10"
      ]
     },
     "execution_count": 6,
     "metadata": {},
     "output_type": "execute_result"
    }
   ],
   "source": [
    "no_disc = order_details[order_details['Discount'] == 0].copy()\n",
    "disc = order_details[order_details['Discount'] > 0].copy()\n",
    "\n",
    "p = stats.ttest_ind(no_disc.Quantity, disc.Quantity)[1]\n",
    "p"
   ]
  },
  {
   "cell_type": "markdown",
   "metadata": {},
   "source": [
    "Since the p-value for our t-test is so low, this allows us to reject the null-hypothesis and accept instead the alternative hypothesis. From this result we can reasonably argue that having a discount does indeed have an impact on the quantity of product ordered. "
   ]
  },
  {
   "cell_type": "markdown",
   "metadata": {},
   "source": [
    "For the second part of the question we will need to look at the different discount amounts and see where the size of the discount affects the quantity ordered the most. Let's start by looking at the unique values in 'Discount' below."
   ]
  },
  {
   "cell_type": "code",
   "execution_count": 7,
   "metadata": {},
   "outputs": [
    {
     "data": {
      "text/plain": [
       "0.00    1317\n",
       "0.05     185\n",
       "0.10     173\n",
       "0.20     161\n",
       "0.15     157\n",
       "0.25     154\n",
       "0.03       3\n",
       "0.02       2\n",
       "0.01       1\n",
       "0.04       1\n",
       "0.06       1\n",
       "Name: Discount, dtype: int64"
      ]
     },
     "execution_count": 7,
     "metadata": {},
     "output_type": "execute_result"
    }
   ],
   "source": [
    "order_details.Discount.value_counts()"
   ]
  },
  {
   "cell_type": "markdown",
   "metadata": {},
   "source": [
    "Since the count of some discount values are so few compared to others, we will group those discount values together. Below we create 5 buckets of discount values and then add them each to an array so we can iterate through them. We will also be filtering out data where there is no discount given."
   ]
  },
  {
   "cell_type": "code",
   "execution_count": 8,
   "metadata": {},
   "outputs": [],
   "source": [
    "disc_5 = order_details['Quantity'][(order_details['Discount'] <= 0.05) & (order_details['Discount'] > 0)]\n",
    "disc_10 = order_details['Quantity'][(order_details['Discount'] > 0.05) & (order_details['Discount'] <= 0.1)]\n",
    "disc_15 = order_details['Quantity'][(order_details['Discount'] > 0.1) & (order_details['Discount'] <= 0.15)]\n",
    "disc_20 = order_details['Quantity'][(order_details['Discount'] > 0.15) & (order_details['Discount'] <= 0.2)]\n",
    "disc_25 = order_details['Quantity'][order_details['Discount'] > 0.2]\n",
    "discounts = []\n",
    "discounts.extend((['0.05 or less', disc_5], ['Between 0.05 and 0.10', disc_10],\n",
    "                  ['Between 0.10 and 0.15', disc_15], ['Between 0.15 and 0.20', disc_20],\n",
    "                  ['Greater than 0.20', disc_25]))"
   ]
  },
  {
   "cell_type": "markdown",
   "metadata": {},
   "source": [
    "We can then view the size of each of these buckets and notice that they are all fairly similar in size."
   ]
  },
  {
   "cell_type": "code",
   "execution_count": 9,
   "metadata": {},
   "outputs": [
    {
     "name": "stdout",
     "output_type": "stream",
     "text": [
      "192\n",
      "174\n",
      "157\n",
      "161\n",
      "154\n"
     ]
    }
   ],
   "source": [
    "for i in discounts:\n",
    "    print(len(i[1]))"
   ]
  },
  {
   "cell_type": "markdown",
   "metadata": {},
   "source": [
    "For this second part of the question, we will need a set of  null and alternative hypotheses."
   ]
  },
  {
   "cell_type": "markdown",
   "metadata": {},
   "source": [
    "## <center>H<sub>0: The average quantity of product ordered is the same for X and Y amount of discount."
   ]
  },
  {
   "cell_type": "markdown",
   "metadata": {},
   "source": [
    "## <center>H<sub>a: The average quantity of product ordered is different for X and Y amount of discount."
   ]
  },
  {
   "cell_type": "markdown",
   "metadata": {},
   "source": [
    "In the above hypotheses, X and Y represent two discount levels. Since we have 5 buckets of individual discount amounts, we will start by declaring the lowest one (0.05 or less) X and the next level up (between 0.05 and 0.10) Y and then running our T-test and checking the p-value. We will then repeat this up to the highest discount level giving us 4 seperate hypotheses to test."
   ]
  },
  {
   "cell_type": "code",
   "execution_count": 10,
   "metadata": {},
   "outputs": [
    {
     "name": "stdout",
     "output_type": "stream",
     "text": [
      "0.05 or less v.s. Between 0.05 and 0.10 : 0.39367155112980046\n",
      "Between 0.05 and 0.10 v.s. Between 0.10 and 0.15 : 0.15837034442401487\n",
      "Between 0.10 and 0.15 v.s. Between 0.15 and 0.20 : 0.5433964640207652\n",
      "Between 0.15 and 0.20 v.s. Greater than 0.20 : 0.5801473824667989\n"
     ]
    }
   ],
   "source": [
    "for i in range(0, len(discounts)-1):\n",
    "    X = discounts[i][1]\n",
    "    y = discounts[i+1][1]\n",
    "    p = stats.ttest_ind(X, y)[1]\n",
    "    print(discounts[i][0] + \" v.s. \" + discounts[i+1][0] + \" : \" + str(p))"
   ]
  },
  {
   "cell_type": "markdown",
   "metadata": {},
   "source": [
    "None of the above p-values are below our alpha of 0.05. Therefore we fail to reject the null-hypothesis and cannot conclude that increasing the discount at any level will significantly affect the quantity of product ordered."
   ]
  },
  {
   "cell_type": "markdown",
   "metadata": {},
   "source": [
    "### Our findings show that having a discount on a product most likely will increase the quantity of product order but the actual amount of discount is statistically insignificant. "
   ]
  },
  {
   "cell_type": "code",
   "execution_count": null,
   "metadata": {},
   "outputs": [],
   "source": []
  },
  {
   "cell_type": "markdown",
   "metadata": {},
   "source": [
    "## Q2 -- Are there certain products that are better to discount than others in order to increase the quantity ordered?"
   ]
  },
  {
   "cell_type": "markdown",
   "metadata": {},
   "source": [
    "As a follow-up to our initial question, we will investigate whether or not certain categories of items are more advantageous to discount if our goal is to increase total sales."
   ]
  },
  {
   "cell_type": "markdown",
   "metadata": {},
   "source": [
    "## <center>H<sub>0: The average quantity of product ordered is the same for all combinations of product category and discount."
   ]
  },
  {
   "cell_type": "markdown",
   "metadata": {},
   "source": [
    "## <center>H<sub>a: The average quantity of product ordered varies in correlation with category and discount."
   ]
  },
  {
   "cell_type": "markdown",
   "metadata": {},
   "source": [
    "To test our hypothesis we will need data from more than one table so we will need to perform a couple merges. We will first join the 'products' table to the 'order-details' table as 'prod_ord_details'; and then merge that table with the 'categories' table."
   ]
  },
  {
   "cell_type": "code",
   "execution_count": 11,
   "metadata": {
    "scrolled": true
   },
   "outputs": [
    {
     "data": {
      "text/html": [
       "<div>\n",
       "<style scoped>\n",
       "    .dataframe tbody tr th:only-of-type {\n",
       "        vertical-align: middle;\n",
       "    }\n",
       "\n",
       "    .dataframe tbody tr th {\n",
       "        vertical-align: top;\n",
       "    }\n",
       "\n",
       "    .dataframe thead th {\n",
       "        text-align: right;\n",
       "    }\n",
       "</style>\n",
       "<table border=\"1\" class=\"dataframe\">\n",
       "  <thead>\n",
       "    <tr style=\"text-align: right;\">\n",
       "      <th></th>\n",
       "      <th>Id_x</th>\n",
       "      <th>ProductName</th>\n",
       "      <th>SupplierId</th>\n",
       "      <th>CategoryId</th>\n",
       "      <th>QuantityPerUnit</th>\n",
       "      <th>UnitPrice_x</th>\n",
       "      <th>UnitsInStock</th>\n",
       "      <th>UnitsOnOrder</th>\n",
       "      <th>ReorderLevel</th>\n",
       "      <th>Discontinued</th>\n",
       "      <th>Id_y</th>\n",
       "      <th>OrderId</th>\n",
       "      <th>ProductId</th>\n",
       "      <th>UnitPrice_y</th>\n",
       "      <th>Quantity</th>\n",
       "      <th>Discount</th>\n",
       "      <th>Id</th>\n",
       "      <th>CategoryName</th>\n",
       "      <th>Description</th>\n",
       "    </tr>\n",
       "  </thead>\n",
       "  <tbody>\n",
       "    <tr>\n",
       "      <th>0</th>\n",
       "      <td>1</td>\n",
       "      <td>Chai</td>\n",
       "      <td>1</td>\n",
       "      <td>1</td>\n",
       "      <td>10 boxes x 20 bags</td>\n",
       "      <td>18.0</td>\n",
       "      <td>39</td>\n",
       "      <td>0</td>\n",
       "      <td>10</td>\n",
       "      <td>0</td>\n",
       "      <td>10285/1</td>\n",
       "      <td>10285</td>\n",
       "      <td>1</td>\n",
       "      <td>14.4</td>\n",
       "      <td>45</td>\n",
       "      <td>0.20</td>\n",
       "      <td>1</td>\n",
       "      <td>Beverages</td>\n",
       "      <td>Soft drinks, coffees, teas, beers, and ales</td>\n",
       "    </tr>\n",
       "    <tr>\n",
       "      <th>1</th>\n",
       "      <td>1</td>\n",
       "      <td>Chai</td>\n",
       "      <td>1</td>\n",
       "      <td>1</td>\n",
       "      <td>10 boxes x 20 bags</td>\n",
       "      <td>18.0</td>\n",
       "      <td>39</td>\n",
       "      <td>0</td>\n",
       "      <td>10</td>\n",
       "      <td>0</td>\n",
       "      <td>10294/1</td>\n",
       "      <td>10294</td>\n",
       "      <td>1</td>\n",
       "      <td>14.4</td>\n",
       "      <td>18</td>\n",
       "      <td>0.00</td>\n",
       "      <td>1</td>\n",
       "      <td>Beverages</td>\n",
       "      <td>Soft drinks, coffees, teas, beers, and ales</td>\n",
       "    </tr>\n",
       "    <tr>\n",
       "      <th>2</th>\n",
       "      <td>1</td>\n",
       "      <td>Chai</td>\n",
       "      <td>1</td>\n",
       "      <td>1</td>\n",
       "      <td>10 boxes x 20 bags</td>\n",
       "      <td>18.0</td>\n",
       "      <td>39</td>\n",
       "      <td>0</td>\n",
       "      <td>10</td>\n",
       "      <td>0</td>\n",
       "      <td>10317/1</td>\n",
       "      <td>10317</td>\n",
       "      <td>1</td>\n",
       "      <td>14.4</td>\n",
       "      <td>20</td>\n",
       "      <td>0.00</td>\n",
       "      <td>1</td>\n",
       "      <td>Beverages</td>\n",
       "      <td>Soft drinks, coffees, teas, beers, and ales</td>\n",
       "    </tr>\n",
       "    <tr>\n",
       "      <th>3</th>\n",
       "      <td>1</td>\n",
       "      <td>Chai</td>\n",
       "      <td>1</td>\n",
       "      <td>1</td>\n",
       "      <td>10 boxes x 20 bags</td>\n",
       "      <td>18.0</td>\n",
       "      <td>39</td>\n",
       "      <td>0</td>\n",
       "      <td>10</td>\n",
       "      <td>0</td>\n",
       "      <td>10348/1</td>\n",
       "      <td>10348</td>\n",
       "      <td>1</td>\n",
       "      <td>14.4</td>\n",
       "      <td>15</td>\n",
       "      <td>0.15</td>\n",
       "      <td>1</td>\n",
       "      <td>Beverages</td>\n",
       "      <td>Soft drinks, coffees, teas, beers, and ales</td>\n",
       "    </tr>\n",
       "    <tr>\n",
       "      <th>4</th>\n",
       "      <td>1</td>\n",
       "      <td>Chai</td>\n",
       "      <td>1</td>\n",
       "      <td>1</td>\n",
       "      <td>10 boxes x 20 bags</td>\n",
       "      <td>18.0</td>\n",
       "      <td>39</td>\n",
       "      <td>0</td>\n",
       "      <td>10</td>\n",
       "      <td>0</td>\n",
       "      <td>10354/1</td>\n",
       "      <td>10354</td>\n",
       "      <td>1</td>\n",
       "      <td>14.4</td>\n",
       "      <td>12</td>\n",
       "      <td>0.00</td>\n",
       "      <td>1</td>\n",
       "      <td>Beverages</td>\n",
       "      <td>Soft drinks, coffees, teas, beers, and ales</td>\n",
       "    </tr>\n",
       "  </tbody>\n",
       "</table>\n",
       "</div>"
      ],
      "text/plain": [
       "   Id_x ProductName  SupplierId  CategoryId     QuantityPerUnit  UnitPrice_x  \\\n",
       "0     1        Chai           1           1  10 boxes x 20 bags         18.0   \n",
       "1     1        Chai           1           1  10 boxes x 20 bags         18.0   \n",
       "2     1        Chai           1           1  10 boxes x 20 bags         18.0   \n",
       "3     1        Chai           1           1  10 boxes x 20 bags         18.0   \n",
       "4     1        Chai           1           1  10 boxes x 20 bags         18.0   \n",
       "\n",
       "   UnitsInStock  UnitsOnOrder  ReorderLevel  Discontinued     Id_y  OrderId  \\\n",
       "0            39             0            10             0  10285/1    10285   \n",
       "1            39             0            10             0  10294/1    10294   \n",
       "2            39             0            10             0  10317/1    10317   \n",
       "3            39             0            10             0  10348/1    10348   \n",
       "4            39             0            10             0  10354/1    10354   \n",
       "\n",
       "   ProductId  UnitPrice_y  Quantity  Discount  Id CategoryName  \\\n",
       "0          1         14.4        45      0.20   1    Beverages   \n",
       "1          1         14.4        18      0.00   1    Beverages   \n",
       "2          1         14.4        20      0.00   1    Beverages   \n",
       "3          1         14.4        15      0.15   1    Beverages   \n",
       "4          1         14.4        12      0.00   1    Beverages   \n",
       "\n",
       "                                   Description  \n",
       "0  Soft drinks, coffees, teas, beers, and ales  \n",
       "1  Soft drinks, coffees, teas, beers, and ales  \n",
       "2  Soft drinks, coffees, teas, beers, and ales  \n",
       "3  Soft drinks, coffees, teas, beers, and ales  \n",
       "4  Soft drinks, coffees, teas, beers, and ales  "
      ]
     },
     "execution_count": 11,
     "metadata": {},
     "output_type": "execute_result"
    }
   ],
   "source": [
    "prod_ord_details = pd.merge(products, \n",
    "                  order_details,\n",
    "                  left_on='Id',\n",
    "                  right_on='ProductId',\n",
    "                  how='left')\n",
    "prod_cat = pd.merge(prod_ord_details, \n",
    "                  categories,\n",
    "                  left_on='CategoryId',\n",
    "                  right_on='Id',\n",
    "                  how='left')\n",
    "prod_cat.head()"
   ]
  },
  {
   "cell_type": "markdown",
   "metadata": {},
   "source": [
    "Viewing the head of the merged table we can see lots of variables we don't need. We will create a new DataFrame with only the categories we need: 'Quantity', 'Discount', and 'CategoryName'."
   ]
  },
  {
   "cell_type": "code",
   "execution_count": 12,
   "metadata": {},
   "outputs": [
    {
     "data": {
      "text/html": [
       "<div>\n",
       "<style scoped>\n",
       "    .dataframe tbody tr th:only-of-type {\n",
       "        vertical-align: middle;\n",
       "    }\n",
       "\n",
       "    .dataframe tbody tr th {\n",
       "        vertical-align: top;\n",
       "    }\n",
       "\n",
       "    .dataframe thead th {\n",
       "        text-align: right;\n",
       "    }\n",
       "</style>\n",
       "<table border=\"1\" class=\"dataframe\">\n",
       "  <thead>\n",
       "    <tr style=\"text-align: right;\">\n",
       "      <th></th>\n",
       "      <th>Quantity</th>\n",
       "      <th>Discount</th>\n",
       "      <th>CategoryName</th>\n",
       "    </tr>\n",
       "  </thead>\n",
       "  <tbody>\n",
       "    <tr>\n",
       "      <th>0</th>\n",
       "      <td>45</td>\n",
       "      <td>0.20</td>\n",
       "      <td>Beverages</td>\n",
       "    </tr>\n",
       "    <tr>\n",
       "      <th>1</th>\n",
       "      <td>18</td>\n",
       "      <td>0.00</td>\n",
       "      <td>Beverages</td>\n",
       "    </tr>\n",
       "    <tr>\n",
       "      <th>2</th>\n",
       "      <td>20</td>\n",
       "      <td>0.00</td>\n",
       "      <td>Beverages</td>\n",
       "    </tr>\n",
       "    <tr>\n",
       "      <th>3</th>\n",
       "      <td>15</td>\n",
       "      <td>0.15</td>\n",
       "      <td>Beverages</td>\n",
       "    </tr>\n",
       "    <tr>\n",
       "      <th>4</th>\n",
       "      <td>12</td>\n",
       "      <td>0.00</td>\n",
       "      <td>Beverages</td>\n",
       "    </tr>\n",
       "  </tbody>\n",
       "</table>\n",
       "</div>"
      ],
      "text/plain": [
       "   Quantity  Discount CategoryName\n",
       "0        45      0.20    Beverages\n",
       "1        18      0.00    Beverages\n",
       "2        20      0.00    Beverages\n",
       "3        15      0.15    Beverages\n",
       "4        12      0.00    Beverages"
      ]
     },
     "execution_count": 12,
     "metadata": {},
     "output_type": "execute_result"
    }
   ],
   "source": [
    "q2_data = prod_cat[['Quantity', 'Discount', 'CategoryName']]\n",
    "q2_data.head()"
   ]
  },
  {
   "cell_type": "markdown",
   "metadata": {},
   "source": [
    "Since we know from before that there are a few 'Discount' values with signficantly less occurances than others, we will need to address that for this question. Let's view the value counts for 'Discount'."
   ]
  },
  {
   "cell_type": "code",
   "execution_count": 13,
   "metadata": {},
   "outputs": [
    {
     "data": {
      "text/plain": [
       "0.00    1317\n",
       "0.05     185\n",
       "0.10     173\n",
       "0.20     161\n",
       "0.15     157\n",
       "0.25     154\n",
       "0.03       3\n",
       "0.02       2\n",
       "0.01       1\n",
       "0.04       1\n",
       "0.06       1\n",
       "Name: Discount, dtype: int64"
      ]
     },
     "execution_count": 13,
     "metadata": {},
     "output_type": "execute_result"
    }
   ],
   "source": [
    "q2_data['Discount'].value_counts()"
   ]
  },
  {
   "cell_type": "markdown",
   "metadata": {},
   "source": [
    "Since the low occurance rate 'Discount' values (0.01, 0.02, 0.03, 0.04, and 0.06) are all close to 0.05. We will simply adjust them each to 0.05 to give us a more equal distribution of discounts."
   ]
  },
  {
   "cell_type": "code",
   "execution_count": 14,
   "metadata": {
    "scrolled": false
   },
   "outputs": [
    {
     "name": "stderr",
     "output_type": "stream",
     "text": [
      "C:\\Users\\sparr\\Anaconda3\\lib\\site-packages\\ipykernel_launcher.py:1: SettingWithCopyWarning: \n",
      "A value is trying to be set on a copy of a slice from a DataFrame.\n",
      "Try using .loc[row_indexer,col_indexer] = value instead\n",
      "\n",
      "See the caveats in the documentation: http://pandas.pydata.org/pandas-docs/stable/indexing.html#indexing-view-versus-copy\n",
      "  \"\"\"Entry point for launching an IPython kernel.\n"
     ]
    }
   ],
   "source": [
    "q2_data['Discount'] = q2_data['Discount'].apply(lambda x: 0.05 if (x > 0 and x < 0.10) else x)"
   ]
  },
  {
   "cell_type": "markdown",
   "metadata": {},
   "source": [
    "Since we want to test the impact of a variable ('Discount') on the dependent variable ('Quantity') for multiple groups ('CategoryName'), we will use analysis of variance or ANOVA to test our hypothesis. "
   ]
  },
  {
   "cell_type": "code",
   "execution_count": 15,
   "metadata": {},
   "outputs": [
    {
     "data": {
      "text/html": [
       "<div>\n",
       "<style scoped>\n",
       "    .dataframe tbody tr th:only-of-type {\n",
       "        vertical-align: middle;\n",
       "    }\n",
       "\n",
       "    .dataframe tbody tr th {\n",
       "        vertical-align: top;\n",
       "    }\n",
       "\n",
       "    .dataframe thead th {\n",
       "        text-align: right;\n",
       "    }\n",
       "</style>\n",
       "<table border=\"1\" class=\"dataframe\">\n",
       "  <thead>\n",
       "    <tr style=\"text-align: right;\">\n",
       "      <th></th>\n",
       "      <th>sum_sq</th>\n",
       "      <th>df</th>\n",
       "      <th>F</th>\n",
       "      <th>PR(&gt;F)</th>\n",
       "    </tr>\n",
       "  </thead>\n",
       "  <tbody>\n",
       "    <tr>\n",
       "      <th>C(CategoryName)</th>\n",
       "      <td>1148.391892</td>\n",
       "      <td>7.0</td>\n",
       "      <td>0.466377</td>\n",
       "      <td>8.593555e-01</td>\n",
       "    </tr>\n",
       "    <tr>\n",
       "      <th>C(Discount)</th>\n",
       "      <td>15825.229259</td>\n",
       "      <td>5.0</td>\n",
       "      <td>8.997563</td>\n",
       "      <td>1.794405e-08</td>\n",
       "    </tr>\n",
       "    <tr>\n",
       "      <th>C(CategoryName):C(Discount)</th>\n",
       "      <td>21108.931647</td>\n",
       "      <td>35.0</td>\n",
       "      <td>1.714522</td>\n",
       "      <td>5.838482e-03</td>\n",
       "    </tr>\n",
       "    <tr>\n",
       "      <th>Residual</th>\n",
       "      <td>741173.098204</td>\n",
       "      <td>2107.0</td>\n",
       "      <td>NaN</td>\n",
       "      <td>NaN</td>\n",
       "    </tr>\n",
       "  </tbody>\n",
       "</table>\n",
       "</div>"
      ],
      "text/plain": [
       "                                    sum_sq      df         F        PR(>F)\n",
       "C(CategoryName)                1148.391892     7.0  0.466377  8.593555e-01\n",
       "C(Discount)                   15825.229259     5.0  8.997563  1.794405e-08\n",
       "C(CategoryName):C(Discount)   21108.931647    35.0  1.714522  5.838482e-03\n",
       "Residual                     741173.098204  2107.0       NaN           NaN"
      ]
     },
     "execution_count": 15,
     "metadata": {},
     "output_type": "execute_result"
    }
   ],
   "source": [
    "formula = 'Quantity ~ C(CategoryName)*C(Discount)'\n",
    "lm = ols(formula, q2_data).fit()\n",
    "table = sm.stats.anova_lm(lm, typ=2)\n",
    "table"
   ]
  },
  {
   "cell_type": "markdown",
   "metadata": {},
   "source": [
    "From the above results we can see that the p-value for the interaction between 'Discount' and 'CategoryName' is approx. 0.0058. Since this is less than our alpha of 0.05, we can reject the null hypothesis and accept the alternative hypothesis. This means that we can say there is evidence that the interaction of 'Discount' and 'CategoryName' has a statistically significant effect on the quantity of product ordered."
   ]
  },
  {
   "cell_type": "markdown",
   "metadata": {},
   "source": [
    "We can do some additional analysis to look at each category individually to see if maybe certain categories show more of an effect on quantity when a discount is given. By performing a one-way ANOVA for each category on the different 'Discount' levels, we can see for which categories the 'Discount' level is significant in regards to 'Quantity'."
   ]
  },
  {
   "cell_type": "code",
   "execution_count": 122,
   "metadata": {
    "scrolled": true
   },
   "outputs": [
    {
     "name": "stdout",
     "output_type": "stream",
     "text": [
      "Beverages\n",
      "                    sum_sq     df        F    PR(>F)\n",
      "C(Discount)    7080.094979    5.0  3.97345  0.001577\n",
      "Residual     141835.330764  398.0      NaN       NaN\n",
      "------------------------------------------------------\n",
      "Condiments\n",
      "                   sum_sq     df         F    PR(>F)\n",
      "C(Discount)   6693.336980    5.0  3.638131  0.003538\n",
      "Residual     77270.496353  210.0       NaN       NaN\n",
      "------------------------------------------------------\n",
      "Produce\n",
      "                   sum_sq     df         F    PR(>F)\n",
      "C(Discount)    589.240857    5.0  0.336231  0.890214\n",
      "Residual     45564.729731  130.0       NaN       NaN\n",
      "------------------------------------------------------\n",
      "Meat/Poultry\n",
      "                   sum_sq     df         F    PR(>F)\n",
      "C(Discount)   7150.327552    5.0  3.065112  0.011285\n",
      "Residual     77915.903662  167.0       NaN       NaN\n",
      "------------------------------------------------------\n",
      "Seafood\n",
      "                    sum_sq     df         F    PR(>F)\n",
      "C(Discount)    6080.291962    5.0  3.434426  0.004876\n",
      "Residual     114721.614099  324.0       NaN       NaN\n",
      "------------------------------------------------------\n",
      "Dairy Products\n",
      "                    sum_sq     df         F    PR(>F)\n",
      "C(Discount)    5552.698533    5.0  3.239239  0.007111\n",
      "Residual     123422.298735  360.0       NaN       NaN\n",
      "------------------------------------------------------\n",
      "Confections\n",
      "                   sum_sq     df         F    PR(>F)\n",
      "C(Discount)   2782.100311    5.0  1.891768  0.095274\n",
      "Residual     96473.672144  328.0       NaN       NaN\n",
      "------------------------------------------------------\n",
      "Grains/Cereals\n",
      "                   sum_sq     df         F    PR(>F)\n",
      "C(Discount)   1006.069734    5.0  0.597643  0.701795\n",
      "Residual     63969.052715  190.0       NaN       NaN\n",
      "------------------------------------------------------\n"
     ]
    }
   ],
   "source": [
    "for i in q2_data['CategoryName'].unique():\n",
    "    formula = 'Quantity ~ C(Discount)'\n",
    "    lm = ols(formula, q2_data[q2_data['CategoryName'] == i]).fit()\n",
    "    table = sm.stats.anova_lm(lm, typ=2)\n",
    "    print(i)\n",
    "    print(table)\n",
    "    print('------------------------------------------------------')"
   ]
  },
  {
   "cell_type": "markdown",
   "metadata": {},
   "source": [
    "A few of the above tests show a p-value of less than our alpha of 0.05. However, because we ran multiple additional tests, we should use a Bonferroni correction."
   ]
  },
  {
   "cell_type": "code",
   "execution_count": 123,
   "metadata": {},
   "outputs": [
    {
     "data": {
      "text/plain": [
       "0.00625"
      ]
     },
     "execution_count": 123,
     "metadata": {},
     "output_type": "execute_result"
    }
   ],
   "source": [
    "k = len(q2_data['CategoryName'].unique())\n",
    "alpha = 0.05\n",
    "bon_alpha = alpha/k\n",
    "bon_alpha"
   ]
  },
  {
   "cell_type": "markdown",
   "metadata": {},
   "source": [
    "Since we have 8 cateogories, we divide our alpha of 0.05 by 8 to get a new relevant alpha of 0.00625. Now comparing this to our results above, we can see that the categories of 'Beverages', 'Condiments', and 'Seafood' all have significantly different means of 'Quantity' across the different 'Discount' levels. "
   ]
  },
  {
   "cell_type": "markdown",
   "metadata": {},
   "source": [
    "We can observe the interaction between these categories and 'Discount' in an interaction plot."
   ]
  },
  {
   "cell_type": "code",
   "execution_count": 139,
   "metadata": {},
   "outputs": [
    {
     "data": {
      "image/png": "[encoded data removed]",
      "text/plain": [
       "<Figure size 432x288 with 1 Axes>"
      ]
     },
     "metadata": {
      "needs_background": "light"
     },
     "output_type": "display_data"
    }
   ],
   "source": [
    "from statsmodels.graphics.factorplots import interaction_plot\n",
    "q2_data_a = q2_data[(q2_data['CategoryName'] == 'Beverages') | (q2_data['CategoryName'] == 'Condiments') \n",
    "                    | (q2_data['CategoryName'] == 'Seafood')]\n",
    "fig = interaction_plot(q2_data_a['Discount'],q2_data_a['CategoryName'],q2_data_a['Quantity'],\n",
    "                       colors = ['red', 'blue', 'green'], ms=10)"
   ]
  },
  {
   "cell_type": "markdown",
   "metadata": {},
   "source": [
    "The above plot shows how the mean 'Quantity' changes in relation to the 'Discount' for each of the three categories. Interestingly, the highest mean for each category occurs at a different 'Discount' level. For 'Beverages', 0.05; for 'Condiments', 0.15; and for 'Seafood', 0.25."
   ]
  },
  {
   "cell_type": "markdown",
   "metadata": {},
   "source": [
    "To dig a little deeper, we can run a multiple comparison of mean using Tukey HSD to see where there's a significant difference between two 'Discount' levels. To do this, we will also need to calculate the appropriate family-wise error rate. Since we have 6 'Discount' levels (0.0, 0.05, 0.10, 0.15, 0.20, and 0.25) and will choose 2 for each comparison, we will have a total of 15 combinations. "
   ]
  },
  {
   "cell_type": "code",
   "execution_count": 148,
   "metadata": {},
   "outputs": [
    {
     "name": "stdout",
     "output_type": "stream",
     "text": [
      "Multiple Comparison of Means - Tukey HSD,FWER=0.54\n",
      "==============================================\n",
      "group1 group2 meandiff  lower    upper  reject\n",
      "----------------------------------------------\n",
      " 0.0    0.05  13.7417   7.1835  20.2999  True \n",
      " 0.0    0.1    8.3233   1.6475   14.999  True \n",
      " 0.0    0.15   3.7866  -1.8883   9.4615 False \n",
      " 0.0    0.2    8.434    2.9528  13.9152  True \n",
      " 0.0    0.25   3.1095  -2.8668   9.0858 False \n",
      " 0.05   0.1   -5.4185  -14.3265  3.4896 False \n",
      " 0.05   0.15  -9.9551   -18.14  -1.7703  True \n",
      " 0.05   0.2   -5.3077  -13.3595  2.7441 False \n",
      " 0.05   0.25  -10.6322 -19.0289 -2.2356  True \n",
      " 0.1    0.15  -4.5367  -12.816   3.7427 False \n",
      " 0.1    0.2    0.1108   -8.037   8.2586 False \n",
      " 0.1    0.25  -5.2138  -13.7025  3.275  False \n",
      " 0.15   0.2    4.6474  -2.7028  11.9977 False \n",
      " 0.15   0.25  -0.6771  -8.4036   7.0494 False \n",
      " 0.2    0.25  -5.3245  -12.9099  2.2608 False \n",
      "----------------------------------------------\n",
      "Multiple Comparison of Means - Tukey HSD,FWER=0.54\n",
      "==============================================\n",
      "group1 group2 meandiff  lower    upper  reject\n",
      "----------------------------------------------\n",
      " 0.0    0.05  14.6794   6.9164  22.4424  True \n",
      " 0.0    0.1    1.9837  -5.3269   9.2943 False \n",
      " 0.0    0.15   9.2088   0.8727  17.5449  True \n",
      " 0.0    0.2    0.9651  -8.1273  10.0575 False \n",
      " 0.0    0.25  16.6794   6.5285  26.8303  True \n",
      " 0.05   0.1   -12.6957 -22.5823  -2.809  True \n",
      " 0.05   0.15  -5.4706  -16.1379  5.1967 False \n",
      " 0.05   0.2   -13.7143 -24.9825 -2.4461  True \n",
      " 0.05   0.25    2.0    -10.1384 14.1384 False \n",
      " 0.1    0.15   7.2251  -3.1176  17.5678 False \n",
      " 0.1    0.2   -1.0186   -11.98   9.9428 False \n",
      " 0.1    0.25  14.6957   2.8415  26.5498  True \n",
      " 0.15   0.2   -8.2437  -19.9141  3.4267 False \n",
      " 0.15   0.25   7.4706  -5.0421  19.9833 False \n",
      " 0.2    0.25  15.7143   2.6855   28.743  True \n",
      "----------------------------------------------\n",
      "Multiple Comparison of Means - Tukey HSD,FWER=0.54\n",
      "==============================================\n",
      "group1 group2 meandiff  lower    upper  reject\n",
      "----------------------------------------------\n",
      " 0.0    0.05   0.7125   -5.695   7.1199 False \n",
      " 0.0    0.1    1.1894  -4.9409   7.3197 False \n",
      " 0.0    0.15   16.441   8.9969  23.8852  True \n",
      " 0.0    0.2    7.6733   1.543   13.8036  True \n",
      " 0.0    0.25   0.361   -6.3742   7.0962 False \n",
      " 0.05   0.1    0.477    -7.789   8.7429 False \n",
      " 0.05   0.15  15.7286   6.4463  25.0108  True \n",
      " 0.05   0.2    6.9608  -1.3051  15.2268 False \n",
      " 0.05   0.25  -0.3514  -9.0754   8.3726 False \n",
      " 0.1    0.15  15.2516   6.1584  24.3448  True \n",
      " 0.1    0.2    6.4839  -1.5692  14.5369 False \n",
      " 0.1    0.25  -0.8284  -9.3509   7.6942 False \n",
      " 0.15   0.2   -8.7677  -17.8609  0.3254 False \n",
      " 0.15   0.25   -16.08  -25.5915 -6.5685  True \n",
      " 0.2    0.25  -7.3123  -15.8348  1.2103 False \n",
      "----------------------------------------------\n"
     ]
    }
   ],
   "source": [
    "m = [q2_data[q2_data['CategoryName'] == 'Beverages'], q2_data[q2_data['CategoryName'] == 'Condiments'],\n",
    "    q2_data[q2_data['CategoryName'] == 'Seafood']]\n",
    "results = []\n",
    "for i in m:\n",
    "    mc = multi.MultiComparison(i['Quantity'], i['Discount'])\n",
    "    combinations = 15\n",
    "    fwer = 1 - (1 - alpha)**combinations\n",
    "    r = mc.tukeyhsd(fwer)\n",
    "    results.append([i, r])\n",
    "    print(r)"
   ]
  },
  {
   "cell_type": "markdown",
   "metadata": {},
   "source": [
    "From these results we can see that each category has several comparisons that have a statistically significant difference in mean of 'Quantity' of product sold in an order. "
   ]
  },
  {
   "cell_type": "markdown",
   "metadata": {},
   "source": [
    "For 'Beverages', going from no discount to either a 0.05, 0.10, or 0.20 discount all show a moderate increase in 'Quantity' with the highest increase being with a 'Discount' of 0.05. We also see that, strangely, a 'Discount' of 0.20 or 0.25 both have a lower average 'Quantity' when compared with a 'Discount' of 0.05."
   ]
  },
  {
   "cell_type": "markdown",
   "metadata": {},
   "source": [
    "For 'Condiments'\n",
    "\n",
    "0.05   0.15  -9.9551   -18.14  -1.7703  True \n",
    " 0.05   0.2   -5.3077  -13.3595  2.7441 False \n",
    " 0.05   0.25  -10.6322 -19.0289 -2.2356  True "
   ]
  },
  {
   "cell_type": "code",
   "execution_count": 81,
   "metadata": {},
   "outputs": [
    {
     "name": "stdout",
     "output_type": "stream",
     "text": [
      "      Multiple Comparison of Means - Tukey HSD,FWER=0.05      \n",
      "==============================================================\n",
      "    group1         group2     meandiff  lower    upper  reject\n",
      "--------------------------------------------------------------\n",
      "  Beverages      Condiments    1.4615  -18.6254 21.5485 False \n",
      "  Beverages     Confections   -8.7965  -26.7566  9.1635 False \n",
      "  Beverages    Dairy Products -6.2458  -23.1773 10.6858 False \n",
      "  Beverages    Grains/Cereals -14.094  -34.8022  6.6141 False \n",
      "  Beverages     Meat/Poultry  -16.7149 -37.7799   4.35  False \n",
      "  Beverages       Produce     -6.9551  -30.5247 16.6145 False \n",
      "  Beverages       Seafood     -12.467  -30.8607  5.9267 False \n",
      "  Condiments    Confections   -10.2581 -29.6279  9.1118 False \n",
      "  Condiments   Dairy Products -7.7073  -26.1276 10.7129 False \n",
      "  Condiments   Grains/Cereals -15.5556 -37.4977  6.3865 False \n",
      "  Condiments    Meat/Poultry  -18.1765 -40.4556  4.1027 False \n",
      "  Condiments      Produce     -8.4167  -33.0775 16.2441 False \n",
      "  Condiments      Seafood     -13.9286 -33.7012  5.844  False \n",
      " Confections   Dairy Products  2.5507  -13.5235  18.625 False \n",
      " Confections   Grains/Cereals -5.2975  -25.3108 14.7158 False \n",
      " Confections    Meat/Poultry  -7.9184  -28.3007 12.4639 False \n",
      " Confections      Produce      1.8414  -21.1201 24.8029 False \n",
      " Confections      Seafood     -3.6705  -21.2782 13.9372 False \n",
      "Dairy Products Grains/Cereals -7.8482  -26.9439 11.2475 False \n",
      "Dairy Products  Meat/Poultry  -10.4692 -29.9512  9.0129 False \n",
      "Dairy Products    Produce     -0.7093  -22.8756 21.4569 False \n",
      "Dairy Products    Seafood     -6.2213  -22.7786 10.3361 False \n",
      "Grains/Cereals  Meat/Poultry  -2.6209  -25.4617 20.2199 False \n",
      "Grains/Cereals    Produce      7.1389  -18.0304 32.3082 False \n",
      "Grains/Cereals    Seafood      1.627   -18.7764 22.0303 False \n",
      " Meat/Poultry     Produce      9.7598  -15.7039 35.2235 False \n",
      " Meat/Poultry     Seafood      4.2479  -16.5175 25.0133 False \n",
      "   Produce        Seafood     -5.5119  -28.8142 17.7903 False \n",
      "--------------------------------------------------------------\n",
      "      Multiple Comparison of Means - Tukey HSD,FWER=0.05      \n",
      "==============================================================\n",
      "    group1         group2     meandiff  lower    upper  reject\n",
      "--------------------------------------------------------------\n",
      "  Beverages      Condiments   -5.8157  -24.4304 12.7991 False \n",
      "  Beverages     Confections   -10.9533 -28.4004  6.4937 False \n",
      "  Beverages    Dairy Products  -3.16   -21.3829 15.0629 False \n",
      "  Beverages    Grains/Cereals   1.38   -22.7266 25.4866 False \n",
      "  Beverages     Meat/Poultry    6.08   -13.2483 25.4083 False \n",
      "  Beverages       Produce     -6.8978  -31.9427 18.1472 False \n",
      "  Beverages       Seafood     -6.5716  -23.8903 10.7471 False \n",
      "  Condiments    Confections   -5.1377  -22.9937 12.7184 False \n",
      "  Condiments   Dairy Products  2.6557  -15.9591 21.2704 False \n",
      "  Condiments   Grains/Cereals  7.1957  -17.2086 31.5999 False \n",
      "  Condiments    Meat/Poultry  11.8957  -7.8026  31.5939 False \n",
      "  Condiments      Produce     -1.0821  -26.4137 24.2494 False \n",
      "  Condiments      Seafood      -0.756  -18.4866 16.9747 False \n",
      " Confections   Dairy Products  7.7933  -9.6537  25.2404 False \n",
      " Confections   Grains/Cereals 12.3333  -11.1923 35.8589 False \n",
      " Confections    Meat/Poultry  17.0333  -1.5653   35.632 False \n",
      " Confections      Produce      4.0556  -20.4307 28.5418 False \n",
      " Confections      Seafood      4.3817  -12.1187 20.8821 False \n",
      "Dairy Products Grains/Cereals   4.54   -19.5666 28.6466 False \n",
      "Dairy Products  Meat/Poultry    9.24   -10.0883 28.5683 False \n",
      "Dairy Products    Produce     -3.7378  -28.7827 21.3072 False \n",
      "Dairy Products    Seafood     -3.4116  -20.7303 13.9071 False \n",
      "Grains/Cereals  Meat/Poultry    4.7    -20.2527 29.6527 False \n",
      "Grains/Cereals    Produce     -8.2778  -37.8802 21.3246 False \n",
      "Grains/Cereals    Seafood     -7.9516  -31.3822 15.4789 False \n",
      " Meat/Poultry     Produce     -12.9778 -38.8381 12.8826 False \n",
      " Meat/Poultry     Seafood     -12.6516 -31.1299  5.8266 False \n",
      "   Produce        Seafood      0.3262  -24.0688 24.7211 False \n",
      "--------------------------------------------------------------\n",
      "      Multiple Comparison of Means - Tukey HSD,FWER=0.05      \n",
      "==============================================================\n",
      "    group1         group2     meandiff  lower    upper  reject\n",
      "--------------------------------------------------------------\n",
      "  Beverages      Condiments    5.9461  -12.9699 24.8621 False \n",
      "  Beverages     Confections    3.6236  -12.4153 19.6624 False \n",
      "  Beverages    Dairy Products  4.0705  -12.4729 20.6139 False \n",
      "  Beverages    Grains/Cereals -1.3833  -24.3604 21.5937 False \n",
      "  Beverages     Meat/Poultry   6.8611  -17.0941 30.8164 False \n",
      "  Beverages       Produce     -2.7833  -25.7604 20.1937 False \n",
      "  Beverages       Seafood     13.2167  -4.7098  31.1431 False \n",
      "  Condiments    Confections   -2.3225  -21.9571 17.3121 False \n",
      "  Condiments   Dairy Products -1.8756  -21.9244 18.1733 False \n",
      "  Condiments   Grains/Cereals -7.3294  -32.9462 18.2874 False \n",
      "  Condiments    Meat/Poultry   0.915   -25.5826 27.4127 False \n",
      "  Condiments      Produce     -8.7294  -34.3462 16.8874 False \n",
      "  Condiments      Seafood      7.2706  -13.9339 28.4751 False \n",
      " Confections   Dairy Products  0.4469  -16.9136 17.8075 False \n",
      " Confections   Grains/Cereals -5.0069  -28.5791 18.5653 False \n",
      " Confections    Meat/Poultry   3.2375  -21.2891 27.7642 False \n",
      " Confections      Produce     -6.4069  -29.9791 17.1653 False \n",
      " Confections      Seafood      9.5931  -9.0901  28.2763 False \n",
      "Dairy Products Grains/Cereals -5.4538  -29.3722 18.4645 False \n",
      "Dairy Products  Meat/Poultry   2.7906  -22.0689 27.6501 False \n",
      "Dairy Products    Produce     -6.8538  -30.7722 17.0645 False \n",
      "Dairy Products    Seafood      9.1462  -9.9719  28.2642 False \n",
      "Grains/Cereals  Meat/Poultry   8.2444  -21.2896 37.7785 False \n",
      "Grains/Cereals    Produce       -1.4   -30.1463 27.3463 False \n",
      "Grains/Cereals    Seafood       14.6   -10.295   39.495 False \n",
      " Meat/Poultry     Produce     -9.6444  -39.1785 19.8896 False \n",
      " Meat/Poultry     Seafood      6.3556  -19.445  32.1561 False \n",
      "   Produce        Seafood       16.0    -8.895   40.895 False \n",
      "--------------------------------------------------------------\n",
      "      Multiple Comparison of Means - Tukey HSD,FWER=0.05      \n",
      "==============================================================\n",
      "    group1         group2     meandiff  lower    upper  reject\n",
      "--------------------------------------------------------------\n",
      "  Beverages      Condiments   -6.9451  -24.9397 11.0495 False \n",
      "  Beverages     Confections   -9.3484  -26.134   7.4372 False \n",
      "  Beverages    Dairy Products  2.4835  -11.8228 16.7898 False \n",
      "  Beverages    Grains/Cereals -1.6308  -19.1784 15.9169 False \n",
      "  Beverages     Meat/Poultry  -8.2308  -27.9485  11.487 False \n",
      "  Beverages       Produce     -7.8974  -33.2253 17.4304 False \n",
      "  Beverages       Seafood     -0.1985  -14.096   13.699 False \n",
      "  Condiments    Confections   -2.4034  -23.2479 18.4412 False \n",
      "  Condiments   Dairy Products  9.4286  -9.4767  28.3338 False \n",
      "  Condiments   Grains/Cereals  5.3143  -16.1487 26.7773 False \n",
      "  Condiments    Meat/Poultry  -1.2857  -24.5565  21.985 False \n",
      "  Condiments      Produce     -0.9524  -29.1346 27.2299 False \n",
      "  Condiments      Seafood      6.7465  -11.8513 25.3444 False \n",
      " Confections   Dairy Products 11.8319  -5.9264  29.5903 False \n",
      " Confections   Grains/Cereals  7.7176  -12.7423 28.1776 False \n",
      " Confections    Meat/Poultry   1.1176  -21.2314 23.4667 False \n",
      " Confections      Produce      1.451   -25.9751 28.8771 False \n",
      " Confections      Seafood      9.1499  -8.2808  26.5806 False \n",
      "Dairy Products Grains/Cereals -4.1143  -22.5946 14.3661 False \n",
      "Dairy Products  Meat/Poultry  -10.7143 -31.2664  9.8379 False \n",
      "Dairy Products    Produce     -10.381  -36.3637 15.6018 False \n",
      "Dairy Products    Seafood      -2.682   -17.74  12.3759 False \n",
      "Grains/Cereals  Meat/Poultry    -6.6   -29.5269 16.3269 False \n",
      "Grains/Cereals    Produce     -6.2667  -34.1657 21.6323 False \n",
      "Grains/Cereals    Seafood      1.4323  -16.7335  19.598 False \n",
      " Meat/Poultry     Produce      0.3333  -28.9792 29.6458 False \n",
      " Meat/Poultry     Seafood      8.0323  -12.2375  28.302 False \n",
      "   Produce        Seafood      7.6989  -18.061  33.4589 False \n",
      "--------------------------------------------------------------\n",
      "      Multiple Comparison of Means - Tukey HSD,FWER=0.05      \n",
      "==============================================================\n",
      "    group1         group2     meandiff  lower    upper  reject\n",
      "--------------------------------------------------------------\n",
      "  Beverages      Condiments   14.0938  -7.1752  35.3627 False \n",
      "  Beverages     Confections    5.316   -10.5861  21.218 False \n",
      "  Beverages    Dairy Products  9.821   -7.0326  26.6747 False \n",
      "  Beverages    Grains/Cereals -2.1062  -24.1524 19.9399 False \n",
      "  Beverages     Meat/Poultry  11.2516  -6.3728  28.8761 False \n",
      "  Beverages       Produce      1.8438  -22.2106 25.8981 False \n",
      "  Beverages       Seafood     -2.1863  -18.4296 14.0571 False \n",
      "  Condiments    Confections   -8.7778  -30.5447 12.9891 False \n",
      "  Condiments   Dairy Products -4.2727  -26.7443 18.1988 False \n",
      "  Condiments   Grains/Cereals  -16.2   -42.7887 10.3887 False \n",
      "  Condiments    Meat/Poultry  -2.8421  -25.8974 20.2132 False \n",
      "  Condiments      Produce      -12.25  -40.526   16.026 False \n",
      "  Condiments      Seafood      -16.28  -38.2975  5.7375 False \n",
      " Confections   Dairy Products  4.5051  -12.9728 21.9829 False \n",
      " Confections   Grains/Cereals -7.4222  -29.9492 15.1047 False \n",
      " Confections    Meat/Poultry   5.9357  -12.2866  24.158 False \n",
      " Confections      Produce     -3.4722  -27.968  21.0235 False \n",
      " Confections      Seafood     -7.5022  -24.3924  9.3879 False \n",
      "Dairy Products Grains/Cereals -11.9273 -35.1358 11.2812 False \n",
      "Dairy Products  Meat/Poultry   1.4306  -17.6278  20.489 False \n",
      "Dairy Products    Produce     -7.9773  -33.1012 17.1467 False \n",
      "Dairy Products    Seafood     -12.0073 -29.7962  5.7817 False \n",
      "Grains/Cereals  Meat/Poultry  13.3579  -10.4163 37.1321 False \n",
      "Grains/Cereals    Produce       3.95   -24.9152 32.8152 False \n",
      "Grains/Cereals    Seafood      -0.08   -22.8492 22.6892 False \n",
      " Meat/Poultry     Produce     -9.4079  -35.0553 16.2395 False \n",
      " Meat/Poultry     Seafood     -13.4379 -31.9588  5.083  False \n",
      "   Produce        Seafood      -4.03   -28.7487 20.6887 False \n",
      "--------------------------------------------------------------\n"
     ]
    }
   ],
   "source": [
    "d05 = q2_data[q2_data['Discount'] == 0.05].copy()\n",
    "d10 = q2_data[q2_data['Discount'] == 0.10].copy()\n",
    "d15 = q2_data[q2_data['Discount'] == 0.15].copy()\n",
    "d20 = q2_data[q2_data['Discount'] == 0.20].copy()\n",
    "d25 = q2_data[q2_data['Discount'] == 0.25].copy()\n",
    "\n",
    "\n",
    "mc = multi.MultiComparison(d05['Quantity'], d05['CategoryName'])\n",
    "print(mc.tukeyhsd())\n",
    "\n",
    "mc = multi.MultiComparison(d10['Quantity'], d10['CategoryName'])\n",
    "print(mc.tukeyhsd())\n",
    "\n",
    "mc = multi.MultiComparison(d15['Quantity'], d15['CategoryName'])\n",
    "print(mc.tukeyhsd())\n",
    "\n",
    "mc = multi.MultiComparison(d20['Quantity'], d20['CategoryName'])\n",
    "print(mc.tukeyhsd())\n",
    "\n",
    "mc = multi.MultiComparison(d25['Quantity'], d25['CategoryName'])\n",
    "print(mc.tukeyhsd())\n",
    "\n"
   ]
  },
  {
   "cell_type": "code",
   "execution_count": 65,
   "metadata": {},
   "outputs": [
    {
     "name": "stdout",
     "output_type": "stream",
     "text": [
      "0.2 Beverages Beverages\n",
      "1.0\n",
      "0.2 Beverages Condiments\n",
      "0.26344649959191296\n",
      "0.2 Beverages Produce\n",
      "0.3818807213817351\n",
      "0.2 Beverages Meat/Poultry\n",
      "0.23054143194900173\n",
      "0.2 Beverages Seafood\n",
      "0.9659235744330277\n",
      "0.2 Beverages Dairy Products\n",
      "0.639422003629611\n",
      "0.2 Beverages Confections\n",
      "0.08973039879170229\n",
      "0.2 Beverages Grains/Cereals\n",
      "0.8033409004824805\n",
      "0.2 Condiments Beverages\n",
      "0.26344649959191296\n",
      "0.2 Condiments Condiments\n",
      "1.0\n",
      "0.2 Condiments Produce\n",
      "0.9020378960918317\n",
      "0.2 Condiments Meat/Poultry\n",
      "0.8376414929730767\n",
      "0.2 Condiments Seafood\n",
      "0.2109664237141852\n",
      "0.2 Condiments Dairy Products\n",
      "0.15789268732887937\n",
      "0.2 Condiments Confections\n",
      "0.6243315842599158\n",
      "0.2 Condiments Grains/Cereals\n",
      "0.47346408444082566\n",
      "0.2 Produce Beverages\n",
      "0.3818807213817351\n",
      "0.2 Produce Condiments\n",
      "0.9020378960918317\n",
      "0.2 Produce Produce\n",
      "1.0\n",
      "0.2 Produce Meat/Poultry\n",
      "0.9662678798829597\n",
      "0.2 Produce Seafood\n",
      "0.3081781004421114\n",
      "0.2 Produce Dairy Products\n",
      "0.2793523306792966\n",
      "0.2 Produce Confections\n",
      "0.8096489033271768\n",
      "0.2 Produce Grains/Cereals\n",
      "0.5467464039986751\n",
      "0.2 Meat/Poultry Beverages\n",
      "0.23054143194900173\n",
      "0.2 Meat/Poultry Condiments\n",
      "0.8376414929730767\n",
      "0.2 Meat/Poultry Produce\n",
      "0.9662678798829597\n",
      "0.2 Meat/Poultry Meat/Poultry\n",
      "1.0\n",
      "0.2 Meat/Poultry Seafood\n",
      "0.17145122701177462\n",
      "0.2 Meat/Poultry Dairy Products\n",
      "0.14488752758336423\n",
      "0.2 Meat/Poultry Confections\n",
      "0.8250030673915931\n",
      "0.2 Meat/Poultry Grains/Cereals\n",
      "0.4126780113484235\n",
      "0.2 Seafood Beverages\n",
      "0.9659235744330277\n",
      "0.2 Seafood Condiments\n",
      "0.2109664237141852\n",
      "0.2 Seafood Produce\n",
      "0.3081781004421114\n",
      "0.2 Seafood Meat/Poultry\n",
      "0.17145122701177462\n",
      "0.2 Seafood Seafood\n",
      "1.0\n",
      "0.2 Seafood Dairy Products\n",
      "0.5973388505436099\n",
      "0.2 Seafood Confections\n",
      "0.05174364259606893\n",
      "0.2 Seafood Grains/Cereals\n",
      "0.811199915032406\n",
      "0.2 Dairy Products Beverages\n",
      "0.639422003629611\n",
      "0.2 Dairy Products Condiments\n",
      "0.15789268732887937\n",
      "0.2 Dairy Products Produce\n",
      "0.2793523306792966\n",
      "0.2 Dairy Products Meat/Poultry\n",
      "0.14488752758336423\n",
      "0.2 Dairy Products Seafood\n",
      "0.5973388505436099\n",
      "0.2 Dairy Products Dairy Products\n",
      "1.0\n",
      "0.2 Dairy Products Confections\n",
      "0.044896102557261446\n",
      "0.2 Dairy Products Grains/Cereals\n",
      "0.564763996993957\n",
      "0.2 Confections Beverages\n",
      "0.08973039879170229\n",
      "0.2 Confections Condiments\n",
      "0.6243315842599158\n",
      "0.2 Confections Produce\n",
      "0.8096489033271768\n",
      "0.2 Confections Meat/Poultry\n",
      "0.8250030673915931\n",
      "0.2 Confections Seafood\n",
      "0.05174364259606893\n",
      "0.2 Confections Dairy Products\n",
      "0.044896102557261446\n",
      "0.2 Confections Confections\n",
      "1.0\n",
      "0.2 Confections Grains/Cereals\n",
      "0.22655308284308212\n",
      "0.2 Grains/Cereals Beverages\n",
      "0.8033409004824805\n",
      "0.2 Grains/Cereals Condiments\n",
      "0.47346408444082566\n",
      "0.2 Grains/Cereals Produce\n",
      "0.5467464039986751\n",
      "0.2 Grains/Cereals Meat/Poultry\n",
      "0.4126780113484235\n",
      "0.2 Grains/Cereals Seafood\n",
      "0.811199915032406\n",
      "0.2 Grains/Cereals Dairy Products\n",
      "0.564763996993957\n",
      "0.2 Grains/Cereals Confections\n",
      "0.22655308284308212\n",
      "0.2 Grains/Cereals Grains/Cereals\n",
      "1.0\n",
      "0.0 Beverages Beverages\n",
      "1.0\n",
      "0.0 Beverages Condiments\n",
      "0.7638136943569263\n",
      "0.0 Beverages Produce\n",
      "0.9374262656592808\n",
      "0.0 Beverages Meat/Poultry\n",
      "0.9714491415406848\n",
      "0.0 Beverages Seafood\n",
      "0.7393765273682147\n",
      "0.0 Beverages Dairy Products\n",
      "0.37948842768210234\n",
      "0.0 Beverages Confections\n",
      "0.16048069952870375\n",
      "0.0 Beverages Grains/Cereals\n",
      "0.2943294848868101\n",
      "0.0 Condiments Beverages\n",
      "0.7638136943569263\n",
      "0.0 Condiments Condiments\n",
      "1.0\n",
      "0.0 Condiments Produce\n",
      "0.8657384417027585\n",
      "0.0 Condiments Meat/Poultry\n",
      "0.796228698429619\n",
      "0.0 Condiments Seafood\n",
      "0.9845528790218081\n",
      "0.0 Condiments Dairy Products\n",
      "0.6419364764276743\n",
      "0.0 Condiments Confections\n",
      "0.35147650051708024\n",
      "0.0 Condiments Grains/Cereals\n",
      "0.4955601176118031\n",
      "0.0 Produce Beverages\n",
      "0.9374262656592808\n",
      "0.0 Produce Condiments\n",
      "0.8657384417027585\n",
      "0.0 Produce Produce\n",
      "1.0\n",
      "0.0 Produce Meat/Poultry\n",
      "0.9298805789838229\n",
      "0.0 Produce Seafood\n",
      "0.861427789652144\n",
      "0.0 Produce Dairy Products\n",
      "0.5672615346511468\n",
      "0.0 Produce Confections\n",
      "0.33385750545311677\n",
      "0.0 Produce Grains/Cereals\n",
      "0.4581483104995121\n",
      "0.0 Meat/Poultry Beverages\n",
      "0.9714491415406848\n",
      "0.0 Meat/Poultry Condiments\n",
      "0.796228698429619\n",
      "0.0 Meat/Poultry Produce\n",
      "0.9298805789838229\n",
      "0.0 Meat/Poultry Meat/Poultry\n",
      "1.0\n",
      "0.0 Meat/Poultry Seafood\n",
      "0.7891685206227019\n",
      "0.0 Meat/Poultry Dairy Products\n",
      "0.5093198907356208\n",
      "0.0 Meat/Poultry Confections\n",
      "0.3009199764985832\n",
      "0.0 Meat/Poultry Grains/Cereals\n",
      "0.42595584416021304\n",
      "0.0 Seafood Beverages\n",
      "0.7393765273682147\n",
      "0.0 Seafood Condiments\n",
      "0.9845528790218081\n",
      "0.0 Seafood Produce\n",
      "0.861427789652144\n",
      "0.0 Seafood Meat/Poultry\n",
      "0.7891685206227019\n",
      "0.0 Seafood Seafood\n",
      "1.0\n",
      "0.0 Seafood Dairy Products\n",
      "0.6475747187997565\n",
      "0.0 Seafood Confections\n",
      "0.3495861135156355\n",
      "0.0 Seafood Grains/Cereals\n",
      "0.5108386321839853\n",
      "0.0 Dairy Products Beverages\n",
      "0.37948842768210234\n",
      "0.0 Dairy Products Condiments\n",
      "0.6419364764276743\n",
      "0.0 Dairy Products Produce\n",
      "0.5672615346511468\n",
      "0.0 Dairy Products Meat/Poultry\n",
      "0.5093198907356208\n",
      "0.0 Dairy Products Seafood\n",
      "0.6475747187997565\n",
      "0.0 Dairy Products Dairy Products\n",
      "1.0\n",
      "0.0 Dairy Products Confections\n",
      "0.5871200449962087\n",
      "0.0 Dairy Products Grains/Cereals\n",
      "0.7646897018531523\n",
      "0.0 Confections Beverages\n",
      "0.16048069952870375\n",
      "0.0 Confections Condiments\n",
      "0.35147650051708024\n",
      "0.0 Confections Produce\n",
      "0.33385750545311677\n",
      "0.0 Confections Meat/Poultry\n",
      "0.3009199764985832\n",
      "0.0 Confections Seafood\n",
      "0.3495861135156355\n",
      "0.0 Confections Dairy Products\n",
      "0.5871200449962087\n",
      "0.0 Confections Confections\n",
      "1.0\n",
      "0.0 Confections Grains/Cereals\n",
      "0.8645008110542958\n",
      "0.0 Grains/Cereals Beverages\n",
      "0.2943294848868101\n",
      "0.0 Grains/Cereals Condiments\n",
      "0.4955601176118031\n",
      "0.0 Grains/Cereals Produce\n",
      "0.4581483104995121\n",
      "0.0 Grains/Cereals Meat/Poultry\n",
      "0.42595584416021304\n",
      "0.0 Grains/Cereals Seafood\n",
      "0.5108386321839853\n",
      "0.0 Grains/Cereals Dairy Products\n",
      "0.7646897018531523\n",
      "0.0 Grains/Cereals Confections\n",
      "0.8645008110542958\n",
      "0.0 Grains/Cereals Grains/Cereals\n",
      "1.0\n",
      "0.15 Beverages Beverages\n",
      "1.0\n",
      "0.15 Beverages Condiments\n",
      "0.33623355693932\n",
      "0.15 Beverages Produce\n",
      "0.6441040237263178\n",
      "0.15 Beverages Meat/Poultry\n",
      "0.2854348756611163\n",
      "0.15 Beverages Seafood\n",
      "0.03347816556330738\n",
      "0.15 Beverages Dairy Products\n",
      "0.3741630181086143\n",
      "0.15 Beverages Confections\n",
      "0.41318564708547423\n",
      "0.15 Beverages Grains/Cereals\n",
      "0.8211067140307514\n",
      "0.15 Condiments Beverages\n",
      "0.33623355693932\n",
      "0.15 Condiments Condiments\n",
      "1.0\n",
      "0.15 Condiments Produce\n",
      "0.379784476593531\n",
      "0.15 Condiments Meat/Poultry\n",
      "0.9302931929524236\n",
      "0.15 Condiments Seafood\n",
      "0.4422728789612814\n",
      "0.15 Condiments Dairy Products\n",
      "0.7936925400914547\n",
      "0.15 Condiments Confections\n",
      "0.7369129445616884\n",
      "0.15 Condiments Grains/Cereals\n",
      "0.46573489532490675\n",
      "0.15 Produce Beverages\n",
      "0.6441040237263178\n",
      "0.15 Produce Condiments\n",
      "0.379784476593531\n",
      "0.15 Produce Produce\n",
      "1.0\n",
      "0.15 Produce Meat/Poultry\n",
      "0.25376030630608365\n",
      "0.15 Produce Seafood\n",
      "0.11811148770265882\n",
      "0.15 Produce Dairy Products\n",
      "0.3263604905739087\n",
      "0.15 Produce Confections\n",
      "0.34783340871170765\n",
      "0.15 Produce Grains/Cereals\n",
      "0.8616624936891214\n",
      "0.15 Meat/Poultry Beverages\n",
      "0.2854348756611163\n",
      "0.15 Meat/Poultry Condiments\n",
      "0.9302931929524236\n",
      "0.15 Meat/Poultry Produce\n",
      "0.25376030630608365\n",
      "0.15 Meat/Poultry Meat/Poultry\n",
      "1.0\n",
      "0.15 Meat/Poultry Seafood\n",
      "0.5504152100628166\n",
      "0.15 Meat/Poultry Dairy Products\n",
      "0.7047428235827335\n",
      "0.15 Meat/Poultry Confections\n",
      "0.6531292170487872\n",
      "0.15 Meat/Poultry Grains/Cereals\n",
      "0.3438865334307446\n",
      "0.15 Seafood Beverages\n",
      "0.03347816556330738\n",
      "0.15 Seafood Condiments\n",
      "0.4422728789612814\n",
      "0.15 Seafood Produce\n",
      "0.11811148770265882\n",
      "0.15 Seafood Meat/Poultry\n",
      "0.5504152100628166\n",
      "0.15 Seafood Seafood\n",
      "1.0\n",
      "0.15 Seafood Dairy Products\n",
      "0.20175811756385353\n",
      "0.15 Seafood Confections\n",
      "0.16417385183101224\n",
      "0.15 Seafood Grains/Cereals\n",
      "0.1567216402820541\n",
      "0.15 Dairy Products Beverages\n",
      "0.3741630181086143\n",
      "0.15 Dairy Products Condiments\n",
      "0.7936925400914547\n",
      "0.15 Dairy Products Produce\n",
      "0.3263604905739087\n",
      "0.15 Dairy Products Meat/Poultry\n",
      "0.7047428235827335\n",
      "0.15 Dairy Products Seafood\n",
      "0.20175811756385353\n",
      "0.15 Dairy Products Dairy Products\n",
      "1.0\n",
      "0.15 Dairy Products Confections\n",
      "0.9304664359350583\n",
      "0.15 Dairy Products Grains/Cereals\n",
      "0.4413969507955101\n",
      "0.15 Confections Beverages\n",
      "0.41318564708547423\n",
      "0.15 Confections Condiments\n",
      "0.7369129445616884\n",
      "0.15 Confections Produce\n",
      "0.34783340871170765\n",
      "0.15 Confections Meat/Poultry\n",
      "0.6531292170487872\n",
      "0.15 Confections Seafood\n",
      "0.16417385183101224\n",
      "0.15 Confections Dairy Products\n",
      "0.9304664359350583\n",
      "0.15 Confections Confections\n",
      "1.0\n",
      "0.15 Confections Grains/Cereals\n",
      "0.46919515155050173\n",
      "0.15 Grains/Cereals Beverages\n",
      "0.8211067140307514\n",
      "0.15 Grains/Cereals Condiments\n",
      "0.46573489532490675\n",
      "0.15 Grains/Cereals Produce\n",
      "0.8616624936891214\n",
      "0.15 Grains/Cereals Meat/Poultry\n",
      "0.3438865334307446\n",
      "0.15 Grains/Cereals Seafood\n",
      "0.1567216402820541\n",
      "0.15 Grains/Cereals Dairy Products\n",
      "0.4413969507955101\n",
      "0.15 Grains/Cereals Confections\n",
      "0.46919515155050173\n",
      "0.15 Grains/Cereals Grains/Cereals\n",
      "1.0\n",
      "0.25 Beverages Beverages\n",
      "1.0\n",
      "0.25 Beverages Condiments\n",
      "0.08093895822679151\n",
      "0.25 Beverages Produce\n",
      "0.7971437289840291\n",
      "0.25 Beverages Meat/Poultry\n",
      "0.04503675290762132\n",
      "0.25 Beverages Seafood\n",
      "0.6485572221933593\n",
      "0.25 Beverages Dairy Products\n",
      "0.08840238676038556\n",
      "0.25 Beverages Confections\n",
      "0.29281314207830483\n",
      "0.25 Beverages Grains/Cereals\n",
      "0.7349891337911694\n",
      "0.25 Condiments Beverages\n",
      "0.08093895822679151\n",
      "0.25 Condiments Condiments\n"
     ]
    },
    {
     "name": "stdout",
     "output_type": "stream",
     "text": [
      "1.0\n",
      "0.25 Condiments Produce\n",
      "0.32286948903926094\n",
      "0.25 Condiments Meat/Poultry\n",
      "0.7598634891547071\n",
      "0.25 Condiments Seafood\n",
      "0.04973847841459459\n",
      "0.25 Condiments Dairy Products\n",
      "0.657777349237066\n",
      "0.25 Condiments Confections\n",
      "0.30454799432574214\n",
      "0.25 Condiments Grains/Cereals\n",
      "0.1346256444450837\n",
      "0.25 Produce Beverages\n",
      "0.7971437289840291\n",
      "0.25 Produce Condiments\n",
      "0.32286948903926094\n",
      "0.25 Produce Produce\n",
      "1.0\n",
      "0.25 Produce Meat/Poultry\n",
      "0.2252226895781466\n",
      "0.25 Produce Seafood\n",
      "0.544946191912381\n",
      "0.25 Produce Dairy Products\n",
      "0.3637306658087224\n",
      "0.25 Produce Confections\n",
      "0.647065009437843\n",
      "0.25 Produce Grains/Cereals\n",
      "0.48910009861447445\n",
      "0.25 Meat/Poultry Beverages\n",
      "0.04503675290762132\n",
      "0.25 Meat/Poultry Condiments\n",
      "0.7598634891547071\n",
      "0.25 Meat/Poultry Produce\n",
      "0.2252226895781466\n",
      "0.25 Meat/Poultry Meat/Poultry\n",
      "1.0\n",
      "0.25 Meat/Poultry Seafood\n",
      "0.017128149882226704\n",
      "0.25 Meat/Poultry Dairy Products\n",
      "0.8299251863159581\n",
      "0.25 Meat/Poultry Confections\n",
      "0.3136526962593397\n",
      "0.25 Meat/Poultry Grains/Cereals\n",
      "0.04796909632945028\n",
      "0.25 Seafood Beverages\n",
      "0.6485572221933593\n",
      "0.25 Seafood Condiments\n",
      "0.04973847841459459\n",
      "0.25 Seafood Produce\n",
      "0.544946191912381\n",
      "0.25 Seafood Meat/Poultry\n",
      "0.017128149882226704\n",
      "0.25 Seafood Seafood\n",
      "1.0\n",
      "0.25 Seafood Dairy Products\n",
      "0.04292611545123691\n",
      "0.25 Seafood Confections\n",
      "0.14576476462507934\n",
      "0.25 Seafood Grains/Cereals\n",
      "0.9887266037657364\n",
      "0.25 Dairy Products Beverages\n",
      "0.08840238676038556\n",
      "0.25 Dairy Products Condiments\n",
      "0.657777349237066\n",
      "0.25 Dairy Products Produce\n",
      "0.3637306658087224\n",
      "0.25 Dairy Products Meat/Poultry\n",
      "0.8299251863159581\n",
      "0.25 Dairy Products Seafood\n",
      "0.04292611545123691\n",
      "0.25 Dairy Products Dairy Products\n",
      "1.0\n",
      "0.25 Dairy Products Confections\n",
      "0.4601192914223414\n",
      "0.25 Dairy Products Grains/Cereals\n",
      "0.12160706673482688\n",
      "0.25 Confections Beverages\n",
      "0.29281314207830483\n",
      "0.25 Confections Condiments\n",
      "0.30454799432574214\n",
      "0.25 Confections Produce\n",
      "0.647065009437843\n",
      "0.25 Confections Meat/Poultry\n",
      "0.3136526962593397\n",
      "0.25 Confections Seafood\n",
      "0.14576476462507934\n",
      "0.25 Confections Dairy Products\n",
      "0.4601192914223414\n",
      "0.25 Confections Confections\n",
      "1.0\n",
      "0.25 Confections Grains/Cereals\n",
      "0.26141617648089993\n",
      "0.25 Grains/Cereals Beverages\n",
      "0.7349891337911694\n",
      "0.25 Grains/Cereals Condiments\n",
      "0.1346256444450837\n",
      "0.25 Grains/Cereals Produce\n",
      "0.48910009861447445\n",
      "0.25 Grains/Cereals Meat/Poultry\n",
      "0.04796909632945028\n",
      "0.25 Grains/Cereals Seafood\n",
      "0.9887266037657364\n",
      "0.25 Grains/Cereals Dairy Products\n",
      "0.12160706673482688\n",
      "0.25 Grains/Cereals Confections\n",
      "0.26141617648089993\n",
      "0.25 Grains/Cereals Grains/Cereals\n",
      "1.0\n",
      "0.05 Beverages Beverages\n",
      "1.0\n",
      "0.05 Beverages Condiments\n",
      "0.8649807817191559\n",
      "0.05 Beverages Produce\n",
      "0.5255962005655631\n",
      "0.05 Beverages Meat/Poultry\n",
      "0.03803233835484319\n",
      "0.05 Beverages Seafood\n",
      "0.05420106759730804\n",
      "0.05 Beverages Dairy Products\n",
      "0.31852920413121305\n",
      "0.05 Beverages Confections\n",
      "0.16120737979803362\n",
      "0.05 Beverages Grains/Cereals\n",
      "0.07587551758744525\n",
      "0.05 Condiments Beverages\n",
      "0.8649807817191559\n",
      "0.05 Condiments Condiments\n",
      "1.0\n",
      "0.05 Condiments Produce\n",
      "0.4503890248595015\n",
      "0.05 Condiments Meat/Poultry\n",
      "0.02061769315088842\n",
      "0.05 Condiments Seafood\n",
      "0.029154926944092212\n",
      "0.05 Condiments Dairy Products\n",
      "0.23252991801405887\n",
      "0.05 Condiments Confections\n",
      "0.09992169029912722\n",
      "0.05 Condiments Grains/Cereals\n",
      "0.045571429480016946\n",
      "0.05 Produce Beverages\n",
      "0.5255962005655631\n",
      "0.05 Produce Condiments\n",
      "0.4503890248595015\n",
      "0.05 Produce Produce\n",
      "1.0\n",
      "0.05 Produce Meat/Poultry\n",
      "0.30509323652538783\n",
      "0.05 Produce Seafood\n",
      "0.47950032301347567\n",
      "0.05 Produce Dairy Products\n",
      "0.9303312256855973\n",
      "0.05 Produce Confections\n",
      "0.8110411619757901\n",
      "0.05 Produce Grains/Cereals\n",
      "0.45274357437321266\n",
      "0.05 Meat/Poultry Beverages\n",
      "0.03803233835484319\n",
      "0.05 Meat/Poultry Condiments\n",
      "0.02061769315088842\n",
      "0.05 Meat/Poultry Produce\n",
      "0.30509323652538783\n",
      "0.05 Meat/Poultry Meat/Poultry\n",
      "1.0\n",
      "0.05 Meat/Poultry Seafood\n",
      "0.3660464028673085\n",
      "0.05 Meat/Poultry Dairy Products\n",
      "0.07039552673999945\n",
      "0.05 Meat/Poultry Confections\n",
      "0.10515709391823828\n",
      "0.05 Meat/Poultry Grains/Cereals\n",
      "0.6331526050361234\n",
      "0.05 Seafood Beverages\n",
      "0.05420106759730804\n",
      "0.05 Seafood Condiments\n",
      "0.029154926944092212\n",
      "0.05 Seafood Produce\n",
      "0.47950032301347567\n",
      "0.05 Seafood Meat/Poultry\n",
      "0.3660464028673085\n",
      "0.05 Seafood Seafood\n",
      "1.0\n",
      "0.05 Seafood Dairy Products\n",
      "0.18578594749764168\n",
      "0.05 Seafood Confections\n",
      "0.3736678633205309\n",
      "0.05 Seafood Grains/Cereals\n",
      "0.7350261996822072\n",
      "0.05 Dairy Products Beverages\n",
      "0.31852920413121305\n",
      "0.05 Dairy Products Condiments\n",
      "0.23252991801405887\n",
      "0.05 Dairy Products Produce\n",
      "0.9303312256855973\n",
      "0.05 Dairy Products Meat/Poultry\n",
      "0.07039552673999945\n",
      "0.05 Dairy Products Seafood\n",
      "0.18578594749764168\n",
      "0.05 Dairy Products Dairy Products\n",
      "1.0\n",
      "0.05 Dairy Products Confections\n",
      "0.5791751266369819\n",
      "0.05 Dairy Products Grains/Cereals\n",
      "0.17099656400779387\n",
      "0.05 Confections Beverages\n",
      "0.16120737979803362\n",
      "0.05 Confections Condiments\n",
      "0.09992169029912722\n",
      "0.05 Confections Produce\n",
      "0.8110411619757901\n",
      "0.05 Confections Meat/Poultry\n",
      "0.10515709391823828\n",
      "0.05 Confections Seafood\n",
      "0.3736678633205309\n",
      "0.05 Confections Dairy Products\n",
      "0.5791751266369819\n",
      "0.05 Confections Confections\n",
      "1.0\n",
      "0.05 Confections Grains/Cereals\n",
      "0.28340678373422407\n",
      "0.05 Grains/Cereals Beverages\n",
      "0.07587551758744525\n",
      "0.05 Grains/Cereals Condiments\n",
      "0.045571429480016946\n",
      "0.05 Grains/Cereals Produce\n",
      "0.45274357437321266\n",
      "0.05 Grains/Cereals Meat/Poultry\n",
      "0.6331526050361234\n",
      "0.05 Grains/Cereals Seafood\n",
      "0.7350261996822072\n",
      "0.05 Grains/Cereals Dairy Products\n",
      "0.17099656400779387\n",
      "0.05 Grains/Cereals Confections\n",
      "0.28340678373422407\n",
      "0.05 Grains/Cereals Grains/Cereals\n",
      "1.0\n",
      "0.1 Beverages Beverages\n",
      "1.0\n",
      "0.1 Beverages Condiments\n",
      "0.3702241409914562\n",
      "0.1 Beverages Produce\n",
      "0.46685482783597454\n",
      "0.1 Beverages Meat/Poultry\n",
      "0.515024212004637\n",
      "0.1 Beverages Seafood\n",
      "0.2517910917831101\n",
      "0.1 Beverages Dairy Products\n",
      "0.6094205989520428\n",
      "0.1 Beverages Confections\n",
      "0.03689474503305327\n",
      "0.1 Beverages Grains/Cereals\n",
      "0.8781036655888763\n",
      "0.1 Condiments Beverages\n",
      "0.3702241409914562\n",
      "0.1 Condiments Condiments\n",
      "1.0\n",
      "0.1 Condiments Produce\n",
      "0.8810806759682828\n",
      "0.1 Condiments Meat/Poultry\n",
      "0.17374037700392028\n",
      "0.1 Condiments Seafood\n",
      "0.8740114109282882\n",
      "0.1 Condiments Dairy Products\n",
      "0.6015407728755716\n",
      "0.1 Condiments Confections\n",
      "0.1983511880306953\n",
      "0.1 Condiments Grains/Cereals\n",
      "0.3028719585379198\n",
      "0.1 Produce Beverages\n",
      "0.46685482783597454\n",
      "0.1 Produce Condiments\n",
      "0.8810806759682828\n",
      "0.1 Produce Produce\n",
      "1.0\n",
      "0.1 Produce Meat/Poultry\n",
      "0.3260325669507351\n",
      "0.1 Produce Seafood\n",
      "0.9603745443979756\n",
      "0.1 Produce Dairy Products\n",
      "0.5879586420177019\n",
      "0.1 Produce Confections\n",
      "0.4127704907510056\n",
      "0.1 Produce Grains/Cereals\n",
      "0.35148386971229595\n",
      "0.1 Meat/Poultry Beverages\n",
      "0.515024212004637\n",
      "0.1 Meat/Poultry Condiments\n",
      "0.17374037700392028\n",
      "0.1 Meat/Poultry Produce\n",
      "0.3260325669507351\n",
      "0.1 Meat/Poultry Meat/Poultry\n",
      "1.0\n",
      "0.1 Meat/Poultry Seafood\n",
      "0.09880913999227545\n",
      "0.1 Meat/Poultry Dairy Products\n",
      "0.26719374125529033\n",
      "0.1 Meat/Poultry Confections\n",
      "0.019371012664920525\n",
      "0.1 Meat/Poultry Grains/Cereals\n",
      "0.7061257811113129\n",
      "0.1 Seafood Beverages\n",
      "0.2517910917831101\n",
      "0.1 Seafood Condiments\n",
      "0.8740114109282882\n",
      "0.1 Seafood Produce\n",
      "0.9603745443979756\n",
      "0.1 Seafood Meat/Poultry\n",
      "0.09880913999227545\n",
      "0.1 Seafood Seafood\n",
      "1.0\n",
      "0.1 Seafood Dairy Products\n",
      "0.45481135746200585\n",
      "0.1 Seafood Confections\n",
      "0.22745206584635363\n",
      "0.1 Seafood Grains/Cereals\n",
      "0.21010575324405842\n",
      "0.1 Dairy Products Beverages\n",
      "0.6094205989520428\n",
      "0.1 Dairy Products Condiments\n",
      "0.6015407728755716\n",
      "0.1 Dairy Products Produce\n",
      "0.5879586420177019\n",
      "0.1 Dairy Products Meat/Poultry\n",
      "0.26719374125529033\n",
      "0.1 Dairy Products Seafood\n",
      "0.45481135746200585\n",
      "0.1 Dairy Products Dairy Products\n",
      "1.0\n",
      "0.1 Dairy Products Confections\n",
      "0.043035025521324634\n",
      "0.1 Dairy Products Grains/Cereals\n",
      "0.4924980499924896\n",
      "0.1 Confections Beverages\n",
      "0.03689474503305327\n",
      "0.1 Confections Condiments\n",
      "0.1983511880306953\n",
      "0.1 Confections Produce\n",
      "0.4127704907510056\n",
      "0.1 Confections Meat/Poultry\n",
      "0.019371012664920525\n",
      "0.1 Confections Seafood\n",
      "0.22745206584635363\n",
      "0.1 Confections Dairy Products\n",
      "0.043035025521324634\n",
      "0.1 Confections Confections\n",
      "1.0\n",
      "0.1 Confections Grains/Cereals\n",
      "0.01278345368127166\n",
      "0.1 Grains/Cereals Beverages\n",
      "0.8781036655888763\n",
      "0.1 Grains/Cereals Condiments\n",
      "0.3028719585379198\n",
      "0.1 Grains/Cereals Produce\n",
      "0.35148386971229595\n",
      "0.1 Grains/Cereals Meat/Poultry\n",
      "0.7061257811113129\n",
      "0.1 Grains/Cereals Seafood\n",
      "0.21010575324405842\n",
      "0.1 Grains/Cereals Dairy Products\n",
      "0.4924980499924896\n",
      "0.1 Grains/Cereals Confections\n",
      "0.01278345368127166\n",
      "0.1 Grains/Cereals Grains/Cereals\n",
      "1.0\n"
     ]
    }
   ],
   "source": [
    "cats = q2_data['CategoryName'].unique()\n",
    "disc = q2_data['Discount'].unique()\n",
    "for i in disc:\n",
    "    for j in cats:\n",
    "        c = 0\n",
    "        while c < len(cats):\n",
    "            print(str(i) + \" \" + str(j) + \" \" + str(cats[c]))\n",
    "            X = q2_data['Quantity'][(q2_data['Discount'] == i) & (q2_data['CategoryName'] == j)]\n",
    "            y = q2_data['Quantity'][(q2_data['Discount'] == i) & (q2_data['CategoryName'] == cats[c])]\n",
    "            p = stats.ttest_ind(X, y)[1]\n",
    "            print(p)\n",
    "            c += 1"
   ]
  },
  {
   "cell_type": "code",
   "execution_count": 16,
   "metadata": {},
   "outputs": [
    {
     "ename": "PatsyError",
     "evalue": "expected a noun, but instead the expression ended\n    Quantity ~\n             ^",
     "output_type": "error",
     "traceback": [
      "\u001b[1;31m---------------------------------------------------------------------------\u001b[0m",
      "\u001b[1;31mPatsyError\u001b[0m                                Traceback (most recent call last)",
      "\u001b[1;32m<ipython-input-16-ab88050cb923>\u001b[0m in \u001b[0;36m<module>\u001b[1;34m()\u001b[0m\n\u001b[0;32m      5\u001b[0m         \u001b[0mj_data\u001b[0m \u001b[1;33m=\u001b[0m \u001b[0mi_data\u001b[0m\u001b[1;33m[\u001b[0m\u001b[0mi_data\u001b[0m\u001b[1;33m[\u001b[0m\u001b[1;34m'Discount'\u001b[0m\u001b[1;33m]\u001b[0m \u001b[1;33m==\u001b[0m \u001b[0mj\u001b[0m\u001b[1;33m]\u001b[0m\u001b[1;33m\u001b[0m\u001b[0m\n\u001b[0;32m      6\u001b[0m         \u001b[0mformula\u001b[0m \u001b[1;33m=\u001b[0m \u001b[1;34m'Quantity ~ '\u001b[0m\u001b[1;33m\u001b[0m\u001b[0m\n\u001b[1;32m----> 7\u001b[1;33m         \u001b[0mlm\u001b[0m \u001b[1;33m=\u001b[0m \u001b[0mols\u001b[0m\u001b[1;33m(\u001b[0m\u001b[0mformula\u001b[0m\u001b[1;33m,\u001b[0m \u001b[0mj_data\u001b[0m\u001b[1;33m)\u001b[0m\u001b[1;33m.\u001b[0m\u001b[0mfit\u001b[0m\u001b[1;33m(\u001b[0m\u001b[1;33m)\u001b[0m\u001b[1;33m\u001b[0m\u001b[0m\n\u001b[0m\u001b[0;32m      8\u001b[0m         \u001b[0mtable\u001b[0m \u001b[1;33m=\u001b[0m \u001b[0msm\u001b[0m\u001b[1;33m.\u001b[0m\u001b[0mstats\u001b[0m\u001b[1;33m.\u001b[0m\u001b[0manova_lm\u001b[0m\u001b[1;33m(\u001b[0m\u001b[0mlm\u001b[0m\u001b[1;33m,\u001b[0m \u001b[0mtyp\u001b[0m\u001b[1;33m=\u001b[0m\u001b[1;36m1\u001b[0m\u001b[1;33m)\u001b[0m\u001b[1;33m\u001b[0m\u001b[0m\n\u001b[0;32m      9\u001b[0m         \u001b[0mresults\u001b[0m\u001b[1;33m.\u001b[0m\u001b[0mappend\u001b[0m\u001b[1;33m(\u001b[0m\u001b[1;33m[\u001b[0m\u001b[0mstr\u001b[0m\u001b[1;33m(\u001b[0m\u001b[0mi\u001b[0m\u001b[1;33m)\u001b[0m \u001b[1;33m+\u001b[0m \u001b[1;34m\" + \"\u001b[0m \u001b[1;33m+\u001b[0m \u001b[0mstr\u001b[0m\u001b[1;33m(\u001b[0m\u001b[0mj\u001b[0m\u001b[1;33m)\u001b[0m\u001b[1;33m,\u001b[0m \u001b[0mtable\u001b[0m\u001b[1;33m[\u001b[0m\u001b[1;34m'F'\u001b[0m\u001b[1;33m]\u001b[0m\u001b[1;33m.\u001b[0m\u001b[0miloc\u001b[0m\u001b[1;33m[\u001b[0m\u001b[1;36m0\u001b[0m\u001b[1;33m]\u001b[0m\u001b[1;33m,\u001b[0m \u001b[0mtable\u001b[0m\u001b[1;33m[\u001b[0m\u001b[1;34m'PR(>F)'\u001b[0m\u001b[1;33m]\u001b[0m\u001b[1;33m.\u001b[0m\u001b[0miloc\u001b[0m\u001b[1;33m[\u001b[0m\u001b[1;36m0\u001b[0m\u001b[1;33m]\u001b[0m\u001b[1;33m]\u001b[0m\u001b[1;33m)\u001b[0m\u001b[1;33m\u001b[0m\u001b[0m\n",
      "\u001b[1;32m~\\Anaconda3\\lib\\site-packages\\statsmodels\\base\\model.py\u001b[0m in \u001b[0;36mfrom_formula\u001b[1;34m(cls, formula, data, subset, drop_cols, *args, **kwargs)\u001b[0m\n\u001b[0;32m    153\u001b[0m \u001b[1;33m\u001b[0m\u001b[0m\n\u001b[0;32m    154\u001b[0m         tmp = handle_formula_data(data, None, formula, depth=eval_env,\n\u001b[1;32m--> 155\u001b[1;33m                                   missing=missing)\n\u001b[0m\u001b[0;32m    156\u001b[0m         \u001b[1;33m(\u001b[0m\u001b[1;33m(\u001b[0m\u001b[0mendog\u001b[0m\u001b[1;33m,\u001b[0m \u001b[0mexog\u001b[0m\u001b[1;33m)\u001b[0m\u001b[1;33m,\u001b[0m \u001b[0mmissing_idx\u001b[0m\u001b[1;33m,\u001b[0m \u001b[0mdesign_info\u001b[0m\u001b[1;33m)\u001b[0m \u001b[1;33m=\u001b[0m \u001b[0mtmp\u001b[0m\u001b[1;33m\u001b[0m\u001b[0m\n\u001b[0;32m    157\u001b[0m \u001b[1;33m\u001b[0m\u001b[0m\n",
      "\u001b[1;32m~\\Anaconda3\\lib\\site-packages\\statsmodels\\formula\\formulatools.py\u001b[0m in \u001b[0;36mhandle_formula_data\u001b[1;34m(Y, X, formula, depth, missing)\u001b[0m\n\u001b[0;32m     63\u001b[0m         \u001b[1;32mif\u001b[0m \u001b[0mdata_util\u001b[0m\u001b[1;33m.\u001b[0m\u001b[0m_is_using_pandas\u001b[0m\u001b[1;33m(\u001b[0m\u001b[0mY\u001b[0m\u001b[1;33m,\u001b[0m \u001b[1;32mNone\u001b[0m\u001b[1;33m)\u001b[0m\u001b[1;33m:\u001b[0m\u001b[1;33m\u001b[0m\u001b[0m\n\u001b[0;32m     64\u001b[0m             result = dmatrices(formula, Y, depth, return_type='dataframe',\n\u001b[1;32m---> 65\u001b[1;33m                                NA_action=na_action)\n\u001b[0m\u001b[0;32m     66\u001b[0m         \u001b[1;32melse\u001b[0m\u001b[1;33m:\u001b[0m\u001b[1;33m\u001b[0m\u001b[0m\n\u001b[0;32m     67\u001b[0m             result = dmatrices(formula, Y, depth, return_type='dataframe',\n",
      "\u001b[1;32m~\\Anaconda3\\lib\\site-packages\\patsy\\highlevel.py\u001b[0m in \u001b[0;36mdmatrices\u001b[1;34m(formula_like, data, eval_env, NA_action, return_type)\u001b[0m\n\u001b[0;32m    308\u001b[0m     \u001b[0meval_env\u001b[0m \u001b[1;33m=\u001b[0m \u001b[0mEvalEnvironment\u001b[0m\u001b[1;33m.\u001b[0m\u001b[0mcapture\u001b[0m\u001b[1;33m(\u001b[0m\u001b[0meval_env\u001b[0m\u001b[1;33m,\u001b[0m \u001b[0mreference\u001b[0m\u001b[1;33m=\u001b[0m\u001b[1;36m1\u001b[0m\u001b[1;33m)\u001b[0m\u001b[1;33m\u001b[0m\u001b[0m\n\u001b[0;32m    309\u001b[0m     (lhs, rhs) = _do_highlevel_design(formula_like, data, eval_env,\n\u001b[1;32m--> 310\u001b[1;33m                                       NA_action, return_type)\n\u001b[0m\u001b[0;32m    311\u001b[0m     \u001b[1;32mif\u001b[0m \u001b[0mlhs\u001b[0m\u001b[1;33m.\u001b[0m\u001b[0mshape\u001b[0m\u001b[1;33m[\u001b[0m\u001b[1;36m1\u001b[0m\u001b[1;33m]\u001b[0m \u001b[1;33m==\u001b[0m \u001b[1;36m0\u001b[0m\u001b[1;33m:\u001b[0m\u001b[1;33m\u001b[0m\u001b[0m\n\u001b[0;32m    312\u001b[0m         \u001b[1;32mraise\u001b[0m \u001b[0mPatsyError\u001b[0m\u001b[1;33m(\u001b[0m\u001b[1;34m\"model is missing required outcome variables\"\u001b[0m\u001b[1;33m)\u001b[0m\u001b[1;33m\u001b[0m\u001b[0m\n",
      "\u001b[1;32m~\\Anaconda3\\lib\\site-packages\\patsy\\highlevel.py\u001b[0m in \u001b[0;36m_do_highlevel_design\u001b[1;34m(formula_like, data, eval_env, NA_action, return_type)\u001b[0m\n\u001b[0;32m    163\u001b[0m         \u001b[1;32mreturn\u001b[0m \u001b[0miter\u001b[0m\u001b[1;33m(\u001b[0m\u001b[1;33m[\u001b[0m\u001b[0mdata\u001b[0m\u001b[1;33m]\u001b[0m\u001b[1;33m)\u001b[0m\u001b[1;33m\u001b[0m\u001b[0m\n\u001b[0;32m    164\u001b[0m     design_infos = _try_incr_builders(formula_like, data_iter_maker, eval_env,\n\u001b[1;32m--> 165\u001b[1;33m                                       NA_action)\n\u001b[0m\u001b[0;32m    166\u001b[0m     \u001b[1;32mif\u001b[0m \u001b[0mdesign_infos\u001b[0m \u001b[1;32mis\u001b[0m \u001b[1;32mnot\u001b[0m \u001b[1;32mNone\u001b[0m\u001b[1;33m:\u001b[0m\u001b[1;33m\u001b[0m\u001b[0m\n\u001b[0;32m    167\u001b[0m         return build_design_matrices(design_infos, data,\n",
      "\u001b[1;32m~\\Anaconda3\\lib\\site-packages\\patsy\\highlevel.py\u001b[0m in \u001b[0;36m_try_incr_builders\u001b[1;34m(formula_like, data_iter_maker, eval_env, NA_action)\u001b[0m\n\u001b[0;32m     60\u001b[0m                 \"ascii-only, or else upgrade to Python 3.\")\n\u001b[0;32m     61\u001b[0m     \u001b[1;32mif\u001b[0m \u001b[0misinstance\u001b[0m\u001b[1;33m(\u001b[0m\u001b[0mformula_like\u001b[0m\u001b[1;33m,\u001b[0m \u001b[0mstr\u001b[0m\u001b[1;33m)\u001b[0m\u001b[1;33m:\u001b[0m\u001b[1;33m\u001b[0m\u001b[0m\n\u001b[1;32m---> 62\u001b[1;33m         \u001b[0mformula_like\u001b[0m \u001b[1;33m=\u001b[0m \u001b[0mModelDesc\u001b[0m\u001b[1;33m.\u001b[0m\u001b[0mfrom_formula\u001b[0m\u001b[1;33m(\u001b[0m\u001b[0mformula_like\u001b[0m\u001b[1;33m)\u001b[0m\u001b[1;33m\u001b[0m\u001b[0m\n\u001b[0m\u001b[0;32m     63\u001b[0m         \u001b[1;31m# fallthrough\u001b[0m\u001b[1;33m\u001b[0m\u001b[1;33m\u001b[0m\u001b[0m\n\u001b[0;32m     64\u001b[0m     \u001b[1;32mif\u001b[0m \u001b[0misinstance\u001b[0m\u001b[1;33m(\u001b[0m\u001b[0mformula_like\u001b[0m\u001b[1;33m,\u001b[0m \u001b[0mModelDesc\u001b[0m\u001b[1;33m)\u001b[0m\u001b[1;33m:\u001b[0m\u001b[1;33m\u001b[0m\u001b[0m\n",
      "\u001b[1;32m~\\Anaconda3\\lib\\site-packages\\patsy\\desc.py\u001b[0m in \u001b[0;36mfrom_formula\u001b[1;34m(cls, tree_or_string)\u001b[0m\n\u001b[0;32m    162\u001b[0m             \u001b[0mtree\u001b[0m \u001b[1;33m=\u001b[0m \u001b[0mtree_or_string\u001b[0m\u001b[1;33m\u001b[0m\u001b[0m\n\u001b[0;32m    163\u001b[0m         \u001b[1;32melse\u001b[0m\u001b[1;33m:\u001b[0m\u001b[1;33m\u001b[0m\u001b[0m\n\u001b[1;32m--> 164\u001b[1;33m             \u001b[0mtree\u001b[0m \u001b[1;33m=\u001b[0m \u001b[0mparse_formula\u001b[0m\u001b[1;33m(\u001b[0m\u001b[0mtree_or_string\u001b[0m\u001b[1;33m)\u001b[0m\u001b[1;33m\u001b[0m\u001b[0m\n\u001b[0m\u001b[0;32m    165\u001b[0m         \u001b[0mvalue\u001b[0m \u001b[1;33m=\u001b[0m \u001b[0mEvaluator\u001b[0m\u001b[1;33m(\u001b[0m\u001b[1;33m)\u001b[0m\u001b[1;33m.\u001b[0m\u001b[0meval\u001b[0m\u001b[1;33m(\u001b[0m\u001b[0mtree\u001b[0m\u001b[1;33m,\u001b[0m \u001b[0mrequire_evalexpr\u001b[0m\u001b[1;33m=\u001b[0m\u001b[1;32mFalse\u001b[0m\u001b[1;33m)\u001b[0m\u001b[1;33m\u001b[0m\u001b[0m\n\u001b[0;32m    166\u001b[0m         \u001b[1;32massert\u001b[0m \u001b[0misinstance\u001b[0m\u001b[1;33m(\u001b[0m\u001b[0mvalue\u001b[0m\u001b[1;33m,\u001b[0m \u001b[0mcls\u001b[0m\u001b[1;33m)\u001b[0m\u001b[1;33m\u001b[0m\u001b[0m\n",
      "\u001b[1;32m~\\Anaconda3\\lib\\site-packages\\patsy\\parse_formula.py\u001b[0m in \u001b[0;36mparse_formula\u001b[1;34m(code, extra_operators)\u001b[0m\n\u001b[0;32m    146\u001b[0m     tree = infix_parse(_tokenize_formula(code, operator_strings),\n\u001b[0;32m    147\u001b[0m                        \u001b[0moperators\u001b[0m\u001b[1;33m,\u001b[0m\u001b[1;33m\u001b[0m\u001b[0m\n\u001b[1;32m--> 148\u001b[1;33m                        _atomic_token_types)\n\u001b[0m\u001b[0;32m    149\u001b[0m     \u001b[1;32mif\u001b[0m \u001b[1;32mnot\u001b[0m \u001b[0misinstance\u001b[0m\u001b[1;33m(\u001b[0m\u001b[0mtree\u001b[0m\u001b[1;33m,\u001b[0m \u001b[0mParseNode\u001b[0m\u001b[1;33m)\u001b[0m \u001b[1;32mor\u001b[0m \u001b[0mtree\u001b[0m\u001b[1;33m.\u001b[0m\u001b[0mtype\u001b[0m \u001b[1;33m!=\u001b[0m \u001b[1;34m\"~\"\u001b[0m\u001b[1;33m:\u001b[0m\u001b[1;33m\u001b[0m\u001b[0m\n\u001b[0;32m    150\u001b[0m         \u001b[0mtree\u001b[0m \u001b[1;33m=\u001b[0m \u001b[0mParseNode\u001b[0m\u001b[1;33m(\u001b[0m\u001b[1;34m\"~\"\u001b[0m\u001b[1;33m,\u001b[0m \u001b[1;32mNone\u001b[0m\u001b[1;33m,\u001b[0m \u001b[1;33m[\u001b[0m\u001b[0mtree\u001b[0m\u001b[1;33m]\u001b[0m\u001b[1;33m,\u001b[0m \u001b[0mtree\u001b[0m\u001b[1;33m.\u001b[0m\u001b[0morigin\u001b[0m\u001b[1;33m)\u001b[0m\u001b[1;33m\u001b[0m\u001b[0m\n",
      "\u001b[1;32m~\\Anaconda3\\lib\\site-packages\\patsy\\infix_parser.py\u001b[0m in \u001b[0;36minfix_parse\u001b[1;34m(tokens, operators, atomic_types, trace)\u001b[0m\n\u001b[0;32m    220\u001b[0m     \u001b[1;32mif\u001b[0m \u001b[0mwant_noun\u001b[0m\u001b[1;33m:\u001b[0m\u001b[1;33m\u001b[0m\u001b[0m\n\u001b[0;32m    221\u001b[0m         raise PatsyError(\"expected a noun, but instead the expression ended\",\n\u001b[1;32m--> 222\u001b[1;33m                             c.op_stack[-1].token.origin)\n\u001b[0m\u001b[0;32m    223\u001b[0m \u001b[1;33m\u001b[0m\u001b[0m\n\u001b[0;32m    224\u001b[0m     \u001b[1;32mwhile\u001b[0m \u001b[0mc\u001b[0m\u001b[1;33m.\u001b[0m\u001b[0mop_stack\u001b[0m\u001b[1;33m:\u001b[0m\u001b[1;33m\u001b[0m\u001b[0m\n",
      "\u001b[1;31mPatsyError\u001b[0m: expected a noun, but instead the expression ended\n    Quantity ~\n             ^"
     ]
    }
   ],
   "source": [
    "results = []\n",
    "for i in q2_data['CategoryName'].unique():\n",
    "    i_data = q2_data[q2_data['CategoryName'] == i]\n",
    "    formula = 'Quantity ~ ' + \n",
    "    lm = ols(formula, j_data).fit()\n",
    "    table = sm.stats.anova_lm(lm, typ=1)\n",
    "    results.append([str(i) + \" + \" + str(j), table['F'].iloc[0], table['PR(>F)'].iloc[0]])"
   ]
  },
  {
   "cell_type": "markdown",
   "metadata": {},
   "source": [
    "Since we are doing some post-hoc testing, we need to use a Bonferroni correction to avoid p-hacking. The adjusted alpha is calculated below."
   ]
  },
  {
   "cell_type": "code",
   "execution_count": null,
   "metadata": {},
   "outputs": [],
   "source": [
    "n = len(q2_data['CategoryName'].unique())\n",
    "alpha = 0.05\n",
    "bon_alpha = alpha/n\n",
    "bon_alpha"
   ]
  },
  {
   "cell_type": "markdown",
   "metadata": {},
   "source": [
    "With our new adjusted alpha, we can now view the results where the p-value is less than our 'bon_alpha' value."
   ]
  },
  {
   "cell_type": "code",
   "execution_count": null,
   "metadata": {},
   "outputs": [],
   "source": [
    "for i in results:\n",
    "    if i[2] < bon_alpha:\n",
    "        print(i)"
   ]
  },
  {
   "cell_type": "markdown",
   "metadata": {},
   "source": [
    "We can see that 3 of the categories produced results with significant probabilities. Out of these, 'Beverages' and 'Dairy Products' both have high F-values of ~13.74 and ~13.56 respectively, while 'Condiments' has a lesser F-value of ~9.1. From these results, it would suggest that for products in the categories of 'Beverages', 'Dairy Products', and 'Condiments', providing a discount will almost always increase the quantity of product sold. Furthermore, that increase in product sold will be highest in 'Beverages' and 'Dairy Products'."
   ]
  },
  {
   "cell_type": "markdown",
   "metadata": {},
   "source": [
    "### Our findings show that having a discount on a product most likely will increase the quantity of product order but the actual amount of discount is statistically insignificant. "
   ]
  },
  {
   "cell_type": "code",
   "execution_count": null,
   "metadata": {},
   "outputs": [],
   "source": []
  },
  {
   "cell_type": "code",
   "execution_count": null,
   "metadata": {},
   "outputs": [],
   "source": [
    "formula = 'Quantity ~ C(CategoryName)*C(Discount_bin)'\n",
    "lm = ols(formula, q2_data).fit()\n",
    "table = sm.stats.anova_lm(lm, typ=2)\n",
    "table"
   ]
  },
  {
   "cell_type": "markdown",
   "metadata": {},
   "source": [
    "First let's do what we did in the first question and place the 'Discount' values into buckets."
   ]
  },
  {
   "cell_type": "code",
   "execution_count": null,
   "metadata": {},
   "outputs": [],
   "source": [
    "q2_data['Discount'].value_counts()"
   ]
  },
  {
   "cell_type": "code",
   "execution_count": null,
   "metadata": {},
   "outputs": [],
   "source": [
    "q2_data['Discount'] = q2_data['Discount'].apply(lambda x: 0.05 if (x > 0 and x < 0.10) else x)\n",
    "q2_data['Discount'].value_counts()"
   ]
  },
  {
   "cell_type": "code",
   "execution_count": null,
   "metadata": {
    "scrolled": true
   },
   "outputs": [],
   "source": [
    "formula = 'Quantity ~ C(CategoryName)*C(Discount)'\n",
    "lm = ols(formula, q2_data).fit()\n",
    "table = sm.stats.anova_lm(lm, typ=2)\n",
    "print(table)"
   ]
  },
  {
   "cell_type": "code",
   "execution_count": null,
   "metadata": {},
   "outputs": [],
   "source": [
    "from statsmodels.graphics.factorplots import interaction_plot\n",
    "fig = interaction_plot(q2_data.Discount, q2_data.CategoryName, q2_data.Quantity,\n",
    "             colors=['red','blue','green','yellow','purple','orange','pink', 'black'], ms=10)"
   ]
  },
  {
   "cell_type": "code",
   "execution_count": null,
   "metadata": {
    "scrolled": true
   },
   "outputs": [],
   "source": [
    "formula = 'Quantity ~ C(Discount)*C(CategoryName)'\n",
    "lm = ols(formula, q2_data).fit()\n",
    "table = sm.stats.anova_lm(lm, typ=2)\n",
    "print(table)"
   ]
  },
  {
   "cell_type": "code",
   "execution_count": null,
   "metadata": {},
   "outputs": [],
   "source": [
    "formula = 'Quantity ~ C(CategoryName) + C(Discount)'\n",
    "lm = ols(formula, q2_data).fit()\n",
    "table = sm.stats.anova_lm(lm, typ=2)\n",
    "print(table)"
   ]
  },
  {
   "cell_type": "code",
   "execution_count": null,
   "metadata": {
    "scrolled": true
   },
   "outputs": [],
   "source": [
    "q2_data = q2_data.join(pd.get_dummies(q2_data['CategoryName']))\n",
    "q2_data.columns = [c.replace(' ', '_') for c in q2_data.columns]\n",
    "q2_data.columns = [c.replace('/', '_') for c in q2_data.columns]\n",
    "q2_data.head()"
   ]
  },
  {
   "cell_type": "code",
   "execution_count": null,
   "metadata": {},
   "outputs": [],
   "source": [
    "for i in q2_data['CategoryName'].unique():\n",
    "    data = q2_data[q2_data['CategoryName'] == i]\n",
    "    formula = 'Quantity ~ C(Disc)'\n",
    "    lm = ols(formula, data).fit()\n",
    "    table = sm.stats.anova_lm(lm, typ=2)\n",
    "    print(i)\n",
    "    print(table)"
   ]
  },
  {
   "cell_type": "code",
   "execution_count": null,
   "metadata": {},
   "outputs": [],
   "source": [
    "X = order_details['Quantity'][(order_details['Discount'] < 0.15) & (order_details['Discount'] > 0)]\n",
    "y = order_details['Quantity'][(order_details['Discount'] > 0.15)]\n",
    "p = stats.ttest_ind(X, y)[1]\n",
    "p"
   ]
  },
  {
   "cell_type": "code",
   "execution_count": null,
   "metadata": {},
   "outputs": [],
   "source": [
    "orders.ShipCountry.value_counts()"
   ]
  },
  {
   "cell_type": "code",
   "execution_count": null,
   "metadata": {},
   "outputs": [],
   "source": [
    "orders.head()"
   ]
  },
  {
   "cell_type": "code",
   "execution_count": null,
   "metadata": {},
   "outputs": [],
   "source": []
  },
  {
   "cell_type": "code",
   "execution_count": null,
   "metadata": {},
   "outputs": [],
   "source": [
    "order_countries = orders[['Id','ShipCountry']]"
   ]
  },
  {
   "cell_type": "code",
   "execution_count": null,
   "metadata": {},
   "outputs": [],
   "source": [
    "order_disc_quan = order_details[['OrderId','Discount','Quantity']]"
   ]
  },
  {
   "cell_type": "code",
   "execution_count": null,
   "metadata": {},
   "outputs": [],
   "source": [
    "df = pd.merge(order_countries, \n",
    "                  order_disc_quan,\n",
    "                  left_on='Id',\n",
    "                  right_on='OrderId',\n",
    "                  how='left')"
   ]
  },
  {
   "cell_type": "code",
   "execution_count": null,
   "metadata": {},
   "outputs": [],
   "source": [
    "df.head()"
   ]
  },
  {
   "cell_type": "code",
   "execution_count": null,
   "metadata": {},
   "outputs": [],
   "source": [
    "df = df.join(pd.get_dummies(df.ShipCountry))\n"
   ]
  },
  {
   "cell_type": "code",
   "execution_count": null,
   "metadata": {},
   "outputs": [],
   "source": [
    "df.head()"
   ]
  },
  {
   "cell_type": "code",
   "execution_count": null,
   "metadata": {},
   "outputs": [],
   "source": [
    "columns = \"+Discount*\".join(df.drop(['Quantity', 'OrderId', 'Id', 'Discount'], axis=1).columns)\n",
    "f = 'Quantity~' + columns\n",
    "round(ols(formula=f, data=df).fit().pvalues,5)"
   ]
  },
  {
   "cell_type": "code",
   "execution_count": null,
   "metadata": {},
   "outputs": [],
   "source": [
    "order_details.Discount.hist()"
   ]
  },
  {
   "cell_type": "code",
   "execution_count": null,
   "metadata": {},
   "outputs": [],
   "source": [
    "disc_05 = order_details[['Quantity','Discount']][(order_details.Discount<0.05) & (order_details.Discount>0)]\n",
    "disc_15 = order_details[['Quantity','Discount']][(order_details.Discount<0.15) & (order_details.Discount > 0.05)]\n",
    "disc_25 = order_details[['Quantity','Discount']][order_details.Discount>0.15]\n",
    "print(\"Less than 5% : \" + str(round(ols(formula='Quantity ~ Discount', data=disc_05).fit().pvalues[1],5)))\n",
    "print(\"Between 5% and 15% : \" + str(round(ols(formula='Quantity ~ Discount', data=disc_15).fit().pvalues[1],5)))\n",
    "print(\"Between 15% and 25% : \" + str(round(ols(formula='Quantity ~ Discount', data=disc_25).fit().pvalues[1],5)))"
   ]
  },
  {
   "cell_type": "code",
   "execution_count": null,
   "metadata": {
    "scrolled": true
   },
   "outputs": [],
   "source": [
    "d = 0\n",
    "for i in sorted(order_details.Discount.unique()):\n",
    "    d = order_details[['Quantity', 'Discount']][order_details.Discount==i].copy()\n",
    "    print(str(i)+ \" : \" + str(ols(formula='Quantity ~ Discount', data=d).fit().pvalues[1]))"
   ]
  },
  {
   "cell_type": "code",
   "execution_count": null,
   "metadata": {},
   "outputs": [],
   "source": []
  },
  {
   "cell_type": "code",
   "execution_count": null,
   "metadata": {},
   "outputs": [],
   "source": [
    "disc_5 = order_details['Quantity'][order_details['Discount'] <= 0.05]\n",
    "disc_10 = order_details['Quantity'][(order_details['Discount'] > 0.05) & (order_details['Discount'] <= 0.1)]\n",
    "disc_15 = order_details['Quantity'][(order_details['Discount'] > 0.1) & (order_details['Discount'] <= 0.15)]\n",
    "disc_20 = order_details['Quantity'][(order_details['Discount'] > 0.15) & (order_details['Discount'] <= 0.2)]\n",
    "disc_25 = order_details['Quantity'][order_details['Discount'] > 0.2]\n",
    "buckets = [(0.05, disc_5), (0.1, disc_10), (0.15, disc_15), (0.2, disc_20), (0.25,disc_25)]\n",
    "c = 0 \n",
    "while c < len(buckets) - 1:\n",
    "    x = buckets[c][1]\n",
    "    y = buckets[c+1][1]\n",
    "    p = stats.ttest_ind(x,y)[1]\n",
    "    print(str(buckets[c][0]) + \" v.s. \" + str(buckets[c+1][0]) + \" : \" + str(p)) \n",
    "    c += 1"
   ]
  },
  {
   "cell_type": "code",
   "execution_count": null,
   "metadata": {},
   "outputs": [],
   "source": [
    "for i in sorted(disc.Discount.unique(), reverse=True):\n",
    "    x = order_details['Quantity'][order_details['Discount'] <= i]\n",
    "    y = no_disc.Quantity\n",
    "    p = stats.ttest_ind(x,y)[1]\n",
    "    print(str(i) + \" or less : \" + str(p))"
   ]
  },
  {
   "cell_type": "code",
   "execution_count": null,
   "metadata": {},
   "outputs": [],
   "source": [
    "order_details.Discount.value_counts()"
   ]
  },
  {
   "cell_type": "code",
   "execution_count": null,
   "metadata": {},
   "outputs": [],
   "source": [
    "for i in sorted(disc.Discount.unique()):\n",
    "    x = order_details['Quantity'][order_details['Discount'] >= i]\n",
    "    y = no_disc.Quantity\n",
    "    p = stats.ttest_ind(x,y)[1]\n",
    "    print(str(i) + \" or higher : \" + str(p))"
   ]
  },
  {
   "cell_type": "code",
   "execution_count": null,
   "metadata": {},
   "outputs": [],
   "source": [
    "prod_ord_details = pd.merge(products, \n",
    "                  order_details,\n",
    "                  left_on='Id',\n",
    "                  right_on='ProductId',\n",
    "                  how='left')\n",
    "prod_ord_details.head()"
   ]
  },
  {
   "cell_type": "code",
   "execution_count": null,
   "metadata": {},
   "outputs": [],
   "source": [
    "prod_ord_details = pd.merge(products, \n",
    "                  order_details,\n",
    "                  left_on='Id',\n",
    "                  right_on='ProductId',\n",
    "                  how='left')\n",
    "prod_ord_details_cat = pd.merge(prod_ord_details, \n",
    "                  categories,\n",
    "                  left_on='CategoryId',\n",
    "                  right_on='Id',\n",
    "                  how='left')\n",
    "prod_ord_details_cat.head()"
   ]
  },
  {
   "cell_type": "code",
   "execution_count": null,
   "metadata": {},
   "outputs": [],
   "source": [
    "df_cat_disc = prod_ord_details_cat.filter(['Quantity', 'Discount','CategoryName'], axis=1)\n",
    "df_cat_disc = prod_ord_details_cat.join(pd.get_dummies(df_cat_disc.CategoryName))\n",
    "df_cat_disc.CategoryName.unique()"
   ]
  },
  {
   "cell_type": "code",
   "execution_count": null,
   "metadata": {},
   "outputs": [],
   "source": [
    "a = prod_ord_details_cat[['Quantity', 'Discount', 'CategoryName']].copy()\n",
    "a = a.join(pd.get_dummies(a.CategoryName))\n",
    "a.drop('CategoryName', axis=1, inplace=True)\n",
    "a.columns = [c.replace(' ', '_') for c in a.columns]\n",
    "a.columns = [c.replace('/', '_') for c in a.columns]"
   ]
  },
  {
   "cell_type": "code",
   "execution_count": null,
   "metadata": {},
   "outputs": [],
   "source": [
    "a.head()"
   ]
  },
  {
   "cell_type": "code",
   "execution_count": null,
   "metadata": {},
   "outputs": [],
   "source": [
    "cats = a.iloc[:,3:].columns\n",
    "for i in cats:\n",
    "    x = a['Quantity'][(a[i]== 1) & (a['Discount'] > 0)]\n",
    "    y = a['Quantity'][(a[i]== 1) & (a['Discount'] == 0)]\n",
    "    p = stats.ttest_ind(x,y)[1]\n",
    "    print(i + \" : \" + str(p))"
   ]
  },
  {
   "cell_type": "code",
   "execution_count": null,
   "metadata": {},
   "outputs": [],
   "source": [
    "ord_det = pd.merge(order_details, \n",
    "                  orders,\n",
    "                  left_on='OrderId',\n",
    "                  right_on='Id',\n",
    "                  how='left')\n",
    "ord_det_emp = pd.merge(ord_det,\n",
    "                      employees,\n",
    "                      left_on='EmployeeId',\n",
    "                      right_on='Id',\n",
    "                      how='left')\n",
    "ord_det_emp.info()"
   ]
  },
  {
   "cell_type": "code",
   "execution_count": null,
   "metadata": {},
   "outputs": [],
   "source": [
    "for i in ord_det_emp.Id.unique():\n",
    "    sales = (ord_det_emp['Quantity'][ord_det_emp['Id'] == i]) * (ord_det_emp['UnitPrice'][ord_det_emp['Id'] == i])\n",
    "    print (str(i) + \" \" + ord_det_emp['Title'][ord_det_emp['Id'] == i].unique() + \" : \" + str(round(sales.sum(),1)))\n",
    "    #print(ord_det_emp[i])"
   ]
  },
  {
   "cell_type": "code",
   "execution_count": null,
   "metadata": {},
   "outputs": [],
   "source": [
    "def get_sales(ID):\n",
    "    sales = (ord_det_emp['Quantity'][ord_det_emp['Id'] == ID]) * (ord_det_emp['UnitPrice'][ord_det_emp['Id'] == ID])\n",
    "    return sales"
   ]
  },
  {
   "cell_type": "code",
   "execution_count": null,
   "metadata": {},
   "outputs": [],
   "source": [
    "def get_total_sales(ID):\n",
    "    sales = (ord_det_emp['Quantity'][ord_det_emp['Id'] == ID]) * (ord_det_emp['UnitPrice'][ord_det_emp['Id'] == ID])\n",
    "    return sales.sum()"
   ]
  },
  {
   "cell_type": "code",
   "execution_count": null,
   "metadata": {},
   "outputs": [],
   "source": [
    "x = []\n",
    "for i in [6,4,3,9,1,7]:\n",
    "    x.append(get_total_sales(i))\n",
    "y = []\n",
    "for i in [5,8,2]:\n",
    "    y.append(get_total_sales(i))\n",
    "stats.ttest_ind(x,y)"
   ]
  },
  {
   "cell_type": "code",
   "execution_count": null,
   "metadata": {},
   "outputs": [],
   "source": [
    "for i in sorted(ord_det_emp.Id.unique()):\n",
    "    for j in sorted(ord_det_emp.Id.unique()):\n",
    "        if j <= i:\n",
    "            pass\n",
    "        else:\n",
    "            x = get_sales(i)\n",
    "            y = get_sales(j)\n",
    "            p = stats.ttest_ind(x,y)[1]\n",
    "            if p <= 0.05:\n",
    "                print(str(i) + \" v.s. \" + str(j) + \" : \" + str(round(p,3)))\n",
    "            "
   ]
  },
  {
   "cell_type": "code",
   "execution_count": null,
   "metadata": {},
   "outputs": [],
   "source": [
    "ord_det_emp.BirthDate.unique()"
   ]
  },
  {
   "cell_type": "code",
   "execution_count": null,
   "metadata": {},
   "outputs": [],
   "source": [
    "ord_det_emp.Id.unique()"
   ]
  },
  {
   "cell_type": "code",
   "execution_count": null,
   "metadata": {},
   "outputs": [],
   "source": [
    "reps_data = []\n",
    "for i in sales_reps_IDs:\n",
    "    ord = orders['Id'][orders['EmployeeId'] == i]\n",
    "    details = []\n",
    "    for j in ord:\n",
    "        details.append(order_details[order_details['OrderId'] == j])\n",
    "    reps_data.append([i, details])\n"
   ]
  },
  {
   "cell_type": "code",
   "execution_count": null,
   "metadata": {},
   "outputs": [],
   "source": [
    "for i in range (0, len(reps_data)):\n",
    "    print(pd.DataFrame(reps_data[i][1][1].info()))"
   ]
  },
  {
   "cell_type": "code",
   "execution_count": null,
   "metadata": {},
   "outputs": [],
   "source": [
    "orders.EmployeeId.value_counts()"
   ]
  },
  {
   "cell_type": "code",
   "execution_count": null,
   "metadata": {},
   "outputs": [],
   "source": []
  }
 ],
 "metadata": {
  "kernelspec": {
   "display_name": "Python 3",
   "language": "python",
   "name": "python3"
  },
  "language_info": {
   "codemirror_mode": {
    "name": "ipython",
    "version": 3
   },
   "file_extension": ".py",
   "mimetype": "text/x-python",
   "name": "python",
   "nbconvert_exporter": "python",
   "pygments_lexer": "ipython3",
   "version": "3.7.0"
  }
 },
 "nbformat": 4,
 "nbformat_minor": 2
}
