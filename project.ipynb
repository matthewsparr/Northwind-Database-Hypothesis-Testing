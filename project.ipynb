{
 "cells": [
  {
   "cell_type": "markdown",
   "metadata": {},
   "source": [
    "# <center> Module 2 Project  - Northwind Database Hypothesis Testing"
   ]
  },
  {
   "cell_type": "markdown",
   "metadata": {},
   "source": [
    "## <center>Matthew Sparr <br><br> <center><h8>Self-Paced Data Science Program"
   ]
  },
  {
   "cell_type": "markdown",
   "metadata": {},
   "source": [
    "# <center> Introduction"
   ]
  },
  {
   "cell_type": "markdown",
   "metadata": {},
   "source": [
    "#### <center> In this project we will be working with the Northwind Database. This is a sample database provided by Microsoft which contains sales data for a ficticious specialty foods company. We will be posing several questions for which we will develop and test hypotheses in effort to present important information for the company."
   ]
  },
  {
   "cell_type": "markdown",
   "metadata": {},
   "source": [
    "First we will import all the necessary libraries."
   ]
  },
  {
   "cell_type": "code",
   "execution_count": 1,
   "metadata": {},
   "outputs": [],
   "source": [
    "import sqlite3 as sql\n",
    "import pandas as pd\n",
    "import numpy as np\n",
    "from sklearn.linear_model import LinearRegression\n",
    "from sklearn.preprocessing import MinMaxScaler\n",
    "from sklearn.linear_model import Lasso, Ridge, LinearRegression\n",
    "from sklearn.model_selection import train_test_split\n",
    "import matplotlib.pyplot as plt\n",
    "from sklearn.linear_model import LinearRegression\n",
    "from sklearn.model_selection import cross_val_score\n",
    "from sklearn.model_selection import KFold\n",
    "from sklearn import preprocessing\n",
    "import statsmodels.api as sm\n",
    "from statsmodels.formula.api import ols\n",
    "import seaborn as sns\n",
    "from scipy import stats\n",
    "from sklearn import linear_model as lm\n",
    "from statsmodels.graphics.factorplots import interaction_plot\n",
    "from statsmodels.stats.multicomp import pairwise_tukeyhsd\n",
    "from statsmodels.stats.multicomp import MultiComparison"
   ]
  },
  {
   "cell_type": "markdown",
   "metadata": {},
   "source": [
    "Next we will connect to the database and grab all the table names."
   ]
  },
  {
   "cell_type": "code",
   "execution_count": 2,
   "metadata": {},
   "outputs": [
    {
     "data": {
      "text/plain": [
       "[('Employee',),\n",
       " ('Category',),\n",
       " ('Customer',),\n",
       " ('Shipper',),\n",
       " ('Supplier',),\n",
       " ('Order',),\n",
       " ('Product',),\n",
       " ('OrderDetail',),\n",
       " ('CustomerCustomerDemo',),\n",
       " ('CustomerDemographic',),\n",
       " ('Region',),\n",
       " ('Territory',),\n",
       " ('EmployeeTerritory',)]"
      ]
     },
     "execution_count": 2,
     "metadata": {},
     "output_type": "execute_result"
    }
   ],
   "source": [
    "conn = sql.connect('Northwind_small.sqlite')\n",
    "cur = conn.cursor()\n",
    "table_names = list(cur.execute('''SELECT name FROM sqlite_master WHERE TYPE = 'table'\n",
    "                               ''').fetchall())\n",
    "table_names"
   ]
  },
  {
   "cell_type": "markdown",
   "metadata": {},
   "source": [
    "Now we will store each table from the database as Pandas Dataframe so that they are easy to work with and analyze. There was a technical error with the 'orders' table, so a CSV file of the table was generated using an outside program."
   ]
  },
  {
   "cell_type": "code",
   "execution_count": 3,
   "metadata": {},
   "outputs": [],
   "source": [
    "sql_comm = []\n",
    "for i in range(0,len(table_names)):\n",
    "    s = \"SELECT * FROM \" + table_names[i][0]\n",
    "    sql_comm.append(s)\n",
    "\n",
    "employees = pd.read_sql_query(sql_comm[0], conn)\n",
    "categories = pd.read_sql_query(sql_comm[1], conn)\n",
    "customers = pd.read_sql_query(sql_comm[2], conn)\n",
    "shippers = pd.read_sql_query(sql_comm[3], conn)\n",
    "\n",
    "suppliers = pd.read_sql_query(sql_comm[4], conn)\n",
    "products = pd.read_sql_query(sql_comm[6], conn)\n",
    "order_details = pd.read_sql_query(sql_comm[7], conn)\n",
    "orders = pd.read_csv('Order.csv')\n",
    "\n",
    "cust_cust_demos = pd.read_sql_query(sql_comm[8], conn)\n",
    "cust_demos = pd.read_sql_query(sql_comm[9], conn)\n",
    "regions = pd.read_sql_query(sql_comm[10], conn)\n",
    "territories = pd.read_sql_query(sql_comm[11], conn)\n",
    "emp_territories = pd.read_sql_query(sql_comm[12], conn)"
   ]
  },
  {
   "cell_type": "markdown",
   "metadata": {},
   "source": [
    "And here is a schema of the database."
   ]
  },
  {
   "cell_type": "markdown",
   "metadata": {},
   "source": [
    "<img src='Northwind_ERD.png'>"
   ]
  },
  {
   "cell_type": "markdown",
   "metadata": {},
   "source": [
    "## Q1 -- Does discount amount have a statistically significant effect on the quantity of a product in an order? If so, at what level(s) of discount?"
   ]
  },
  {
   "cell_type": "markdown",
   "metadata": {},
   "source": [
    "## <center>H<sub>0: The average quantity of product ordered is the same for orders with and without a discount."
   ]
  },
  {
   "cell_type": "markdown",
   "metadata": {},
   "source": [
    "## <center>H<sub>a: The average quantity of product ordered when a discount is given is higher or lower than for orders without a discount."
   ]
  },
  {
   "cell_type": "markdown",
   "metadata": {},
   "source": [
    "The above is our first question and both the null and alternative hypotheses. To test them will involve a two-tail test. This is because if the null hypothesis is rejected and there is a correlation between discount and order quantity, we could find that the discount amount either increases or decreases the quantity of product ordered. "
   ]
  },
  {
   "cell_type": "markdown",
   "metadata": {},
   "source": [
    "To test our hypotheses we will be using the table 'order_details' and will be looking only at the columns 'Quantity' and 'Discount'. Below we can see that there are no null or missing values in either column. Also, 'Quantity' ranges from 1 to 130 and 'Discount' ranges from 0 to 0.25."
   ]
  },
  {
   "cell_type": "code",
   "execution_count": 4,
   "metadata": {
    "scrolled": true
   },
   "outputs": [
    {
     "name": "stdout",
     "output_type": "stream",
     "text": [
      "<class 'pandas.core.frame.DataFrame'>\n",
      "RangeIndex: 2155 entries, 0 to 2154\n",
      "Data columns (total 2 columns):\n",
      "Quantity    2155 non-null int64\n",
      "Discount    2155 non-null float64\n",
      "dtypes: float64(1), int64(1)\n",
      "memory usage: 33.8 KB\n"
     ]
    }
   ],
   "source": [
    "order_details[['Quantity','Discount']].info()"
   ]
  },
  {
   "cell_type": "code",
   "execution_count": 5,
   "metadata": {},
   "outputs": [
    {
     "data": {
      "text/html": [
       "<div>\n",
       "<style scoped>\n",
       "    .dataframe tbody tr th:only-of-type {\n",
       "        vertical-align: middle;\n",
       "    }\n",
       "\n",
       "    .dataframe tbody tr th {\n",
       "        vertical-align: top;\n",
       "    }\n",
       "\n",
       "    .dataframe thead th {\n",
       "        text-align: right;\n",
       "    }\n",
       "</style>\n",
       "<table border=\"1\" class=\"dataframe\">\n",
       "  <thead>\n",
       "    <tr style=\"text-align: right;\">\n",
       "      <th></th>\n",
       "      <th>Quantity</th>\n",
       "      <th>Discount</th>\n",
       "    </tr>\n",
       "  </thead>\n",
       "  <tbody>\n",
       "    <tr>\n",
       "      <th>count</th>\n",
       "      <td>2155.000000</td>\n",
       "      <td>2155.000000</td>\n",
       "    </tr>\n",
       "    <tr>\n",
       "      <th>mean</th>\n",
       "      <td>23.812993</td>\n",
       "      <td>0.056167</td>\n",
       "    </tr>\n",
       "    <tr>\n",
       "      <th>std</th>\n",
       "      <td>19.022047</td>\n",
       "      <td>0.083450</td>\n",
       "    </tr>\n",
       "    <tr>\n",
       "      <th>min</th>\n",
       "      <td>1.000000</td>\n",
       "      <td>0.000000</td>\n",
       "    </tr>\n",
       "    <tr>\n",
       "      <th>25%</th>\n",
       "      <td>10.000000</td>\n",
       "      <td>0.000000</td>\n",
       "    </tr>\n",
       "    <tr>\n",
       "      <th>50%</th>\n",
       "      <td>20.000000</td>\n",
       "      <td>0.000000</td>\n",
       "    </tr>\n",
       "    <tr>\n",
       "      <th>75%</th>\n",
       "      <td>30.000000</td>\n",
       "      <td>0.100000</td>\n",
       "    </tr>\n",
       "    <tr>\n",
       "      <th>max</th>\n",
       "      <td>130.000000</td>\n",
       "      <td>0.250000</td>\n",
       "    </tr>\n",
       "  </tbody>\n",
       "</table>\n",
       "</div>"
      ],
      "text/plain": [
       "          Quantity     Discount\n",
       "count  2155.000000  2155.000000\n",
       "mean     23.812993     0.056167\n",
       "std      19.022047     0.083450\n",
       "min       1.000000     0.000000\n",
       "25%      10.000000     0.000000\n",
       "50%      20.000000     0.000000\n",
       "75%      30.000000     0.100000\n",
       "max     130.000000     0.250000"
      ]
     },
     "execution_count": 5,
     "metadata": {},
     "output_type": "execute_result"
    }
   ],
   "source": [
    "order_details[['Quantity','Discount']].describe()"
   ]
  },
  {
   "cell_type": "code",
   "execution_count": 6,
   "metadata": {},
   "outputs": [],
   "source": [
    "order_details['Discount_bin'] = order_details['Discount'].apply(lambda x: 1 if x > 0 else 0)"
   ]
  },
  {
   "cell_type": "code",
   "execution_count": 7,
   "metadata": {},
   "outputs": [
    {
     "data": {
      "text/plain": [
       "Text(0.5,1,'Discount v.s. No Discount Average Quantity of Product Per Order')"
      ]
     },
     "execution_count": 7,
     "metadata": {},
     "output_type": "execute_result"
    },
    {
     "data": {
      "image/png": "[encoded data removed]",
      "text/plain": [
       "<Figure size 432x288 with 1 Axes>"
      ]
     },
     "metadata": {
      "needs_background": "light"
     },
     "output_type": "display_data"
    }
   ],
   "source": [
    "X = ['Discount', 'No Discount']\n",
    "y = [order_details['Quantity'][order_details['Discount_bin'] == 1].mean(),\n",
    "     order_details['Quantity'][order_details['Discount_bin'] == 0].mean()]\n",
    "plt.bar(X,y, color=('navy','grey'))\n",
    "plt.text(s=round(y[1],2), x=1, y=10, color=\"w\", horizontalalignment='center',size=18)\n",
    "plt.text(s=round(y[0],2), x=0, y=10, color=\"w\", horizontalalignment='center',size=18)\n",
    "plt.ylabel('Average Quantity')\n",
    "plt.title('Discount v.s. No Discount Average Quantity of Product Per Order')"
   ]
  },
  {
   "cell_type": "markdown",
   "metadata": {},
   "source": [
    "Now we will split our order details into two sets: discount and no discount. Running a t-test on the data below then gives us a small p-value of 1.14e-10 which is less than our alpha of 0.05."
   ]
  },
  {
   "cell_type": "code",
   "execution_count": 8,
   "metadata": {},
   "outputs": [
    {
     "data": {
      "text/plain": [
       "1.1440924523215966e-10"
      ]
     },
     "execution_count": 8,
     "metadata": {},
     "output_type": "execute_result"
    }
   ],
   "source": [
    "no_disc = order_details[order_details['Discount'] == 0].copy()\n",
    "disc = order_details[order_details['Discount'] > 0].copy()\n",
    "\n",
    "p = stats.ttest_ind(no_disc.Quantity, disc.Quantity)[1]\n",
    "p"
   ]
  },
  {
   "cell_type": "markdown",
   "metadata": {},
   "source": [
    "Since the p-value for our t-test is so low, this allows us to reject the null-hypothesis and accept instead the alternative hypothesis. From this result we can reasonably argue that having a discount does indeed have an impact on the quantity of product ordered. "
   ]
  },
  {
   "cell_type": "markdown",
   "metadata": {},
   "source": [
    "For the second part of the question we will need to look at the different discount amounts and see where the size of the discount affects the quantity ordered the most. Let's start by creating a dataframe with only orders with a 'Discount' and then viewing the value counts."
   ]
  },
  {
   "cell_type": "code",
   "execution_count": 9,
   "metadata": {},
   "outputs": [],
   "source": [
    "q1_data = order_details[order_details['Discount'] > 0]"
   ]
  },
  {
   "cell_type": "code",
   "execution_count": 10,
   "metadata": {},
   "outputs": [
    {
     "data": {
      "text/plain": [
       "0.05    185\n",
       "0.10    173\n",
       "0.20    161\n",
       "0.15    157\n",
       "0.25    154\n",
       "0.03      3\n",
       "0.02      2\n",
       "0.04      1\n",
       "0.06      1\n",
       "0.01      1\n",
       "Name: Discount, dtype: int64"
      ]
     },
     "execution_count": 10,
     "metadata": {},
     "output_type": "execute_result"
    }
   ],
   "source": [
    "q1_data.Discount.value_counts()"
   ]
  },
  {
   "cell_type": "markdown",
   "metadata": {},
   "source": [
    "Since the count of some 'Discount' values are so few compared to others, we will group those discount values together. By adjusting those values of 'Discount' (0.01, 0.02, 0.03, 0.04, and 0.06) to 0.05, we will have 5 buckets with similar value counts."
   ]
  },
  {
   "cell_type": "code",
   "execution_count": 11,
   "metadata": {},
   "outputs": [
    {
     "name": "stderr",
     "output_type": "stream",
     "text": [
      "C:\\Users\\sparr\\Anaconda3\\lib\\site-packages\\ipykernel_launcher.py:1: SettingWithCopyWarning: \n",
      "A value is trying to be set on a copy of a slice from a DataFrame.\n",
      "Try using .loc[row_indexer,col_indexer] = value instead\n",
      "\n",
      "See the caveats in the documentation: http://pandas.pydata.org/pandas-docs/stable/indexing.html#indexing-view-versus-copy\n",
      "  \"\"\"Entry point for launching an IPython kernel.\n"
     ]
    },
    {
     "data": {
      "text/plain": [
       "0.05    193\n",
       "0.10    173\n",
       "0.20    161\n",
       "0.15    157\n",
       "0.25    154\n",
       "Name: Discount, dtype: int64"
      ]
     },
     "execution_count": 11,
     "metadata": {},
     "output_type": "execute_result"
    }
   ],
   "source": [
    "q1_data['Discount'] = q1_data['Discount'].apply(lambda x: 0.05 if (x > 0) & (x < 0.10) else x)\n",
    "q1_data['Discount'].value_counts()"
   ]
  },
  {
   "cell_type": "markdown",
   "metadata": {},
   "source": [
    "For this second part of the question, we will need another null and alternative hypothesis."
   ]
  },
  {
   "cell_type": "markdown",
   "metadata": {},
   "source": [
    "## <center>H<sub>0: The average quantity of product ordered is the same for each discount level."
   ]
  },
  {
   "cell_type": "markdown",
   "metadata": {},
   "source": [
    "## <center>H<sub>a: The average quantity of product ordered differs across the discount levels."
   ]
  },
  {
   "cell_type": "markdown",
   "metadata": {},
   "source": [
    "Since we want to test for difference of mean, we can use an analysis of variance or one-way ANOVA test to resolve our hypotheses. Since we have 5 distinct 'Discount' values we will run this ANOVA with 'Discount' as a categorical variable."
   ]
  },
  {
   "cell_type": "code",
   "execution_count": 12,
   "metadata": {},
   "outputs": [
    {
     "data": {
      "image/png": "[encoded data removed]",
      "text/plain": [
       "<Figure size 432x288 with 1 Axes>"
      ]
     },
     "metadata": {
      "needs_background": "light"
     },
     "output_type": "display_data"
    }
   ],
   "source": [
    "X = []\n",
    "y = []\n",
    "for i in q1_data['Discount'].unique():\n",
    "    X.append(i)\n",
    "    y.append(q1_data['Quantity'][q1_data['Discount'] == i].mean())\n",
    "ax = plt.bar(X,y,width=.03)\n",
    "plt.ylim(0,32)\n",
    "plt.ylabel('Average Quantity')\n",
    "plt.xlabel('Discount')\n",
    "plt.title('Discount Level v.s. Average Quantity of Product Per Order')\n",
    "rects = ax.patches\n",
    "y_round = []\n",
    "for i in y:\n",
    "    y_round.append(round(i,2))\n",
    "labels = y_round\n",
    "for rect, label in zip(rects, labels):\n",
    "    height = rect.get_height()\n",
    "    plt.text(rect.get_x() + rect.get_width() / 2, height + 1, label,\n",
    "            ha='center', va='bottom')"
   ]
  },
  {
   "cell_type": "code",
   "execution_count": 13,
   "metadata": {},
   "outputs": [
    {
     "data": {
      "text/html": [
       "<div>\n",
       "<style scoped>\n",
       "    .dataframe tbody tr th:only-of-type {\n",
       "        vertical-align: middle;\n",
       "    }\n",
       "\n",
       "    .dataframe tbody tr th {\n",
       "        vertical-align: top;\n",
       "    }\n",
       "\n",
       "    .dataframe thead th {\n",
       "        text-align: right;\n",
       "    }\n",
       "</style>\n",
       "<table border=\"1\" class=\"dataframe\">\n",
       "  <thead>\n",
       "    <tr style=\"text-align: right;\">\n",
       "      <th></th>\n",
       "      <th>df</th>\n",
       "      <th>sum_sq</th>\n",
       "      <th>mean_sq</th>\n",
       "      <th>F</th>\n",
       "      <th>PR(&gt;F)</th>\n",
       "    </tr>\n",
       "  </thead>\n",
       "  <tbody>\n",
       "    <tr>\n",
       "      <th>C(Discount)</th>\n",
       "      <td>4.0</td>\n",
       "      <td>1065.701253</td>\n",
       "      <td>266.425313</td>\n",
       "      <td>0.616376</td>\n",
       "      <td>0.650947</td>\n",
       "    </tr>\n",
       "    <tr>\n",
       "      <th>Residual</th>\n",
       "      <td>833.0</td>\n",
       "      <td>360060.198508</td>\n",
       "      <td>432.245136</td>\n",
       "      <td>NaN</td>\n",
       "      <td>NaN</td>\n",
       "    </tr>\n",
       "  </tbody>\n",
       "</table>\n",
       "</div>"
      ],
      "text/plain": [
       "                df         sum_sq     mean_sq         F    PR(>F)\n",
       "C(Discount)    4.0    1065.701253  266.425313  0.616376  0.650947\n",
       "Residual     833.0  360060.198508  432.245136       NaN       NaN"
      ]
     },
     "execution_count": 13,
     "metadata": {},
     "output_type": "execute_result"
    }
   ],
   "source": [
    "formula = 'Quantity ~ C(Discount)'\n",
    "lm = ols(formula, q1_data).fit()\n",
    "table = sm.stats.anova_lm(lm, typ=1)\n",
    "table"
   ]
  },
  {
   "cell_type": "markdown",
   "metadata": {},
   "source": [
    "The p-value of our categorical 'Discount' variable is ~0.651 as shown in the above table. Since this value is much higher than our alpha of 0.05, we fail to reject the null hypothesis. This suggests that the average quantities of product ordered across the discount levels are not significantly different."
   ]
  },
  {
   "cell_type": "markdown",
   "metadata": {},
   "source": [
    "### Our findings show that having a discount on a product most likely will increase the quantity of product order but the actual amount of discount is statistically insignificant. "
   ]
  },
  {
   "cell_type": "markdown",
   "metadata": {},
   "source": []
  },
  {
   "cell_type": "markdown",
   "metadata": {},
   "source": [
    "## Q2 -- Are there certain products that are better to discount than others in order to increase the quantity ordered?"
   ]
  },
  {
   "cell_type": "markdown",
   "metadata": {},
   "source": [
    "As a follow-up to our initial question, we will investigate whether or not the category of product intereacts with whether or not a discount is applied in regards to quantity of product ordered."
   ]
  },
  {
   "cell_type": "markdown",
   "metadata": {},
   "source": [
    "## <center>H<sub>0: There is no interaction between category of product and whether or not a discount is applied."
   ]
  },
  {
   "cell_type": "markdown",
   "metadata": {},
   "source": [
    "## <center>H<sub>a: There is some interaction between category of product and whether or not a discount is applied."
   ]
  },
  {
   "cell_type": "markdown",
   "metadata": {},
   "source": [
    "To test our hypothesis we will need data from more than one table so we will need to perform a couple merges. We will first join the 'products' table to the 'order-details' table as 'prod_ord_details'; and then merge that table with the 'categories' table."
   ]
  },
  {
   "cell_type": "code",
   "execution_count": 14,
   "metadata": {
    "scrolled": true
   },
   "outputs": [
    {
     "data": {
      "text/html": [
       "<div>\n",
       "<style scoped>\n",
       "    .dataframe tbody tr th:only-of-type {\n",
       "        vertical-align: middle;\n",
       "    }\n",
       "\n",
       "    .dataframe tbody tr th {\n",
       "        vertical-align: top;\n",
       "    }\n",
       "\n",
       "    .dataframe thead th {\n",
       "        text-align: right;\n",
       "    }\n",
       "</style>\n",
       "<table border=\"1\" class=\"dataframe\">\n",
       "  <thead>\n",
       "    <tr style=\"text-align: right;\">\n",
       "      <th></th>\n",
       "      <th>Id_x</th>\n",
       "      <th>ProductName</th>\n",
       "      <th>SupplierId</th>\n",
       "      <th>CategoryId</th>\n",
       "      <th>QuantityPerUnit</th>\n",
       "      <th>UnitPrice_x</th>\n",
       "      <th>UnitsInStock</th>\n",
       "      <th>UnitsOnOrder</th>\n",
       "      <th>ReorderLevel</th>\n",
       "      <th>Discontinued</th>\n",
       "      <th>Id_y</th>\n",
       "      <th>OrderId</th>\n",
       "      <th>ProductId</th>\n",
       "      <th>UnitPrice_y</th>\n",
       "      <th>Quantity</th>\n",
       "      <th>Discount</th>\n",
       "      <th>Discount_bin</th>\n",
       "      <th>Id</th>\n",
       "      <th>CategoryName</th>\n",
       "      <th>Description</th>\n",
       "    </tr>\n",
       "  </thead>\n",
       "  <tbody>\n",
       "    <tr>\n",
       "      <th>0</th>\n",
       "      <td>1</td>\n",
       "      <td>Chai</td>\n",
       "      <td>1</td>\n",
       "      <td>1</td>\n",
       "      <td>10 boxes x 20 bags</td>\n",
       "      <td>18.0</td>\n",
       "      <td>39</td>\n",
       "      <td>0</td>\n",
       "      <td>10</td>\n",
       "      <td>0</td>\n",
       "      <td>10285/1</td>\n",
       "      <td>10285</td>\n",
       "      <td>1</td>\n",
       "      <td>14.4</td>\n",
       "      <td>45</td>\n",
       "      <td>0.20</td>\n",
       "      <td>1</td>\n",
       "      <td>1</td>\n",
       "      <td>Beverages</td>\n",
       "      <td>Soft drinks, coffees, teas, beers, and ales</td>\n",
       "    </tr>\n",
       "    <tr>\n",
       "      <th>1</th>\n",
       "      <td>1</td>\n",
       "      <td>Chai</td>\n",
       "      <td>1</td>\n",
       "      <td>1</td>\n",
       "      <td>10 boxes x 20 bags</td>\n",
       "      <td>18.0</td>\n",
       "      <td>39</td>\n",
       "      <td>0</td>\n",
       "      <td>10</td>\n",
       "      <td>0</td>\n",
       "      <td>10294/1</td>\n",
       "      <td>10294</td>\n",
       "      <td>1</td>\n",
       "      <td>14.4</td>\n",
       "      <td>18</td>\n",
       "      <td>0.00</td>\n",
       "      <td>0</td>\n",
       "      <td>1</td>\n",
       "      <td>Beverages</td>\n",
       "      <td>Soft drinks, coffees, teas, beers, and ales</td>\n",
       "    </tr>\n",
       "    <tr>\n",
       "      <th>2</th>\n",
       "      <td>1</td>\n",
       "      <td>Chai</td>\n",
       "      <td>1</td>\n",
       "      <td>1</td>\n",
       "      <td>10 boxes x 20 bags</td>\n",
       "      <td>18.0</td>\n",
       "      <td>39</td>\n",
       "      <td>0</td>\n",
       "      <td>10</td>\n",
       "      <td>0</td>\n",
       "      <td>10317/1</td>\n",
       "      <td>10317</td>\n",
       "      <td>1</td>\n",
       "      <td>14.4</td>\n",
       "      <td>20</td>\n",
       "      <td>0.00</td>\n",
       "      <td>0</td>\n",
       "      <td>1</td>\n",
       "      <td>Beverages</td>\n",
       "      <td>Soft drinks, coffees, teas, beers, and ales</td>\n",
       "    </tr>\n",
       "    <tr>\n",
       "      <th>3</th>\n",
       "      <td>1</td>\n",
       "      <td>Chai</td>\n",
       "      <td>1</td>\n",
       "      <td>1</td>\n",
       "      <td>10 boxes x 20 bags</td>\n",
       "      <td>18.0</td>\n",
       "      <td>39</td>\n",
       "      <td>0</td>\n",
       "      <td>10</td>\n",
       "      <td>0</td>\n",
       "      <td>10348/1</td>\n",
       "      <td>10348</td>\n",
       "      <td>1</td>\n",
       "      <td>14.4</td>\n",
       "      <td>15</td>\n",
       "      <td>0.15</td>\n",
       "      <td>1</td>\n",
       "      <td>1</td>\n",
       "      <td>Beverages</td>\n",
       "      <td>Soft drinks, coffees, teas, beers, and ales</td>\n",
       "    </tr>\n",
       "    <tr>\n",
       "      <th>4</th>\n",
       "      <td>1</td>\n",
       "      <td>Chai</td>\n",
       "      <td>1</td>\n",
       "      <td>1</td>\n",
       "      <td>10 boxes x 20 bags</td>\n",
       "      <td>18.0</td>\n",
       "      <td>39</td>\n",
       "      <td>0</td>\n",
       "      <td>10</td>\n",
       "      <td>0</td>\n",
       "      <td>10354/1</td>\n",
       "      <td>10354</td>\n",
       "      <td>1</td>\n",
       "      <td>14.4</td>\n",
       "      <td>12</td>\n",
       "      <td>0.00</td>\n",
       "      <td>0</td>\n",
       "      <td>1</td>\n",
       "      <td>Beverages</td>\n",
       "      <td>Soft drinks, coffees, teas, beers, and ales</td>\n",
       "    </tr>\n",
       "  </tbody>\n",
       "</table>\n",
       "</div>"
      ],
      "text/plain": [
       "   Id_x ProductName  SupplierId  CategoryId     QuantityPerUnit  UnitPrice_x  \\\n",
       "0     1        Chai           1           1  10 boxes x 20 bags         18.0   \n",
       "1     1        Chai           1           1  10 boxes x 20 bags         18.0   \n",
       "2     1        Chai           1           1  10 boxes x 20 bags         18.0   \n",
       "3     1        Chai           1           1  10 boxes x 20 bags         18.0   \n",
       "4     1        Chai           1           1  10 boxes x 20 bags         18.0   \n",
       "\n",
       "   UnitsInStock  UnitsOnOrder  ReorderLevel  Discontinued     Id_y  OrderId  \\\n",
       "0            39             0            10             0  10285/1    10285   \n",
       "1            39             0            10             0  10294/1    10294   \n",
       "2            39             0            10             0  10317/1    10317   \n",
       "3            39             0            10             0  10348/1    10348   \n",
       "4            39             0            10             0  10354/1    10354   \n",
       "\n",
       "   ProductId  UnitPrice_y  Quantity  Discount  Discount_bin  Id CategoryName  \\\n",
       "0          1         14.4        45      0.20             1   1    Beverages   \n",
       "1          1         14.4        18      0.00             0   1    Beverages   \n",
       "2          1         14.4        20      0.00             0   1    Beverages   \n",
       "3          1         14.4        15      0.15             1   1    Beverages   \n",
       "4          1         14.4        12      0.00             0   1    Beverages   \n",
       "\n",
       "                                   Description  \n",
       "0  Soft drinks, coffees, teas, beers, and ales  \n",
       "1  Soft drinks, coffees, teas, beers, and ales  \n",
       "2  Soft drinks, coffees, teas, beers, and ales  \n",
       "3  Soft drinks, coffees, teas, beers, and ales  \n",
       "4  Soft drinks, coffees, teas, beers, and ales  "
      ]
     },
     "execution_count": 14,
     "metadata": {},
     "output_type": "execute_result"
    }
   ],
   "source": [
    "prod_ord_details = pd.merge(products, \n",
    "                  order_details,\n",
    "                  left_on='Id',\n",
    "                  right_on='ProductId',\n",
    "                  how='left')\n",
    "prod_cat = pd.merge(prod_ord_details, \n",
    "                  categories,\n",
    "                  left_on='CategoryId',\n",
    "                  right_on='Id',\n",
    "                  how='left')\n",
    "prod_cat.head()"
   ]
  },
  {
   "cell_type": "markdown",
   "metadata": {},
   "source": [
    "Viewing the head of the merged table we can see lots of variables we don't need. We will create a new DataFrame with only the categories we need: 'Quantity', 'Discount', and 'CategoryName'."
   ]
  },
  {
   "cell_type": "code",
   "execution_count": 15,
   "metadata": {},
   "outputs": [
    {
     "data": {
      "text/html": [
       "<div>\n",
       "<style scoped>\n",
       "    .dataframe tbody tr th:only-of-type {\n",
       "        vertical-align: middle;\n",
       "    }\n",
       "\n",
       "    .dataframe tbody tr th {\n",
       "        vertical-align: top;\n",
       "    }\n",
       "\n",
       "    .dataframe thead th {\n",
       "        text-align: right;\n",
       "    }\n",
       "</style>\n",
       "<table border=\"1\" class=\"dataframe\">\n",
       "  <thead>\n",
       "    <tr style=\"text-align: right;\">\n",
       "      <th></th>\n",
       "      <th>Quantity</th>\n",
       "      <th>Discount</th>\n",
       "      <th>CategoryName</th>\n",
       "    </tr>\n",
       "  </thead>\n",
       "  <tbody>\n",
       "    <tr>\n",
       "      <th>0</th>\n",
       "      <td>45</td>\n",
       "      <td>0.20</td>\n",
       "      <td>Beverages</td>\n",
       "    </tr>\n",
       "    <tr>\n",
       "      <th>1</th>\n",
       "      <td>18</td>\n",
       "      <td>0.00</td>\n",
       "      <td>Beverages</td>\n",
       "    </tr>\n",
       "    <tr>\n",
       "      <th>2</th>\n",
       "      <td>20</td>\n",
       "      <td>0.00</td>\n",
       "      <td>Beverages</td>\n",
       "    </tr>\n",
       "    <tr>\n",
       "      <th>3</th>\n",
       "      <td>15</td>\n",
       "      <td>0.15</td>\n",
       "      <td>Beverages</td>\n",
       "    </tr>\n",
       "    <tr>\n",
       "      <th>4</th>\n",
       "      <td>12</td>\n",
       "      <td>0.00</td>\n",
       "      <td>Beverages</td>\n",
       "    </tr>\n",
       "  </tbody>\n",
       "</table>\n",
       "</div>"
      ],
      "text/plain": [
       "   Quantity  Discount CategoryName\n",
       "0        45      0.20    Beverages\n",
       "1        18      0.00    Beverages\n",
       "2        20      0.00    Beverages\n",
       "3        15      0.15    Beverages\n",
       "4        12      0.00    Beverages"
      ]
     },
     "execution_count": 15,
     "metadata": {},
     "output_type": "execute_result"
    }
   ],
   "source": [
    "q2_data = prod_cat[['Quantity', 'Discount', 'CategoryName']]\n",
    "q2_data.head()"
   ]
  },
  {
   "cell_type": "markdown",
   "metadata": {},
   "source": [
    "Since we are concerned with the interaction between category and whether or not a discount is applied, we will need to modify our 'Discount' column to make it binary. We will do this by making all values of discount greater than zero equal to 1 and leaving no discount instances as 0."
   ]
  },
  {
   "cell_type": "code",
   "execution_count": 16,
   "metadata": {},
   "outputs": [
    {
     "name": "stderr",
     "output_type": "stream",
     "text": [
      "C:\\Users\\sparr\\Anaconda3\\lib\\site-packages\\ipykernel_launcher.py:1: SettingWithCopyWarning: \n",
      "A value is trying to be set on a copy of a slice from a DataFrame.\n",
      "Try using .loc[row_indexer,col_indexer] = value instead\n",
      "\n",
      "See the caveats in the documentation: http://pandas.pydata.org/pandas-docs/stable/indexing.html#indexing-view-versus-copy\n",
      "  \"\"\"Entry point for launching an IPython kernel.\n"
     ]
    }
   ],
   "source": [
    "q2_data['Discount'] = q2_data['Discount'].apply(lambda x: 1 if x > 0 else 0)"
   ]
  },
  {
   "cell_type": "markdown",
   "metadata": {},
   "source": [
    "Since we want to test the impact of a variable ('Discount') on the dependent variable ('Quantity') for multiple groups ('CategoryName'), we will use analysis of variance or ANOVA to test our hypothesis. "
   ]
  },
  {
   "cell_type": "code",
   "execution_count": 17,
   "metadata": {},
   "outputs": [
    {
     "data": {
      "text/html": [
       "<div>\n",
       "<style scoped>\n",
       "    .dataframe tbody tr th:only-of-type {\n",
       "        vertical-align: middle;\n",
       "    }\n",
       "\n",
       "    .dataframe tbody tr th {\n",
       "        vertical-align: top;\n",
       "    }\n",
       "\n",
       "    .dataframe thead th {\n",
       "        text-align: right;\n",
       "    }\n",
       "</style>\n",
       "<table border=\"1\" class=\"dataframe\">\n",
       "  <thead>\n",
       "    <tr style=\"text-align: right;\">\n",
       "      <th></th>\n",
       "      <th>sum_sq</th>\n",
       "      <th>df</th>\n",
       "      <th>F</th>\n",
       "      <th>PR(&gt;F)</th>\n",
       "    </tr>\n",
       "  </thead>\n",
       "  <tbody>\n",
       "    <tr>\n",
       "      <th>C(CategoryName)</th>\n",
       "      <td>1118.470015</td>\n",
       "      <td>7.0</td>\n",
       "      <td>0.449689</td>\n",
       "      <td>8.708672e-01</td>\n",
       "    </tr>\n",
       "    <tr>\n",
       "      <th>C(Discount)</th>\n",
       "      <td>14729.606130</td>\n",
       "      <td>1.0</td>\n",
       "      <td>41.454988</td>\n",
       "      <td>1.484744e-10</td>\n",
       "    </tr>\n",
       "    <tr>\n",
       "      <th>C(CategoryName):C(Discount)</th>\n",
       "      <td>3357.463105</td>\n",
       "      <td>7.0</td>\n",
       "      <td>1.349892</td>\n",
       "      <td>2.226259e-01</td>\n",
       "    </tr>\n",
       "    <tr>\n",
       "      <th>Residual</th>\n",
       "      <td>760020.189876</td>\n",
       "      <td>2139.0</td>\n",
       "      <td>NaN</td>\n",
       "      <td>NaN</td>\n",
       "    </tr>\n",
       "  </tbody>\n",
       "</table>\n",
       "</div>"
      ],
      "text/plain": [
       "                                    sum_sq      df          F        PR(>F)\n",
       "C(CategoryName)                1118.470015     7.0   0.449689  8.708672e-01\n",
       "C(Discount)                   14729.606130     1.0  41.454988  1.484744e-10\n",
       "C(CategoryName):C(Discount)    3357.463105     7.0   1.349892  2.226259e-01\n",
       "Residual                     760020.189876  2139.0        NaN           NaN"
      ]
     },
     "execution_count": 17,
     "metadata": {},
     "output_type": "execute_result"
    }
   ],
   "source": [
    "formula = 'Quantity ~ C(CategoryName)*C(Discount)'\n",
    "lm = ols(formula, q2_data).fit()\n",
    "table = sm.stats.anova_lm(lm, typ=2)\n",
    "table"
   ]
  },
  {
   "cell_type": "markdown",
   "metadata": {},
   "source": [
    "From the above table we can see that the interaction of 'CategoryName' and 'Discount' has a p-value of ~0.223. Since this is less than our alpha of 0.05, we fail to reject the null hypothesis. From these results, it appears there is no significant difference in quantity of product ordered across the different combinations of category and whether or not a discount is applied. "
   ]
  },
  {
   "cell_type": "markdown",
   "metadata": {},
   "source": [
    "We can also view an interaction plot of our variables to show this lack of interaction."
   ]
  },
  {
   "cell_type": "code",
   "execution_count": 18,
   "metadata": {},
   "outputs": [
    {
     "data": {
      "text/plain": [
       "Text(0.5,0,'')"
      ]
     },
     "execution_count": 18,
     "metadata": {},
     "output_type": "execute_result"
    },
    {
     "data": {
      "image/png": "[encoded data removed]",
      "text/plain": [
       "<Figure size 864x720 with 1 Axes>"
      ]
     },
     "metadata": {
      "needs_background": "light"
     },
     "output_type": "display_data"
    }
   ],
   "source": [
    "plt.figure(figsize=(12,10))\n",
    "fig = interaction_plot(q2_data['Discount'],q2_data['CategoryName'],q2_data['Quantity'], ms=10, ax=plt.gca())\n",
    "plt.xticks(np.arange(0,1.5,step=1), ('No Discount', 'Discount'))\n",
    "plt.xlabel('')"
   ]
  },
  {
   "cell_type": "markdown",
   "metadata": {},
   "source": [
    "We can see from the above graph that the lines for each of the category are mostly parallel with each other which implies little to no interaction with the other independent variable 'Discount'. The categories of 'Confections' and 'Grains/Cereals' do have slightly different slopes than the other categories but according to our ANOVA results, this difference is not significant."
   ]
  },
  {
   "cell_type": "markdown",
   "metadata": {},
   "source": [
    "### Our findings signify that there is not sufficient evidence that certain categories benefit more than others from having a discount applied versus not providing a discount. There may be some slight differences between certain categories but the differences overall are not statistically significant."
   ]
  },
  {
   "cell_type": "markdown",
   "metadata": {},
   "source": [
    " "
   ]
  },
  {
   "cell_type": "markdown",
   "metadata": {},
   "source": [
    "## Q3 -- Is there an optimal discount level based on the price of the product?"
   ]
  },
  {
   "cell_type": "markdown",
   "metadata": {},
   "source": [
    "For this question we are wondering whether or not there is an interaction between 'Discount' and 'UnitPrice'. From this we can learn whether a certain discount level can lead to a higher 'Quantity' of product ordered depending on the product's price."
   ]
  },
  {
   "cell_type": "markdown",
   "metadata": {},
   "source": [
    "## <center>H<sub>0: There is no interaction between the discount level and unit price in regards to quantity."
   ]
  },
  {
   "cell_type": "markdown",
   "metadata": {},
   "source": [
    "## <center>H<sub>a: There is some interaction between discount level and unit price in regards to quantity."
   ]
  },
  {
   "cell_type": "markdown",
   "metadata": {},
   "source": [
    "To answer this question we will first need to create a relevant data table. Since we are only concerned with 'UnitPrice', 'Discount' and 'Quantity', we can simply grab those from the 'order_details' table."
   ]
  },
  {
   "cell_type": "code",
   "execution_count": 19,
   "metadata": {},
   "outputs": [],
   "source": [
    "q3_data = order_details[['UnitPrice', 'Discount', 'Quantity']].copy()"
   ]
  },
  {
   "cell_type": "markdown",
   "metadata": {},
   "source": [
    "From the first question, we know that there are a couple 'Discount' values with few instances."
   ]
  },
  {
   "cell_type": "code",
   "execution_count": 20,
   "metadata": {},
   "outputs": [
    {
     "data": {
      "text/plain": [
       "0.00    1317\n",
       "0.05     185\n",
       "0.10     173\n",
       "0.20     161\n",
       "0.15     157\n",
       "0.25     154\n",
       "0.03       3\n",
       "0.02       2\n",
       "0.01       1\n",
       "0.04       1\n",
       "0.06       1\n",
       "Name: Discount, dtype: int64"
      ]
     },
     "execution_count": 20,
     "metadata": {},
     "output_type": "execute_result"
    }
   ],
   "source": [
    "q3_data['Discount'].value_counts()"
   ]
  },
  {
   "cell_type": "markdown",
   "metadata": {},
   "source": [
    "Since the values with low value counts are all close to 0.05, we will modify those few 'Discount' levels and set them equal to 0.05."
   ]
  },
  {
   "cell_type": "code",
   "execution_count": 21,
   "metadata": {},
   "outputs": [],
   "source": [
    "q3_data['Discount'] = q3_data['Discount'].apply(lambda x: 0.05 if (x > 0) & (x < 0.10) else x)"
   ]
  },
  {
   "cell_type": "code",
   "execution_count": 22,
   "metadata": {},
   "outputs": [
    {
     "data": {
      "text/plain": [
       "0.00    1317\n",
       "0.05     193\n",
       "0.10     173\n",
       "0.20     161\n",
       "0.15     157\n",
       "0.25     154\n",
       "Name: Discount, dtype: int64"
      ]
     },
     "execution_count": 22,
     "metadata": {},
     "output_type": "execute_result"
    }
   ],
   "source": [
    "q3_data['Discount'].value_counts()"
   ]
  },
  {
   "cell_type": "code",
   "execution_count": 23,
   "metadata": {},
   "outputs": [
    {
     "name": "stderr",
     "output_type": "stream",
     "text": [
      "C:\\Users\\sparr\\Anaconda3\\lib\\site-packages\\scipy\\stats\\stats.py:1713: FutureWarning: Using a non-tuple sequence for multidimensional indexing is deprecated; use `arr[tuple(seq)]` instead of `arr[seq]`. In the future this will be interpreted as an array index, `arr[np.array(seq)]`, which will result either in an error or a different result.\n",
      "  return np.add.reduce(sorted[indexer] * weights, axis=axis) / sumval\n"
     ]
    },
    {
     "data": {
      "image/png": "[encoded data removed]",
      "text/plain": [
       "<Figure size 432x288 with 1 Axes>"
      ]
     },
     "metadata": {
      "needs_background": "light"
     },
     "output_type": "display_data"
    },
    {
     "data": {
      "image/png": "[encoded data removed]",
      "text/plain": [
       "<Figure size 432x288 with 1 Axes>"
      ]
     },
     "metadata": {
      "needs_background": "light"
     },
     "output_type": "display_data"
    },
    {
     "data": {
      "image/png": "[encoded data removed]",
      "text/plain": [
       "<Figure size 432x288 with 1 Axes>"
      ]
     },
     "metadata": {
      "needs_background": "light"
     },
     "output_type": "display_data"
    },
    {
     "data": {
      "image/png": "[encoded data removed]",
      "text/plain": [
       "<Figure size 432x288 with 1 Axes>"
      ]
     },
     "metadata": {
      "needs_background": "light"
     },
     "output_type": "display_data"
    },
    {
     "data": {
      "image/png": "[encoded data removed]",
      "text/plain": [
       "<Figure size 432x288 with 1 Axes>"
      ]
     },
     "metadata": {
      "needs_background": "light"
     },
     "output_type": "display_data"
    },
    {
     "data": {
      "image/png": "[encoded data removed]",
      "text/plain": [
       "<Figure size 432x288 with 1 Axes>"
      ]
     },
     "metadata": {
      "needs_background": "light"
     },
     "output_type": "display_data"
    }
   ],
   "source": [
    "colors = ['red','blue','green','yellow','purple','orange']\n",
    "discounts = q3_data['Discount'].unique()\n",
    "for i in range(0,len(discounts)):\n",
    "    data = q3_data[q3_data['Discount'] == discounts[i]]\n",
    "    c=np.random.rand(3,1)\n",
    "    sns.regplot(data['UnitPrice'],data['Quantity'],color=colors[i])\n",
    "    plt.title(str(discounts[i]) + ' Discount')\n",
    "    plt.show()\n"
   ]
  },
  {
   "cell_type": "code",
   "execution_count": null,
   "metadata": {},
   "outputs": [],
   "source": []
  },
  {
   "cell_type": "markdown",
   "metadata": {},
   "source": [
    "Since we are looking to analyze the interaction between a categorical variable 'Discount' and a continuous variable 'UnitPrice' we will use analysis of covariance or ANCOVA to answer our hypothesis."
   ]
  },
  {
   "cell_type": "code",
   "execution_count": 24,
   "metadata": {},
   "outputs": [
    {
     "data": {
      "text/html": [
       "<table class=\"simpletable\">\n",
       "<caption>OLS Regression Results</caption>\n",
       "<tr>\n",
       "  <th>Dep. Variable:</th>        <td>Quantity</td>     <th>  R-squared:         </th> <td>   0.023</td> \n",
       "</tr>\n",
       "<tr>\n",
       "  <th>Model:</th>                   <td>OLS</td>       <th>  Adj. R-squared:    </th> <td>   0.018</td> \n",
       "</tr>\n",
       "<tr>\n",
       "  <th>Method:</th>             <td>Least Squares</td>  <th>  F-statistic:       </th> <td>   4.592</td> \n",
       "</tr>\n",
       "<tr>\n",
       "  <th>Date:</th>             <td>Mon, 03 Dec 2018</td> <th>  Prob (F-statistic):</th> <td>6.18e-07</td> \n",
       "</tr>\n",
       "<tr>\n",
       "  <th>Time:</th>                 <td>14:58:14</td>     <th>  Log-Likelihood:    </th> <td> -9380.0</td> \n",
       "</tr>\n",
       "<tr>\n",
       "  <th>No. Observations:</th>      <td>  2155</td>      <th>  AIC:               </th> <td>1.878e+04</td>\n",
       "</tr>\n",
       "<tr>\n",
       "  <th>Df Residuals:</th>          <td>  2143</td>      <th>  BIC:               </th> <td>1.885e+04</td>\n",
       "</tr>\n",
       "<tr>\n",
       "  <th>Df Model:</th>              <td>    11</td>      <th>                     </th>     <td> </td>    \n",
       "</tr>\n",
       "<tr>\n",
       "  <th>Covariance Type:</th>      <td>nonrobust</td>    <th>                     </th>     <td> </td>    \n",
       "</tr>\n",
       "</table>\n",
       "<table class=\"simpletable\">\n",
       "<tr>\n",
       "                <td></td>                   <th>coef</th>     <th>std err</th>      <th>t</th>      <th>P>|t|</th>  <th>[0.025</th>    <th>0.975]</th>  \n",
       "</tr>\n",
       "<tr>\n",
       "  <th>Intercept</th>                     <td>   21.6653</td> <td>    0.692</td> <td>   31.297</td> <td> 0.000</td> <td>   20.308</td> <td>   23.023</td>\n",
       "</tr>\n",
       "<tr>\n",
       "  <th>C(Discount)[T.0.05]</th>           <td>    5.6568</td> <td>    1.839</td> <td>    3.076</td> <td> 0.002</td> <td>    2.051</td> <td>    9.263</td>\n",
       "</tr>\n",
       "<tr>\n",
       "  <th>C(Discount)[T.0.1]</th>            <td>    4.8518</td> <td>    1.981</td> <td>    2.449</td> <td> 0.014</td> <td>    0.967</td> <td>    8.736</td>\n",
       "</tr>\n",
       "<tr>\n",
       "  <th>C(Discount)[T.0.15]</th>           <td>    6.3929</td> <td>    2.720</td> <td>    2.350</td> <td> 0.019</td> <td>    1.058</td> <td>   11.728</td>\n",
       "</tr>\n",
       "<tr>\n",
       "  <th>C(Discount)[T.0.2]</th>            <td>    3.2313</td> <td>    2.154</td> <td>    1.500</td> <td> 0.134</td> <td>   -0.992</td> <td>    7.455</td>\n",
       "</tr>\n",
       "<tr>\n",
       "  <th>C(Discount)[T.0.25]</th>           <td>    4.5212</td> <td>    2.241</td> <td>    2.018</td> <td> 0.044</td> <td>    0.127</td> <td>    8.916</td>\n",
       "</tr>\n",
       "<tr>\n",
       "  <th>UnitPrice</th>                     <td>    0.0019</td> <td>    0.017</td> <td>    0.109</td> <td> 0.913</td> <td>   -0.032</td> <td>    0.036</td>\n",
       "</tr>\n",
       "<tr>\n",
       "  <th>C(Discount)[T.0.05]:UnitPrice</th> <td>   -0.0149</td> <td>    0.038</td> <td>   -0.395</td> <td> 0.693</td> <td>   -0.089</td> <td>    0.059</td>\n",
       "</tr>\n",
       "<tr>\n",
       "  <th>C(Discount)[T.0.1]:UnitPrice</th>  <td>   -0.0528</td> <td>    0.050</td> <td>   -1.055</td> <td> 0.291</td> <td>   -0.151</td> <td>    0.045</td>\n",
       "</tr>\n",
       "<tr>\n",
       "  <th>C(Discount)[T.0.15]:UnitPrice</th> <td>    0.0122</td> <td>    0.096</td> <td>    0.128</td> <td> 0.898</td> <td>   -0.175</td> <td>    0.200</td>\n",
       "</tr>\n",
       "<tr>\n",
       "  <th>C(Discount)[T.0.2]:UnitPrice</th>  <td>    0.0886</td> <td>    0.062</td> <td>    1.430</td> <td> 0.153</td> <td>   -0.033</td> <td>    0.210</td>\n",
       "</tr>\n",
       "<tr>\n",
       "  <th>C(Discount)[T.0.25]:UnitPrice</th> <td>    0.0709</td> <td>    0.056</td> <td>    1.270</td> <td> 0.204</td> <td>   -0.039</td> <td>    0.180</td>\n",
       "</tr>\n",
       "</table>\n",
       "<table class=\"simpletable\">\n",
       "<tr>\n",
       "  <th>Omnibus:</th>       <td>787.916</td> <th>  Durbin-Watson:     </th> <td>   1.636</td>\n",
       "</tr>\n",
       "<tr>\n",
       "  <th>Prob(Omnibus):</th> <td> 0.000</td>  <th>  Jarque-Bera (JB):  </th> <td>3092.282</td>\n",
       "</tr>\n",
       "<tr>\n",
       "  <th>Skew:</th>          <td> 1.769</td>  <th>  Prob(JB):          </th> <td>    0.00</td>\n",
       "</tr>\n",
       "<tr>\n",
       "  <th>Kurtosis:</th>      <td> 7.682</td>  <th>  Cond. No.          </th> <td>    281.</td>\n",
       "</tr>\n",
       "</table><br/><br/>Warnings:<br/>[1] Standard Errors assume that the covariance matrix of the errors is correctly specified."
      ],
      "text/plain": [
       "<class 'statsmodels.iolib.summary.Summary'>\n",
       "\"\"\"\n",
       "                            OLS Regression Results                            \n",
       "==============================================================================\n",
       "Dep. Variable:               Quantity   R-squared:                       0.023\n",
       "Model:                            OLS   Adj. R-squared:                  0.018\n",
       "Method:                 Least Squares   F-statistic:                     4.592\n",
       "Date:                Mon, 03 Dec 2018   Prob (F-statistic):           6.18e-07\n",
       "Time:                        14:58:14   Log-Likelihood:                -9380.0\n",
       "No. Observations:                2155   AIC:                         1.878e+04\n",
       "Df Residuals:                    2143   BIC:                         1.885e+04\n",
       "Df Model:                          11                                         \n",
       "Covariance Type:            nonrobust                                         \n",
       "=================================================================================================\n",
       "                                    coef    std err          t      P>|t|      [0.025      0.975]\n",
       "-------------------------------------------------------------------------------------------------\n",
       "Intercept                        21.6653      0.692     31.297      0.000      20.308      23.023\n",
       "C(Discount)[T.0.05]               5.6568      1.839      3.076      0.002       2.051       9.263\n",
       "C(Discount)[T.0.1]                4.8518      1.981      2.449      0.014       0.967       8.736\n",
       "C(Discount)[T.0.15]               6.3929      2.720      2.350      0.019       1.058      11.728\n",
       "C(Discount)[T.0.2]                3.2313      2.154      1.500      0.134      -0.992       7.455\n",
       "C(Discount)[T.0.25]               4.5212      2.241      2.018      0.044       0.127       8.916\n",
       "UnitPrice                         0.0019      0.017      0.109      0.913      -0.032       0.036\n",
       "C(Discount)[T.0.05]:UnitPrice    -0.0149      0.038     -0.395      0.693      -0.089       0.059\n",
       "C(Discount)[T.0.1]:UnitPrice     -0.0528      0.050     -1.055      0.291      -0.151       0.045\n",
       "C(Discount)[T.0.15]:UnitPrice     0.0122      0.096      0.128      0.898      -0.175       0.200\n",
       "C(Discount)[T.0.2]:UnitPrice      0.0886      0.062      1.430      0.153      -0.033       0.210\n",
       "C(Discount)[T.0.25]:UnitPrice     0.0709      0.056      1.270      0.204      -0.039       0.180\n",
       "==============================================================================\n",
       "Omnibus:                      787.916   Durbin-Watson:                   1.636\n",
       "Prob(Omnibus):                  0.000   Jarque-Bera (JB):             3092.282\n",
       "Skew:                           1.769   Prob(JB):                         0.00\n",
       "Kurtosis:                       7.682   Cond. No.                         281.\n",
       "==============================================================================\n",
       "\n",
       "Warnings:\n",
       "[1] Standard Errors assume that the covariance matrix of the errors is correctly specified.\n",
       "\"\"\""
      ]
     },
     "execution_count": 24,
     "metadata": {},
     "output_type": "execute_result"
    }
   ],
   "source": [
    "formula = 'Quantity ~ C(Discount)*UnitPrice'\n",
    "lm = ols(formula, q3_data).fit()\n",
    "lm.summary()"
   ]
  },
  {
   "cell_type": "markdown",
   "metadata": {},
   "source": [
    "From the above results we can see that the p-values for each of our interaction terms are all greater than our alpha value. We thus fail to reject our null hypothesis. This suggests that there is no significant interaction between 'Discount' level and 'UnitPrice'. "
   ]
  },
  {
   "cell_type": "markdown",
   "metadata": {},
   "source": [
    "The low R-squared value of 0.008 for the model also shows how poor of a fit a regression using only 'Discount' level and 'UnitPrice' are in predicting the 'Quantity' of product ordered."
   ]
  },
  {
   "cell_type": "markdown",
   "metadata": {},
   "source": [
    "### Our findings suggest there is no optimal discount level given the price of a product. "
   ]
  },
  {
   "cell_type": "markdown",
   "metadata": {},
   "source": []
  },
  {
   "cell_type": "markdown",
   "metadata": {},
   "source": [
    "## Q4 -- Do some employees perform better in terms of average order price than others?"
   ]
  },
  {
   "cell_type": "markdown",
   "metadata": {},
   "source": [
    "## <center>H<sub>0: The average amount spent per order is the same across all employees."
   ]
  },
  {
   "cell_type": "markdown",
   "metadata": {},
   "source": [
    "## <center>H<sub>0: The average amount spent per order varies amongst employees."
   ]
  },
  {
   "cell_type": "markdown",
   "metadata": {},
   "source": [
    "To investigate this question we will need the variables of 'EmployeeId', 'Quantity', 'Discount', and 'UnitPrice'. To get these variables we will need to merge the 'orders' table with the 'order_details' table."
   ]
  },
  {
   "cell_type": "code",
   "execution_count": 25,
   "metadata": {
    "scrolled": false
   },
   "outputs": [
    {
     "data": {
      "text/html": [
       "<div>\n",
       "<style scoped>\n",
       "    .dataframe tbody tr th:only-of-type {\n",
       "        vertical-align: middle;\n",
       "    }\n",
       "\n",
       "    .dataframe tbody tr th {\n",
       "        vertical-align: top;\n",
       "    }\n",
       "\n",
       "    .dataframe thead th {\n",
       "        text-align: right;\n",
       "    }\n",
       "</style>\n",
       "<table border=\"1\" class=\"dataframe\">\n",
       "  <thead>\n",
       "    <tr style=\"text-align: right;\">\n",
       "      <th></th>\n",
       "      <th>Id_x</th>\n",
       "      <th>CustomerId</th>\n",
       "      <th>EmployeeId</th>\n",
       "      <th>OrderDate</th>\n",
       "      <th>RequiredDate</th>\n",
       "      <th>ShippedDate</th>\n",
       "      <th>ShipVia</th>\n",
       "      <th>Freight</th>\n",
       "      <th>ShipName</th>\n",
       "      <th>ShipAddress</th>\n",
       "      <th>...</th>\n",
       "      <th>ShipRegion</th>\n",
       "      <th>ShipPostalCode</th>\n",
       "      <th>ShipCountry</th>\n",
       "      <th>Id_y</th>\n",
       "      <th>OrderId</th>\n",
       "      <th>ProductId</th>\n",
       "      <th>UnitPrice</th>\n",
       "      <th>Quantity</th>\n",
       "      <th>Discount</th>\n",
       "      <th>Discount_bin</th>\n",
       "    </tr>\n",
       "  </thead>\n",
       "  <tbody>\n",
       "    <tr>\n",
       "      <th>0</th>\n",
       "      <td>10248</td>\n",
       "      <td>VINET</td>\n",
       "      <td>5</td>\n",
       "      <td>2012-07-04</td>\n",
       "      <td>2012-08-01</td>\n",
       "      <td>2012-07-16</td>\n",
       "      <td>3</td>\n",
       "      <td>32.38</td>\n",
       "      <td>Vins et alcools Chevalier</td>\n",
       "      <td>59 rue de l'Abbaye</td>\n",
       "      <td>...</td>\n",
       "      <td>Western Europe</td>\n",
       "      <td>51100</td>\n",
       "      <td>France</td>\n",
       "      <td>10248/11</td>\n",
       "      <td>10248</td>\n",
       "      <td>11</td>\n",
       "      <td>14.0</td>\n",
       "      <td>12</td>\n",
       "      <td>0.0</td>\n",
       "      <td>0</td>\n",
       "    </tr>\n",
       "    <tr>\n",
       "      <th>1</th>\n",
       "      <td>10248</td>\n",
       "      <td>VINET</td>\n",
       "      <td>5</td>\n",
       "      <td>2012-07-04</td>\n",
       "      <td>2012-08-01</td>\n",
       "      <td>2012-07-16</td>\n",
       "      <td>3</td>\n",
       "      <td>32.38</td>\n",
       "      <td>Vins et alcools Chevalier</td>\n",
       "      <td>59 rue de l'Abbaye</td>\n",
       "      <td>...</td>\n",
       "      <td>Western Europe</td>\n",
       "      <td>51100</td>\n",
       "      <td>France</td>\n",
       "      <td>10248/42</td>\n",
       "      <td>10248</td>\n",
       "      <td>42</td>\n",
       "      <td>9.8</td>\n",
       "      <td>10</td>\n",
       "      <td>0.0</td>\n",
       "      <td>0</td>\n",
       "    </tr>\n",
       "    <tr>\n",
       "      <th>2</th>\n",
       "      <td>10248</td>\n",
       "      <td>VINET</td>\n",
       "      <td>5</td>\n",
       "      <td>2012-07-04</td>\n",
       "      <td>2012-08-01</td>\n",
       "      <td>2012-07-16</td>\n",
       "      <td>3</td>\n",
       "      <td>32.38</td>\n",
       "      <td>Vins et alcools Chevalier</td>\n",
       "      <td>59 rue de l'Abbaye</td>\n",
       "      <td>...</td>\n",
       "      <td>Western Europe</td>\n",
       "      <td>51100</td>\n",
       "      <td>France</td>\n",
       "      <td>10248/72</td>\n",
       "      <td>10248</td>\n",
       "      <td>72</td>\n",
       "      <td>34.8</td>\n",
       "      <td>5</td>\n",
       "      <td>0.0</td>\n",
       "      <td>0</td>\n",
       "    </tr>\n",
       "    <tr>\n",
       "      <th>3</th>\n",
       "      <td>10249</td>\n",
       "      <td>TOMSP</td>\n",
       "      <td>6</td>\n",
       "      <td>2012-07-05</td>\n",
       "      <td>2012-08-16</td>\n",
       "      <td>2012-07-10</td>\n",
       "      <td>1</td>\n",
       "      <td>11.61</td>\n",
       "      <td>Toms Spezialitäten</td>\n",
       "      <td>Luisenstr. 48</td>\n",
       "      <td>...</td>\n",
       "      <td>Western Europe</td>\n",
       "      <td>44087</td>\n",
       "      <td>Germany</td>\n",
       "      <td>10249/14</td>\n",
       "      <td>10249</td>\n",
       "      <td>14</td>\n",
       "      <td>18.6</td>\n",
       "      <td>9</td>\n",
       "      <td>0.0</td>\n",
       "      <td>0</td>\n",
       "    </tr>\n",
       "    <tr>\n",
       "      <th>4</th>\n",
       "      <td>10249</td>\n",
       "      <td>TOMSP</td>\n",
       "      <td>6</td>\n",
       "      <td>2012-07-05</td>\n",
       "      <td>2012-08-16</td>\n",
       "      <td>2012-07-10</td>\n",
       "      <td>1</td>\n",
       "      <td>11.61</td>\n",
       "      <td>Toms Spezialitäten</td>\n",
       "      <td>Luisenstr. 48</td>\n",
       "      <td>...</td>\n",
       "      <td>Western Europe</td>\n",
       "      <td>44087</td>\n",
       "      <td>Germany</td>\n",
       "      <td>10249/51</td>\n",
       "      <td>10249</td>\n",
       "      <td>51</td>\n",
       "      <td>42.4</td>\n",
       "      <td>40</td>\n",
       "      <td>0.0</td>\n",
       "      <td>0</td>\n",
       "    </tr>\n",
       "  </tbody>\n",
       "</table>\n",
       "<p>5 rows × 21 columns</p>\n",
       "</div>"
      ],
      "text/plain": [
       "    Id_x CustomerId  EmployeeId   OrderDate RequiredDate ShippedDate  ShipVia  \\\n",
       "0  10248      VINET           5  2012-07-04   2012-08-01  2012-07-16        3   \n",
       "1  10248      VINET           5  2012-07-04   2012-08-01  2012-07-16        3   \n",
       "2  10248      VINET           5  2012-07-04   2012-08-01  2012-07-16        3   \n",
       "3  10249      TOMSP           6  2012-07-05   2012-08-16  2012-07-10        1   \n",
       "4  10249      TOMSP           6  2012-07-05   2012-08-16  2012-07-10        1   \n",
       "\n",
       "   Freight                   ShipName         ShipAddress      ...       \\\n",
       "0    32.38  Vins et alcools Chevalier  59 rue de l'Abbaye      ...        \n",
       "1    32.38  Vins et alcools Chevalier  59 rue de l'Abbaye      ...        \n",
       "2    32.38  Vins et alcools Chevalier  59 rue de l'Abbaye      ...        \n",
       "3    11.61         Toms Spezialitäten       Luisenstr. 48      ...        \n",
       "4    11.61         Toms Spezialitäten       Luisenstr. 48      ...        \n",
       "\n",
       "       ShipRegion ShipPostalCode ShipCountry      Id_y OrderId  ProductId  \\\n",
       "0  Western Europe          51100      France  10248/11   10248         11   \n",
       "1  Western Europe          51100      France  10248/42   10248         42   \n",
       "2  Western Europe          51100      France  10248/72   10248         72   \n",
       "3  Western Europe          44087     Germany  10249/14   10249         14   \n",
       "4  Western Europe          44087     Germany  10249/51   10249         51   \n",
       "\n",
       "   UnitPrice  Quantity  Discount  Discount_bin  \n",
       "0       14.0        12       0.0             0  \n",
       "1        9.8        10       0.0             0  \n",
       "2       34.8         5       0.0             0  \n",
       "3       18.6         9       0.0             0  \n",
       "4       42.4        40       0.0             0  \n",
       "\n",
       "[5 rows x 21 columns]"
      ]
     },
     "execution_count": 25,
     "metadata": {},
     "output_type": "execute_result"
    }
   ],
   "source": [
    "q4_data = pd.merge(orders, \n",
    "                  order_details,\n",
    "                  left_on='Id',\n",
    "                  right_on='OrderId',\n",
    "                  how='left')\n",
    "q4_data.head()"
   ]
  },
  {
   "cell_type": "markdown",
   "metadata": {},
   "source": [
    "Now we will need to create a new column named 'Sale' which will be the total dollar amount spent on each order. We will find this by using the 'UnitPrice', 'Quantity', and 'Discount' in the below formula."
   ]
  },
  {
   "cell_type": "code",
   "execution_count": 26,
   "metadata": {},
   "outputs": [],
   "source": [
    "q4_data['Sale'] = q4_data['Quantity']*(q4_data['UnitPrice']*(1 - q4_data['Discount']))"
   ]
  },
  {
   "cell_type": "markdown",
   "metadata": {},
   "source": [
    "We can now initially view the average sale amount for each employee."
   ]
  },
  {
   "cell_type": "code",
   "execution_count": 27,
   "metadata": {},
   "outputs": [
    {
     "data": {
      "image/png": "[encoded data removed]",
      "text/plain": [
       "<Figure size 432x288 with 1 Axes>"
      ]
     },
     "metadata": {
      "needs_background": "light"
     },
     "output_type": "display_data"
    }
   ],
   "source": [
    "X = q4_data['EmployeeId']\n",
    "y = []\n",
    "for i in q4_data['EmployeeId']:\n",
    "    y.append(q4_data['Sale'][q4_data['EmployeeId'] == i].mean())\n",
    "ax = plt.bar(X,y)\n",
    "plt.xlabel('Employee Id')\n",
    "plt.ylabel('Sale Amount')\n",
    "plt.title('Average Sale Amount Across Employees')\n",
    "plt.xticks(np.arange(0, 10, step=1))\n",
    "\n",
    "rects = ax.patches\n",
    "y_round = []\n",
    "for i in y:\n",
    "    y_round.append(round(i,2))\n",
    "labels = y_round\n",
    "for rect, label in zip(rects, labels):\n",
    "    height = rect.get_height()\n",
    "    plt.text(rect.get_x() + rect.get_width() / 2, height + 1, label,\n",
    "            ha='center', va='bottom', size=15)\n",
    "plt.show()"
   ]
  },
  {
   "cell_type": "markdown",
   "metadata": {},
   "source": [
    "From the above bar graph, we can see that the average sale amount does vary across the employees. To get a better idea of whether this variance is significant or not we can use an ANOVA."
   ]
  },
  {
   "cell_type": "code",
   "execution_count": 28,
   "metadata": {},
   "outputs": [
    {
     "data": {
      "text/html": [
       "<div>\n",
       "<style scoped>\n",
       "    .dataframe tbody tr th:only-of-type {\n",
       "        vertical-align: middle;\n",
       "    }\n",
       "\n",
       "    .dataframe tbody tr th {\n",
       "        vertical-align: top;\n",
       "    }\n",
       "\n",
       "    .dataframe thead th {\n",
       "        text-align: right;\n",
       "    }\n",
       "</style>\n",
       "<table border=\"1\" class=\"dataframe\">\n",
       "  <thead>\n",
       "    <tr style=\"text-align: right;\">\n",
       "      <th></th>\n",
       "      <th>df</th>\n",
       "      <th>sum_sq</th>\n",
       "      <th>mean_sq</th>\n",
       "      <th>F</th>\n",
       "      <th>PR(&gt;F)</th>\n",
       "    </tr>\n",
       "  </thead>\n",
       "  <tbody>\n",
       "    <tr>\n",
       "      <th>C(EmployeeId)</th>\n",
       "      <td>8.0</td>\n",
       "      <td>1.472611e+07</td>\n",
       "      <td>1.840763e+06</td>\n",
       "      <td>1.966553</td>\n",
       "      <td>0.046929</td>\n",
       "    </tr>\n",
       "    <tr>\n",
       "      <th>Residual</th>\n",
       "      <td>2146.0</td>\n",
       "      <td>2.008732e+09</td>\n",
       "      <td>9.360354e+05</td>\n",
       "      <td>NaN</td>\n",
       "      <td>NaN</td>\n",
       "    </tr>\n",
       "  </tbody>\n",
       "</table>\n",
       "</div>"
      ],
      "text/plain": [
       "                   df        sum_sq       mean_sq         F    PR(>F)\n",
       "C(EmployeeId)     8.0  1.472611e+07  1.840763e+06  1.966553  0.046929\n",
       "Residual       2146.0  2.008732e+09  9.360354e+05       NaN       NaN"
      ]
     },
     "execution_count": 28,
     "metadata": {},
     "output_type": "execute_result"
    }
   ],
   "source": [
    "formula = 'Sale ~ C(EmployeeId)'\n",
    "lm = ols(formula, q4_data).fit()\n",
    "table = sm.stats.anova_lm(lm, typ=1)\n",
    "table"
   ]
  },
  {
   "cell_type": "markdown",
   "metadata": {},
   "source": [
    "From the above table we can see that we got a p-value of ~0.0469 which is below our alpha of 0.05. This suggests that there is a statistically significant difference in sale amount across the employees. To further investigate and find out where this difference exists, we can run a Tukey HSD to determine if any certain employee performs better than another employee. "
   ]
  },
  {
   "cell_type": "code",
   "execution_count": 29,
   "metadata": {},
   "outputs": [
    {
     "name": "stdout",
     "output_type": "stream",
     "text": [
      "Multiple Comparison of Means - Tukey HSD,FWER=0.05\n",
      "=================================================\n",
      "group1 group2  meandiff   lower    upper   reject\n",
      "-------------------------------------------------\n",
      "  1      2     134.1944 -117.9953 386.3841 False \n",
      "  1      3     74.9821  -157.9727 307.9368 False \n",
      "  1      4     -2.3316  -220.6011 215.9379 False \n",
      "  1      5     31.1346  -290.2426 352.5118 False \n",
      "  1      6    -116.8745 -399.4868 165.7378 False \n",
      "  1      7     150.9404 -127.3188 429.1996 False \n",
      "  1      8     -68.9018 -315.6068 177.8032 False \n",
      "  1      9     165.6717 -166.7309 498.0742 False \n",
      "  2      3     -59.2123 -315.2499 196.8252 False \n",
      "  2      4     -136.526 -379.2787 106.2267 False \n",
      "  2      5    -103.0598 -441.5426 235.423  False \n",
      "  2      6    -251.0689 -552.9911 50.8533  False \n",
      "  2      7      16.746  -281.1054 314.5975 False \n",
      "  2      8    -203.0962  -471.705 65.5126  False \n",
      "  2      9     31.4773  -317.4909 380.4454 False \n",
      "  3      4     -77.3137 -300.0179 145.3906 False \n",
      "  3      5     -43.8475  -368.253 280.558  False \n",
      "  3      6    -191.8566 -477.9078 94.1946  False \n",
      "  3      7     75.9584  -205.7929 357.7096 False \n",
      "  3      8    -143.8839  -394.521 106.7533 False \n",
      "  3      9     90.6896  -244.6417 426.0208 False \n",
      "  4      5     33.4662  -280.5602 347.4926 False \n",
      "  4      6    -114.5429 -388.7672 159.6814 False \n",
      "  4      7     153.272  -116.4638 423.0079 False \n",
      "  4      8     -66.5702  -303.62  170.4797 False \n",
      "  4      9     168.0033 -157.2977 493.3042 False \n",
      "  5      6    -148.0091 -509.7282  213.71  False \n",
      "  5      7     119.8058 -238.5225 478.1341 False \n",
      "  5      8    -100.0364 -434.4528 234.3801 False \n",
      "  5      9     134.5371 -267.2868 536.361  False \n",
      "  6      7     267.815   -56.1998 591.8297 False \n",
      "  6      8     47.9727  -249.3836 345.329  False \n",
      "  6      9     282.5462  -89.0031 654.0954 False \n",
      "  7      8    -219.8422 -513.0644 73.3799  False \n",
      "  7      9     14.7312  -353.5178 382.9802 False \n",
      "  8      9     234.5735 -110.4519 579.5988 False \n",
      "-------------------------------------------------\n"
     ]
    }
   ],
   "source": [
    "mc = MultiComparison(q4_data['Sale'], q4_data['EmployeeId'])\n",
    "result = mc.tukeyhsd()\n",
    "print(result)"
   ]
  },
  {
   "cell_type": "markdown",
   "metadata": {},
   "source": [
    "Keeping our family-wise error rate at 0.05, we can see that out of all possible comparisons of employees, none of them are significant enough to allow us to reject the null hypothesis and say that one employee performs better than another."
   ]
  },
  {
   "cell_type": "markdown",
   "metadata": {},
   "source": [
    "### Our findings suggest there is some significant variance in average sale amount across employees but we cannot definitively say any one employee performs better than another in a statistically significant way."
   ]
  },
  {
   "cell_type": "markdown",
   "metadata": {},
   "source": []
  },
  {
   "cell_type": "markdown",
   "metadata": {},
   "source": [
    "## Q5 -- Are some employees better at others at selling a certain category of product?"
   ]
  },
  {
   "cell_type": "markdown",
   "metadata": {},
   "source": [
    "As a follow up to Q4, we can investigate whether or not some employees have significantly better sale amounts for a particular category of product when compared to other employees. To answer this question we will use the metric of sale price and whether or not there is an interaction between 'EmployeeId' and 'CategoryName' of each order."
   ]
  },
  {
   "cell_type": "markdown",
   "metadata": {},
   "source": [
    "## <center>H<sub>0: There is no interaction between employee and category of product in regards to sale price of orders."
   ]
  },
  {
   "cell_type": "markdown",
   "metadata": {},
   "source": [
    "## <center>H<sub>a: There is some interaction between employee and category of product in regards to sale price of orders."
   ]
  },
  {
   "cell_type": "markdown",
   "metadata": {},
   "source": [
    "For this question we will need the variables 'EmployeeId', 'CategoryName', 'Quantity', 'UnitPrice', and 'Discount'. To get these variables into one table we will merge the tables 'orders', 'order_details', 'products', and 'categories'. We will then need to create a column 'Sale' as in the previous question."
   ]
  },
  {
   "cell_type": "code",
   "execution_count": 30,
   "metadata": {
    "scrolled": true
   },
   "outputs": [
    {
     "data": {
      "text/html": [
       "<div>\n",
       "<style scoped>\n",
       "    .dataframe tbody tr th:only-of-type {\n",
       "        vertical-align: middle;\n",
       "    }\n",
       "\n",
       "    .dataframe tbody tr th {\n",
       "        vertical-align: top;\n",
       "    }\n",
       "\n",
       "    .dataframe thead th {\n",
       "        text-align: right;\n",
       "    }\n",
       "</style>\n",
       "<table border=\"1\" class=\"dataframe\">\n",
       "  <thead>\n",
       "    <tr style=\"text-align: right;\">\n",
       "      <th></th>\n",
       "      <th>EmployeeId</th>\n",
       "      <th>CategoryName</th>\n",
       "      <th>Sale</th>\n",
       "    </tr>\n",
       "  </thead>\n",
       "  <tbody>\n",
       "    <tr>\n",
       "      <th>0</th>\n",
       "      <td>5</td>\n",
       "      <td>Dairy Products</td>\n",
       "      <td>168.0</td>\n",
       "    </tr>\n",
       "    <tr>\n",
       "      <th>1</th>\n",
       "      <td>5</td>\n",
       "      <td>Grains/Cereals</td>\n",
       "      <td>98.0</td>\n",
       "    </tr>\n",
       "    <tr>\n",
       "      <th>2</th>\n",
       "      <td>5</td>\n",
       "      <td>Dairy Products</td>\n",
       "      <td>174.0</td>\n",
       "    </tr>\n",
       "    <tr>\n",
       "      <th>3</th>\n",
       "      <td>6</td>\n",
       "      <td>Produce</td>\n",
       "      <td>167.4</td>\n",
       "    </tr>\n",
       "    <tr>\n",
       "      <th>4</th>\n",
       "      <td>6</td>\n",
       "      <td>Produce</td>\n",
       "      <td>1696.0</td>\n",
       "    </tr>\n",
       "  </tbody>\n",
       "</table>\n",
       "</div>"
      ],
      "text/plain": [
       "   EmployeeId    CategoryName    Sale\n",
       "0           5  Dairy Products   168.0\n",
       "1           5  Grains/Cereals    98.0\n",
       "2           5  Dairy Products   174.0\n",
       "3           6         Produce   167.4\n",
       "4           6         Produce  1696.0"
      ]
     },
     "execution_count": 30,
     "metadata": {},
     "output_type": "execute_result"
    }
   ],
   "source": [
    "q5_data = pd.merge(orders, \n",
    "                  order_details,\n",
    "                  left_on='Id',\n",
    "                  right_on='OrderId',\n",
    "                  how='left')\n",
    "q5_data = pd.merge(q5_data, \n",
    "                  products,\n",
    "                  left_on='ProductId',\n",
    "                  right_on='Id',\n",
    "                  how='left')\n",
    "q5_data = pd.merge(q5_data, \n",
    "                  categories,\n",
    "                  left_on='CategoryId',\n",
    "                  right_on='Id',\n",
    "                  how='left')\n",
    "q5_data = q5_data.rename(index=str, columns={\"UnitPrice_x\": \"UnitPrice\"})\n",
    "q5_data['Sale'] = q5_data['Quantity']*(q5_data['UnitPrice']*(1 - q5_data['Discount']))\n",
    "q5_data = q5_data[['EmployeeId', 'CategoryName', 'Sale']]\n",
    "q5_data.head()"
   ]
  },
  {
   "cell_type": "markdown",
   "metadata": {},
   "source": [
    "Since we are concerned with the interaction of two categorical variables, 'EmployeeId' and 'CategoryName', we can use a two-way ANOVA to see if that interaction is significant."
   ]
  },
  {
   "cell_type": "code",
   "execution_count": 31,
   "metadata": {},
   "outputs": [
    {
     "data": {
      "text/html": [
       "<div>\n",
       "<style scoped>\n",
       "    .dataframe tbody tr th:only-of-type {\n",
       "        vertical-align: middle;\n",
       "    }\n",
       "\n",
       "    .dataframe tbody tr th {\n",
       "        vertical-align: top;\n",
       "    }\n",
       "\n",
       "    .dataframe thead th {\n",
       "        text-align: right;\n",
       "    }\n",
       "</style>\n",
       "<table border=\"1\" class=\"dataframe\">\n",
       "  <thead>\n",
       "    <tr style=\"text-align: right;\">\n",
       "      <th></th>\n",
       "      <th>sum_sq</th>\n",
       "      <th>df</th>\n",
       "      <th>F</th>\n",
       "      <th>PR(&gt;F)</th>\n",
       "    </tr>\n",
       "  </thead>\n",
       "  <tbody>\n",
       "    <tr>\n",
       "      <th>C(EmployeeId)</th>\n",
       "      <td>1.554216e+07</td>\n",
       "      <td>8.0</td>\n",
       "      <td>2.089979</td>\n",
       "      <td>3.365327e-02</td>\n",
       "    </tr>\n",
       "    <tr>\n",
       "      <th>C(CategoryName)</th>\n",
       "      <td>4.721500e+07</td>\n",
       "      <td>7.0</td>\n",
       "      <td>7.256091</td>\n",
       "      <td>1.293990e-08</td>\n",
       "    </tr>\n",
       "    <tr>\n",
       "      <th>C(EmployeeId):C(CategoryName)</th>\n",
       "      <td>2.523537e+07</td>\n",
       "      <td>56.0</td>\n",
       "      <td>0.484777</td>\n",
       "      <td>9.995606e-01</td>\n",
       "    </tr>\n",
       "    <tr>\n",
       "      <th>Residual</th>\n",
       "      <td>1.936282e+09</td>\n",
       "      <td>2083.0</td>\n",
       "      <td>NaN</td>\n",
       "      <td>NaN</td>\n",
       "    </tr>\n",
       "  </tbody>\n",
       "</table>\n",
       "</div>"
      ],
      "text/plain": [
       "                                     sum_sq      df         F        PR(>F)\n",
       "C(EmployeeId)                  1.554216e+07     8.0  2.089979  3.365327e-02\n",
       "C(CategoryName)                4.721500e+07     7.0  7.256091  1.293990e-08\n",
       "C(EmployeeId):C(CategoryName)  2.523537e+07    56.0  0.484777  9.995606e-01\n",
       "Residual                       1.936282e+09  2083.0       NaN           NaN"
      ]
     },
     "execution_count": 31,
     "metadata": {},
     "output_type": "execute_result"
    }
   ],
   "source": [
    "formula = 'Sale ~ C(EmployeeId)*C(CategoryName)'\n",
    "lm = ols(formula, q5_data).fit()\n",
    "table = sm.stats.anova_lm(lm, typ=2)\n",
    "table"
   ]
  },
  {
   "cell_type": "code",
   "execution_count": 32,
   "metadata": {},
   "outputs": [
    {
     "data": {
      "text/plain": [
       "<matplotlib.axes._subplots.AxesSubplot at 0x2cf936dfda0>"
      ]
     },
     "execution_count": 32,
     "metadata": {},
     "output_type": "execute_result"
    },
    {
     "data": {
      "image/png": "[encoded data removed]",
      "text/plain": [
       "<Figure size 432x288 with 1 Axes>"
      ]
     },
     "metadata": {
      "needs_background": "light"
     },
     "output_type": "display_data"
    }
   ],
   "source": [
    "q5_data.pivot_table(values='Sale', index='CategoryName', columns='EmployeeId').plot.bar()"
   ]
  },
  {
   "cell_type": "markdown",
   "metadata": {},
   "source": [
    "From the above table we can see that the interaction of 'EmployeeId' and 'CategoryName' has a p-value of ~0.9996. This is much higher than our alpha of 0.05 so we thus fail to reject the null hypothesis. This result suggests that there is not significant interaction between 'EmployeeId' and 'CategoryName' in regards to sale amount. "
   ]
  },
  {
   "cell_type": "markdown",
   "metadata": {},
   "source": [
    "Although our ANOVA gave us insignificant results, we can still do further testing just to be sure there is no difference amongst employees' sale performance for each category. To do this we can run a Tukey HSD for each category, comparing all the employees against each other. "
   ]
  },
  {
   "cell_type": "code",
   "execution_count": 33,
   "metadata": {
    "scrolled": true
   },
   "outputs": [
    {
     "name": "stdout",
     "output_type": "stream",
     "text": [
      "Dairy Products\n",
      "Multiple Comparison of Means - Tukey HSD,FWER=0.05\n",
      "=================================================\n",
      "group1 group2  meandiff   lower    upper   reject\n",
      "-------------------------------------------------\n",
      "  1      2      107.26  -339.3278 553.8478 False \n",
      "  1      3     79.5422  -322.5645 481.6489 False \n",
      "  1      4     67.0929  -328.7055 462.8913 False \n",
      "  1      5     153.4656 -315.7281 622.6593 False \n",
      "  1      6    -117.3012 -552.6946 318.0921 False \n",
      "  1      7     336.828  -132.3657 806.0218 False \n",
      "  1      8     66.4318  -388.5307 521.3942 False \n",
      "  1      9     289.8453  -216.036 795.7266 False \n",
      "  2      3     -27.7179 -495.6441 440.2083 False \n",
      "  2      4     -40.1671 -502.6836 422.3493 False \n",
      "  2      5     46.2056  -480.4896 572.9008 False \n",
      "  2      6    -224.5613 -721.3837 272.2611 False \n",
      "  2      7     229.568  -297.1272 756.2633 False \n",
      "  2      8     -40.8283 -554.8866 473.2301 False \n",
      "  2      9     182.5853 -377.0405 742.2111 False \n",
      "  3      4     -12.4493 -432.1761 407.2776 False \n",
      "  3      5     73.9235  -415.6243 563.4712 False \n",
      "  3      6    -196.8434 -654.0979 260.4111 False \n",
      "  3      7     257.2859 -232.2619 746.8336 False \n",
      "  3      8     -13.1104 -489.0359 462.8151 False \n",
      "  3      9     210.3031 -314.5113 735.1176 False \n",
      "  4      5     86.3727  -398.0068 570.7523 False \n",
      "  4      6    -184.3941 -636.1111 267.3228 False \n",
      "  4      7     269.7351 -214.6444 754.1147 False \n",
      "  4      8     -0.6611  -471.2689 469.9466 False \n",
      "  4      9     222.7524 -297.2445 742.7493 False \n",
      "  5      6    -270.7669 -788.0043 246.4706 False \n",
      "  5      7     183.3624  -362.632 729.3569 False \n",
      "  5      8     -87.0339 -620.8485 446.7808 False \n",
      "  5      9     136.3797 -441.4465 714.2059 False \n",
      "  6      7     454.1293  -63.1082 971.3667 False \n",
      "  6      8     183.733  -320.6306 688.0966 False \n",
      "  6      9     407.1465 -143.5873 957.8804 False \n",
      "  7      8    -270.3963 -804.2109 263.4183 False \n",
      "  7      9     -46.9827  -624.809 530.8435 False \n",
      "  8      9     223.4135 -342.9178 789.7449 False \n",
      "-------------------------------------------------\n",
      "Grains/Cereals\n",
      " Multiple Comparison of Means - Tukey HSD,FWER=0.05\n",
      "===================================================\n",
      "group1 group2  meandiff   lower      upper   reject\n",
      "---------------------------------------------------\n",
      "  1      2     10.6746  -477.0916   498.4409 False \n",
      "  1      3     170.7809 -287.2409   628.8027 False \n",
      "  1      4     87.7228  -353.7781   529.2236 False \n",
      "  1      5     44.3686  -623.5328   712.2701 False \n",
      "  1      6     381.0867  -225.565   987.7383 False \n",
      "  1      7     32.5617  -534.1715   599.2948 False \n",
      "  1      8     22.7097  -469.1432   514.5627 False \n",
      "  1      9     11.9617  -1022.7468 1046.6701 False \n",
      "  2      3     160.1062 -264.2103   584.4227 False \n",
      "  2      4     77.0481  -329.3796   483.4758 False \n",
      "  2      5      33.694  -611.5601   678.9481 False \n",
      "  2      6     370.412  -211.2122   952.0362 False \n",
      "  2      7      21.887  -517.9713   561.7454 False \n",
      "  2      8     12.0351  -448.5947   472.6649 False \n",
      "  2      9      1.287   -1018.9493 1021.5234 False \n",
      "  3      4     -83.0581 -453.2628   287.1466 False \n",
      "  3      5    -126.4122  -749.486   496.6615 False \n",
      "  3      6     210.3058 -346.6096   767.2212 False \n",
      "  3      7    -138.2192 -651.3615   374.9231 False \n",
      "  3      8    -148.0711 -577.0791   280.9369 False \n",
      "  3      9    -158.8192 -1165.1741  847.5357 False \n",
      "  4      5     -43.3541  -654.386   567.6777 False \n",
      "  4      6     293.3639 -250.0455   836.7733 False \n",
      "  4      7     -55.1611 -553.6127   443.2906 False \n",
      "  4      8     -65.013  -476.3363   346.3103 False \n",
      "  4      9     -75.7611 -1074.7051  923.1829 False \n",
      "  5      6     336.7181 -402.5134  1075.9495 False \n",
      "  5      7     -11.8069 -718.6474   695.0335 False \n",
      "  5      8     -21.6589 -670.0077    626.69  False \n",
      "  5      9     -32.4069 -1150.0198 1085.2059 False \n",
      "  6      7     -348.525 -997.7994   300.7494 False \n",
      "  6      8    -358.3769 -943.4326   226.6787 False \n",
      "  6      9     -369.125 -1451.249   712.999  False \n",
      "  7      8     -9.8519  -553.4054   533.7016 False \n",
      "  7      9      -20.6   -1080.8607 1039.6607 False \n",
      "  8      9     -10.7481 -1032.9445 1011.4483 False \n",
      "---------------------------------------------------\n",
      "Produce\n",
      " Multiple Comparison of Means - Tukey HSD,FWER=0.05 \n",
      "====================================================\n",
      "group1 group2  meandiff    lower      upper   reject\n",
      "----------------------------------------------------\n",
      "  1      2     77.5786   -768.6926   923.8498 False \n",
      "  1      3     93.5953   -691.2044   878.3949 False \n",
      "  1      4     -16.3322  -691.2302   658.5658 False \n",
      "  1      5      7.1073   -896.4631   910.6777 False \n",
      "  1      6     -95.3366  -824.3614   633.6883 False \n",
      "  1      7     491.0253  -448.8058  1430.8564 False \n",
      "  1      8     47.2376   -721.4264   815.9016 False \n",
      "  1      9    -546.3885  -2341.6008 1248.8239 False \n",
      "  2      3     16.0167   -933.9204   965.9538 False \n",
      "  2      4     -93.9108  -955.2803   767.4586 False \n",
      "  2      5     -70.4713  -1120.6663  979.7236 False \n",
      "  2      6    -172.9152  -1077.3195  731.4892 False \n",
      "  2      7     413.4467  -668.1043  1494.9976 False \n",
      "  2      8     -30.341   -966.9916   906.3096 False \n",
      "  2      9    -623.9671  -2497.2683 1249.3341 False \n",
      "  3      4    -109.9275  -910.9848   691.1298 False \n",
      "  3      5     -86.488   -1087.8096  914.8336 False \n",
      "  3      6    -188.9318  -1036.0934  658.2297 False \n",
      "  3      7      397.43   -636.7305  1431.5905 False \n",
      "  3      8     -46.3577   -927.862   835.1467 False \n",
      "  3      9    -639.9837  -2486.3296 1206.3621 False \n",
      "  4      5     23.4395   -894.2869   941.1659 False \n",
      "  4      6     -79.0043  -825.5025   667.4938 False \n",
      "  4      7     507.3575  -446.0914  1460.8064 False \n",
      "  4      8     63.5698   -721.6859   848.8256 False \n",
      "  4      9    -530.0562  -2332.4352 1272.3227 False \n",
      "  5      6    -102.4438  -1060.6775  855.7898 False \n",
      "  5      7     483.918   -643.0323  1610.8683 False \n",
      "  5      8     40.1303   -948.5955  1028.8562 False \n",
      "  5      9    -553.4957  -2453.3699 1346.3784 False \n",
      "  6      7     586.3618  -406.1374  1578.8611 False \n",
      "  6      8     142.5742  -689.6617   974.8101 False \n",
      "  6      9    -451.0519  -2274.3894 1372.2856 False \n",
      "  7      8    -443.7877  -1465.7572  578.1819 False \n",
      "  7      9    -1037.4138 -2954.7987  879.9712 False \n",
      "  8      9    -593.6261  -2433.1714 1245.9192 False \n",
      "----------------------------------------------------\n",
      "Seafood\n",
      "Multiple Comparison of Means - Tukey HSD,FWER=0.05\n",
      "=================================================\n",
      "group1 group2  meandiff   lower    upper   reject\n",
      "-------------------------------------------------\n",
      "  1      2     28.2095  -254.2287 310.6478 False \n",
      "  1      3     54.3343  -197.1757 305.8444 False \n",
      "  1      4     -13.3399 -250.1463 223.4665 False \n",
      "  1      5     69.4645   -353.449 492.378  False \n",
      "  1      6    -126.3323 -465.6826 213.0181 False \n",
      "  1      7     -98.5019 -426.7906 229.7869 False \n",
      "  1      8     -83.7759 -363.8337 196.282  False \n",
      "  1      9     19.6668  -332.6096 371.9431 False \n",
      "  2      3     26.1248  -261.2258 313.4754 False \n",
      "  2      4     -41.5495 -316.1225 233.0236 False \n",
      "  2      5      41.255  -403.9066 486.4166 False \n",
      "  2      6    -154.5418 -521.2457 212.1621 False \n",
      "  2      7    -126.7114 -483.2035 229.7806 False \n",
      "  2      8    -111.9854 -424.6281 200.6573 False \n",
      "  2      9     -8.5428  -387.2401 370.1546 False \n",
      "  3      4     -67.6743 -310.3186  174.97  False \n",
      "  3      5     15.1302  -411.0796  441.34  False \n",
      "  3      6    -180.6666 -524.1163 162.7831 False \n",
      "  3      7    -152.8362 -485.3607 179.6882 False \n",
      "  3      8    -138.1102 -423.1214 146.901  False \n",
      "  3      9     -34.6676 -390.8945 321.5594 False \n",
      "  4      5     82.8045  -334.8973 500.5062 False \n",
      "  4      6    -112.9923 -445.8251 219.8404 False \n",
      "  4      7     -85.162  -406.7089 236.385  False \n",
      "  4      8     -70.4359 -342.5597 201.6878 False \n",
      "  4      9     33.0067  -312.9956 379.009  False \n",
      "  5      6    -195.7968 -679.0733 287.4797 False \n",
      "  5      7    -167.9664 -643.5408 307.608  False \n",
      "  5      8    -153.2404 -596.8956 290.4148 False \n",
      "  5      9     -49.7978 -542.2367 442.6412 False \n",
      "  6      7     27.8304  -375.2501 430.9109 False \n",
      "  6      8     42.5564  -322.3173  407.43  False \n",
      "  6      9     145.999  -276.8473 568.8453 False \n",
      "  7      8      14.726  -339.8831 369.3351 False \n",
      "  7      9     118.1686 -295.8529 532.1902 False \n",
      "  8      9     103.4426 -273.4827 480.368  False \n",
      "-------------------------------------------------\n",
      "Condiments\n",
      "Multiple Comparison of Means - Tukey HSD,FWER=0.05\n",
      "=================================================\n",
      "group1 group2  meandiff   lower    upper   reject\n",
      "-------------------------------------------------\n",
      "  1      2     181.3082 -212.4825 575.0989 False \n",
      "  1      3     40.4459  -337.1582  418.05  False \n",
      "  1      4     80.6385  -257.4187 418.6958 False \n",
      "  1      5    -103.0576 -677.4081 471.293  False \n",
      "  1      6    -127.5721 -583.1084 327.9642 False \n",
      "  1      7      5.099   -410.2946 420.4926 False \n",
      "  1      8     50.4522  -320.4795 421.384  False \n",
      "  1      9     237.5666 -217.9698 693.1029 False \n",
      "  2      3    -140.8623 -543.7533 262.0287 False \n",
      "  2      4    -100.6696 -466.7557 265.4165 False \n",
      "  2      5    -284.3657 -875.6481 306.9167 False \n",
      "  2      6    -308.8802 -785.5874 167.8269 False \n",
      "  2      7    -176.2092 -614.7159 262.2976 False \n",
      "  2      8    -130.8559 -527.5002 265.7884 False \n",
      "  2      9     56.2584  -420.4487 532.9655 False \n",
      "  3      4     40.1927  -308.4229 388.8082 False \n",
      "  3      5    -143.5034 -724.1312 437.1243 False \n",
      "  3      6     -168.018 -631.4437 295.4078 False \n",
      "  3      7     -35.3469 -459.3775 388.6837 False \n",
      "  3      8     10.0064  -370.5727 390.5855 False \n",
      "  3      9     197.1207  -266.305 660.5465 False \n",
      "  4      5    -183.6961 -739.4177 372.0255 False \n",
      "  4      6    -208.2106 -640.0222 223.601  False \n",
      "  4      7     -75.5395 -464.7693 313.6902 False \n",
      "  4      8     -30.1863 -371.5633 311.1908 False \n",
      "  4      9     156.9281 -274.8836 588.7397 False \n",
      "  5      6     -24.5145 -658.5943 609.5652 False \n",
      "  5      7     108.1566 -497.7276 714.0407 False \n",
      "  5      8     153.5098  -422.801 729.8206 False \n",
      "  5      9     340.6241 -293.4556 974.7039 False \n",
      "  6      7     132.6711 -362.0313 627.3734 False \n",
      "  6      8     178.0243  -279.981 636.0297 False \n",
      "  6      9     365.1387 -163.7204 893.9977 False \n",
      "  7      8     45.3532  -372.7465 463.453  False \n",
      "  7      9     232.4676 -262.2348 727.1699 False \n",
      "  8      9     187.1143  -270.891 645.1197 False \n",
      "-------------------------------------------------\n",
      "Confections\n",
      "Multiple Comparison of Means - Tukey HSD,FWER=0.05\n",
      "==================================================\n",
      "group1 group2  meandiff   lower     upper   reject\n",
      "--------------------------------------------------\n",
      "  1      2     102.8602 -311.4633  517.1837 False \n",
      "  1      3     136.4252 -233.8828  506.7332 False \n",
      "  1      4    -119.0505 -462.7078  224.6068 False \n",
      "  1      5    -189.5058 -748.5375  369.5258 False \n",
      "  1      6    -211.9147  -688.129  264.2997 False \n",
      "  1      7      27.581  -422.9348  478.0968 False \n",
      "  1      8      6.5052  -385.9962  399.0067 False \n",
      "  1      9     109.3148 -482.6634  701.2931 False \n",
      "  2      3      33.565  -386.8429  453.9728 False \n",
      "  2      4    -221.9108 -619.0444  175.2228 False \n",
      "  2      5    -292.3661 -885.7725  301.0403 False \n",
      "  2      6    -314.7749 -830.9095  201.3597 False \n",
      "  2      7     -75.2792 -567.8026  417.2442 False \n",
      "  2      8     -96.355   -536.437  343.727  False \n",
      "  2      9      6.4546  -618.0876  630.9968 False \n",
      "  3      4    -255.4757 -606.4446  95.4931  False \n",
      "  3      5     -325.931 -889.4869  237.6249 False \n",
      "  3      6    -348.3399 -829.8572  133.1775 False \n",
      "  3      7    -108.8442 -564.9618  347.2735 False \n",
      "  3      8    -129.9199 -528.8387  268.9988 False \n",
      "  3      9     -27.1104 -623.3629  569.1421 False \n",
      "  4      5     -70.4553 -616.8687  475.9581 False \n",
      "  4      6     -92.8641 -554.2005  368.4723 False \n",
      "  4      7     146.6316 -288.1277  581.3909 False \n",
      "  4      8     125.5558  -248.755  499.8665 False \n",
      "  4      9     228.3654 -351.7117  808.4424 False \n",
      "  5      6     -22.4088 -660.5682  615.7505 False \n",
      "  5      7     217.0869 -402.1318  836.3055 False \n",
      "  5      8     196.0111 -382.3699  774.3921 False \n",
      "  5      9     298.8207 -429.8119 1027.4533 False \n",
      "  6      7     239.4957  -306.119  785.1104 False \n",
      "  6      8     218.4199  -280.367  717.2068 False \n",
      "  6      9     321.2295 -345.9805  988.4395 False \n",
      "  7      8     -21.0758 -495.3887  453.2371 False \n",
      "  7      9     81.7338  -567.3837  730.8513 False \n",
      "  8      9     102.8096 -507.4743  713.0935 False \n",
      "--------------------------------------------------\n",
      "Beverages\n",
      " Multiple Comparison of Means - Tukey HSD,FWER=0.05\n",
      "===================================================\n",
      "group1 group2  meandiff   lower      upper   reject\n",
      "---------------------------------------------------\n",
      "  1      2     117.7496 -923.6376  1159.1369 False \n",
      "  1      3     -66.2209 -1018.8112  886.3694 False \n",
      "  1      4    -105.8798 -1020.5407  808.7811 False \n",
      "  1      5    -252.8214 -1591.7479 1086.1051 False \n",
      "  1      6     -450.787 -1645.1047  743.5307 False \n",
      "  1      7      0.1171  -1113.1727 1113.4069 False \n",
      "  1      8    -425.7177 -1431.4914  580.056  False \n",
      "  1      9     41.7839  -1233.6498 1317.2176 False \n",
      "  2      3    -183.9706 -1214.6766  846.7355 False \n",
      "  2      4    -223.6294 -1219.3861  772.1272 False \n",
      "  2      5     -370.571 -1766.1537 1025.0116 False \n",
      "  2      6    -568.5366 -1826.0427  688.9695 False \n",
      "  2      7    -117.6325 -1298.4547 1063.1897 False \n",
      "  2      8    -543.4673 -1623.5171  536.5824 False \n",
      "  2      9     -75.9658 -1410.7533 1258.8218 False \n",
      "  3      4     -39.6589  -942.14    862.8223 False \n",
      "  3      5    -186.6005 -1517.2363 1144.0353 False \n",
      "  3      6     -384.566 -1569.5818  800.4497 False \n",
      "  3      7     66.3381  -1036.9669  1169.643 False \n",
      "  3      8    -359.4968 -1354.2069  635.2134 False \n",
      "  3      9     108.0048 -1158.7228 1374.7324 False \n",
      "  4      5    -146.9416 -1450.6931 1156.8099 False \n",
      "  4      6    -344.9072 -1499.6533  809.839  False \n",
      "  4      7     105.9969 -964.7309  1176.7248 False \n",
      "  4      8    -319.8379 -1278.287   638.6112 False \n",
      "  4      9     147.6637 -1090.7931 1386.1204 False \n",
      "  5      6    -197.9656 -1711.0942 1315.1631 False \n",
      "  5      7     252.9385 -1197.0882 1702.9653 False \n",
      "  5      8    -172.8963 -1542.1093 1196.3167 False \n",
      "  5      9     294.6053 -1283.3347 1872.5452 False \n",
      "  6      7     450.9041 -866.7637  1768.5718 False \n",
      "  6      8     25.0693  -1203.1061 1253.2447 False \n",
      "  6      9     492.5708 -964.6749  1949.8166 False \n",
      "  7      8    -425.8348 -1575.3714  723.7017 False \n",
      "  7      9     41.6667  -1349.9455  1433.279 False \n",
      "  8      9     467.5016 -839.6905  1774.6937 False \n",
      "---------------------------------------------------\n",
      "Meat/Poultry\n",
      " Multiple Comparison of Means - Tukey HSD,FWER=0.05\n",
      "===================================================\n",
      "group1 group2  meandiff   lower      upper   reject\n",
      "---------------------------------------------------\n",
      "  1      2     547.4458 -600.0197  1694.9112 False \n",
      "  1      3     374.7761 -837.8041  1587.3564 False \n",
      "  1      4     280.3793 -792.3319  1353.0905 False \n",
      "  1      5     442.843  -1039.3206 1925.0065 False \n",
      "  1      6     298.8298 -1233.934  1831.5936 False \n",
      "  1      7     810.2421 -527.6638  2148.1481 False \n",
      "  1      8     81.5976  -1089.0701 1252.2653 False \n",
      "  1      9     844.5711 -1017.7151 2706.8574 False \n",
      "  2      3    -172.6696 -1374.5571 1029.2179 False \n",
      "  2      4    -267.0664 -1327.6758  793.5429 False \n",
      "  2      5    -104.6028 -1578.0313 1368.8257 False \n",
      "  2      6    -248.6159 -1772.9347 1275.7028 False \n",
      "  2      7     262.7964 -1065.4261 1591.0189 False \n",
      "  2      8    -465.8482 -1625.4367  693.7404 False \n",
      "  2      9     297.1254 -1558.2163 2152.4671 False \n",
      "  3      4     -94.3968 -1225.1337 1036.3401 False \n",
      "  3      5     68.0668  -1456.6185 1592.7521 False \n",
      "  3      6     -75.9463 -1649.8654 1497.9728 False \n",
      "  3      7     435.466  -949.3982  1820.3302 False \n",
      "  3      8    -293.1785 -1517.2371   930.88  False \n",
      "  3      9     469.795  -1426.5084 2366.0984 False \n",
      "  4      5     162.4636 -1253.525  1578.4523 False \n",
      "  4      6     18.4505  -1450.4198 1487.3208 False \n",
      "  4      7     529.8628 -734.3394  1794.0651 False \n",
      "  4      8    -198.7817 -1284.4511  886.8876 False \n",
      "  4      9     564.1918 -1245.8704  2374.254 False \n",
      "  5      6    -144.0131 -1933.8956 1645.8694 False \n",
      "  5      7     367.3992 -1258.7333 1993.5316 False \n",
      "  5      8    -361.2454 -1852.8141 1130.3234 False \n",
      "  5      9     401.7282 -1677.3159 2480.7723 False \n",
      "  6      7     511.4123 -1160.9701 2183.7947 False \n",
      "  6      8    -217.2322 -1759.0926 1324.6282 False \n",
      "  6      9     545.7413 -1569.6737 2661.1563 False \n",
      "  7      8    -728.6445 -2076.9623  619.6733 False \n",
      "  7      9      34.329  -1944.4605 2013.1185 False \n",
      "  8      9     762.9735 -1106.8068 2632.7539 False \n",
      "---------------------------------------------------\n"
     ]
    }
   ],
   "source": [
    "results = []\n",
    "for i in q5_data['CategoryName'].unique():\n",
    "    mc = MultiComparison(q5_data['Sale'][q5_data['CategoryName'] == i], q5_data['EmployeeId'][q5_data['CategoryName'] == i])\n",
    "    result = mc.tukeyhsd()\n",
    "    results.append(result)\n",
    "    print (i)\n",
    "    print(result)"
   ]
  },
  {
   "cell_type": "markdown",
   "metadata": {},
   "source": [
    "As to be expected, none of our comparisons produced results that allow us to reject the null hypothesis."
   ]
  },
  {
   "cell_type": "markdown",
   "metadata": {},
   "source": [
    "### Our findings suggest that there are no cases where an employee performs significantly better than other employees for a particular category of product."
   ]
  },
  {
   "cell_type": "markdown",
   "metadata": {},
   "source": []
  },
  {
   "cell_type": "markdown",
   "metadata": {},
   "source": [
    "## Q6 -- For which categories of product do customers save the most money?"
   ]
  },
  {
   "cell_type": "markdown",
   "metadata": {},
   "source": [
    "For this question we are wondering whether or not certain categories of product save the customer significantly more money than other categories."
   ]
  },
  {
   "cell_type": "markdown",
   "metadata": {},
   "source": [
    "## <center>H<sub>0: The average amount saved on an order is the same for all categories."
   ]
  },
  {
   "cell_type": "markdown",
   "metadata": {},
   "source": [
    "## <center>H<sub>a: The average amount saved on an order varies across categories."
   ]
  },
  {
   "cell_type": "markdown",
   "metadata": {},
   "source": [
    "To investigate these hypotheses we will need the variables of 'CategoryName', 'Discount', 'Quantity', and 'UnitPrice'. We will get these variables into one table by merging the tables 'order_details', 'products', and 'categories."
   ]
  },
  {
   "cell_type": "code",
   "execution_count": 34,
   "metadata": {},
   "outputs": [
    {
     "data": {
      "text/html": [
       "<div>\n",
       "<style scoped>\n",
       "    .dataframe tbody tr th:only-of-type {\n",
       "        vertical-align: middle;\n",
       "    }\n",
       "\n",
       "    .dataframe tbody tr th {\n",
       "        vertical-align: top;\n",
       "    }\n",
       "\n",
       "    .dataframe thead th {\n",
       "        text-align: right;\n",
       "    }\n",
       "</style>\n",
       "<table border=\"1\" class=\"dataframe\">\n",
       "  <thead>\n",
       "    <tr style=\"text-align: right;\">\n",
       "      <th></th>\n",
       "      <th>UnitPrice</th>\n",
       "      <th>Discount</th>\n",
       "      <th>Quantity</th>\n",
       "      <th>CategoryName</th>\n",
       "    </tr>\n",
       "  </thead>\n",
       "  <tbody>\n",
       "    <tr>\n",
       "      <th>0</th>\n",
       "      <td>14.0</td>\n",
       "      <td>0.0</td>\n",
       "      <td>12</td>\n",
       "      <td>Dairy Products</td>\n",
       "    </tr>\n",
       "    <tr>\n",
       "      <th>1</th>\n",
       "      <td>9.8</td>\n",
       "      <td>0.0</td>\n",
       "      <td>10</td>\n",
       "      <td>Grains/Cereals</td>\n",
       "    </tr>\n",
       "    <tr>\n",
       "      <th>2</th>\n",
       "      <td>34.8</td>\n",
       "      <td>0.0</td>\n",
       "      <td>5</td>\n",
       "      <td>Dairy Products</td>\n",
       "    </tr>\n",
       "    <tr>\n",
       "      <th>3</th>\n",
       "      <td>18.6</td>\n",
       "      <td>0.0</td>\n",
       "      <td>9</td>\n",
       "      <td>Produce</td>\n",
       "    </tr>\n",
       "    <tr>\n",
       "      <th>4</th>\n",
       "      <td>42.4</td>\n",
       "      <td>0.0</td>\n",
       "      <td>40</td>\n",
       "      <td>Produce</td>\n",
       "    </tr>\n",
       "  </tbody>\n",
       "</table>\n",
       "</div>"
      ],
      "text/plain": [
       "   UnitPrice  Discount  Quantity    CategoryName\n",
       "0       14.0       0.0        12  Dairy Products\n",
       "1        9.8       0.0        10  Grains/Cereals\n",
       "2       34.8       0.0         5  Dairy Products\n",
       "3       18.6       0.0         9         Produce\n",
       "4       42.4       0.0        40         Produce"
      ]
     },
     "execution_count": 34,
     "metadata": {},
     "output_type": "execute_result"
    }
   ],
   "source": [
    "q6_data = pd.merge(order_details, \n",
    "                  products,\n",
    "                  left_on='ProductId',\n",
    "                  right_on='Id',\n",
    "                  how='left')\n",
    "q6_data = pd.merge(q6_data, \n",
    "                  categories,\n",
    "                  left_on='CategoryId',\n",
    "                  right_on='Id',\n",
    "                  how='left')\n",
    "q6_data = q6_data.rename(index=str, columns={\"UnitPrice_x\": \"UnitPrice\"})\n",
    "q6_data = q6_data[['UnitPrice', 'Discount', 'Quantity', 'CategoryName']]\n",
    "q6_data.head()"
   ]
  },
  {
   "cell_type": "markdown",
   "metadata": {},
   "source": [
    "Since we are concerned with the total dollar amount saved per order, we will need to calculate it using the formula below and save those values to a new column 'Saved'."
   ]
  },
  {
   "cell_type": "code",
   "execution_count": 35,
   "metadata": {},
   "outputs": [
    {
     "data": {
      "text/html": [
       "<div>\n",
       "<style scoped>\n",
       "    .dataframe tbody tr th:only-of-type {\n",
       "        vertical-align: middle;\n",
       "    }\n",
       "\n",
       "    .dataframe tbody tr th {\n",
       "        vertical-align: top;\n",
       "    }\n",
       "\n",
       "    .dataframe thead th {\n",
       "        text-align: right;\n",
       "    }\n",
       "</style>\n",
       "<table border=\"1\" class=\"dataframe\">\n",
       "  <thead>\n",
       "    <tr style=\"text-align: right;\">\n",
       "      <th></th>\n",
       "      <th>UnitPrice</th>\n",
       "      <th>Discount</th>\n",
       "      <th>Quantity</th>\n",
       "      <th>CategoryName</th>\n",
       "      <th>Saved</th>\n",
       "    </tr>\n",
       "  </thead>\n",
       "  <tbody>\n",
       "    <tr>\n",
       "      <th>0</th>\n",
       "      <td>14.0</td>\n",
       "      <td>0.0</td>\n",
       "      <td>12</td>\n",
       "      <td>Dairy Products</td>\n",
       "      <td>0.0</td>\n",
       "    </tr>\n",
       "    <tr>\n",
       "      <th>1</th>\n",
       "      <td>9.8</td>\n",
       "      <td>0.0</td>\n",
       "      <td>10</td>\n",
       "      <td>Grains/Cereals</td>\n",
       "      <td>0.0</td>\n",
       "    </tr>\n",
       "    <tr>\n",
       "      <th>2</th>\n",
       "      <td>34.8</td>\n",
       "      <td>0.0</td>\n",
       "      <td>5</td>\n",
       "      <td>Dairy Products</td>\n",
       "      <td>0.0</td>\n",
       "    </tr>\n",
       "    <tr>\n",
       "      <th>3</th>\n",
       "      <td>18.6</td>\n",
       "      <td>0.0</td>\n",
       "      <td>9</td>\n",
       "      <td>Produce</td>\n",
       "      <td>0.0</td>\n",
       "    </tr>\n",
       "    <tr>\n",
       "      <th>4</th>\n",
       "      <td>42.4</td>\n",
       "      <td>0.0</td>\n",
       "      <td>40</td>\n",
       "      <td>Produce</td>\n",
       "      <td>0.0</td>\n",
       "    </tr>\n",
       "  </tbody>\n",
       "</table>\n",
       "</div>"
      ],
      "text/plain": [
       "   UnitPrice  Discount  Quantity    CategoryName  Saved\n",
       "0       14.0       0.0        12  Dairy Products    0.0\n",
       "1        9.8       0.0        10  Grains/Cereals    0.0\n",
       "2       34.8       0.0         5  Dairy Products    0.0\n",
       "3       18.6       0.0         9         Produce    0.0\n",
       "4       42.4       0.0        40         Produce    0.0"
      ]
     },
     "execution_count": 35,
     "metadata": {},
     "output_type": "execute_result"
    }
   ],
   "source": [
    "q6_data['Saved'] = q6_data['UnitPrice']*(q6_data['Discount'])*q6_data['Quantity']\n",
    "q6_data.head()"
   ]
  },
  {
   "cell_type": "markdown",
   "metadata": {},
   "source": [
    "Now we can intially view the average amount saved for each category."
   ]
  },
  {
   "cell_type": "code",
   "execution_count": 36,
   "metadata": {},
   "outputs": [
    {
     "name": "stdout",
     "output_type": "stream",
     "text": [
      "Dairy Products - 45.97\n",
      "Grains/Cereals - 25.42\n",
      "Produce - 38.85\n",
      "Seafood - 31.4\n",
      "Condiments - 35.41\n",
      "Confections - 29.17\n",
      "Beverages - 46.19\n",
      "Meat/Poultry - 87.67\n"
     ]
    }
   ],
   "source": [
    "cats = q6_data['CategoryName'].unique()\n",
    "amount_saved = pd.DataFrame()\n",
    "means = []\n",
    "for i in cats:\n",
    "    mean = q6_data['Saved'][q6_data['CategoryName'] == i].mean()\n",
    "    means.append(mean)\n",
    "    print(i + \" - \" + str(round(mean, 2)))"
   ]
  },
  {
   "cell_type": "code",
   "execution_count": 37,
   "metadata": {},
   "outputs": [
    {
     "data": {
      "image/png": "[encoded data removed]",
      "text/plain": [
       "<Figure size 432x288 with 1 Axes>"
      ]
     },
     "metadata": {
      "needs_background": "light"
     },
     "output_type": "display_data"
    }
   ],
   "source": [
    "X = cats\n",
    "y = []\n",
    "for i in cats:\n",
    "    y.append(q6_data['Saved'][q6_data['CategoryName'] == i].mean())\n",
    "ax = plt.bar(X,y)\n",
    "plt.xlabel('Category')\n",
    "plt.ylabel('Amount Discounted')\n",
    "plt.title('Average Discounted Amount Per Category')\n",
    "rects = ax.patches\n",
    "y_round = []\n",
    "for i in y:\n",
    "    y_round.append(round(i,2))\n",
    "labels = y_round\n",
    "for rect, label in zip(rects, labels):\n",
    "    height = rect.get_height()\n",
    "    plt.text(rect.get_x() + rect.get_width() / 2, height + 1, label,\n",
    "            ha='center', va='bottom')\n",
    "plt.rcParams[\"figure.figsize\"] = (15,15)\n",
    "plt.show()\n"
   ]
  },
  {
   "cell_type": "markdown",
   "metadata": {},
   "source": [
    "From the above it would seem that 'Meat/Poultry' products have a decently higher average savings amount than the other categories. To see if this difference is signficant, we can run a one-way ANOVA using 'Saved' as our dependent variable and 'CategoryName' as a categorical independent variable."
   ]
  },
  {
   "cell_type": "code",
   "execution_count": 38,
   "metadata": {},
   "outputs": [
    {
     "data": {
      "text/html": [
       "<div>\n",
       "<style scoped>\n",
       "    .dataframe tbody tr th:only-of-type {\n",
       "        vertical-align: middle;\n",
       "    }\n",
       "\n",
       "    .dataframe tbody tr th {\n",
       "        vertical-align: top;\n",
       "    }\n",
       "\n",
       "    .dataframe thead th {\n",
       "        text-align: right;\n",
       "    }\n",
       "</style>\n",
       "<table border=\"1\" class=\"dataframe\">\n",
       "  <thead>\n",
       "    <tr style=\"text-align: right;\">\n",
       "      <th></th>\n",
       "      <th>df</th>\n",
       "      <th>sum_sq</th>\n",
       "      <th>mean_sq</th>\n",
       "      <th>F</th>\n",
       "      <th>PR(&gt;F)</th>\n",
       "    </tr>\n",
       "  </thead>\n",
       "  <tbody>\n",
       "    <tr>\n",
       "      <th>C(CategoryName)</th>\n",
       "      <td>7.0</td>\n",
       "      <td>5.287607e+05</td>\n",
       "      <td>75537.237064</td>\n",
       "      <td>4.251642</td>\n",
       "      <td>0.000113</td>\n",
       "    </tr>\n",
       "    <tr>\n",
       "      <th>Residual</th>\n",
       "      <td>2147.0</td>\n",
       "      <td>3.814489e+07</td>\n",
       "      <td>17766.601726</td>\n",
       "      <td>NaN</td>\n",
       "      <td>NaN</td>\n",
       "    </tr>\n",
       "  </tbody>\n",
       "</table>\n",
       "</div>"
      ],
      "text/plain": [
       "                     df        sum_sq       mean_sq         F    PR(>F)\n",
       "C(CategoryName)     7.0  5.287607e+05  75537.237064  4.251642  0.000113\n",
       "Residual         2147.0  3.814489e+07  17766.601726       NaN       NaN"
      ]
     },
     "execution_count": 38,
     "metadata": {},
     "output_type": "execute_result"
    }
   ],
   "source": [
    "formula = 'Saved ~ C(CategoryName)'\n",
    "lm = ols(formula, q6_data).fit()\n",
    "table = sm.stats.anova_lm(lm, typ=1)\n",
    "table"
   ]
  },
  {
   "cell_type": "markdown",
   "metadata": {},
   "source": [
    "The p-value of our ANOVA is 0.000113 which is much less than our alpha of 0.05. This allows us to reject the null hypothesis and state that there is a statistically significant difference in amount saved across the different categories of products. To view more specifically where that difference lies we can utilize a Tukey HSD to compare all categories of products."
   ]
  },
  {
   "cell_type": "code",
   "execution_count": 39,
   "metadata": {},
   "outputs": [
    {
     "name": "stdout",
     "output_type": "stream",
     "text": [
      "       Multiple Comparison of Means - Tukey HSD,FWER=0.05      \n",
      "===============================================================\n",
      "    group1         group2     meandiff  lower    upper   reject\n",
      "---------------------------------------------------------------\n",
      "  Beverages      Condiments   -10.7792 -44.8653 23.3068  False \n",
      "  Beverages     Confections   -17.0178 -46.9241 12.8885  False \n",
      "  Beverages    Dairy Products  -0.22   -29.4018 28.9618  False \n",
      "  Beverages    Grains/Cereals -20.7656 -55.9666 14.4354  False \n",
      "  Beverages     Meat/Poultry  41.4822   4.7394   78.225   True \n",
      "  Beverages       Produce      -7.332  -47.4219 32.7579  False \n",
      "  Beverages       Seafood     -14.787  -44.7924 15.2183  False \n",
      "  Condiments    Confections   -6.2386  -41.5471 29.0699  False \n",
      "  Condiments   Dairy Products 10.5592  -24.1378 45.2562  False \n",
      "  Condiments   Grains/Cereals -9.9864  -49.879  29.9062  False \n",
      "  Condiments    Meat/Poultry  52.2614   11.002  93.5208   True \n",
      "  Condiments      Produce      3.4472  -40.8191 47.7135  False \n",
      "  Condiments      Seafood     -4.0078  -39.4003 31.3846  False \n",
      " Confections   Dairy Products 16.7978  -13.8031 47.3986  False \n",
      " Confections   Grains/Cereals -3.7478  -40.1339 32.6382  False \n",
      " Confections    Meat/Poultry    58.5   20.6203  96.3796   True \n",
      " Confections      Produce      9.6858  -31.4485 50.8201  False \n",
      " Confections      Seafood      2.2307  -29.1564 33.6179  False \n",
      "Dairy Products Grains/Cereals -20.5456 -56.3386 15.2474  False \n",
      "Dairy Products  Meat/Poultry  41.7022   4.3919  79.0125   True \n",
      "Dairy Products    Produce      -7.112  -47.7226 33.4987  False \n",
      "Dairy Products    Seafood     -14.567  -45.2647 16.1306  False \n",
      "Grains/Cereals  Meat/Poultry  62.2478  20.0626  104.4331  True \n",
      "Grains/Cereals    Produce     13.4336  -31.6968 58.5641  False \n",
      "Grains/Cereals    Seafood      5.9786  -30.4889 42.4461  False \n",
      " Meat/Poultry     Produce     -48.8142 -95.1573 -2.4711   True \n",
      " Meat/Poultry     Seafood     -56.2692 -94.2271 -18.3113  True \n",
      "   Produce        Seafood     -7.4551  -48.6615 33.7514  False \n",
      "---------------------------------------------------------------\n"
     ]
    }
   ],
   "source": [
    "mc = MultiComparison(q6_data['Saved'], q6_data['CategoryName'])\n",
    "result = mc.tukeyhsd()\n",
    "print(result)"
   ]
  },
  {
   "cell_type": "markdown",
   "metadata": {},
   "source": [
    "The results above show that 'Meat/Poultry' products have a significantly higher amount of savings than every other category. This supports our initial observation of 'Meat/Poultry' products having the highest amount of savings on average. "
   ]
  },
  {
   "cell_type": "markdown",
   "metadata": {},
   "source": [
    "To quantify the difference between 'Meat/Poultry' products and all other categories we can calculate Cohen's d for effect size."
   ]
  },
  {
   "cell_type": "code",
   "execution_count": 40,
   "metadata": {},
   "outputs": [
    {
     "name": "stdout",
     "output_type": "stream",
     "text": [
      "Cohen's d - Comparison with Meat/Poultry for Amount Saved\n",
      "Dairy Products - 0.2378370352889182\n",
      "Grains/Cereals - 0.340686816138561\n",
      "Produce - 0.23932959811169524\n",
      "Seafood - 0.3448611182986366\n",
      "Condiments - 0.28101210499961193\n",
      "Confections - 0.3629350323586184\n",
      "Beverages - 0.1931511976251025\n"
     ]
    }
   ],
   "source": [
    "g1 = q6_data['Saved'][q6_data['CategoryName'] == 'Meat/Poultry']\n",
    "print(\"Cohen's d - Comparison with Meat/Poultry for Amount Saved\")\n",
    "for i in q6_data['CategoryName'].unique():\n",
    "    if i == 'Meat/Poultry':\n",
    "        pass\n",
    "    else: \n",
    "        g2 = q6_data['Saved'][q6_data['CategoryName'] == i]\n",
    "        diff = g1.mean() - g2.mean()\n",
    "        n1, n2 = len(g1), len(g2)\n",
    "        var1 = g1.var()\n",
    "        var2 = g2.var()\n",
    "        pooled_var = (n1 * var1 + n2 * var2) / (n1 + n2)\n",
    "        d = diff / np.sqrt(pooled_var)\n",
    "        print(i + \" - \" + str(d))"
   ]
  },
  {
   "cell_type": "markdown",
   "metadata": {},
   "source": [
    "The values of d range from ~0.19 to ~0.36 which indicates at least a small effect size for each comparison.\n",
    "We can also calculate Cohen's d for comparing 'Meat/Poultry' products versus all other products together."
   ]
  },
  {
   "cell_type": "code",
   "execution_count": 41,
   "metadata": {},
   "outputs": [
    {
     "name": "stdout",
     "output_type": "stream",
     "text": [
      "Cohen's d: Meat/Poultry v.s. all - 0.3791998107081624\n"
     ]
    }
   ],
   "source": [
    "g2 = q6_data['Saved'][q6_data['CategoryName'] != 'Meat/Poultry']\n",
    "diff = g1.mean() - g2.mean()\n",
    "n1, n2 = len(g1), len(g2)\n",
    "var1 = g1.var()\n",
    "var2 = g2.var()\n",
    "pooled_var = (n1 * var1 + n2 * var2) / (n1 + n2)\n",
    "d = diff / np.sqrt(pooled_var)\n",
    "print(\"Cohen's d: \" + i + \" v.s. all - \" + str(d))"
   ]
  },
  {
   "cell_type": "markdown",
   "metadata": {},
   "source": [
    "From this we got a value for d of ~0.38 which suggets a small-to-medium effect."
   ]
  },
  {
   "cell_type": "markdown",
   "metadata": {},
   "source": [
    "### Our findings show that Meat/Poultry products have significantly higher savings from discounts than any other category."
   ]
  },
  {
   "cell_type": "markdown",
   "metadata": {},
   "source": [
    "# <center> Conclusion"
   ]
  },
  {
   "cell_type": "markdown",
   "metadata": {},
   "source": [
    "####  <center> In this project we investigated several questions revolving around discounts given to products as well as the different categories of products and the employees who performed each order. Through our investigations we learned the following about the company's sales:\n",
    "    \n",
    "    1) Providing a discount for an order increases the quantity of product ordered.\n",
    "    2) The level of discount does not affect the quantity of product ordered.\n",
    "    3) The use of a discount has the same effectiveness across all categories of product.\n",
    "    4) We cannot recommend an optimal discount level given the unit price of a product.\n",
    "    5) There is some variance in the performance of the employees but we cannot say that any one employee performs  better on average than another.\n",
    "    6) No employees excel at selling a particular category of product compared to the other employees.\n",
    "    7) Meat and poultry products by far provide the highest amount in savings for customers.\n",
    "    "
   ]
  },
  {
   "cell_type": "markdown",
   "metadata": {},
   "source": [
    "####  <center> Using these findings, the company can increase their revenue by providing a discount on more orders without worrying about the amount of discount to offer, the category of product, or the product's unit price. They can also see that their employees are all on the relatively same level in terms of performance but also realize that none of their employees are specialized in selling a particular type of product. In addition, they can see that their meat and poultry products offer their customers the most savings so they can perhaps advertise that fact to boost sales and brand awareness.\n",
    "    "
   ]
  },
  {
   "cell_type": "code",
   "execution_count": null,
   "metadata": {},
   "outputs": [],
   "source": []
  }
 ],
 "metadata": {
  "kernelspec": {
   "display_name": "Python 3",
   "language": "python",
   "name": "python3"
  },
  "language_info": {
   "codemirror_mode": {
    "name": "ipython",
    "version": 3
   },
   "file_extension": ".py",
   "mimetype": "text/x-python",
   "name": "python",
   "nbconvert_exporter": "python",
   "pygments_lexer": "ipython3",
   "version": "3.7.0"
  }
 },
 "nbformat": 4,
 "nbformat_minor": 2
}
